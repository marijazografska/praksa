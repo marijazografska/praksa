{
  "nbformat": 4,
  "nbformat_minor": 0,
  "metadata": {
    "colab": {
      "provenance": [],
      "toc_visible": true
    },
    "kernelspec": {
      "name": "python3",
      "display_name": "Python 3"
    },
    "language_info": {
      "name": "python"
    }
  },
  "cells": [
    {
      "cell_type": "markdown",
      "source": [
        "# Tokenizator so Byte-Pair-Encoding"
      ],
      "metadata": {
        "id": "2tOUDuw-xT1n"
      }
    },
    {
      "cell_type": "code",
      "source": [
        "pateka='/content/drive/MyDrive/text_file_praksa.txt'\n",
        "with open(pateka, 'r',encoding='utf-8') as fajl:\n",
        "  tekst=fajl.read()\n",
        "\n",
        "print(tekst)"
      ],
      "metadata": {
        "colab": {
          "base_uri": "https://localhost:8080/"
        },
        "id": "2usyLrUd1UaX",
        "outputId": "84d39af6-8867-4654-b6d8-c1ef2610416f"
      },
      "execution_count": 46,
      "outputs": [
        {
          "output_type": "stream",
          "name": "stdout",
          "text": [
            "In a cozy village sat a small cat named Pat. Pat loved to play with a rat on a mat. They played every day, much to the delight of the local bat, Nat. One day, Pat found a hat that fit perfectly, making her look quite fat. Nearby, Nat the bat found a tatty mat and sat.\n",
            "Across the village, there were hugs and mugs in the snug little pub. Thugs, looking for jugs, eyed the mugs. Bugs buzzed around the rug under the mugs. Suddenly, a pug with a snug rug came by, giving out free hugs. The thugs, now happy, left their mugs and joined the hugs.\n",
            "Pat, Nat, and the rat saw this from their mat, laughing at the sight of the pug giving hugs to the thugs with the mugs. It was a day of fun in the village, filled with words that sounded snug and warm.\n",
            "\n"
          ]
        }
      ]
    },
    {
      "cell_type": "code",
      "source": [
        "import re"
      ],
      "metadata": {
        "id": "tmL7VFxsDSz0"
      },
      "execution_count": 47,
      "outputs": []
    },
    {
      "cell_type": "markdown",
      "source": [
        "Prvo delam po zborovi, pa posle sekoj zbor go delam po bukvi"
      ],
      "metadata": {
        "id": "i7ctBntkDp7E"
      }
    },
    {
      "cell_type": "code",
      "source": [
        "words =  re.split(r'\\s+|[,.!?:;]+', tekst)\n",
        "vocab_lista = [\" \".join(word.lower()) + \" </w>\" for word in words if word]\n",
        "vocab_lista"
      ],
      "metadata": {
        "colab": {
          "base_uri": "https://localhost:8080/"
        },
        "id": "4LCY0eMN2ydl",
        "outputId": "096a1a69-413e-43dd-9f83-4cf8183853a0"
      },
      "execution_count": 48,
      "outputs": [
        {
          "output_type": "execute_result",
          "data": {
            "text/plain": [
              "['i n </w>',\n",
              " 'a </w>',\n",
              " 'c o z y </w>',\n",
              " 'v i l l a g e </w>',\n",
              " 's a t </w>',\n",
              " 'a </w>',\n",
              " 's m a l l </w>',\n",
              " 'c a t </w>',\n",
              " 'n a m e d </w>',\n",
              " 'p a t </w>',\n",
              " 'p a t </w>',\n",
              " 'l o v e d </w>',\n",
              " 't o </w>',\n",
              " 'p l a y </w>',\n",
              " 'w i t h </w>',\n",
              " 'a </w>',\n",
              " 'r a t </w>',\n",
              " 'o n </w>',\n",
              " 'a </w>',\n",
              " 'm a t </w>',\n",
              " 't h e y </w>',\n",
              " 'p l a y e d </w>',\n",
              " 'e v e r y </w>',\n",
              " 'd a y </w>',\n",
              " 'm u c h </w>',\n",
              " 't o </w>',\n",
              " 't h e </w>',\n",
              " 'd e l i g h t </w>',\n",
              " 'o f </w>',\n",
              " 't h e </w>',\n",
              " 'l o c a l </w>',\n",
              " 'b a t </w>',\n",
              " 'n a t </w>',\n",
              " 'o n e </w>',\n",
              " 'd a y </w>',\n",
              " 'p a t </w>',\n",
              " 'f o u n d </w>',\n",
              " 'a </w>',\n",
              " 'h a t </w>',\n",
              " 't h a t </w>',\n",
              " 'f i t </w>',\n",
              " 'p e r f e c t l y </w>',\n",
              " 'm a k i n g </w>',\n",
              " 'h e r </w>',\n",
              " 'l o o k </w>',\n",
              " 'q u i t e </w>',\n",
              " 'f a t </w>',\n",
              " 'n e a r b y </w>',\n",
              " 'n a t </w>',\n",
              " 't h e </w>',\n",
              " 'b a t </w>',\n",
              " 'f o u n d </w>',\n",
              " 'a </w>',\n",
              " 't a t t y </w>',\n",
              " 'm a t </w>',\n",
              " 'a n d </w>',\n",
              " 's a t </w>',\n",
              " 'a c r o s s </w>',\n",
              " 't h e </w>',\n",
              " 'v i l l a g e </w>',\n",
              " 't h e r e </w>',\n",
              " 'w e r e </w>',\n",
              " 'h u g s </w>',\n",
              " 'a n d </w>',\n",
              " 'm u g s </w>',\n",
              " 'i n </w>',\n",
              " 't h e </w>',\n",
              " 's n u g </w>',\n",
              " 'l i t t l e </w>',\n",
              " 'p u b </w>',\n",
              " 't h u g s </w>',\n",
              " 'l o o k i n g </w>',\n",
              " 'f o r </w>',\n",
              " 'j u g s </w>',\n",
              " 'e y e d </w>',\n",
              " 't h e </w>',\n",
              " 'm u g s </w>',\n",
              " 'b u g s </w>',\n",
              " 'b u z z e d </w>',\n",
              " 'a r o u n d </w>',\n",
              " 't h e </w>',\n",
              " 'r u g </w>',\n",
              " 'u n d e r </w>',\n",
              " 't h e </w>',\n",
              " 'm u g s </w>',\n",
              " 's u d d e n l y </w>',\n",
              " 'a </w>',\n",
              " 'p u g </w>',\n",
              " 'w i t h </w>',\n",
              " 'a </w>',\n",
              " 's n u g </w>',\n",
              " 'r u g </w>',\n",
              " 'c a m e </w>',\n",
              " 'b y </w>',\n",
              " 'g i v i n g </w>',\n",
              " 'o u t </w>',\n",
              " 'f r e e </w>',\n",
              " 'h u g s </w>',\n",
              " 't h e </w>',\n",
              " 't h u g s </w>',\n",
              " 'n o w </w>',\n",
              " 'h a p p y </w>',\n",
              " 'l e f t </w>',\n",
              " 't h e i r </w>',\n",
              " 'm u g s </w>',\n",
              " 'a n d </w>',\n",
              " 'j o i n e d </w>',\n",
              " 't h e </w>',\n",
              " 'h u g s </w>',\n",
              " 'p a t </w>',\n",
              " 'n a t </w>',\n",
              " 'a n d </w>',\n",
              " 't h e </w>',\n",
              " 'r a t </w>',\n",
              " 's a w </w>',\n",
              " 't h i s </w>',\n",
              " 'f r o m </w>',\n",
              " 't h e i r </w>',\n",
              " 'm a t </w>',\n",
              " 'l a u g h i n g </w>',\n",
              " 'a t </w>',\n",
              " 't h e </w>',\n",
              " 's i g h t </w>',\n",
              " 'o f </w>',\n",
              " 't h e </w>',\n",
              " 'p u g </w>',\n",
              " 'g i v i n g </w>',\n",
              " 'h u g s </w>',\n",
              " 't o </w>',\n",
              " 't h e </w>',\n",
              " 't h u g s </w>',\n",
              " 'w i t h </w>',\n",
              " 't h e </w>',\n",
              " 'm u g s </w>',\n",
              " 'i t </w>',\n",
              " 'w a s </w>',\n",
              " 'a </w>',\n",
              " 'd a y </w>',\n",
              " 'o f </w>',\n",
              " 'f u n </w>',\n",
              " 'i n </w>',\n",
              " 't h e </w>',\n",
              " 'v i l l a g e </w>',\n",
              " 'f i l l e d </w>',\n",
              " 'w i t h </w>',\n",
              " 'w o r d s </w>',\n",
              " 't h a t </w>',\n",
              " 's o u n d e d </w>',\n",
              " 's n u g </w>',\n",
              " 'a n d </w>',\n",
              " 'w a r m </w>']"
            ]
          },
          "metadata": {},
          "execution_count": 48
        }
      ]
    },
    {
      "cell_type": "code",
      "source": [
        "from collections import defaultdict\n",
        "vocab = defaultdict(int)\n",
        "for word in vocab_lista:\n",
        "    vocab[word] += 1"
      ],
      "metadata": {
        "id": "KqNPSPCC4ZWP"
      },
      "execution_count": 49,
      "outputs": []
    },
    {
      "cell_type": "code",
      "source": [
        "vocab"
      ],
      "metadata": {
        "colab": {
          "base_uri": "https://localhost:8080/"
        },
        "id": "y4aYvFPg51WR",
        "outputId": "a0ddd197-e1ca-4cfa-f3b2-b3145ab7d1ff"
      },
      "execution_count": 50,
      "outputs": [
        {
          "output_type": "execute_result",
          "data": {
            "text/plain": [
              "defaultdict(int,\n",
              "            {'i n </w>': 3,\n",
              "             'a </w>': 9,\n",
              "             'c o z y </w>': 1,\n",
              "             'v i l l a g e </w>': 3,\n",
              "             's a t </w>': 2,\n",
              "             's m a l l </w>': 1,\n",
              "             'c a t </w>': 1,\n",
              "             'n a m e d </w>': 1,\n",
              "             'p a t </w>': 4,\n",
              "             'l o v e d </w>': 1,\n",
              "             't o </w>': 3,\n",
              "             'p l a y </w>': 1,\n",
              "             'w i t h </w>': 4,\n",
              "             'r a t </w>': 2,\n",
              "             'o n </w>': 1,\n",
              "             'm a t </w>': 3,\n",
              "             't h e y </w>': 1,\n",
              "             'p l a y e d </w>': 1,\n",
              "             'e v e r y </w>': 1,\n",
              "             'd a y </w>': 3,\n",
              "             'm u c h </w>': 1,\n",
              "             't h e </w>': 16,\n",
              "             'd e l i g h t </w>': 1,\n",
              "             'o f </w>': 3,\n",
              "             'l o c a l </w>': 1,\n",
              "             'b a t </w>': 2,\n",
              "             'n a t </w>': 3,\n",
              "             'o n e </w>': 1,\n",
              "             'f o u n d </w>': 2,\n",
              "             'h a t </w>': 1,\n",
              "             't h a t </w>': 2,\n",
              "             'f i t </w>': 1,\n",
              "             'p e r f e c t l y </w>': 1,\n",
              "             'm a k i n g </w>': 1,\n",
              "             'h e r </w>': 1,\n",
              "             'l o o k </w>': 1,\n",
              "             'q u i t e </w>': 1,\n",
              "             'f a t </w>': 1,\n",
              "             'n e a r b y </w>': 1,\n",
              "             't a t t y </w>': 1,\n",
              "             'a n d </w>': 5,\n",
              "             'a c r o s s </w>': 1,\n",
              "             't h e r e </w>': 1,\n",
              "             'w e r e </w>': 1,\n",
              "             'h u g s </w>': 4,\n",
              "             'm u g s </w>': 5,\n",
              "             's n u g </w>': 3,\n",
              "             'l i t t l e </w>': 1,\n",
              "             'p u b </w>': 1,\n",
              "             't h u g s </w>': 3,\n",
              "             'l o o k i n g </w>': 1,\n",
              "             'f o r </w>': 1,\n",
              "             'j u g s </w>': 1,\n",
              "             'e y e d </w>': 1,\n",
              "             'b u g s </w>': 1,\n",
              "             'b u z z e d </w>': 1,\n",
              "             'a r o u n d </w>': 1,\n",
              "             'r u g </w>': 2,\n",
              "             'u n d e r </w>': 1,\n",
              "             's u d d e n l y </w>': 1,\n",
              "             'p u g </w>': 2,\n",
              "             'c a m e </w>': 1,\n",
              "             'b y </w>': 1,\n",
              "             'g i v i n g </w>': 2,\n",
              "             'o u t </w>': 1,\n",
              "             'f r e e </w>': 1,\n",
              "             'n o w </w>': 1,\n",
              "             'h a p p y </w>': 1,\n",
              "             'l e f t </w>': 1,\n",
              "             't h e i r </w>': 2,\n",
              "             'j o i n e d </w>': 1,\n",
              "             's a w </w>': 1,\n",
              "             't h i s </w>': 1,\n",
              "             'f r o m </w>': 1,\n",
              "             'l a u g h i n g </w>': 1,\n",
              "             'a t </w>': 1,\n",
              "             's i g h t </w>': 1,\n",
              "             'i t </w>': 1,\n",
              "             'w a s </w>': 1,\n",
              "             'f u n </w>': 1,\n",
              "             'f i l l e d </w>': 1,\n",
              "             'w o r d s </w>': 1,\n",
              "             's o u n d e d </w>': 1,\n",
              "             'w a r m </w>': 1})"
            ]
          },
          "metadata": {},
          "execution_count": 50
        }
      ]
    },
    {
      "cell_type": "markdown",
      "source": [
        "Grupirame po parovi na bukvi"
      ],
      "metadata": {
        "id": "HDCUazdVEt0Q"
      }
    },
    {
      "cell_type": "code",
      "source": [
        "def parovi(vocab):\n",
        "  vocab_parovi=defaultdict(int)\n",
        "  for word in vocab:\n",
        "    bukvi=word.split()\n",
        "    for i in range(0,len(bukvi)-1):\n",
        "      if bukvi[i+1]!='</w>':\n",
        "        vocab_parovi[(bukvi[i],bukvi[i+1])]+= vocab[word]\n",
        "\n",
        "  return vocab_parovi"
      ],
      "metadata": {
        "id": "alzJpJoFEogz"
      },
      "execution_count": 51,
      "outputs": []
    },
    {
      "cell_type": "code",
      "source": [
        "slogovi=parovi(vocab)"
      ],
      "metadata": {
        "id": "S59rPtfaF5cZ"
      },
      "execution_count": 52,
      "outputs": []
    },
    {
      "cell_type": "code",
      "source": [
        "print(slogovi)"
      ],
      "metadata": {
        "colab": {
          "base_uri": "https://localhost:8080/"
        },
        "id": "a5rBn21iF8YY",
        "outputId": "39b3803e-2a85-4ddd-a767-ba6f5da4eeee"
      },
      "execution_count": 53,
      "outputs": [
        {
          "output_type": "stream",
          "name": "stdout",
          "text": [
            "defaultdict(<class 'int'>, {('i', 'n'): 9, ('c', 'o'): 1, ('o', 'z'): 1, ('z', 'y'): 1, ('v', 'i'): 5, ('i', 'l'): 4, ('l', 'l'): 5, ('l', 'a'): 6, ('a', 'g'): 3, ('g', 'e'): 3, ('s', 'a'): 3, ('a', 't'): 23, ('s', 'm'): 1, ('m', 'a'): 5, ('a', 'l'): 2, ('c', 'a'): 3, ('n', 'a'): 4, ('a', 'm'): 2, ('m', 'e'): 2, ('e', 'd'): 8, ('p', 'a'): 4, ('l', 'o'): 4, ('o', 'v'): 1, ('v', 'e'): 2, ('t', 'o'): 3, ('p', 'l'): 2, ('a', 'y'): 5, ('w', 'i'): 4, ('i', 't'): 8, ('t', 'h'): 30, ('r', 'a'): 2, ('o', 'n'): 2, ('h', 'e'): 21, ('e', 'y'): 2, ('y', 'e'): 2, ('e', 'v'): 1, ('e', 'r'): 6, ('r', 'y'): 1, ('d', 'a'): 3, ('m', 'u'): 6, ('u', 'c'): 1, ('c', 'h'): 1, ('d', 'e'): 4, ('e', 'l'): 1, ('l', 'i'): 2, ('i', 'g'): 2, ('g', 'h'): 3, ('h', 't'): 2, ('o', 'f'): 3, ('o', 'c'): 1, ('b', 'a'): 2, ('n', 'e'): 3, ('f', 'o'): 3, ('o', 'u'): 5, ('u', 'n'): 6, ('n', 'd'): 10, ('h', 'a'): 4, ('f', 'i'): 2, ('p', 'e'): 1, ('r', 'f'): 1, ('f', 'e'): 1, ('e', 'c'): 1, ('c', 't'): 1, ('t', 'l'): 2, ('l', 'y'): 2, ('a', 'k'): 1, ('k', 'i'): 2, ('n', 'g'): 5, ('o', 'o'): 2, ('o', 'k'): 2, ('q', 'u'): 1, ('u', 'i'): 1, ('t', 'e'): 1, ('f', 'a'): 1, ('e', 'a'): 1, ('a', 'r'): 3, ('r', 'b'): 1, ('b', 'y'): 2, ('t', 'a'): 1, ('t', 't'): 2, ('t', 'y'): 1, ('a', 'n'): 5, ('a', 'c'): 1, ('c', 'r'): 1, ('r', 'o'): 3, ('o', 's'): 1, ('s', 's'): 1, ('r', 'e'): 3, ('w', 'e'): 1, ('h', 'u'): 7, ('u', 'g'): 22, ('g', 's'): 14, ('s', 'n'): 3, ('n', 'u'): 3, ('l', 'e'): 3, ('p', 'u'): 3, ('u', 'b'): 1, ('o', 'r'): 2, ('j', 'u'): 1, ('b', 'u'): 2, ('u', 'z'): 1, ('z', 'z'): 1, ('z', 'e'): 1, ('r', 'u'): 2, ('s', 'u'): 1, ('u', 'd'): 1, ('d', 'd'): 1, ('e', 'n'): 1, ('n', 'l'): 1, ('g', 'i'): 2, ('i', 'v'): 2, ('u', 't'): 1, ('f', 'r'): 2, ('e', 'e'): 1, ('n', 'o'): 1, ('o', 'w'): 1, ('a', 'p'): 1, ('p', 'p'): 1, ('p', 'y'): 1, ('e', 'f'): 1, ('f', 't'): 1, ('e', 'i'): 2, ('i', 'r'): 2, ('j', 'o'): 1, ('o', 'i'): 1, ('a', 'w'): 1, ('h', 'i'): 2, ('i', 's'): 1, ('o', 'm'): 1, ('a', 'u'): 1, ('s', 'i'): 1, ('w', 'a'): 2, ('a', 's'): 1, ('f', 'u'): 1, ('w', 'o'): 1, ('r', 'd'): 1, ('d', 's'): 1, ('s', 'o'): 1, ('r', 'm'): 1})\n"
          ]
        }
      ]
    },
    {
      "cell_type": "code",
      "source": [
        "def sostavi_zbor(par, vocab):\n",
        "    nov_vocab = {}\n",
        "    bigram = re.escape(\" \".join(par))\n",
        "    p = re.compile(r'(?<!\\S)' + bigram + r'(?!\\S)')\n",
        "    for zbor in vocab:\n",
        "        nov_zbor = p.sub(''.join(par), zbor)\n",
        "        nov_vocab[nov_zbor] = vocab[zbor]\n",
        "    return nov_vocab\n",
        "\n"
      ],
      "metadata": {
        "id": "eOV7S1Y9G8Es"
      },
      "execution_count": 54,
      "outputs": []
    },
    {
      "cell_type": "code",
      "source": [
        "test_par = ('i', 'n')\n",
        "print(sostavi_zbor(test_par, vocab))"
      ],
      "metadata": {
        "colab": {
          "base_uri": "https://localhost:8080/"
        },
        "id": "bzUdrLmv4wyf",
        "outputId": "14010890-2273-4e41-ff95-9c22815ebde4"
      },
      "execution_count": 55,
      "outputs": [
        {
          "output_type": "stream",
          "name": "stdout",
          "text": [
            "{'in </w>': 3, 'a </w>': 9, 'c o z y </w>': 1, 'v i l l a g e </w>': 3, 's a t </w>': 2, 's m a l l </w>': 1, 'c a t </w>': 1, 'n a m e d </w>': 1, 'p a t </w>': 4, 'l o v e d </w>': 1, 't o </w>': 3, 'p l a y </w>': 1, 'w i t h </w>': 4, 'r a t </w>': 2, 'o n </w>': 1, 'm a t </w>': 3, 't h e y </w>': 1, 'p l a y e d </w>': 1, 'e v e r y </w>': 1, 'd a y </w>': 3, 'm u c h </w>': 1, 't h e </w>': 16, 'd e l i g h t </w>': 1, 'o f </w>': 3, 'l o c a l </w>': 1, 'b a t </w>': 2, 'n a t </w>': 3, 'o n e </w>': 1, 'f o u n d </w>': 2, 'h a t </w>': 1, 't h a t </w>': 2, 'f i t </w>': 1, 'p e r f e c t l y </w>': 1, 'm a k in g </w>': 1, 'h e r </w>': 1, 'l o o k </w>': 1, 'q u i t e </w>': 1, 'f a t </w>': 1, 'n e a r b y </w>': 1, 't a t t y </w>': 1, 'a n d </w>': 5, 'a c r o s s </w>': 1, 't h e r e </w>': 1, 'w e r e </w>': 1, 'h u g s </w>': 4, 'm u g s </w>': 5, 's n u g </w>': 3, 'l i t t l e </w>': 1, 'p u b </w>': 1, 't h u g s </w>': 3, 'l o o k in g </w>': 1, 'f o r </w>': 1, 'j u g s </w>': 1, 'e y e d </w>': 1, 'b u g s </w>': 1, 'b u z z e d </w>': 1, 'a r o u n d </w>': 1, 'r u g </w>': 2, 'u n d e r </w>': 1, 's u d d e n l y </w>': 1, 'p u g </w>': 2, 'c a m e </w>': 1, 'b y </w>': 1, 'g i v in g </w>': 2, 'o u t </w>': 1, 'f r e e </w>': 1, 'n o w </w>': 1, 'h a p p y </w>': 1, 'l e f t </w>': 1, 't h e i r </w>': 2, 'j o in e d </w>': 1, 's a w </w>': 1, 't h i s </w>': 1, 'f r o m </w>': 1, 'l a u g h in g </w>': 1, 'a t </w>': 1, 's i g h t </w>': 1, 'i t </w>': 1, 'w a s </w>': 1, 'f u n </w>': 1, 'f i l l e d </w>': 1, 'w o r d s </w>': 1, 's o u n d e d </w>': 1, 'w a r m </w>': 1}\n"
          ]
        }
      ]
    },
    {
      "cell_type": "code",
      "source": [
        "def byte_pair_encoding(vocab, br_merge):\n",
        "    for i in range(br_merge):\n",
        "        slogovi = parovi(vocab)\n",
        "        if not slogovi:\n",
        "            break\n",
        "        najdobar_par = max(slogovi, key=slogovi.get)\n",
        "        vocab = sostavi_zbor(najdobar_par, vocab)\n",
        "        print(f\"SLOG: {najdobar_par}\")\n",
        "        print(vocab)\n",
        "    return vocab"
      ],
      "metadata": {
        "id": "REiP9QTN1Cxx"
      },
      "execution_count": 59,
      "outputs": []
    },
    {
      "cell_type": "code",
      "source": [
        "final_vocab = byte_pair_encoding(vocab, 20)\n",
        "\n",
        "print(final_vocab)"
      ],
      "metadata": {
        "colab": {
          "base_uri": "https://localhost:8080/"
        },
        "id": "GnW4-d_x20Li",
        "outputId": "e749fc49-046f-44bd-b8f2-932dc0f66ad6"
      },
      "execution_count": 61,
      "outputs": [
        {
          "output_type": "stream",
          "name": "stdout",
          "text": [
            "SLOG: ('t', 'h')\n",
            "{'i n </w>': 3, 'a </w>': 9, 'c o z y </w>': 1, 'v i l l a g e </w>': 3, 's a t </w>': 2, 's m a l l </w>': 1, 'c a t </w>': 1, 'n a m e d </w>': 1, 'p a t </w>': 4, 'l o v e d </w>': 1, 't o </w>': 3, 'p l a y </w>': 1, 'w i th </w>': 4, 'r a t </w>': 2, 'o n </w>': 1, 'm a t </w>': 3, 'th e y </w>': 1, 'p l a y e d </w>': 1, 'e v e r y </w>': 1, 'd a y </w>': 3, 'm u c h </w>': 1, 'th e </w>': 16, 'd e l i g h t </w>': 1, 'o f </w>': 3, 'l o c a l </w>': 1, 'b a t </w>': 2, 'n a t </w>': 3, 'o n e </w>': 1, 'f o u n d </w>': 2, 'h a t </w>': 1, 'th a t </w>': 2, 'f i t </w>': 1, 'p e r f e c t l y </w>': 1, 'm a k i n g </w>': 1, 'h e r </w>': 1, 'l o o k </w>': 1, 'q u i t e </w>': 1, 'f a t </w>': 1, 'n e a r b y </w>': 1, 't a t t y </w>': 1, 'a n d </w>': 5, 'a c r o s s </w>': 1, 'th e r e </w>': 1, 'w e r e </w>': 1, 'h u g s </w>': 4, 'm u g s </w>': 5, 's n u g </w>': 3, 'l i t t l e </w>': 1, 'p u b </w>': 1, 'th u g s </w>': 3, 'l o o k i n g </w>': 1, 'f o r </w>': 1, 'j u g s </w>': 1, 'e y e d </w>': 1, 'b u g s </w>': 1, 'b u z z e d </w>': 1, 'a r o u n d </w>': 1, 'r u g </w>': 2, 'u n d e r </w>': 1, 's u d d e n l y </w>': 1, 'p u g </w>': 2, 'c a m e </w>': 1, 'b y </w>': 1, 'g i v i n g </w>': 2, 'o u t </w>': 1, 'f r e e </w>': 1, 'n o w </w>': 1, 'h a p p y </w>': 1, 'l e f t </w>': 1, 'th e i r </w>': 2, 'j o i n e d </w>': 1, 's a w </w>': 1, 'th i s </w>': 1, 'f r o m </w>': 1, 'l a u g h i n g </w>': 1, 'a t </w>': 1, 's i g h t </w>': 1, 'i t </w>': 1, 'w a s </w>': 1, 'f u n </w>': 1, 'f i l l e d </w>': 1, 'w o r d s </w>': 1, 's o u n d e d </w>': 1, 'w a r m </w>': 1}\n",
            "SLOG: ('a', 't')\n",
            "{'i n </w>': 3, 'a </w>': 9, 'c o z y </w>': 1, 'v i l l a g e </w>': 3, 's at </w>': 2, 's m a l l </w>': 1, 'c at </w>': 1, 'n a m e d </w>': 1, 'p at </w>': 4, 'l o v e d </w>': 1, 't o </w>': 3, 'p l a y </w>': 1, 'w i th </w>': 4, 'r at </w>': 2, 'o n </w>': 1, 'm at </w>': 3, 'th e y </w>': 1, 'p l a y e d </w>': 1, 'e v e r y </w>': 1, 'd a y </w>': 3, 'm u c h </w>': 1, 'th e </w>': 16, 'd e l i g h t </w>': 1, 'o f </w>': 3, 'l o c a l </w>': 1, 'b at </w>': 2, 'n at </w>': 3, 'o n e </w>': 1, 'f o u n d </w>': 2, 'h at </w>': 1, 'th at </w>': 2, 'f i t </w>': 1, 'p e r f e c t l y </w>': 1, 'm a k i n g </w>': 1, 'h e r </w>': 1, 'l o o k </w>': 1, 'q u i t e </w>': 1, 'f at </w>': 1, 'n e a r b y </w>': 1, 't at t y </w>': 1, 'a n d </w>': 5, 'a c r o s s </w>': 1, 'th e r e </w>': 1, 'w e r e </w>': 1, 'h u g s </w>': 4, 'm u g s </w>': 5, 's n u g </w>': 3, 'l i t t l e </w>': 1, 'p u b </w>': 1, 'th u g s </w>': 3, 'l o o k i n g </w>': 1, 'f o r </w>': 1, 'j u g s </w>': 1, 'e y e d </w>': 1, 'b u g s </w>': 1, 'b u z z e d </w>': 1, 'a r o u n d </w>': 1, 'r u g </w>': 2, 'u n d e r </w>': 1, 's u d d e n l y </w>': 1, 'p u g </w>': 2, 'c a m e </w>': 1, 'b y </w>': 1, 'g i v i n g </w>': 2, 'o u t </w>': 1, 'f r e e </w>': 1, 'n o w </w>': 1, 'h a p p y </w>': 1, 'l e f t </w>': 1, 'th e i r </w>': 2, 'j o i n e d </w>': 1, 's a w </w>': 1, 'th i s </w>': 1, 'f r o m </w>': 1, 'l a u g h i n g </w>': 1, 'at </w>': 1, 's i g h t </w>': 1, 'i t </w>': 1, 'w a s </w>': 1, 'f u n </w>': 1, 'f i l l e d </w>': 1, 'w o r d s </w>': 1, 's o u n d e d </w>': 1, 'w a r m </w>': 1}\n",
            "SLOG: ('u', 'g')\n",
            "{'i n </w>': 3, 'a </w>': 9, 'c o z y </w>': 1, 'v i l l a g e </w>': 3, 's at </w>': 2, 's m a l l </w>': 1, 'c at </w>': 1, 'n a m e d </w>': 1, 'p at </w>': 4, 'l o v e d </w>': 1, 't o </w>': 3, 'p l a y </w>': 1, 'w i th </w>': 4, 'r at </w>': 2, 'o n </w>': 1, 'm at </w>': 3, 'th e y </w>': 1, 'p l a y e d </w>': 1, 'e v e r y </w>': 1, 'd a y </w>': 3, 'm u c h </w>': 1, 'th e </w>': 16, 'd e l i g h t </w>': 1, 'o f </w>': 3, 'l o c a l </w>': 1, 'b at </w>': 2, 'n at </w>': 3, 'o n e </w>': 1, 'f o u n d </w>': 2, 'h at </w>': 1, 'th at </w>': 2, 'f i t </w>': 1, 'p e r f e c t l y </w>': 1, 'm a k i n g </w>': 1, 'h e r </w>': 1, 'l o o k </w>': 1, 'q u i t e </w>': 1, 'f at </w>': 1, 'n e a r b y </w>': 1, 't at t y </w>': 1, 'a n d </w>': 5, 'a c r o s s </w>': 1, 'th e r e </w>': 1, 'w e r e </w>': 1, 'h ug s </w>': 4, 'm ug s </w>': 5, 's n ug </w>': 3, 'l i t t l e </w>': 1, 'p u b </w>': 1, 'th ug s </w>': 3, 'l o o k i n g </w>': 1, 'f o r </w>': 1, 'j ug s </w>': 1, 'e y e d </w>': 1, 'b ug s </w>': 1, 'b u z z e d </w>': 1, 'a r o u n d </w>': 1, 'r ug </w>': 2, 'u n d e r </w>': 1, 's u d d e n l y </w>': 1, 'p ug </w>': 2, 'c a m e </w>': 1, 'b y </w>': 1, 'g i v i n g </w>': 2, 'o u t </w>': 1, 'f r e e </w>': 1, 'n o w </w>': 1, 'h a p p y </w>': 1, 'l e f t </w>': 1, 'th e i r </w>': 2, 'j o i n e d </w>': 1, 's a w </w>': 1, 'th i s </w>': 1, 'f r o m </w>': 1, 'l a ug h i n g </w>': 1, 'at </w>': 1, 's i g h t </w>': 1, 'i t </w>': 1, 'w a s </w>': 1, 'f u n </w>': 1, 'f i l l e d </w>': 1, 'w o r d s </w>': 1, 's o u n d e d </w>': 1, 'w a r m </w>': 1}\n",
            "SLOG: ('th', 'e')\n",
            "{'i n </w>': 3, 'a </w>': 9, 'c o z y </w>': 1, 'v i l l a g e </w>': 3, 's at </w>': 2, 's m a l l </w>': 1, 'c at </w>': 1, 'n a m e d </w>': 1, 'p at </w>': 4, 'l o v e d </w>': 1, 't o </w>': 3, 'p l a y </w>': 1, 'w i th </w>': 4, 'r at </w>': 2, 'o n </w>': 1, 'm at </w>': 3, 'the y </w>': 1, 'p l a y e d </w>': 1, 'e v e r y </w>': 1, 'd a y </w>': 3, 'm u c h </w>': 1, 'the </w>': 16, 'd e l i g h t </w>': 1, 'o f </w>': 3, 'l o c a l </w>': 1, 'b at </w>': 2, 'n at </w>': 3, 'o n e </w>': 1, 'f o u n d </w>': 2, 'h at </w>': 1, 'th at </w>': 2, 'f i t </w>': 1, 'p e r f e c t l y </w>': 1, 'm a k i n g </w>': 1, 'h e r </w>': 1, 'l o o k </w>': 1, 'q u i t e </w>': 1, 'f at </w>': 1, 'n e a r b y </w>': 1, 't at t y </w>': 1, 'a n d </w>': 5, 'a c r o s s </w>': 1, 'the r e </w>': 1, 'w e r e </w>': 1, 'h ug s </w>': 4, 'm ug s </w>': 5, 's n ug </w>': 3, 'l i t t l e </w>': 1, 'p u b </w>': 1, 'th ug s </w>': 3, 'l o o k i n g </w>': 1, 'f o r </w>': 1, 'j ug s </w>': 1, 'e y e d </w>': 1, 'b ug s </w>': 1, 'b u z z e d </w>': 1, 'a r o u n d </w>': 1, 'r ug </w>': 2, 'u n d e r </w>': 1, 's u d d e n l y </w>': 1, 'p ug </w>': 2, 'c a m e </w>': 1, 'b y </w>': 1, 'g i v i n g </w>': 2, 'o u t </w>': 1, 'f r e e </w>': 1, 'n o w </w>': 1, 'h a p p y </w>': 1, 'l e f t </w>': 1, 'the i r </w>': 2, 'j o i n e d </w>': 1, 's a w </w>': 1, 'th i s </w>': 1, 'f r o m </w>': 1, 'l a ug h i n g </w>': 1, 'at </w>': 1, 's i g h t </w>': 1, 'i t </w>': 1, 'w a s </w>': 1, 'f u n </w>': 1, 'f i l l e d </w>': 1, 'w o r d s </w>': 1, 's o u n d e d </w>': 1, 'w a r m </w>': 1}\n",
            "SLOG: ('ug', 's')\n",
            "{'i n </w>': 3, 'a </w>': 9, 'c o z y </w>': 1, 'v i l l a g e </w>': 3, 's at </w>': 2, 's m a l l </w>': 1, 'c at </w>': 1, 'n a m e d </w>': 1, 'p at </w>': 4, 'l o v e d </w>': 1, 't o </w>': 3, 'p l a y </w>': 1, 'w i th </w>': 4, 'r at </w>': 2, 'o n </w>': 1, 'm at </w>': 3, 'the y </w>': 1, 'p l a y e d </w>': 1, 'e v e r y </w>': 1, 'd a y </w>': 3, 'm u c h </w>': 1, 'the </w>': 16, 'd e l i g h t </w>': 1, 'o f </w>': 3, 'l o c a l </w>': 1, 'b at </w>': 2, 'n at </w>': 3, 'o n e </w>': 1, 'f o u n d </w>': 2, 'h at </w>': 1, 'th at </w>': 2, 'f i t </w>': 1, 'p e r f e c t l y </w>': 1, 'm a k i n g </w>': 1, 'h e r </w>': 1, 'l o o k </w>': 1, 'q u i t e </w>': 1, 'f at </w>': 1, 'n e a r b y </w>': 1, 't at t y </w>': 1, 'a n d </w>': 5, 'a c r o s s </w>': 1, 'the r e </w>': 1, 'w e r e </w>': 1, 'h ugs </w>': 4, 'm ugs </w>': 5, 's n ug </w>': 3, 'l i t t l e </w>': 1, 'p u b </w>': 1, 'th ugs </w>': 3, 'l o o k i n g </w>': 1, 'f o r </w>': 1, 'j ugs </w>': 1, 'e y e d </w>': 1, 'b ugs </w>': 1, 'b u z z e d </w>': 1, 'a r o u n d </w>': 1, 'r ug </w>': 2, 'u n d e r </w>': 1, 's u d d e n l y </w>': 1, 'p ug </w>': 2, 'c a m e </w>': 1, 'b y </w>': 1, 'g i v i n g </w>': 2, 'o u t </w>': 1, 'f r e e </w>': 1, 'n o w </w>': 1, 'h a p p y </w>': 1, 'l e f t </w>': 1, 'the i r </w>': 2, 'j o i n e d </w>': 1, 's a w </w>': 1, 'th i s </w>': 1, 'f r o m </w>': 1, 'l a ug h i n g </w>': 1, 'at </w>': 1, 's i g h t </w>': 1, 'i t </w>': 1, 'w a s </w>': 1, 'f u n </w>': 1, 'f i l l e d </w>': 1, 'w o r d s </w>': 1, 's o u n d e d </w>': 1, 'w a r m </w>': 1}\n",
            "SLOG: ('n', 'd')\n",
            "{'i n </w>': 3, 'a </w>': 9, 'c o z y </w>': 1, 'v i l l a g e </w>': 3, 's at </w>': 2, 's m a l l </w>': 1, 'c at </w>': 1, 'n a m e d </w>': 1, 'p at </w>': 4, 'l o v e d </w>': 1, 't o </w>': 3, 'p l a y </w>': 1, 'w i th </w>': 4, 'r at </w>': 2, 'o n </w>': 1, 'm at </w>': 3, 'the y </w>': 1, 'p l a y e d </w>': 1, 'e v e r y </w>': 1, 'd a y </w>': 3, 'm u c h </w>': 1, 'the </w>': 16, 'd e l i g h t </w>': 1, 'o f </w>': 3, 'l o c a l </w>': 1, 'b at </w>': 2, 'n at </w>': 3, 'o n e </w>': 1, 'f o u nd </w>': 2, 'h at </w>': 1, 'th at </w>': 2, 'f i t </w>': 1, 'p e r f e c t l y </w>': 1, 'm a k i n g </w>': 1, 'h e r </w>': 1, 'l o o k </w>': 1, 'q u i t e </w>': 1, 'f at </w>': 1, 'n e a r b y </w>': 1, 't at t y </w>': 1, 'a nd </w>': 5, 'a c r o s s </w>': 1, 'the r e </w>': 1, 'w e r e </w>': 1, 'h ugs </w>': 4, 'm ugs </w>': 5, 's n ug </w>': 3, 'l i t t l e </w>': 1, 'p u b </w>': 1, 'th ugs </w>': 3, 'l o o k i n g </w>': 1, 'f o r </w>': 1, 'j ugs </w>': 1, 'e y e d </w>': 1, 'b ugs </w>': 1, 'b u z z e d </w>': 1, 'a r o u nd </w>': 1, 'r ug </w>': 2, 'u nd e r </w>': 1, 's u d d e n l y </w>': 1, 'p ug </w>': 2, 'c a m e </w>': 1, 'b y </w>': 1, 'g i v i n g </w>': 2, 'o u t </w>': 1, 'f r e e </w>': 1, 'n o w </w>': 1, 'h a p p y </w>': 1, 'l e f t </w>': 1, 'the i r </w>': 2, 'j o i n e d </w>': 1, 's a w </w>': 1, 'th i s </w>': 1, 'f r o m </w>': 1, 'l a ug h i n g </w>': 1, 'at </w>': 1, 's i g h t </w>': 1, 'i t </w>': 1, 'w a s </w>': 1, 'f u n </w>': 1, 'f i l l e d </w>': 1, 'w o r d s </w>': 1, 's o u nd e d </w>': 1, 'w a r m </w>': 1}\n",
            "SLOG: ('i', 'n')\n",
            "{'in </w>': 3, 'a </w>': 9, 'c o z y </w>': 1, 'v i l l a g e </w>': 3, 's at </w>': 2, 's m a l l </w>': 1, 'c at </w>': 1, 'n a m e d </w>': 1, 'p at </w>': 4, 'l o v e d </w>': 1, 't o </w>': 3, 'p l a y </w>': 1, 'w i th </w>': 4, 'r at </w>': 2, 'o n </w>': 1, 'm at </w>': 3, 'the y </w>': 1, 'p l a y e d </w>': 1, 'e v e r y </w>': 1, 'd a y </w>': 3, 'm u c h </w>': 1, 'the </w>': 16, 'd e l i g h t </w>': 1, 'o f </w>': 3, 'l o c a l </w>': 1, 'b at </w>': 2, 'n at </w>': 3, 'o n e </w>': 1, 'f o u nd </w>': 2, 'h at </w>': 1, 'th at </w>': 2, 'f i t </w>': 1, 'p e r f e c t l y </w>': 1, 'm a k in g </w>': 1, 'h e r </w>': 1, 'l o o k </w>': 1, 'q u i t e </w>': 1, 'f at </w>': 1, 'n e a r b y </w>': 1, 't at t y </w>': 1, 'a nd </w>': 5, 'a c r o s s </w>': 1, 'the r e </w>': 1, 'w e r e </w>': 1, 'h ugs </w>': 4, 'm ugs </w>': 5, 's n ug </w>': 3, 'l i t t l e </w>': 1, 'p u b </w>': 1, 'th ugs </w>': 3, 'l o o k in g </w>': 1, 'f o r </w>': 1, 'j ugs </w>': 1, 'e y e d </w>': 1, 'b ugs </w>': 1, 'b u z z e d </w>': 1, 'a r o u nd </w>': 1, 'r ug </w>': 2, 'u nd e r </w>': 1, 's u d d e n l y </w>': 1, 'p ug </w>': 2, 'c a m e </w>': 1, 'b y </w>': 1, 'g i v in g </w>': 2, 'o u t </w>': 1, 'f r e e </w>': 1, 'n o w </w>': 1, 'h a p p y </w>': 1, 'l e f t </w>': 1, 'the i r </w>': 2, 'j o in e d </w>': 1, 's a w </w>': 1, 'th i s </w>': 1, 'f r o m </w>': 1, 'l a ug h in g </w>': 1, 'at </w>': 1, 's i g h t </w>': 1, 'i t </w>': 1, 'w a s </w>': 1, 'f u n </w>': 1, 'f i l l e d </w>': 1, 'w o r d s </w>': 1, 's o u nd e d </w>': 1, 'w a r m </w>': 1}\n",
            "SLOG: ('e', 'd')\n",
            "{'in </w>': 3, 'a </w>': 9, 'c o z y </w>': 1, 'v i l l a g e </w>': 3, 's at </w>': 2, 's m a l l </w>': 1, 'c at </w>': 1, 'n a m ed </w>': 1, 'p at </w>': 4, 'l o v ed </w>': 1, 't o </w>': 3, 'p l a y </w>': 1, 'w i th </w>': 4, 'r at </w>': 2, 'o n </w>': 1, 'm at </w>': 3, 'the y </w>': 1, 'p l a y ed </w>': 1, 'e v e r y </w>': 1, 'd a y </w>': 3, 'm u c h </w>': 1, 'the </w>': 16, 'd e l i g h t </w>': 1, 'o f </w>': 3, 'l o c a l </w>': 1, 'b at </w>': 2, 'n at </w>': 3, 'o n e </w>': 1, 'f o u nd </w>': 2, 'h at </w>': 1, 'th at </w>': 2, 'f i t </w>': 1, 'p e r f e c t l y </w>': 1, 'm a k in g </w>': 1, 'h e r </w>': 1, 'l o o k </w>': 1, 'q u i t e </w>': 1, 'f at </w>': 1, 'n e a r b y </w>': 1, 't at t y </w>': 1, 'a nd </w>': 5, 'a c r o s s </w>': 1, 'the r e </w>': 1, 'w e r e </w>': 1, 'h ugs </w>': 4, 'm ugs </w>': 5, 's n ug </w>': 3, 'l i t t l e </w>': 1, 'p u b </w>': 1, 'th ugs </w>': 3, 'l o o k in g </w>': 1, 'f o r </w>': 1, 'j ugs </w>': 1, 'e y ed </w>': 1, 'b ugs </w>': 1, 'b u z z ed </w>': 1, 'a r o u nd </w>': 1, 'r ug </w>': 2, 'u nd e r </w>': 1, 's u d d e n l y </w>': 1, 'p ug </w>': 2, 'c a m e </w>': 1, 'b y </w>': 1, 'g i v in g </w>': 2, 'o u t </w>': 1, 'f r e e </w>': 1, 'n o w </w>': 1, 'h a p p y </w>': 1, 'l e f t </w>': 1, 'the i r </w>': 2, 'j o in ed </w>': 1, 's a w </w>': 1, 'th i s </w>': 1, 'f r o m </w>': 1, 'l a ug h in g </w>': 1, 'at </w>': 1, 's i g h t </w>': 1, 'i t </w>': 1, 'w a s </w>': 1, 'f u n </w>': 1, 'f i l l ed </w>': 1, 'w o r d s </w>': 1, 's o u nd ed </w>': 1, 'w a r m </w>': 1}\n",
            "SLOG: ('l', 'a')\n",
            "{'in </w>': 3, 'a </w>': 9, 'c o z y </w>': 1, 'v i l la g e </w>': 3, 's at </w>': 2, 's m a l l </w>': 1, 'c at </w>': 1, 'n a m ed </w>': 1, 'p at </w>': 4, 'l o v ed </w>': 1, 't o </w>': 3, 'p la y </w>': 1, 'w i th </w>': 4, 'r at </w>': 2, 'o n </w>': 1, 'm at </w>': 3, 'the y </w>': 1, 'p la y ed </w>': 1, 'e v e r y </w>': 1, 'd a y </w>': 3, 'm u c h </w>': 1, 'the </w>': 16, 'd e l i g h t </w>': 1, 'o f </w>': 3, 'l o c a l </w>': 1, 'b at </w>': 2, 'n at </w>': 3, 'o n e </w>': 1, 'f o u nd </w>': 2, 'h at </w>': 1, 'th at </w>': 2, 'f i t </w>': 1, 'p e r f e c t l y </w>': 1, 'm a k in g </w>': 1, 'h e r </w>': 1, 'l o o k </w>': 1, 'q u i t e </w>': 1, 'f at </w>': 1, 'n e a r b y </w>': 1, 't at t y </w>': 1, 'a nd </w>': 5, 'a c r o s s </w>': 1, 'the r e </w>': 1, 'w e r e </w>': 1, 'h ugs </w>': 4, 'm ugs </w>': 5, 's n ug </w>': 3, 'l i t t l e </w>': 1, 'p u b </w>': 1, 'th ugs </w>': 3, 'l o o k in g </w>': 1, 'f o r </w>': 1, 'j ugs </w>': 1, 'e y ed </w>': 1, 'b ugs </w>': 1, 'b u z z ed </w>': 1, 'a r o u nd </w>': 1, 'r ug </w>': 2, 'u nd e r </w>': 1, 's u d d e n l y </w>': 1, 'p ug </w>': 2, 'c a m e </w>': 1, 'b y </w>': 1, 'g i v in g </w>': 2, 'o u t </w>': 1, 'f r e e </w>': 1, 'n o w </w>': 1, 'h a p p y </w>': 1, 'l e f t </w>': 1, 'the i r </w>': 2, 'j o in ed </w>': 1, 's a w </w>': 1, 'th i s </w>': 1, 'f r o m </w>': 1, 'la ug h in g </w>': 1, 'at </w>': 1, 's i g h t </w>': 1, 'i t </w>': 1, 'w a s </w>': 1, 'f u n </w>': 1, 'f i l l ed </w>': 1, 'w o r d s </w>': 1, 's o u nd ed </w>': 1, 'w a r m </w>': 1}\n",
            "SLOG: ('e', 'r')\n",
            "{'in </w>': 3, 'a </w>': 9, 'c o z y </w>': 1, 'v i l la g e </w>': 3, 's at </w>': 2, 's m a l l </w>': 1, 'c at </w>': 1, 'n a m ed </w>': 1, 'p at </w>': 4, 'l o v ed </w>': 1, 't o </w>': 3, 'p la y </w>': 1, 'w i th </w>': 4, 'r at </w>': 2, 'o n </w>': 1, 'm at </w>': 3, 'the y </w>': 1, 'p la y ed </w>': 1, 'e v er y </w>': 1, 'd a y </w>': 3, 'm u c h </w>': 1, 'the </w>': 16, 'd e l i g h t </w>': 1, 'o f </w>': 3, 'l o c a l </w>': 1, 'b at </w>': 2, 'n at </w>': 3, 'o n e </w>': 1, 'f o u nd </w>': 2, 'h at </w>': 1, 'th at </w>': 2, 'f i t </w>': 1, 'p er f e c t l y </w>': 1, 'm a k in g </w>': 1, 'h er </w>': 1, 'l o o k </w>': 1, 'q u i t e </w>': 1, 'f at </w>': 1, 'n e a r b y </w>': 1, 't at t y </w>': 1, 'a nd </w>': 5, 'a c r o s s </w>': 1, 'the r e </w>': 1, 'w er e </w>': 1, 'h ugs </w>': 4, 'm ugs </w>': 5, 's n ug </w>': 3, 'l i t t l e </w>': 1, 'p u b </w>': 1, 'th ugs </w>': 3, 'l o o k in g </w>': 1, 'f o r </w>': 1, 'j ugs </w>': 1, 'e y ed </w>': 1, 'b ugs </w>': 1, 'b u z z ed </w>': 1, 'a r o u nd </w>': 1, 'r ug </w>': 2, 'u nd er </w>': 1, 's u d d e n l y </w>': 1, 'p ug </w>': 2, 'c a m e </w>': 1, 'b y </w>': 1, 'g i v in g </w>': 2, 'o u t </w>': 1, 'f r e e </w>': 1, 'n o w </w>': 1, 'h a p p y </w>': 1, 'l e f t </w>': 1, 'the i r </w>': 2, 'j o in ed </w>': 1, 's a w </w>': 1, 'th i s </w>': 1, 'f r o m </w>': 1, 'la ug h in g </w>': 1, 'at </w>': 1, 's i g h t </w>': 1, 'i t </w>': 1, 'w a s </w>': 1, 'f u n </w>': 1, 'f i l l ed </w>': 1, 'w o r d s </w>': 1, 's o u nd ed </w>': 1, 'w a r m </w>': 1}\n",
            "SLOG: ('o', 'u')\n",
            "{'in </w>': 3, 'a </w>': 9, 'c o z y </w>': 1, 'v i l la g e </w>': 3, 's at </w>': 2, 's m a l l </w>': 1, 'c at </w>': 1, 'n a m ed </w>': 1, 'p at </w>': 4, 'l o v ed </w>': 1, 't o </w>': 3, 'p la y </w>': 1, 'w i th </w>': 4, 'r at </w>': 2, 'o n </w>': 1, 'm at </w>': 3, 'the y </w>': 1, 'p la y ed </w>': 1, 'e v er y </w>': 1, 'd a y </w>': 3, 'm u c h </w>': 1, 'the </w>': 16, 'd e l i g h t </w>': 1, 'o f </w>': 3, 'l o c a l </w>': 1, 'b at </w>': 2, 'n at </w>': 3, 'o n e </w>': 1, 'f ou nd </w>': 2, 'h at </w>': 1, 'th at </w>': 2, 'f i t </w>': 1, 'p er f e c t l y </w>': 1, 'm a k in g </w>': 1, 'h er </w>': 1, 'l o o k </w>': 1, 'q u i t e </w>': 1, 'f at </w>': 1, 'n e a r b y </w>': 1, 't at t y </w>': 1, 'a nd </w>': 5, 'a c r o s s </w>': 1, 'the r e </w>': 1, 'w er e </w>': 1, 'h ugs </w>': 4, 'm ugs </w>': 5, 's n ug </w>': 3, 'l i t t l e </w>': 1, 'p u b </w>': 1, 'th ugs </w>': 3, 'l o o k in g </w>': 1, 'f o r </w>': 1, 'j ugs </w>': 1, 'e y ed </w>': 1, 'b ugs </w>': 1, 'b u z z ed </w>': 1, 'a r ou nd </w>': 1, 'r ug </w>': 2, 'u nd er </w>': 1, 's u d d e n l y </w>': 1, 'p ug </w>': 2, 'c a m e </w>': 1, 'b y </w>': 1, 'g i v in g </w>': 2, 'ou t </w>': 1, 'f r e e </w>': 1, 'n o w </w>': 1, 'h a p p y </w>': 1, 'l e f t </w>': 1, 'the i r </w>': 2, 'j o in ed </w>': 1, 's a w </w>': 1, 'th i s </w>': 1, 'f r o m </w>': 1, 'la ug h in g </w>': 1, 'at </w>': 1, 's i g h t </w>': 1, 'i t </w>': 1, 'w a s </w>': 1, 'f u n </w>': 1, 'f i l l ed </w>': 1, 'w o r d s </w>': 1, 's ou nd ed </w>': 1, 'w a r m </w>': 1}\n",
            "SLOG: ('in', 'g')\n",
            "{'in </w>': 3, 'a </w>': 9, 'c o z y </w>': 1, 'v i l la g e </w>': 3, 's at </w>': 2, 's m a l l </w>': 1, 'c at </w>': 1, 'n a m ed </w>': 1, 'p at </w>': 4, 'l o v ed </w>': 1, 't o </w>': 3, 'p la y </w>': 1, 'w i th </w>': 4, 'r at </w>': 2, 'o n </w>': 1, 'm at </w>': 3, 'the y </w>': 1, 'p la y ed </w>': 1, 'e v er y </w>': 1, 'd a y </w>': 3, 'm u c h </w>': 1, 'the </w>': 16, 'd e l i g h t </w>': 1, 'o f </w>': 3, 'l o c a l </w>': 1, 'b at </w>': 2, 'n at </w>': 3, 'o n e </w>': 1, 'f ou nd </w>': 2, 'h at </w>': 1, 'th at </w>': 2, 'f i t </w>': 1, 'p er f e c t l y </w>': 1, 'm a k ing </w>': 1, 'h er </w>': 1, 'l o o k </w>': 1, 'q u i t e </w>': 1, 'f at </w>': 1, 'n e a r b y </w>': 1, 't at t y </w>': 1, 'a nd </w>': 5, 'a c r o s s </w>': 1, 'the r e </w>': 1, 'w er e </w>': 1, 'h ugs </w>': 4, 'm ugs </w>': 5, 's n ug </w>': 3, 'l i t t l e </w>': 1, 'p u b </w>': 1, 'th ugs </w>': 3, 'l o o k ing </w>': 1, 'f o r </w>': 1, 'j ugs </w>': 1, 'e y ed </w>': 1, 'b ugs </w>': 1, 'b u z z ed </w>': 1, 'a r ou nd </w>': 1, 'r ug </w>': 2, 'u nd er </w>': 1, 's u d d e n l y </w>': 1, 'p ug </w>': 2, 'c a m e </w>': 1, 'b y </w>': 1, 'g i v ing </w>': 2, 'ou t </w>': 1, 'f r e e </w>': 1, 'n o w </w>': 1, 'h a p p y </w>': 1, 'l e f t </w>': 1, 'the i r </w>': 2, 'j o in ed </w>': 1, 's a w </w>': 1, 'th i s </w>': 1, 'f r o m </w>': 1, 'la ug h ing </w>': 1, 'at </w>': 1, 's i g h t </w>': 1, 'i t </w>': 1, 'w a s </w>': 1, 'f u n </w>': 1, 'f i l l ed </w>': 1, 'w o r d s </w>': 1, 's ou nd ed </w>': 1, 'w a r m </w>': 1}\n",
            "SLOG: ('a', 'nd')\n",
            "{'in </w>': 3, 'a </w>': 9, 'c o z y </w>': 1, 'v i l la g e </w>': 3, 's at </w>': 2, 's m a l l </w>': 1, 'c at </w>': 1, 'n a m ed </w>': 1, 'p at </w>': 4, 'l o v ed </w>': 1, 't o </w>': 3, 'p la y </w>': 1, 'w i th </w>': 4, 'r at </w>': 2, 'o n </w>': 1, 'm at </w>': 3, 'the y </w>': 1, 'p la y ed </w>': 1, 'e v er y </w>': 1, 'd a y </w>': 3, 'm u c h </w>': 1, 'the </w>': 16, 'd e l i g h t </w>': 1, 'o f </w>': 3, 'l o c a l </w>': 1, 'b at </w>': 2, 'n at </w>': 3, 'o n e </w>': 1, 'f ou nd </w>': 2, 'h at </w>': 1, 'th at </w>': 2, 'f i t </w>': 1, 'p er f e c t l y </w>': 1, 'm a k ing </w>': 1, 'h er </w>': 1, 'l o o k </w>': 1, 'q u i t e </w>': 1, 'f at </w>': 1, 'n e a r b y </w>': 1, 't at t y </w>': 1, 'and </w>': 5, 'a c r o s s </w>': 1, 'the r e </w>': 1, 'w er e </w>': 1, 'h ugs </w>': 4, 'm ugs </w>': 5, 's n ug </w>': 3, 'l i t t l e </w>': 1, 'p u b </w>': 1, 'th ugs </w>': 3, 'l o o k ing </w>': 1, 'f o r </w>': 1, 'j ugs </w>': 1, 'e y ed </w>': 1, 'b ugs </w>': 1, 'b u z z ed </w>': 1, 'a r ou nd </w>': 1, 'r ug </w>': 2, 'u nd er </w>': 1, 's u d d e n l y </w>': 1, 'p ug </w>': 2, 'c a m e </w>': 1, 'b y </w>': 1, 'g i v ing </w>': 2, 'ou t </w>': 1, 'f r e e </w>': 1, 'n o w </w>': 1, 'h a p p y </w>': 1, 'l e f t </w>': 1, 'the i r </w>': 2, 'j o in ed </w>': 1, 's a w </w>': 1, 'th i s </w>': 1, 'f r o m </w>': 1, 'la ug h ing </w>': 1, 'at </w>': 1, 's i g h t </w>': 1, 'i t </w>': 1, 'w a s </w>': 1, 'f u n </w>': 1, 'f i l l ed </w>': 1, 'w o r d s </w>': 1, 's ou nd ed </w>': 1, 'w a r m </w>': 1}\n",
            "SLOG: ('m', 'ugs')\n",
            "{'in </w>': 3, 'a </w>': 9, 'c o z y </w>': 1, 'v i l la g e </w>': 3, 's at </w>': 2, 's m a l l </w>': 1, 'c at </w>': 1, 'n a m ed </w>': 1, 'p at </w>': 4, 'l o v ed </w>': 1, 't o </w>': 3, 'p la y </w>': 1, 'w i th </w>': 4, 'r at </w>': 2, 'o n </w>': 1, 'm at </w>': 3, 'the y </w>': 1, 'p la y ed </w>': 1, 'e v er y </w>': 1, 'd a y </w>': 3, 'm u c h </w>': 1, 'the </w>': 16, 'd e l i g h t </w>': 1, 'o f </w>': 3, 'l o c a l </w>': 1, 'b at </w>': 2, 'n at </w>': 3, 'o n e </w>': 1, 'f ou nd </w>': 2, 'h at </w>': 1, 'th at </w>': 2, 'f i t </w>': 1, 'p er f e c t l y </w>': 1, 'm a k ing </w>': 1, 'h er </w>': 1, 'l o o k </w>': 1, 'q u i t e </w>': 1, 'f at </w>': 1, 'n e a r b y </w>': 1, 't at t y </w>': 1, 'and </w>': 5, 'a c r o s s </w>': 1, 'the r e </w>': 1, 'w er e </w>': 1, 'h ugs </w>': 4, 'mugs </w>': 5, 's n ug </w>': 3, 'l i t t l e </w>': 1, 'p u b </w>': 1, 'th ugs </w>': 3, 'l o o k ing </w>': 1, 'f o r </w>': 1, 'j ugs </w>': 1, 'e y ed </w>': 1, 'b ugs </w>': 1, 'b u z z ed </w>': 1, 'a r ou nd </w>': 1, 'r ug </w>': 2, 'u nd er </w>': 1, 's u d d e n l y </w>': 1, 'p ug </w>': 2, 'c a m e </w>': 1, 'b y </w>': 1, 'g i v ing </w>': 2, 'ou t </w>': 1, 'f r e e </w>': 1, 'n o w </w>': 1, 'h a p p y </w>': 1, 'l e f t </w>': 1, 'the i r </w>': 2, 'j o in ed </w>': 1, 's a w </w>': 1, 'th i s </w>': 1, 'f r o m </w>': 1, 'la ug h ing </w>': 1, 'at </w>': 1, 's i g h t </w>': 1, 'i t </w>': 1, 'w a s </w>': 1, 'f u n </w>': 1, 'f i l l ed </w>': 1, 'w o r d s </w>': 1, 's ou nd ed </w>': 1, 'w a r m </w>': 1}\n",
            "SLOG: ('i', 'l')\n",
            "{'in </w>': 3, 'a </w>': 9, 'c o z y </w>': 1, 'v il la g e </w>': 3, 's at </w>': 2, 's m a l l </w>': 1, 'c at </w>': 1, 'n a m ed </w>': 1, 'p at </w>': 4, 'l o v ed </w>': 1, 't o </w>': 3, 'p la y </w>': 1, 'w i th </w>': 4, 'r at </w>': 2, 'o n </w>': 1, 'm at </w>': 3, 'the y </w>': 1, 'p la y ed </w>': 1, 'e v er y </w>': 1, 'd a y </w>': 3, 'm u c h </w>': 1, 'the </w>': 16, 'd e l i g h t </w>': 1, 'o f </w>': 3, 'l o c a l </w>': 1, 'b at </w>': 2, 'n at </w>': 3, 'o n e </w>': 1, 'f ou nd </w>': 2, 'h at </w>': 1, 'th at </w>': 2, 'f i t </w>': 1, 'p er f e c t l y </w>': 1, 'm a k ing </w>': 1, 'h er </w>': 1, 'l o o k </w>': 1, 'q u i t e </w>': 1, 'f at </w>': 1, 'n e a r b y </w>': 1, 't at t y </w>': 1, 'and </w>': 5, 'a c r o s s </w>': 1, 'the r e </w>': 1, 'w er e </w>': 1, 'h ugs </w>': 4, 'mugs </w>': 5, 's n ug </w>': 3, 'l i t t l e </w>': 1, 'p u b </w>': 1, 'th ugs </w>': 3, 'l o o k ing </w>': 1, 'f o r </w>': 1, 'j ugs </w>': 1, 'e y ed </w>': 1, 'b ugs </w>': 1, 'b u z z ed </w>': 1, 'a r ou nd </w>': 1, 'r ug </w>': 2, 'u nd er </w>': 1, 's u d d e n l y </w>': 1, 'p ug </w>': 2, 'c a m e </w>': 1, 'b y </w>': 1, 'g i v ing </w>': 2, 'ou t </w>': 1, 'f r e e </w>': 1, 'n o w </w>': 1, 'h a p p y </w>': 1, 'l e f t </w>': 1, 'the i r </w>': 2, 'j o in ed </w>': 1, 's a w </w>': 1, 'th i s </w>': 1, 'f r o m </w>': 1, 'la ug h ing </w>': 1, 'at </w>': 1, 's i g h t </w>': 1, 'i t </w>': 1, 'w a s </w>': 1, 'f u n </w>': 1, 'f il l ed </w>': 1, 'w o r d s </w>': 1, 's ou nd ed </w>': 1, 'w a r m </w>': 1}\n",
            "SLOG: ('p', 'at')\n",
            "{'in </w>': 3, 'a </w>': 9, 'c o z y </w>': 1, 'v il la g e </w>': 3, 's at </w>': 2, 's m a l l </w>': 1, 'c at </w>': 1, 'n a m ed </w>': 1, 'pat </w>': 4, 'l o v ed </w>': 1, 't o </w>': 3, 'p la y </w>': 1, 'w i th </w>': 4, 'r at </w>': 2, 'o n </w>': 1, 'm at </w>': 3, 'the y </w>': 1, 'p la y ed </w>': 1, 'e v er y </w>': 1, 'd a y </w>': 3, 'm u c h </w>': 1, 'the </w>': 16, 'd e l i g h t </w>': 1, 'o f </w>': 3, 'l o c a l </w>': 1, 'b at </w>': 2, 'n at </w>': 3, 'o n e </w>': 1, 'f ou nd </w>': 2, 'h at </w>': 1, 'th at </w>': 2, 'f i t </w>': 1, 'p er f e c t l y </w>': 1, 'm a k ing </w>': 1, 'h er </w>': 1, 'l o o k </w>': 1, 'q u i t e </w>': 1, 'f at </w>': 1, 'n e a r b y </w>': 1, 't at t y </w>': 1, 'and </w>': 5, 'a c r o s s </w>': 1, 'the r e </w>': 1, 'w er e </w>': 1, 'h ugs </w>': 4, 'mugs </w>': 5, 's n ug </w>': 3, 'l i t t l e </w>': 1, 'p u b </w>': 1, 'th ugs </w>': 3, 'l o o k ing </w>': 1, 'f o r </w>': 1, 'j ugs </w>': 1, 'e y ed </w>': 1, 'b ugs </w>': 1, 'b u z z ed </w>': 1, 'a r ou nd </w>': 1, 'r ug </w>': 2, 'u nd er </w>': 1, 's u d d e n l y </w>': 1, 'p ug </w>': 2, 'c a m e </w>': 1, 'b y </w>': 1, 'g i v ing </w>': 2, 'ou t </w>': 1, 'f r e e </w>': 1, 'n o w </w>': 1, 'h a p p y </w>': 1, 'l e f t </w>': 1, 'the i r </w>': 2, 'j o in ed </w>': 1, 's a w </w>': 1, 'th i s </w>': 1, 'f r o m </w>': 1, 'la ug h ing </w>': 1, 'at </w>': 1, 's i g h t </w>': 1, 'i t </w>': 1, 'w a s </w>': 1, 'f u n </w>': 1, 'f il l ed </w>': 1, 'w o r d s </w>': 1, 's ou nd ed </w>': 1, 'w a r m </w>': 1}\n",
            "SLOG: ('l', 'o')\n",
            "{'in </w>': 3, 'a </w>': 9, 'c o z y </w>': 1, 'v il la g e </w>': 3, 's at </w>': 2, 's m a l l </w>': 1, 'c at </w>': 1, 'n a m ed </w>': 1, 'pat </w>': 4, 'lo v ed </w>': 1, 't o </w>': 3, 'p la y </w>': 1, 'w i th </w>': 4, 'r at </w>': 2, 'o n </w>': 1, 'm at </w>': 3, 'the y </w>': 1, 'p la y ed </w>': 1, 'e v er y </w>': 1, 'd a y </w>': 3, 'm u c h </w>': 1, 'the </w>': 16, 'd e l i g h t </w>': 1, 'o f </w>': 3, 'lo c a l </w>': 1, 'b at </w>': 2, 'n at </w>': 3, 'o n e </w>': 1, 'f ou nd </w>': 2, 'h at </w>': 1, 'th at </w>': 2, 'f i t </w>': 1, 'p er f e c t l y </w>': 1, 'm a k ing </w>': 1, 'h er </w>': 1, 'lo o k </w>': 1, 'q u i t e </w>': 1, 'f at </w>': 1, 'n e a r b y </w>': 1, 't at t y </w>': 1, 'and </w>': 5, 'a c r o s s </w>': 1, 'the r e </w>': 1, 'w er e </w>': 1, 'h ugs </w>': 4, 'mugs </w>': 5, 's n ug </w>': 3, 'l i t t l e </w>': 1, 'p u b </w>': 1, 'th ugs </w>': 3, 'lo o k ing </w>': 1, 'f o r </w>': 1, 'j ugs </w>': 1, 'e y ed </w>': 1, 'b ugs </w>': 1, 'b u z z ed </w>': 1, 'a r ou nd </w>': 1, 'r ug </w>': 2, 'u nd er </w>': 1, 's u d d e n l y </w>': 1, 'p ug </w>': 2, 'c a m e </w>': 1, 'b y </w>': 1, 'g i v ing </w>': 2, 'ou t </w>': 1, 'f r e e </w>': 1, 'n o w </w>': 1, 'h a p p y </w>': 1, 'l e f t </w>': 1, 'the i r </w>': 2, 'j o in ed </w>': 1, 's a w </w>': 1, 'th i s </w>': 1, 'f r o m </w>': 1, 'la ug h ing </w>': 1, 'at </w>': 1, 's i g h t </w>': 1, 'i t </w>': 1, 'w a s </w>': 1, 'f u n </w>': 1, 'f il l ed </w>': 1, 'w o r d s </w>': 1, 's ou nd ed </w>': 1, 'w a r m </w>': 1}\n",
            "SLOG: ('w', 'i')\n",
            "{'in </w>': 3, 'a </w>': 9, 'c o z y </w>': 1, 'v il la g e </w>': 3, 's at </w>': 2, 's m a l l </w>': 1, 'c at </w>': 1, 'n a m ed </w>': 1, 'pat </w>': 4, 'lo v ed </w>': 1, 't o </w>': 3, 'p la y </w>': 1, 'wi th </w>': 4, 'r at </w>': 2, 'o n </w>': 1, 'm at </w>': 3, 'the y </w>': 1, 'p la y ed </w>': 1, 'e v er y </w>': 1, 'd a y </w>': 3, 'm u c h </w>': 1, 'the </w>': 16, 'd e l i g h t </w>': 1, 'o f </w>': 3, 'lo c a l </w>': 1, 'b at </w>': 2, 'n at </w>': 3, 'o n e </w>': 1, 'f ou nd </w>': 2, 'h at </w>': 1, 'th at </w>': 2, 'f i t </w>': 1, 'p er f e c t l y </w>': 1, 'm a k ing </w>': 1, 'h er </w>': 1, 'lo o k </w>': 1, 'q u i t e </w>': 1, 'f at </w>': 1, 'n e a r b y </w>': 1, 't at t y </w>': 1, 'and </w>': 5, 'a c r o s s </w>': 1, 'the r e </w>': 1, 'w er e </w>': 1, 'h ugs </w>': 4, 'mugs </w>': 5, 's n ug </w>': 3, 'l i t t l e </w>': 1, 'p u b </w>': 1, 'th ugs </w>': 3, 'lo o k ing </w>': 1, 'f o r </w>': 1, 'j ugs </w>': 1, 'e y ed </w>': 1, 'b ugs </w>': 1, 'b u z z ed </w>': 1, 'a r ou nd </w>': 1, 'r ug </w>': 2, 'u nd er </w>': 1, 's u d d e n l y </w>': 1, 'p ug </w>': 2, 'c a m e </w>': 1, 'b y </w>': 1, 'g i v ing </w>': 2, 'ou t </w>': 1, 'f r e e </w>': 1, 'n o w </w>': 1, 'h a p p y </w>': 1, 'l e f t </w>': 1, 'the i r </w>': 2, 'j o in ed </w>': 1, 's a w </w>': 1, 'th i s </w>': 1, 'f r o m </w>': 1, 'la ug h ing </w>': 1, 'at </w>': 1, 's i g h t </w>': 1, 'i t </w>': 1, 'w a s </w>': 1, 'f u n </w>': 1, 'f il l ed </w>': 1, 'w o r d s </w>': 1, 's ou nd ed </w>': 1, 'w a r m </w>': 1}\n",
            "SLOG: ('wi', 'th')\n",
            "{'in </w>': 3, 'a </w>': 9, 'c o z y </w>': 1, 'v il la g e </w>': 3, 's at </w>': 2, 's m a l l </w>': 1, 'c at </w>': 1, 'n a m ed </w>': 1, 'pat </w>': 4, 'lo v ed </w>': 1, 't o </w>': 3, 'p la y </w>': 1, 'with </w>': 4, 'r at </w>': 2, 'o n </w>': 1, 'm at </w>': 3, 'the y </w>': 1, 'p la y ed </w>': 1, 'e v er y </w>': 1, 'd a y </w>': 3, 'm u c h </w>': 1, 'the </w>': 16, 'd e l i g h t </w>': 1, 'o f </w>': 3, 'lo c a l </w>': 1, 'b at </w>': 2, 'n at </w>': 3, 'o n e </w>': 1, 'f ou nd </w>': 2, 'h at </w>': 1, 'th at </w>': 2, 'f i t </w>': 1, 'p er f e c t l y </w>': 1, 'm a k ing </w>': 1, 'h er </w>': 1, 'lo o k </w>': 1, 'q u i t e </w>': 1, 'f at </w>': 1, 'n e a r b y </w>': 1, 't at t y </w>': 1, 'and </w>': 5, 'a c r o s s </w>': 1, 'the r e </w>': 1, 'w er e </w>': 1, 'h ugs </w>': 4, 'mugs </w>': 5, 's n ug </w>': 3, 'l i t t l e </w>': 1, 'p u b </w>': 1, 'th ugs </w>': 3, 'lo o k ing </w>': 1, 'f o r </w>': 1, 'j ugs </w>': 1, 'e y ed </w>': 1, 'b ugs </w>': 1, 'b u z z ed </w>': 1, 'a r ou nd </w>': 1, 'r ug </w>': 2, 'u nd er </w>': 1, 's u d d e n l y </w>': 1, 'p ug </w>': 2, 'c a m e </w>': 1, 'b y </w>': 1, 'g i v ing </w>': 2, 'ou t </w>': 1, 'f r e e </w>': 1, 'n o w </w>': 1, 'h a p p y </w>': 1, 'l e f t </w>': 1, 'the i r </w>': 2, 'j o in ed </w>': 1, 's a w </w>': 1, 'th i s </w>': 1, 'f r o m </w>': 1, 'la ug h ing </w>': 1, 'at </w>': 1, 's i g h t </w>': 1, 'i t </w>': 1, 'w a s </w>': 1, 'f u n </w>': 1, 'f il l ed </w>': 1, 'w o r d s </w>': 1, 's ou nd ed </w>': 1, 'w a r m </w>': 1}\n",
            "SLOG: ('ou', 'nd')\n",
            "{'in </w>': 3, 'a </w>': 9, 'c o z y </w>': 1, 'v il la g e </w>': 3, 's at </w>': 2, 's m a l l </w>': 1, 'c at </w>': 1, 'n a m ed </w>': 1, 'pat </w>': 4, 'lo v ed </w>': 1, 't o </w>': 3, 'p la y </w>': 1, 'with </w>': 4, 'r at </w>': 2, 'o n </w>': 1, 'm at </w>': 3, 'the y </w>': 1, 'p la y ed </w>': 1, 'e v er y </w>': 1, 'd a y </w>': 3, 'm u c h </w>': 1, 'the </w>': 16, 'd e l i g h t </w>': 1, 'o f </w>': 3, 'lo c a l </w>': 1, 'b at </w>': 2, 'n at </w>': 3, 'o n e </w>': 1, 'f ound </w>': 2, 'h at </w>': 1, 'th at </w>': 2, 'f i t </w>': 1, 'p er f e c t l y </w>': 1, 'm a k ing </w>': 1, 'h er </w>': 1, 'lo o k </w>': 1, 'q u i t e </w>': 1, 'f at </w>': 1, 'n e a r b y </w>': 1, 't at t y </w>': 1, 'and </w>': 5, 'a c r o s s </w>': 1, 'the r e </w>': 1, 'w er e </w>': 1, 'h ugs </w>': 4, 'mugs </w>': 5, 's n ug </w>': 3, 'l i t t l e </w>': 1, 'p u b </w>': 1, 'th ugs </w>': 3, 'lo o k ing </w>': 1, 'f o r </w>': 1, 'j ugs </w>': 1, 'e y ed </w>': 1, 'b ugs </w>': 1, 'b u z z ed </w>': 1, 'a r ound </w>': 1, 'r ug </w>': 2, 'u nd er </w>': 1, 's u d d e n l y </w>': 1, 'p ug </w>': 2, 'c a m e </w>': 1, 'b y </w>': 1, 'g i v ing </w>': 2, 'ou t </w>': 1, 'f r e e </w>': 1, 'n o w </w>': 1, 'h a p p y </w>': 1, 'l e f t </w>': 1, 'the i r </w>': 2, 'j o in ed </w>': 1, 's a w </w>': 1, 'th i s </w>': 1, 'f r o m </w>': 1, 'la ug h ing </w>': 1, 'at </w>': 1, 's i g h t </w>': 1, 'i t </w>': 1, 'w a s </w>': 1, 'f u n </w>': 1, 'f il l ed </w>': 1, 'w o r d s </w>': 1, 's ound ed </w>': 1, 'w a r m </w>': 1}\n",
            "{'in </w>': 3, 'a </w>': 9, 'c o z y </w>': 1, 'v il la g e </w>': 3, 's at </w>': 2, 's m a l l </w>': 1, 'c at </w>': 1, 'n a m ed </w>': 1, 'pat </w>': 4, 'lo v ed </w>': 1, 't o </w>': 3, 'p la y </w>': 1, 'with </w>': 4, 'r at </w>': 2, 'o n </w>': 1, 'm at </w>': 3, 'the y </w>': 1, 'p la y ed </w>': 1, 'e v er y </w>': 1, 'd a y </w>': 3, 'm u c h </w>': 1, 'the </w>': 16, 'd e l i g h t </w>': 1, 'o f </w>': 3, 'lo c a l </w>': 1, 'b at </w>': 2, 'n at </w>': 3, 'o n e </w>': 1, 'f ound </w>': 2, 'h at </w>': 1, 'th at </w>': 2, 'f i t </w>': 1, 'p er f e c t l y </w>': 1, 'm a k ing </w>': 1, 'h er </w>': 1, 'lo o k </w>': 1, 'q u i t e </w>': 1, 'f at </w>': 1, 'n e a r b y </w>': 1, 't at t y </w>': 1, 'and </w>': 5, 'a c r o s s </w>': 1, 'the r e </w>': 1, 'w er e </w>': 1, 'h ugs </w>': 4, 'mugs </w>': 5, 's n ug </w>': 3, 'l i t t l e </w>': 1, 'p u b </w>': 1, 'th ugs </w>': 3, 'lo o k ing </w>': 1, 'f o r </w>': 1, 'j ugs </w>': 1, 'e y ed </w>': 1, 'b ugs </w>': 1, 'b u z z ed </w>': 1, 'a r ound </w>': 1, 'r ug </w>': 2, 'u nd er </w>': 1, 's u d d e n l y </w>': 1, 'p ug </w>': 2, 'c a m e </w>': 1, 'b y </w>': 1, 'g i v ing </w>': 2, 'ou t </w>': 1, 'f r e e </w>': 1, 'n o w </w>': 1, 'h a p p y </w>': 1, 'l e f t </w>': 1, 'the i r </w>': 2, 'j o in ed </w>': 1, 's a w </w>': 1, 'th i s </w>': 1, 'f r o m </w>': 1, 'la ug h ing </w>': 1, 'at </w>': 1, 's i g h t </w>': 1, 'i t </w>': 1, 'w a s </w>': 1, 'f u n </w>': 1, 'f il l ed </w>': 1, 'w o r d s </w>': 1, 's ound ed </w>': 1, 'w a r m </w>': 1}\n"
          ]
        }
      ]
    },
    {
      "cell_type": "code",
      "source": [],
      "metadata": {
        "id": "58DMrOLr22L1"
      },
      "execution_count": 57,
      "outputs": []
    }
  ]
}