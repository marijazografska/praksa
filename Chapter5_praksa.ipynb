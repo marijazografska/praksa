{
  "nbformat": 4,
  "nbformat_minor": 0,
  "metadata": {
    "colab": {
      "provenance": []
    },
    "kernelspec": {
      "name": "python3",
      "display_name": "Python 3"
    },
    "language_info": {
      "name": "python"
    }
  },
  "cells": [
    {
      "cell_type": "markdown",
      "source": [
        "Go zemame GPT modelot od prethodnata glava kako model na koj ke se pravat evaluacii"
      ],
      "metadata": {
        "id": "RAjjVxLTqxZQ"
      }
    },
    {
      "cell_type": "code",
      "source": [
        "import torch\n",
        "import torch.nn as nn"
      ],
      "metadata": {
        "id": "Y6iRw5DYt8Sa"
      },
      "execution_count": 9,
      "outputs": []
    },
    {
      "cell_type": "code",
      "source": [
        "class MultiHeadAttention(nn.Module):\n",
        "    def __init__(self, d_in, d_out, context_length, dropout, num_heads, qkv_bias=False):\n",
        "        super().__init__()\n",
        "        assert (d_out % num_heads == 0), \\\n",
        "            \"d_out must be divisible by num_heads\"\n",
        "\n",
        "        self.d_out = d_out\n",
        "        self.num_heads = num_heads\n",
        "        self.head_dim = d_out // num_heads # Reduce the projection dim to match desired output dim\n",
        "\n",
        "        self.W_query = nn.Linear(d_in, d_out, bias=qkv_bias)\n",
        "        self.W_key = nn.Linear(d_in, d_out, bias=qkv_bias)\n",
        "        self.W_value = nn.Linear(d_in, d_out, bias=qkv_bias)\n",
        "        self.out_proj = nn.Linear(d_out, d_out)  # Linear layer to combine head outputs\n",
        "        self.dropout = nn.Dropout(dropout)\n",
        "        self.register_buffer(\n",
        "            \"mask\",\n",
        "            torch.triu(torch.ones(context_length, context_length),\n",
        "                       diagonal=1)\n",
        "        )\n",
        "\n",
        "    def forward(self, x):\n",
        "        b, num_tokens, d_in = x.shape\n",
        "\n",
        "        keys = self.W_key(x) # Shape: (b, num_tokens, d_out)\n",
        "        queries = self.W_query(x)\n",
        "        values = self.W_value(x)\n",
        "\n",
        "        # We implicitly split the matrix by adding a `num_heads` dimension\n",
        "        # Unroll last dim: (b, num_tokens, d_out) -> (b, num_tokens, num_heads, head_dim)\n",
        "        keys = keys.view(b, num_tokens, self.num_heads, self.head_dim)\n",
        "        values = values.view(b, num_tokens, self.num_heads, self.head_dim)\n",
        "        queries = queries.view(b, num_tokens, self.num_heads, self.head_dim)\n",
        "\n",
        "        # Transpose: (b, num_tokens, num_heads, head_dim) -> (b, num_heads, num_tokens, head_dim)\n",
        "        keys = keys.transpose(1, 2)\n",
        "        queries = queries.transpose(1, 2)\n",
        "        values = values.transpose(1, 2)\n",
        "\n",
        "        # Compute scaled dot-product attention (aka self-attention) with a causal mask\n",
        "        attn_scores = queries @ keys.transpose(2, 3)  # Dot product for each head\n",
        "\n",
        "        # Original mask truncated to the number of tokens and converted to boolean\n",
        "        mask_bool = self.mask.bool()[:num_tokens, :num_tokens]\n",
        "\n",
        "        # Use the mask to fill attention scores\n",
        "        attn_scores.masked_fill_(mask_bool, -torch.inf)\n",
        "\n",
        "        attn_weights = torch.softmax(attn_scores / keys.shape[-1]**0.5, dim=-1)\n",
        "        attn_weights = self.dropout(attn_weights)\n",
        "\n",
        "        # Shape: (b, num_tokens, num_heads, head_dim)\n",
        "        context_vec = (attn_weights @ values).transpose(1, 2)\n",
        "\n",
        "        # Combine heads, where self.d_out = self.num_heads * self.head_dim\n",
        "        context_vec = context_vec.contiguous().view(b, num_tokens, self.d_out)\n",
        "        context_vec = self.out_proj(context_vec) # optional projection\n",
        "\n",
        "        return context_vec\n"
      ],
      "metadata": {
        "id": "Ln8Ctn1Us6cT"
      },
      "execution_count": 10,
      "outputs": []
    },
    {
      "cell_type": "code",
      "source": [
        "class GELU(nn.Module):\n",
        "    def __init__(self):\n",
        "        super().__init__()\n",
        "\n",
        "    def forward(self, x):\n",
        "        return 0.5 * x * (1 + torch.tanh(\n",
        "            torch.sqrt(torch.tensor(2.0 / torch.pi)) *\n",
        "            (x + 0.044715 * torch.pow(x, 3))\n",
        "        ))\n",
        "class FeedForward(nn.Module):\n",
        "    def __init__(self, cfg):\n",
        "        super().__init__()\n",
        "        self.layers = nn.Sequential(\n",
        "            nn.Linear(cfg[\"emb_dim\"], 4 * cfg[\"emb_dim\"]),\n",
        "            GELU(),\n",
        "            nn.Linear(4 * cfg[\"emb_dim\"], cfg[\"emb_dim\"]),\n",
        "        )\n",
        "\n",
        "    def forward(self, x):\n",
        "        return self.layers(x)"
      ],
      "metadata": {
        "id": "LcvV4RonuXpz"
      },
      "execution_count": 11,
      "outputs": []
    },
    {
      "cell_type": "code",
      "source": [
        "class LayerNormalization(nn.Module):\n",
        "  def __init__(self, emb_dim):\n",
        "    super().__init__()\n",
        "    self.eps = 1e-5 #sprecuva delenje so 0\n",
        "     #parametri koi ucat dodeka se trenira, so nivna promena se podobruva modelot.\n",
        "    self.scale = nn.Parameter(torch.ones(emb_dim)) #inicijalno postaven na 1, so nego se mnozi i se menuva vrednosta vo zavisnost od modelot\n",
        "    self.shift = nn.Parameter(torch.zeros(emb_dim)) #inicijalno 0, so nego se dodava i se menuva vrednosta ....\n",
        "  def forward(self,x):\n",
        "     mean = x.mean(dim=-1, keepdim=True) #prosek na tensorot\n",
        "     var = x.var(dim=-1, keepdim=True, unbiased=False) #varijansa\n",
        "     norm_x = (x - mean) / torch.sqrt(var + self.eps) #normalizacija so pomos na formula\n",
        "     return self.scale * norm_x + self.shift #vklucuvanje na parametrite\n"
      ],
      "metadata": {
        "id": "aIRcasoDuOQv"
      },
      "execution_count": 12,
      "outputs": []
    },
    {
      "cell_type": "code",
      "source": [
        "class TransformerBlock(nn.Module):\n",
        "    def __init__(self, cfg):\n",
        "        super().__init__()\n",
        "        self.att = MultiHeadAttention( #specificiranje na parametrite za multiheadattention\n",
        "            d_in=cfg[\"emb_dim\"],\n",
        "            d_out=cfg[\"emb_dim\"],\n",
        "            context_length=cfg[\"context_length\"],\n",
        "            num_heads=cfg[\"n_heads\"],\n",
        "            dropout=cfg[\"drop_rate\"],\n",
        "            qkv_bias=cfg[\"qkv_bias\"])\n",
        "        self.ff = FeedForward(cfg) #povik na feedforward\n",
        "        self.norm1 = LayerNormalization(cfg[\"emb_dim\"]) #normalizacija pred self attention\n",
        "        self.norm2 = LayerNormalization(cfg[\"emb_dim\"]) #normalizacija pred feed forward\n",
        "        self.drop_shortcut = nn.Dropout(cfg[\"drop_rate\"]) #dropout\n",
        "\n",
        "    def forward(self, x):\n",
        "\n",
        "        shortcut = x #zacuvuvanje na originalniot tensor x vo shortcut\n",
        "        x = self.norm1(x) #normaliziranje na tensorot pred attention layer\n",
        "        x = self.att(x) #attention layer\n",
        "        x = self.drop_shortcut(x) #dropout layer\n",
        "        x = x + shortcut  # dodavanje na originalniot tensor vo x za da se zacuva primarniot input\n",
        "\n",
        "        shortcut = x  #povtorno zacuvuvanje na tensor pominat preku attention layer i shortcut\n",
        "        x = self.norm2(x) #normalizacija pred feed forward\n",
        "        x = self.ff(x) #feed forward\n",
        "        x = self.drop_shortcut(x) #dropout layer\n",
        "        x = x + shortcut #dodavanje na tensorot pominat preku att za da se zacuva primarnata informacija\n",
        "        return x\n",
        "\n"
      ],
      "metadata": {
        "id": "iwHRQF6kt6Zy"
      },
      "execution_count": 13,
      "outputs": []
    },
    {
      "cell_type": "code",
      "source": [
        "\n",
        "class GPTModel(nn.Module):\n",
        "    def __init__(self, cfg):\n",
        "        super().__init__()\n",
        "        self.tok_emb = nn.Embedding(cfg[\"vocab_size\"], cfg[\"emb_dim\"]) #tokenizacija\n",
        "        self.pos_emb = nn.Embedding(cfg[\"context_length\"], cfg[\"emb_dim\"]) #positional embedding\n",
        "        self.drop_emb = nn.Dropout(cfg[\"drop_rate\"]) #dropout\n",
        "\n",
        "        self.trf_blocks = nn.Sequential( #sekvencijalno povikuvanje na transformeri spored brojor na layers\n",
        "            *[TransformerBlock(cfg) for _ in range(cfg[\"n_layers\"])])\n",
        "\n",
        "        self.final_norm = LayerNormalization(cfg[\"emb_dim\"]) #posledna normalizacija pred izlez\n",
        "        self.out_head = nn.Linear( #linearen izlez\n",
        "            cfg[\"emb_dim\"], cfg[\"vocab_size\"], bias=False\n",
        "        )\n",
        "\n",
        "    def forward(self, in_idx):\n",
        "        batch_size, seq_len = in_idx.shape #gi zem goleminata na batchot i sekvencta od dimenziite na tensorot\n",
        "        tok_embeds = self.tok_emb(in_idx) #embeding na tokenot\n",
        "\n",
        "        pos_embeds = self.pos_emb(torch.arange(seq_len, device=in_idx.device)) #poziciski embeding\n",
        "        x = tok_embeds + pos_embeds #tensor od positional embeding i tokenizacija sto go dava semantickoto znacenje\n",
        "        x = self.drop_emb(x) #dropout\n",
        "        x = self.trf_blocks(x) #povik na transformation blocks\n",
        "        x = self.final_norm(x) #posledna normalizacija pred output\n",
        "        logits = self.out_head(x) #output\n",
        "        return logits"
      ],
      "metadata": {
        "id": "3p76RrthuE1K"
      },
      "execution_count": 14,
      "outputs": []
    },
    {
      "cell_type": "code",
      "source": [
        "\n",
        "GPT_CONFIG_124M = {\n",
        "    \"vocab_size\": 50257,\n",
        "    \"context_length\": 256,\n",
        "    \"emb_dim\": 768,\n",
        "    \"n_heads\": 12,\n",
        "    \"n_layers\": 12,\n",
        "    \"drop_rate\": 0.1,\n",
        "    \"qkv_bias\": False\n",
        "}\n",
        "torch.manual_seed(123)\n",
        "model = GPTModel(GPT_CONFIG_124M)\n"
      ],
      "metadata": {
        "id": "CrQEItevuHyQ"
      },
      "execution_count": 15,
      "outputs": []
    },
    {
      "cell_type": "code",
      "source": [
        "!pip install tiktoken\n",
        "import tiktoken\n"
      ],
      "metadata": {
        "colab": {
          "base_uri": "https://localhost:8080/"
        },
        "id": "CoR_K2hGuhhd",
        "outputId": "21ef4a84-4861-4b27-f6b2-30699f44f450"
      },
      "execution_count": 16,
      "outputs": [
        {
          "output_type": "stream",
          "name": "stdout",
          "text": [
            "Requirement already satisfied: tiktoken in /usr/local/lib/python3.10/dist-packages (0.7.0)\n",
            "Requirement already satisfied: regex>=2022.1.18 in /usr/local/lib/python3.10/dist-packages (from tiktoken) (2024.5.15)\n",
            "Requirement already satisfied: requests>=2.26.0 in /usr/local/lib/python3.10/dist-packages (from tiktoken) (2.31.0)\n",
            "Requirement already satisfied: charset-normalizer<4,>=2 in /usr/local/lib/python3.10/dist-packages (from requests>=2.26.0->tiktoken) (3.3.2)\n",
            "Requirement already satisfied: idna<4,>=2.5 in /usr/local/lib/python3.10/dist-packages (from requests>=2.26.0->tiktoken) (3.7)\n",
            "Requirement already satisfied: urllib3<3,>=1.21.1 in /usr/local/lib/python3.10/dist-packages (from requests>=2.26.0->tiktoken) (2.0.7)\n",
            "Requirement already satisfied: certifi>=2017.4.17 in /usr/local/lib/python3.10/dist-packages (from requests>=2.26.0->tiktoken) (2024.7.4)\n"
          ]
        }
      ]
    },
    {
      "cell_type": "markdown",
      "source": [
        "![image.png](data:image/png;base64,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)"
      ],
      "metadata": {
        "id": "4yFZ8rfjyGk1"
      }
    },
    {
      "cell_type": "code",
      "source": [
        "tokenizer=tiktoken.get_encoding(\"gpt2\")"
      ],
      "metadata": {
        "id": "dyBMD1WXx1t9"
      },
      "execution_count": 17,
      "outputs": []
    },
    {
      "cell_type": "code",
      "source": [
        "def text_to_token_ids(text, tokenizer):\n",
        "    encoded = tokenizer.encode(text, allowed_special={'<|endoftext|>'}) #enkodiraj\n",
        "    #print(\"Encoded tokens:\", encoded)\n",
        "    encoded_tensor = torch.tensor(encoded).unsqueeze(0) # dodadi dimenzija za da stane matrica\n",
        "   # print(\"Encoded tensor:\", encoded_tensor)\n",
        "    return encoded_tensor"
      ],
      "metadata": {
        "id": "zG8Mn1vwx8HS"
      },
      "execution_count": 18,
      "outputs": []
    },
    {
      "cell_type": "code",
      "source": [
        "text=\"Every effort moves you\"\n",
        "text_to_token_ids(text,tokenizer)\n"
      ],
      "metadata": {
        "colab": {
          "base_uri": "https://localhost:8080/"
        },
        "id": "b9Vz_Qisy2MD",
        "outputId": "7c714ca3-e646-4e29-fdb8-7f46a9a69183"
      },
      "execution_count": 19,
      "outputs": [
        {
          "output_type": "execute_result",
          "data": {
            "text/plain": [
              "tensor([[6109, 3626, 6100,  345]])"
            ]
          },
          "metadata": {},
          "execution_count": 19
        }
      ]
    },
    {
      "cell_type": "code",
      "source": [
        "def token_ids_to_text(token_ids, tokenizer):\n",
        "    flat = token_ids.squeeze(0) # tuka transformira od matrica vo 1D\n",
        "    return tokenizer.decode(flat.tolist())"
      ],
      "metadata": {
        "id": "2Y-5nIdXzG03"
      },
      "execution_count": 20,
      "outputs": []
    },
    {
      "cell_type": "markdown",
      "source": [
        "Od prethodnata nedela ja importitam generate_text_sample"
      ],
      "metadata": {
        "id": "bxGZ_lwH0kHg"
      }
    },
    {
      "cell_type": "code",
      "source": [
        "def generate_text_simple(model, idx, max_new_tokens, context_size):\n",
        "    for _ in range(max_new_tokens): #vrti za da generira onolku zborovi kolku sto se baraat\n",
        "        idx_cond = idx[:, -context_size:] #go zema posledniot token od idx za da napravi predviduvanje so pomos na nego\n",
        "        with torch.no_grad():\n",
        "            logits = model(idx_cond) #se dobivaat logits za sledniot token\n",
        "\n",
        "        logits = logits[:, -1, :] #od logits go zema posledniot za da go predivi sledniot zbor so negova pomos\n",
        "        probas = torch.softmax(logits, dim=-1) #so softmax presmetuva verojatnosti na logitsot\n",
        "        idx_next = torch.argmax(probas, dim=-1, keepdim=True) #koristi greedy bidejki go bira zborot so najgolema verojatnost\n",
        "        idx = torch.cat((idx, idx_next), dim=1) #go konkatanira zborot so najgolema verojantost vo sekvencata od zborovi\n",
        "\n",
        "    return idx"
      ],
      "metadata": {
        "id": "rn0evMxh0i8x"
      },
      "execution_count": 21,
      "outputs": []
    },
    {
      "cell_type": "code",
      "source": [
        "token_ids = generate_text_simple(\n",
        "    model=model,\n",
        "    idx=text_to_token_ids(text, tokenizer),\n",
        "    max_new_tokens=10,\n",
        "    context_size=GPT_CONFIG_124M[\"context_length\"]\n",
        ")\n",
        "print(\"Output text:\\n\", token_ids_to_text(token_ids, tokenizer))"
      ],
      "metadata": {
        "colab": {
          "base_uri": "https://localhost:8080/"
        },
        "id": "ile_ujfc0SDx",
        "outputId": "c07053a4-eb9b-479d-d31c-763079b0e892"
      },
      "execution_count": 22,
      "outputs": [
        {
          "output_type": "stream",
          "name": "stdout",
          "text": [
            "Output text:\n",
            " Every effort moves youEvery feminists Sadfellipes Being accumulation Burn famousMine\n"
          ]
        }
      ]
    },
    {
      "cell_type": "markdown",
      "source": [
        "# Loss metrika"
      ],
      "metadata": {
        "id": "94mAbwKD1yvO"
      }
    },
    {
      "cell_type": "markdown",
      "source": [
        "Primer:"
      ],
      "metadata": {
        "id": "Tc-lxjoZ6w07"
      }
    },
    {
      "cell_type": "code",
      "source": [
        "inputs = torch.tensor([[16833, 3626, 6100],   # [\"every effort moves\",\n",
        "                       [40,    1107, 588]])   #  \"I really like\"]\n",
        "\n",
        "targets = torch.tensor([[3626, 6100, 345  ],  # [\" effort moves you\",\n",
        "                        [1107,  588, 11311]]) #  \" really like chocolate\"]"
      ],
      "metadata": {
        "id": "o4JOi4kJ0p3o"
      },
      "execution_count": 23,
      "outputs": []
    },
    {
      "cell_type": "markdown",
      "source": [
        "Presmetuvame softmax odnosno verojatnosti za sleden token na inputs. Ke vidime dali ke se poklopi so targets"
      ],
      "metadata": {
        "id": "wQRlDo8a7ggL"
      }
    },
    {
      "cell_type": "code",
      "source": [
        "with torch.no_grad():\n",
        "    logits = model(inputs)\n",
        "\n",
        "probas = torch.softmax(logits, dim=-1) # Verojatnosta na sekoj token\n",
        "print(probas)\n",
        "print(probas.shape)"
      ],
      "metadata": {
        "colab": {
          "base_uri": "https://localhost:8080/"
        },
        "id": "AVsJ6BKI6v-V",
        "outputId": "3363d725-56c3-48d8-aac3-1872d25a58fb"
      },
      "execution_count": 24,
      "outputs": [
        {
          "output_type": "stream",
          "name": "stdout",
          "text": [
            "tensor([[[1.8556e-05, 1.4356e-05, 3.2151e-05,  ..., 2.2854e-05,\n",
            "          8.5592e-06, 1.4912e-05],\n",
            "         [7.4780e-06, 1.4608e-05, 1.2764e-05,  ..., 2.5483e-05,\n",
            "          5.2477e-06, 1.3517e-05],\n",
            "         [2.3566e-05, 1.5398e-05, 2.1695e-05,  ..., 2.3610e-05,\n",
            "          2.2156e-05, 1.3579e-05]],\n",
            "\n",
            "        [[1.7814e-05, 1.8621e-05, 1.1877e-05,  ..., 7.7685e-06,\n",
            "          2.9506e-05, 1.4106e-05],\n",
            "         [7.0081e-06, 1.4404e-05, 8.9987e-06,  ..., 1.4245e-05,\n",
            "          9.9755e-06, 1.4299e-05],\n",
            "         [1.7761e-05, 3.8223e-05, 3.0670e-05,  ..., 6.0273e-06,\n",
            "          8.1257e-05, 1.3114e-05]]])\n",
            "torch.Size([2, 3, 50257])\n"
          ]
        }
      ]
    },
    {
      "cell_type": "markdown",
      "source": [
        "Dimenzijata e 2 (golemina na batch odnosno 2 recenici), 3(broj na tokeni odnosno 3 zbora po recenica) i 50257 brojot na zborovi vo vokabularot od koi se bira"
      ],
      "metadata": {
        "id": "aJzO1HhQ7fbQ"
      }
    },
    {
      "cell_type": "code",
      "source": [
        "token_ids = torch.argmax(probas, dim=-1, keepdim=True)\n",
        "print(\"Token IDs:\\n\", token_ids)"
      ],
      "metadata": {
        "colab": {
          "base_uri": "https://localhost:8080/"
        },
        "id": "4ianO3yN7S9T",
        "outputId": "a7603c5a-a8c1-48f3-de40-69fe9a65a90d"
      },
      "execution_count": 25,
      "outputs": [
        {
          "output_type": "stream",
          "name": "stdout",
          "text": [
            "Token IDs:\n",
            " tensor([[[50153],\n",
            "         [36902],\n",
            "         [44376]],\n",
            "\n",
            "        [[49906],\n",
            "         [19737],\n",
            "         [23689]]])\n"
          ]
        }
      ]
    },
    {
      "cell_type": "markdown",
      "source": [
        "Zborovite so najgolema verojatnost za sekoja pozicija"
      ],
      "metadata": {
        "id": "7y4joUj48wKK"
      }
    },
    {
      "cell_type": "code",
      "source": [
        "print(f\"Targets batch 1: {token_ids_to_text(targets[0], tokenizer)}\")\n",
        "print(f\"Outputs batch 1: {token_ids_to_text(token_ids[0].flatten(), tokenizer)}\")"
      ],
      "metadata": {
        "colab": {
          "base_uri": "https://localhost:8080/"
        },
        "id": "T3HUGnfr8j5H",
        "outputId": "eede550e-fe8b-40c6-d2c0-456b2fe10080"
      },
      "execution_count": 26,
      "outputs": [
        {
          "output_type": "stream",
          "name": "stdout",
          "text": [
            "Targets batch 1:  effort moves you\n",
            "Outputs batch 1:  PRESIDENTanon inaction\n"
          ]
        }
      ]
    },
    {
      "cell_type": "code",
      "source": [
        "print(f\"Targets batch 2: {token_ids_to_text(targets[1], tokenizer)}\")\n",
        "print(f\"Outputs batch 2: {token_ids_to_text(token_ids[1].flatten(), tokenizer)}\")\n"
      ],
      "metadata": {
        "colab": {
          "base_uri": "https://localhost:8080/"
        },
        "id": "XGaQwOqh-Mp8",
        "outputId": "f2133ac8-7a98-452d-b762-9cf0bb1bec3d"
      },
      "execution_count": 27,
      "outputs": [
        {
          "output_type": "stream",
          "name": "stdout",
          "text": [
            "Targets batch 2:  really like chocolate\n",
            "Outputs batch 2:  pressuring metabolic storytelling\n"
          ]
        }
      ]
    },
    {
      "cell_type": "markdown",
      "source": [
        "Zborovite ne soodvestvuvaat nitu imaat smisla so targetot. Ova e bidejki modelot ne e treniran."
      ],
      "metadata": {
        "id": "DFEvBhbK-_Eb"
      }
    },
    {
      "cell_type": "code",
      "source": [
        "text_idx = 0\n",
        "target_probas_1 = probas[text_idx, [0, 1, 2], targets[text_idx]]\n",
        "print(\"Text 1:\", target_probas_1)\n",
        "\n",
        "text_idx = 1\n",
        "target_probas_2 = probas[text_idx, [0, 1, 2], targets[text_idx]]\n",
        "print(\"Text 2:\", target_probas_2)"
      ],
      "metadata": {
        "colab": {
          "base_uri": "https://localhost:8080/"
        },
        "id": "srMTBJIy-Ykg",
        "outputId": "9a3bb49d-70fd-4055-a135-dd131d606286"
      },
      "execution_count": 28,
      "outputs": [
        {
          "output_type": "stream",
          "name": "stdout",
          "text": [
            "Text 1: tensor([6.0115e-05, 3.6635e-05, 8.0533e-06])\n",
            "Text 2: tensor([1.3642e-05, 4.0929e-05, 6.6502e-06])\n"
          ]
        }
      ]
    },
    {
      "cell_type": "markdown",
      "source": [
        "Verojatnosti na sekoj od zborovite vo targetot. Ovie vrednosti se mnogu mali, a celta ni e verojatnostite da bidat poblisku do 1."
      ],
      "metadata": {
        "id": "ALd-ooeyDdWc"
      }
    },
    {
      "cell_type": "code",
      "source": [
        "\n",
        "# Combine the probabilities from both sequences\n",
        "combined_probas = torch.cat((target_probas_1, target_probas_2))\n",
        "\n",
        "# Compute the logarithm of these probabilities\n",
        "log_probas = torch.log(combined_probas)\n",
        "print(log_probas)\n"
      ],
      "metadata": {
        "colab": {
          "base_uri": "https://localhost:8080/"
        },
        "id": "E9S4K7tyAH5f",
        "outputId": "a5ac6702-caf5-47d6-9938-6f4e79501724"
      },
      "execution_count": 29,
      "outputs": [
        {
          "output_type": "stream",
          "name": "stdout",
          "text": [
            "tensor([ -9.7192, -10.2145, -11.7294, -11.2023, -10.1037, -11.9209])\n"
          ]
        }
      ]
    },
    {
      "cell_type": "markdown",
      "source": [
        "Polesno e da se raboti so logaritmi namesto samite vrednosti da se maksimiziraat, zatoa koristime log od vrednostite koi gi presmetavme(probas) i target vrednostite"
      ],
      "metadata": {
        "id": "1RBpc_QtEBX2"
      }
    },
    {
      "cell_type": "code",
      "source": [
        "avg_log_probas = torch.mean(log_probas)\n",
        "print(avg_log_probas)"
      ],
      "metadata": {
        "colab": {
          "base_uri": "https://localhost:8080/"
        },
        "id": "X5rUNmsbD_Es",
        "outputId": "c6e07efb-6a20-4636-91dd-ca35660486e5"
      },
      "execution_count": 30,
      "outputs": [
        {
          "output_type": "stream",
          "name": "stdout",
          "text": [
            "tensor(-10.8150)\n"
          ]
        }
      ]
    },
    {
      "cell_type": "markdown",
      "source": [
        "Na site logaritmi od dvata batcha im se presmetuva prosek\n"
      ],
      "metadata": {
        "id": "-9MXJyxkEfgF"
      }
    },
    {
      "cell_type": "code",
      "source": [
        "neg_avg_log_probas = avg_log_probas * -1\n",
        "print(neg_avg_log_probas)"
      ],
      "metadata": {
        "colab": {
          "base_uri": "https://localhost:8080/"
        },
        "id": "dol1f5J5EegQ",
        "outputId": "9d19cec3-2d12-448d-dafe-3003e919ad0c"
      },
      "execution_count": 31,
      "outputs": [
        {
          "output_type": "stream",
          "name": "stdout",
          "text": [
            "tensor(10.8150)\n"
          ]
        }
      ]
    },
    {
      "cell_type": "markdown",
      "source": [
        "Pretvaranjeto na prosekot od pozitivna vo negativna vrednost se narekuva cross entropija. Celta e ovaa cross entropija da se namaluva so sekoe izminuvanje"
      ],
      "metadata": {
        "id": "H7Hgc-IyGVDZ"
      }
    },
    {
      "cell_type": "markdown",
      "source": [
        "Celta e negativniot prosek na log verojatnostite da se dovede da e priblizen do 0 so treniranje na modelot. Momentalniot output na primerot e daleku od toa zatoa sto modelot ne e treniran."
      ],
      "metadata": {
        "id": "HpKeLIiJFilA"
      }
    },
    {
      "cell_type": "code",
      "source": [
        "print(\"Logits shape:\", logits.shape)\n",
        "print(\"Targets shape:\", targets.shape)\n"
      ],
      "metadata": {
        "colab": {
          "base_uri": "https://localhost:8080/"
        },
        "id": "9C-RGNccFhzz",
        "outputId": "f1e6e96a-e025-45ad-c86e-a36874e12d42"
      },
      "execution_count": 32,
      "outputs": [
        {
          "output_type": "stream",
          "name": "stdout",
          "text": [
            "Logits shape: torch.Size([2, 3, 50257])\n",
            "Targets shape: torch.Size([2, 3])\n"
          ]
        }
      ]
    },
    {
      "cell_type": "code",
      "source": [
        "logits_flat = logits.flatten(0, 1)\n",
        "targets_flat = targets.flatten()\n",
        "print(\"Flattened logits:\", logits_flat.shape)\n",
        "print(\"Flattened targets:\", targets_flat.shape)"
      ],
      "metadata": {
        "colab": {
          "base_uri": "https://localhost:8080/"
        },
        "id": "vQn7HyGsGw5x",
        "outputId": "6d7877f2-0fa2-42bb-b2d7-23c86b75550a"
      },
      "execution_count": 33,
      "outputs": [
        {
          "output_type": "stream",
          "name": "stdout",
          "text": [
            "Flattened logits: torch.Size([6, 50257])\n",
            "Flattened targets: torch.Size([6])\n"
          ]
        }
      ]
    },
    {
      "cell_type": "markdown",
      "source": [
        "Im pravime flatten zatoa sto ke ja povikame loss funkcijata koja bara specificni dimenzii"
      ],
      "metadata": {
        "id": "xP9fCBheHTIL"
      }
    },
    {
      "cell_type": "code",
      "source": [
        "loss = torch.nn.functional.cross_entropy(logits_flat, targets_flat)\n",
        "print(loss)"
      ],
      "metadata": {
        "colab": {
          "base_uri": "https://localhost:8080/"
        },
        "id": "HBch9EgvG2s9",
        "outputId": "eebd520e-29ca-41f8-c9c8-d12912f7dc8b"
      },
      "execution_count": 34,
      "outputs": [
        {
          "output_type": "stream",
          "name": "stdout",
          "text": [
            "tensor(10.8150)\n"
          ]
        }
      ]
    },
    {
      "cell_type": "markdown",
      "source": [
        "Loss funckijata presmeta kolku negativniot log prosek na logitsot otstapuva od target vrednosta odnosno cross entropy loss."
      ],
      "metadata": {
        "id": "kaMng3ImH_k5"
      }
    },
    {
      "cell_type": "markdown",
      "source": [
        "So gotova funkcija go dobivme istoto sto go pravevme racno"
      ],
      "metadata": {
        "id": "oB_oOOiBHNoo"
      }
    },
    {
      "cell_type": "markdown",
      "source": [
        "# Training and validation set losses"
      ],
      "metadata": {
        "id": "PBZJ-KrOJZGr"
      }
    },
    {
      "cell_type": "markdown",
      "source": [
        "Za treniranje ke se koristi tekstot the Verdict sto go koristev za sozdavanje na vokabular"
      ],
      "metadata": {
        "id": "cutRFH1SJt5b"
      }
    },
    {
      "cell_type": "code",
      "source": [
        "file_path = \"/content/drive/MyDrive/Praksa/the-Verdict.txt\"\n",
        "with open(file_path, \"r\", encoding=\"utf-8\") as file:\n",
        "    text_data = file.read()"
      ],
      "metadata": {
        "id": "1P2haqVFHMM6"
      },
      "execution_count": 35,
      "outputs": []
    },
    {
      "cell_type": "code",
      "source": [
        "total_characters = len(text_data)\n",
        "total_tokens = len(tokenizer.encode(text_data))\n",
        "print(\"Characters:\", total_characters)\n",
        "print(\"Tokens:\", total_tokens)"
      ],
      "metadata": {
        "colab": {
          "base_uri": "https://localhost:8080/"
        },
        "id": "8ALKSR19J5E0",
        "outputId": "19dbaf52-650e-4cd4-d9ad-3e794c929774"
      },
      "execution_count": 36,
      "outputs": [
        {
          "output_type": "stream",
          "name": "stdout",
          "text": [
            "Characters: 20495\n",
            "Tokens: 5154\n"
          ]
        }
      ]
    },
    {
      "cell_type": "code",
      "source": [
        "train_ratio = 0.90 #90% za training, 10% za testing odnosno validation\n",
        "split_idx = int(train_ratio * len(text_data))\n",
        "train_data = text_data[:split_idx]\n",
        "val_data = text_data[split_idx:]"
      ],
      "metadata": {
        "id": "Nup8rERjJ_l5"
      },
      "execution_count": 37,
      "outputs": []
    },
    {
      "cell_type": "markdown",
      "source": [
        "Od Chapter2 importirame create_dataloader_v1"
      ],
      "metadata": {
        "id": "4Oc7gckxMCkX"
      }
    },
    {
      "cell_type": "code",
      "source": [
        "from torch.utils.data import Dataset, DataLoader\n",
        "\n",
        "\n",
        "class GPTDatasetV1(Dataset):\n",
        "    def __init__(self, txt, tokenizer, max_length, stride):\n",
        "        self.input_ids = []\n",
        "        self.target_ids = []\n",
        "\n",
        "        # Tokenize the entire text\n",
        "        token_ids = tokenizer.encode(txt, allowed_special={\"<|endoftext|>\"})\n",
        "\n",
        "        # Use a sliding window to chunk the book into overlapping sequences of max_length\n",
        "        for i in range(0, len(token_ids) - max_length, stride):\n",
        "            input_chunk = token_ids[i:i + max_length]\n",
        "            target_chunk = token_ids[i + 1: i + max_length + 1]\n",
        "            self.input_ids.append(torch.tensor(input_chunk))\n",
        "            self.target_ids.append(torch.tensor(target_chunk))\n",
        "\n",
        "    def __len__(self):\n",
        "        return len(self.input_ids)\n",
        "\n",
        "    def __getitem__(self, idx):\n",
        "        return self.input_ids[idx], self.target_ids[idx]\n",
        "\n",
        "def create_dataloader_v1(txt, batch_size=4, max_length=256,\n",
        "                         stride=128, shuffle=True, drop_last=True,\n",
        "                         num_workers=0):\n",
        "\n",
        "    # Initialize the tokenizer\n",
        "    tokenizer = tiktoken.get_encoding(\"gpt2\")\n",
        "\n",
        "    # Create dataset\n",
        "    dataset = GPTDatasetV1(txt, tokenizer, max_length, stride)\n",
        "\n",
        "    # Create dataloader\n",
        "    dataloader = DataLoader(\n",
        "        dataset,\n",
        "        batch_size=batch_size,\n",
        "        shuffle=shuffle,\n",
        "        drop_last=drop_last,\n",
        "        num_workers=num_workers\n",
        "    )\n",
        "\n",
        "    return dataloader"
      ],
      "metadata": {
        "id": "RuYbOaniLDnr"
      },
      "execution_count": 38,
      "outputs": []
    },
    {
      "cell_type": "code",
      "source": [
        "torch.manual_seed(123)\n",
        "\n",
        "train_loader = create_dataloader_v1(\n",
        "    train_data,\n",
        "    batch_size=2,\n",
        "    max_length=GPT_CONFIG_124M[\"context_length\"],\n",
        "    stride=GPT_CONFIG_124M[\"context_length\"],\n",
        "    drop_last=True,\n",
        "    shuffle=True,\n",
        "    num_workers=0\n",
        ")\n",
        "val_loader = create_dataloader_v1(\n",
        "    val_data,\n",
        "    batch_size=2,\n",
        "    max_length=GPT_CONFIG_124M[\"context_length\"],\n",
        "    stride=GPT_CONFIG_124M[\"context_length\"],\n",
        "    drop_last=False,\n",
        "    shuffle=False,\n",
        "    num_workers=0\n",
        ")"
      ],
      "metadata": {
        "id": "ZAx-v1puLnBD"
      },
      "execution_count": 39,
      "outputs": []
    },
    {
      "cell_type": "code",
      "source": [
        "print(\"Train loader:\")\n",
        "for x, y in train_loader:\n",
        "    print(x.shape, y.shape)\n",
        "\n",
        "print(\"\\nValidation loader:\")\n",
        "for x, y in val_loader:\n",
        "    print(x.shape, y.shape)"
      ],
      "metadata": {
        "colab": {
          "base_uri": "https://localhost:8080/"
        },
        "id": "4KXa0vTeMIdl",
        "outputId": "2a7d5530-282d-46f6-97f8-a775ef6af837"
      },
      "execution_count": 40,
      "outputs": [
        {
          "output_type": "stream",
          "name": "stdout",
          "text": [
            "Train loader:\n",
            "torch.Size([2, 256]) torch.Size([2, 256])\n",
            "torch.Size([2, 256]) torch.Size([2, 256])\n",
            "torch.Size([2, 256]) torch.Size([2, 256])\n",
            "torch.Size([2, 256]) torch.Size([2, 256])\n",
            "torch.Size([2, 256]) torch.Size([2, 256])\n",
            "torch.Size([2, 256]) torch.Size([2, 256])\n",
            "torch.Size([2, 256]) torch.Size([2, 256])\n",
            "torch.Size([2, 256]) torch.Size([2, 256])\n",
            "torch.Size([2, 256]) torch.Size([2, 256])\n",
            "\n",
            "Validation loader:\n",
            "torch.Size([2, 256]) torch.Size([2, 256])\n"
          ]
        }
      ]
    },
    {
      "cell_type": "markdown",
      "source": [
        "Ova e ekvivalent so train_test_split vo Keras"
      ],
      "metadata": {
        "id": "b4OWBcQJMW61"
      }
    },
    {
      "cell_type": "code",
      "source": [
        "def calc_loss_batch(input_batch, target_batch, model, device):\n",
        "    input_batch, target_batch = input_batch.to(device), target_batch.to(device)\n",
        "    logits = model(input_batch)\n",
        "    loss = torch.nn.functional.cross_entropy(\n",
        "        logits.flatten(0, 1), target_batch.flatten()\n",
        "    )\n",
        "    return loss"
      ],
      "metadata": {
        "id": "ESc9UD6ZMcCg"
      },
      "execution_count": 41,
      "outputs": []
    },
    {
      "cell_type": "markdown",
      "source": [
        "Funkcija za presmetka na cross entropy loss na input i target"
      ],
      "metadata": {
        "id": "94tYymVYMoiS"
      }
    },
    {
      "cell_type": "code",
      "source": [
        "def calc_loss_loader(data_loader, model, device, num_batches=None):\n",
        "    total_loss = 0.\n",
        "    if len(data_loader) == 0:\n",
        "        return float(\"nan\") #dokolku ne postoi data loader se vrakja not a number\n",
        "    elif num_batches is None: #dokolku brojot na batchobi ne e kazan, se zema goleminata na data loaderot\n",
        "        num_batches = len(data_loader)\n",
        "    else:\n",
        "        num_batches = min(num_batches, len(data_loader)) #dokolku brojot na batches e kazan, se proveruva dali e pomal od data_loaderot\n",
        "    for i, (input_batch, target_batch) in enumerate(data_loader):\n",
        "        if i < num_batches:\n",
        "            loss = calc_loss_batch(input_batch, target_batch, model, device) # za sekoj batch se presmetuva loss\n",
        "            total_loss += loss.item() #se dodava na sumata od total loss\n",
        "        else:\n",
        "            break\n",
        "    return total_loss / num_batches #se presmetuva prosek od total loss i brojot na batches"
      ],
      "metadata": {
        "id": "iu4X_jcQMoBY"
      },
      "execution_count": 42,
      "outputs": []
    },
    {
      "cell_type": "markdown",
      "source": [
        "Loader za primena na funckijata za presmetka na cross entropy"
      ],
      "metadata": {
        "id": "6zriZ3WsS3wz"
      }
    },
    {
      "cell_type": "code",
      "source": [
        "device = torch.device(\"cuda\" if torch.cuda.is_available() else \"cpu\")\n",
        "model.to(device)\n",
        "with torch.no_grad():\n",
        "    train_loss = calc_loss_loader(train_loader, model, device)\n",
        "    val_loss = calc_loss_loader(val_loader, model, device)\n",
        "print(\"Training loss:\", train_loss)\n",
        "print(\"Validation loss:\", val_loss)"
      ],
      "metadata": {
        "colab": {
          "base_uri": "https://localhost:8080/"
        },
        "id": "-TweZfcXSh6z",
        "outputId": "f57b3418-cab7-4fd4-dc01-3e5f543e3373"
      },
      "execution_count": 43,
      "outputs": [
        {
          "output_type": "stream",
          "name": "stdout",
          "text": [
            "Training loss: 10.990050633748373\n",
            "Validation loss: 11.019294738769531\n"
          ]
        }
      ]
    },
    {
      "cell_type": "markdown",
      "source": [
        "Vrednostite se losi bidejki modelot ne e treniran. Do sega samo so napravivme e podelba na training i validation set i funkcija za presmetka na loss. Naredno ke trenirame vekje"
      ],
      "metadata": {
        "id": "QMyRHrNJTBV3"
      }
    },
    {
      "cell_type": "markdown",
      "source": [
        "# Treniranje na modelot"
      ],
      "metadata": {
        "id": "fjydHNW7TShb"
      }
    },
    {
      "cell_type": "code",
      "source": [
        "def train_model_simple(model, train_loader, val_loader, optimizer, device, num_epochs,\n",
        "                       eval_freq, eval_iter, start_context, tokenizer):\n",
        "    train_losses, val_losses, track_tokens_seen = [], [], [] #listi vo koi ke se cuvaat losses\n",
        "    tokens_seen, global_step = 0, -1\n",
        "\n",
        "    for epoch in range(num_epochs):\n",
        "        model.train()\n",
        "        for input_batch, target_batch in train_loader:\n",
        "            optimizer.zero_grad() #postavi loss gradient na 0 posle sekoja epoha\n",
        "            loss = calc_loss_batch(input_batch, target_batch, model, device)\n",
        "            loss.backward() #presmetaj loss na epohata\n",
        "            optimizer.step() #apdejtiraj weights so loss gradient\n",
        "            tokens_seen += input_batch.numel()\n",
        "            global_step += 1\n",
        "\n",
        "            if global_step % eval_freq == 0:\n",
        "                train_loss, val_loss = evaluate_model(#podole definirana\n",
        "                    model, train_loader, val_loader, device, eval_iter)\n",
        "                train_losses.append(train_loss)\n",
        "                val_losses.append(val_loss)\n",
        "                track_tokens_seen.append(tokens_seen)\n",
        "                print(f\"Ep {epoch+1} (Step {global_step:06d}): \"\n",
        "                      f\"Train loss {train_loss:.3f}, Val loss {val_loss:.3f}\")\n",
        "\n",
        "        generate_and_print_sample( #podole definirana\n",
        "            model, tokenizer, device, start_context\n",
        "        )\n",
        "    return train_losses, val_losses, track_tokens_seen"
      ],
      "metadata": {
        "id": "_8NY9B_oSt6o"
      },
      "execution_count": 44,
      "outputs": []
    },
    {
      "cell_type": "code",
      "source": [
        "def evaluate_model(model, train_loader, val_loader, device, eval_iter):\n",
        "    model.eval()\n",
        "    with torch.no_grad():\n",
        "        train_loss = calc_loss_loader(train_loader, model, device, num_batches=eval_iter)\n",
        "        val_loss = calc_loss_loader(val_loader, model, device, num_batches=eval_iter)\n",
        "    model.train()\n",
        "    return train_loss, val_loss"
      ],
      "metadata": {
        "id": "oBF6Ds-4TpcT"
      },
      "execution_count": 45,
      "outputs": []
    },
    {
      "cell_type": "code",
      "source": [
        "def generate_and_print_sample(model, tokenizer, device, start_context):\n",
        "    model.eval()\n",
        "    context_size = model.pos_emb.weight.shape[0]\n",
        "    encoded = text_to_token_ids(start_context, tokenizer).to(device)\n",
        "    with torch.no_grad():\n",
        "        token_ids = generate_text_simple(\n",
        "            model=model, idx=encoded,\n",
        "            max_new_tokens=50, context_size=context_size\n",
        "        )\n",
        "        decoded_text = token_ids_to_text(token_ids, tokenizer)\n",
        "        print(decoded_text.replace(\"\\n\", \" \"))  # Compact print format\n",
        "    model.train()"
      ],
      "metadata": {
        "id": "YD0F9oycUqNo"
      },
      "execution_count": 46,
      "outputs": []
    },
    {
      "cell_type": "code",
      "source": [
        "torch.manual_seed(123)\n",
        "model = GPTModel(GPT_CONFIG_124M)\n",
        "model.to(device)\n",
        "optimizer = torch.optim.AdamW(model.parameters(), lr=0.0004, weight_decay=0.1)\n",
        "num_epochs = 10\n",
        "train_losses, val_losses, tokens_seen = train_model_simple(\n",
        "    model, train_loader, val_loader, optimizer, device,\n",
        "    num_epochs=num_epochs, eval_freq=5, eval_iter=1,\n",
        "    start_context=\"Every effort moves you\", tokenizer=tokenizer\n",
        ")"
      ],
      "metadata": {
        "colab": {
          "base_uri": "https://localhost:8080/"
        },
        "id": "uIJE_IGIUs8K",
        "outputId": "c6fdf746-c106-42a7-ca46-f925b2655d5b"
      },
      "execution_count": 47,
      "outputs": [
        {
          "output_type": "stream",
          "name": "stdout",
          "text": [
            "Ep 1 (Step 000000): Train loss 9.831, Val loss 9.953\n",
            "Ep 1 (Step 000005): Train loss 8.118, Val loss 8.331\n",
            "Every effort moves you,,,,,,,,,,,,,,,,,,,,,,,,,,,,,,,,,,,,,,,,,,,,,,,,,,\n",
            "Ep 2 (Step 000010): Train loss 6.773, Val loss 7.035\n",
            "Ep 2 (Step 000015): Train loss 6.510, Val loss 6.549\n",
            "Every effort moves you, and, and,, and, and,,,, and, and,, and,,,,, and,,,, and,,,, and,, and,,,,, and,, and,,,\n",
            "Ep 3 (Step 000020): Train loss 5.673, Val loss 6.446\n",
            "Ep 3 (Step 000025): Train loss 4.904, Val loss 6.414\n",
            "Every effort moves you of theisburn, and, and---- the picture.                                     \n",
            "Ep 4 (Step 000030): Train loss 5.430, Val loss 6.419\n",
            "Ep 4 (Step 000035): Train loss 4.102, Val loss 6.273\n",
            "Every effort moves you of the of the of the of the picture my of the of the of the of the of the of the picture. I had been the of the picture, and I had been the of the, and he was it was the of the picture of\n",
            "Ep 5 (Step 000040): Train loss 3.904, Val loss 6.216\n",
            "Every effort moves you know.                                        \" it was a a a--I\n",
            "Ep 6 (Step 000045): Train loss 3.857, Val loss 6.162\n",
            "Ep 6 (Step 000050): Train loss 2.745, Val loss 6.125\n",
            "Every effort moves you know; and I felt to the Riv-rooms, and I felt, and Mrs.                                \n",
            "Ep 7 (Step 000055): Train loss 2.541, Val loss 6.137\n",
            "Ep 7 (Step 000060): Train loss 2.990, Val loss 6.205\n",
            "Every effort moves you know; he had been the house in a little of the house in the fact with the last word.                     \" it, the donkey, and in\n",
            "Ep 8 (Step 000065): Train loss 1.968, Val loss 6.233\n",
            "Ep 8 (Step 000070): Train loss 1.639, Val loss 6.219\n",
            "Every effort moves you know.\" \"I turned to go a little wild--I felt him, and his last word.    \"I looked up the cigars you like.\"     \"I had the sketch of the donkey. \"There\n",
            "Ep 9 (Step 000075): Train loss 1.351, Val loss 6.248\n",
            "Ep 9 (Step 000080): Train loss 0.871, Val loss 6.302\n",
            "Every effort moves you know.\" \"Has he chucked his pictures too? I felt him--as such--had not to my work, and!            \"I looked up his own sex, and down the\n",
            "Ep 10 (Step 000085): Train loss 0.686, Val loss 6.361\n",
            "Every effort moves you know.\" \"Has he chucked his pictures too? I felt nervous and uncertain.  \"Once, when I looked up, I had made him--it was fitting that they should mourn him. Among his own sex fewer regrets were heard\n"
          ]
        }
      ]
    },
    {
      "cell_type": "code",
      "source": [
        "import matplotlib.pyplot as plt\n",
        "from matplotlib.ticker import MaxNLocator\n",
        "\n",
        "\n",
        "def plot_losses(epochs_seen, tokens_seen, train_losses, val_losses):\n",
        "    fig, ax1 = plt.subplots(figsize=(5, 3))\n",
        "\n",
        "    # Plot training and validation loss against epochs\n",
        "    ax1.plot(epochs_seen, train_losses, label=\"Training loss\")\n",
        "    ax1.plot(epochs_seen, val_losses, linestyle=\"-.\", label=\"Validation loss\")\n",
        "    ax1.set_xlabel(\"Epochs\")\n",
        "    ax1.set_ylabel(\"Loss\")\n",
        "    ax1.legend(loc=\"upper right\")\n",
        "    ax1.xaxis.set_major_locator(MaxNLocator(integer=True))  # only show integer labels on x-axis\n",
        "\n",
        "    # Create a second x-axis for tokens seen\n",
        "    ax2 = ax1.twiny()  # Create a second x-axis that shares the same y-axis\n",
        "    ax2.plot(tokens_seen, train_losses, alpha=0)  # Invisible plot for aligning ticks\n",
        "    ax2.set_xlabel(\"Tokens seen\")\n",
        "\n",
        "    fig.tight_layout()  # Adjust layout to make room\n",
        "    plt.savefig(\"loss-plot.pdf\")\n",
        "    plt.show()\n",
        "\n",
        "epochs_tensor = torch.linspace(0, num_epochs, len(train_losses))\n",
        "plot_losses(epochs_tensor, tokens_seen, train_losses, val_losses)"
      ],
      "metadata": {
        "id": "FVm3GMeCWYJ0",
        "colab": {
          "base_uri": "https://localhost:8080/",
          "height": 307
        },
        "outputId": "c744851f-96e6-4669-a21b-ee8bf638ce0a"
      },
      "execution_count": 48,
      "outputs": [
        {
          "output_type": "display_data",
          "data": {
            "text/plain": [
              "<Figure size 500x300 with 2 Axes>"
            ],
            "image/png": "[encoded data removed]"
          },
          "metadata": {}
        }
      ]
    },
    {
      "cell_type": "markdown",
      "source": [
        "Training lossot posle sekoja epoha postepeno opagja sto znaci deka modelot uci, no validation lossot stagnira. Ova e zatoa sto datasetot na koj sto vezba modelot e mnogu mal i se slucuva overfitting"
      ],
      "metadata": {
        "id": "va3_rO3yXbKK"
      }
    },
    {
      "cell_type": "markdown",
      "source": [
        "# Decoding strategies"
      ],
      "metadata": {
        "id": "T_aW5PQfbRdk"
      }
    },
    {
      "cell_type": "code",
      "source": [
        "model.to(\"cpu\")\n",
        "model.eval()\n",
        "\n",
        "tokenizer = tiktoken.get_encoding(\"gpt2\")\n",
        "\n",
        "token_ids = generate_text_simple(\n",
        "    model=model,\n",
        "    idx=text_to_token_ids(\"Every effort moves you\", tokenizer),\n",
        "    max_new_tokens=50,\n",
        "    context_size=GPT_CONFIG_124M[\"context_length\"]\n",
        ")\n",
        "\n",
        "print(\"Output text:\\n\", token_ids_to_text(token_ids, tokenizer))"
      ],
      "metadata": {
        "id": "oH0Jg2xgTELF",
        "colab": {
          "base_uri": "https://localhost:8080/"
        },
        "outputId": "bb4a6248-02d4-44b0-da65-31eed5b96bbb"
      },
      "execution_count": 49,
      "outputs": [
        {
          "output_type": "stream",
          "name": "stdout",
          "text": [
            "Output text:\n",
            " Every effort moves you know.\"\n",
            "\"Has he chucked his pictures too? I felt nervous and uncertain.\n",
            "\n",
            "\"Once, when I looked up, I had made him--it was fitting that they should mourn him. Among his own sex fewer regrets were heard\n"
          ]
        }
      ]
    },
    {
      "cell_type": "markdown",
      "source": [
        "Zabrzana verzija na gorniot kod kade sto se koristi generate_text_sample funkcijata, odnosno koristi greedy za da odbere koj zbor ke bide sledno generiran"
      ],
      "metadata": {
        "id": "TBX4et7hQ0L4"
      }
    },
    {
      "cell_type": "markdown",
      "source": [
        "# Temperature scaling"
      ],
      "metadata": {
        "id": "zlUo5tUrRfQo"
      }
    },
    {
      "cell_type": "markdown",
      "source": [
        "Za razlika od greedy, temperature scaling koristi"
      ],
      "metadata": {
        "id": "nh41eGAnRxsi"
      }
    },
    {
      "cell_type": "code",
      "source": [
        "import torch\n",
        "import torch.nn as nn"
      ],
      "metadata": {
        "id": "CanJdsJ35Jew"
      },
      "execution_count": 50,
      "outputs": []
    },
    {
      "cell_type": "code",
      "source": [
        "vocab = {\n",
        "    \"closer\": 0,\n",
        "    \"every\": 1,\n",
        "    \"effort\": 2,\n",
        "    \"forward\": 3,\n",
        "    \"inches\": 4,\n",
        "    \"moves\": 5,\n",
        "    \"pizza\": 6,\n",
        "    \"toward\": 7,\n",
        "    \"you\": 8,\n",
        "}\n",
        "\n",
        "inverse_vocab = {v: k for k, v in vocab.items()}\n",
        "\n",
        "# Suppose input is \"every effort moves you\", and the LLM\n",
        "# returns the following logits for the next token:\n",
        "next_token_logits = torch.tensor(\n",
        "    [4.51, 0.89, -1.90, 6.75, 1.63, -1.62, -1.89, 6.28, 1.79]\n",
        ")\n",
        "\n",
        "probas = torch.softmax(next_token_logits, dim=0)\n",
        "next_token_id = torch.argmax(probas).item()\n",
        "\n",
        "# The next generated token is then as follows:\n",
        "print(inverse_vocab[next_token_id])"
      ],
      "metadata": {
        "colab": {
          "base_uri": "https://localhost:8080/"
        },
        "id": "rzkMGsMZUhO1",
        "outputId": "2dfe74a6-db0c-4c7a-d42a-73499bc1c9bb"
      },
      "execution_count": 51,
      "outputs": [
        {
          "output_type": "stream",
          "name": "stdout",
          "text": [
            "forward\n"
          ]
        }
      ]
    },
    {
      "cell_type": "markdown",
      "source": [
        "Tuka so greedy bese odbran zborot so najgolema verojatnost. Ova e poradi argmax funkcijata koja sekogas ke go odbere zborot so najgolema verojatnost."
      ],
      "metadata": {
        "id": "PPK6-9jvVVGE"
      }
    },
    {
      "cell_type": "code",
      "source": [
        "torch.manual_seed(123)\n",
        "next_token_id = torch.multinomial(probas, num_samples=1).item()\n",
        "print(inverse_vocab[next_token_id])"
      ],
      "metadata": {
        "colab": {
          "base_uri": "https://localhost:8080/"
        },
        "id": "KAltI98hU5CV",
        "outputId": "f1298fd1-4a89-450f-a33f-1d26751b123f"
      },
      "execution_count": 52,
      "outputs": [
        {
          "output_type": "stream",
          "name": "stdout",
          "text": [
            "toward\n"
          ]
        }
      ]
    },
    {
      "cell_type": "markdown",
      "source": [
        "Tuka bese odbran random zbor a ne zborot so najgolema verojatnost. So multinomial site zborovi imaat sansa da bidat izbrani, iako nekoi povekje od drugi, ne znaci deka sekoj pat se bira zborot so najgolema verojatnost."
      ],
      "metadata": {
        "id": "7p-aWWTeVegb"
      }
    },
    {
      "cell_type": "code",
      "source": [
        "probas"
      ],
      "metadata": {
        "colab": {
          "base_uri": "https://localhost:8080/"
        },
        "id": "8tz82ghuXaqM",
        "outputId": "50e93ae3-417e-4e30-9334-d8f1777ed02e"
      },
      "execution_count": 53,
      "outputs": [
        {
          "output_type": "execute_result",
          "data": {
            "text/plain": [
              "tensor([6.0907e-02, 1.6313e-03, 1.0019e-04, 5.7212e-01, 3.4190e-03, 1.3257e-04,\n",
              "        1.0120e-04, 3.5758e-01, 4.0122e-03])"
            ]
          },
          "metadata": {},
          "execution_count": 53
        }
      ]
    },
    {
      "cell_type": "code",
      "source": [
        "def print_sampled_tokens(probas):\n",
        "    torch.manual_seed(123) # Manual seed for reproducibility\n",
        "    sample = [torch.multinomial(probas, num_samples=1).item() for i in range(1_000)]\n",
        "    sampled_ids = torch.bincount(torch.tensor(sample))\n",
        "    for i, freq in enumerate(sampled_ids):\n",
        "        print(f\"{freq} x {inverse_vocab[i]}\")\n",
        "\n",
        "print_sampled_tokens(probas)"
      ],
      "metadata": {
        "colab": {
          "base_uri": "https://localhost:8080/"
        },
        "id": "DW__zskaU73N",
        "outputId": "f71320a0-5eb2-412a-db4b-0f4ef6a2af5a"
      },
      "execution_count": 54,
      "outputs": [
        {
          "output_type": "stream",
          "name": "stdout",
          "text": [
            "71 x closer\n",
            "2 x every\n",
            "0 x effort\n",
            "544 x forward\n",
            "2 x inches\n",
            "1 x moves\n",
            "0 x pizza\n",
            "376 x toward\n",
            "4 x you\n"
          ]
        }
      ]
    },
    {
      "cell_type": "markdown",
      "source": [
        "Scenario kade sto od 1000 pati prikazuva kolku pati sekoj od zborovite e odbran. Iako forward e zbor so najgolema verojatnost ni prikazuva deka ne sekoj pat e toj odbran."
      ],
      "metadata": {
        "id": "XuVSH3daW5hA"
      }
    },
    {
      "cell_type": "markdown",
      "source": [
        "Tuka se voveduva konceptot na temperature scaling-tehnika koja ja odreduva razlicnosta na zborovite koi se generiraat namesto strogo da go bira zborot so najgolema verojatnost. Ako e temperature pogolema od 1 toa znaci deka ima pounificirana podelba,a ako e pomala od 1 znaci deka nema tolku razlicnost vo izborot. |"
      ],
      "metadata": {
        "id": "ljED2qYnX2-x"
      }
    },
    {
      "cell_type": "code",
      "source": [
        "import matplotlib.pyplot as plt\n",
        "from matplotlib.ticker import MaxNLocator"
      ],
      "metadata": {
        "id": "kyJCiEZ25ZXP"
      },
      "execution_count": 55,
      "outputs": []
    },
    {
      "cell_type": "code",
      "source": [
        "def softmax_with_temperature(logits, temperature):\n",
        "    scaled_logits = logits / temperature\n",
        "    return torch.softmax(scaled_logits, dim=0)\n",
        "#Temperatures greater than 1 result in more uniformly distributed token probabilities, and Temperatures smaller than 1 will result in more confident (sharper or more peaky) distributions. Let's illustrate this by plotting the original probabilities alongside probabilities scaled with different temperature values:\n",
        "temperatures = [1, 0.1, 5]\n",
        "scaled_probas = [softmax_with_temperature(next_token_logits, T) for T in temperatures]\n",
        "x = torch.arange(len(vocab))\n",
        "bar_width = 0.15\n",
        "fig, ax = plt.subplots(figsize=(5, 3))\n",
        "for i, T in enumerate(temperatures):\n",
        "    rects = ax.bar(x + i * bar_width, scaled_probas[i],\n",
        "                   bar_width, label=f'Temperature = {T}')\n",
        "ax.set_ylabel('Probability')\n",
        "ax.set_xticks(x)\n",
        "ax.set_xticklabels(vocab.keys(), rotation=90)\n",
        "ax.legend()\n",
        "plt.tight_layout()\n",
        "plt.show()"
      ],
      "metadata": {
        "colab": {
          "base_uri": "https://localhost:8080/",
          "height": 307
        },
        "id": "rkjdTfttW4d-",
        "outputId": "03d23682-e64a-42ab-8be1-24c1607cdb1f"
      },
      "execution_count": 56,
      "outputs": [
        {
          "output_type": "display_data",
          "data": {
            "text/plain": [
              "<Figure size 500x300 with 1 Axes>"
            ],
            "image/png": "[encoded data removed]"
          },
          "metadata": {}
        }
      ]
    },
    {
      "cell_type": "markdown",
      "source": [
        "Kolku e pogolem temperature tolku verojatnosta na zborovite e poslicna. Kolku e pomal temperature tolku verojatnosta na zborovite e poekstremna."
      ],
      "metadata": {
        "id": "bg1V3DoYZCEp"
      }
    },
    {
      "cell_type": "code",
      "source": [
        "print_sampled_tokens(scaled_probas[1]) #so temp 0.1"
      ],
      "metadata": {
        "colab": {
          "base_uri": "https://localhost:8080/"
        },
        "id": "yNI3OPTMYu7G",
        "outputId": "f26aae73-14f0-46d2-b826-42b2fde4be17"
      },
      "execution_count": 57,
      "outputs": [
        {
          "output_type": "stream",
          "name": "stdout",
          "text": [
            "0 x closer\n",
            "0 x every\n",
            "0 x effort\n",
            "992 x forward\n",
            "0 x inches\n",
            "0 x moves\n",
            "0 x pizza\n",
            "8 x toward\n"
          ]
        }
      ]
    },
    {
      "cell_type": "code",
      "source": [
        "print_sampled_tokens(scaled_probas[2]) #so temp 5"
      ],
      "metadata": {
        "colab": {
          "base_uri": "https://localhost:8080/"
        },
        "id": "K91b8YKQaGjh",
        "outputId": "db2624c6-9e02-4365-957c-2f415f4d1137"
      },
      "execution_count": 58,
      "outputs": [
        {
          "output_type": "stream",
          "name": "stdout",
          "text": [
            "153 x closer\n",
            "68 x every\n",
            "55 x effort\n",
            "223 x forward\n",
            "102 x inches\n",
            "50 x moves\n",
            "43 x pizza\n",
            "218 x toward\n",
            "88 x you\n"
          ]
        }
      ]
    },
    {
      "cell_type": "markdown",
      "source": [
        "# Top k sampling"
      ],
      "metadata": {
        "id": "odM8WgTBafhz"
      }
    },
    {
      "cell_type": "markdown",
      "source": [
        "Prodolzenie na temperature scaling, od tuka se odbiraat k zborovi so najgolema verojatnost i od niv se pravi temperaturno skaliranje."
      ],
      "metadata": {
        "id": "1hYfdmfscWbG"
      }
    },
    {
      "cell_type": "markdown",
      "source": [
        "![image.png](data:image/png;base64,iVBORw0KGgoAAAANSUhEUgAABBIAAAJSCAIAAADxsnHHAAAgAElEQVR4Aex9eTzVz/f/udeenWRJKBSlUkj7goqUlNBC3u1KKtq1771bPu2pd2kvpRJlqbylUIrIvmUpFEqW7C7uz7f5vV+P272XKMu9rzvzB3PnNa+Zc55nXq/XnJkz5wAdJ4wARgAjgBHACGAEMAIYAYwARgAj0CIC0OJVfBEjgBHACGAEMAIYAYwARgAjgBHACNCx2oAHAUYAI4ARwAhgBDACGAGMAEYAI/ALBLDa8AuA8GWMAEYAI4ARwAhgBDACGAGMAEYAqw14DGAEMAIYAYwARgAjgBHACGAEMAK/QACrDb8ACF/GCGAEMAIYATqdXllZWVdXh6HACGAEMAIYAZ5FAKsNPCt6zDhGACOAEWgDAsuXL9fT0zMxMbGzs1u/fv3Jkydzc3PbcD+uihHACGAEMAJcjgBWG7hcgJh8jABGACPQKQgYGhrCzykgIKBTesadYAQwAhgBjABHIIDVBo4QAyYCI4ARwAhwOAJbtmyxtrZ2dXU9dOjQ1atX/f39i4qKOJxmTB5GACOAEcAItCMCWG1oRzBxUxgBjABGACOAEcAIYAQwAhgBciKA1QZyyhVzhRHACGAE2hcBT0/PAwcOXL9+/fHjxzExMXl5eTQarX27wK1hBDACGAGMACcjgNUGTpYOpg0jgBHACHAKAmPHjiWONvDx8UlKSj558oRTiMN0YAQwAhgBjEDHI4DVho7HGPeAEcAIYAS4HwEjIyMAkJGR0dLSGjt27Ny5c+Pj47mfLcwBRgAjgBHACLQWAaw2tBYpXA8jgBHACPAyAvHx8e/evcvKyiosLKyoqOBlKDDvGAGMAEaANxHAagNvyh1zjRHACGAEMAIYAYwARgAjgBFoAwJYbWgDWLgqRgAjgBHACGAEMAIYAYwARoA3EcBqA2/KHXONEcAIYAQwAhgBjABGACOAEWgDAlhtaANYuCpGACOAEeBZBDZv3mxiYjKxdcnExGT+/PllZWU8CxdmHCOAEcAIkA8BrDaQT6aYow5B4PHjx15eXsHBwdHR0RkZGd++fWtoaOiQnnCjHIzAmzdvPD09nz59GhkZmZaWVlhYWFdXx8H0tidpgwYNIhywtiZDoVA+ffrUnhR0dVslJSU3btzw9fUNCwtLSEj4+PEjPhre1TLB/Xc9AkVFRdevX3/48CF+LrpeGB1PAVYbOh5j3AMpEBgyZAiaKgkLC8vLyw8ZMiQyMpIUnGEm2oDA4sWL0TAQEBDo3r27pqbm7du323A/N1d9/PjxxYsXPf5Lurq6ALBhw4b/Cv7v/9SpUwGAn59/zZo13t7eVVVV3MwxM+1xcXGEviQhIdGrV6+//vqLZDwy84x/YwR+hcCbN2+YnovFixfX1tb+6j58nSsRwGoDV4oNE935CIwdO1ZQUFBWVlZZWblv377Dhw+PiorqfDJwj12LgLOzM5VKlZaWVlJS0tDQGDhw4J07d7qWpK7q3cTEhEKh5OTkMBJQU1Ozc+dOQUHBMWPGfPnyhfESCfIJCQn8/PxiYmI9evRQU1PT1tZevHgxVhtIIFnMwp8gEBUVRaFQxMTE5OXl1dTU+vfv7+joWFNT8ydt4ns5FgGsNnCsaDBhnIVAeHh4UFBQXFxcbm5uZWUlZxGHqeksBOLj4/39/aOjo7Ozs3nZcL+xsXHYsGFUKjU5OZkV+/Xr1wOAlZVVY2Mj61XuLSkrK/P393/58mVqauqXL19oNBr38oIpxwi0FwLFxcV+fn6vXr1KS0v78uVLfX19e7WM2+FABLDawIFCwSRxIgI1NTXV1dWcSBmmqRMRqKurq6ysJNls+Pfwmz59OgBcvHiR9faCggINDQ0hIaGYmBjWq9xb0tDQUFVVxTunWbhXUpjyzkQAPRdYi+5MzLuwL6w2dCH4uGtuQsDOzk5HR2fixImzZ892cnLau3fvhw8fuIkBTGt7ILB3796+fftOmDBh1qxZy5Yt27Jly9u3b9ujYe5r49ixYwCgqqoaFxfHRP3Xr1/79esHAJ6enkyXuPpnenr6gAEDhg0bNnXqVAcHh7Vr1169ehVrEVwtU0z8nyOQmJiopaVlaGg4derUv/76a926dTdu3MBaxJ8Dy5ktYLWBM+WCqeI4BAYOHEic+gIACoXy77//chyVmKAORmDBggWMwwAATpw40cF9cmjzubm5/fv3B4CePXsePHgwPT29oKCgsLAwMjJy1qxZACAiIvLmzRsOpf63yIqNjWWS/vDhw8vLy3+rMXwTRoAkCERERDA9F2PHjsVnfkgiXRY2sNrAAgkuwAiwQ2DDhg1z5sxZvXr1wYMHr169GhwczMum7ewQ4okyd3f3WbNmOTk57dmz5+LFiwEBAfn5+TzBOTsmIyIi0K4CAFCpVAUFhZ49e1KpVDSHcHBwIJmVc3Z2tqWlpYODw6ZNm06ePHnnzp3Y2FjsiJnd0MBlPIRAWlra9OnT//rrr82bN588efLu3bvx8fHYkpOsIwCrDWSVLOarnRHAL8F2BpQ7m8NzRCa5ZWVlrVmzRl5enkKhECuOUlJSa9asKSkpYarM7T/xS4DbJYjp7wgE8FuxI1Dl2Dax2sCxosGEYQQwAhgB7kAgPz8fRXVwd3d/9OhReno6d9CNqcQIYAQwAhiBtiCA1Ya2oIXrYgQwAhgBjABGACOAEcAIYAR4EgGsNvCk2DHTf4xAUlLSi/9SSkrKH7eHG+BWBMrKyvLy8ljd6ZSVlT19+jQ2NpZbGfsV3SkpKf89AS/YRm/4VQOkvZ6TkxMXF0e+aHekFRhm7M8QKC8vJ14Frcx8/Pjxz/rEd3cZAlht6DLoccfciwCNRjMwMCAsuc3NzbmXF0z5HyJw/PhxHR2dFy9eMLXz8eNHUVFRKSmpz58/M10iwc/GxsbRo0cTj8DEiRNJwFRbWaDRaGFhYYGBgd+/fyfuPXPmjJaWVrdu3fT09G7cuEGU4wxGgKwIvH79mngVtDKzZs0asqJBer6w2kB6EWMG2x+BsrIyRUVFKpWqra2to6OzadOm9u+D41sMCgoaOHCgmZnZ4sWLt2/f7u7uzpsRDNauXQsAd+7cYZWYo6MjANy9e5f1EreXVFVVqaqqAoCWlpaOjs7atWu5naPfoD8vL69v375qamqEZhgQEMB4NFxMTCw0NPQ3WubwW+bOnTts2LDZs2e7uLgcOnTIy8uLfMffWy+CJUuW6Ovr29jYrFmz5u+///b09Pz69WvrbydBzYSEBM3/kpaWVq9evQBAUFBQU1Ozb9++mpqa/fr169mzJ9IoZGRkBg0adOTIERIwzpssYLWBN+WOuf4jBMrKymRlZYWEhIjpwh81x50337hxg2lhydbWljtZ+SOqN23aBAD3799nbeXMmTMAcODAAdZL3F5SXV2tpKTEx8eXlZXF7bz8Nv1v376lUCjjx49HLdTV1U2aNAkAhg0b5u3tPW/ePABwdHQkn/+l3r17Mz77fHx8r169+m0Yuf3GwYMHM6IBAE+ePOF2ptpEf0NDQ8V/iUajPXnyBABGjx5dWVlZVVVVUVFRW1ubnZ3t7OzcFAKyX79+ISEhbWofV+YoBLDawFHiwMRwBwL19fXjxo0DgEePHnEHxR1AZVBQ0LBhw6ytrZ2dnffv3+/h4RETE9MB/XB6k25ubgDg6+vLSijSKM6cOcN6iQQlkydPBoB79+6RgJffY+HRo0cA4Orqim4PDw/v1q0bhUJBgyEtLU1ISGjcuHHki3tlb29vbGy8cOFCNze3kydPPnjwoLS09PcwJMFdS5cunTBhAopa0GSyeO/evW/fvpGAr99m4enTpwDAdhXp4MGDADB06FBeXnH7bWA55EasNnCIIDAZXIbA7du3qVSqjo4OPtrFZZL7Y3LR0lp5eXlFRUVVVRUyUrp69Wp1dfV/K24VhYWF9+7dk5eXB4CIiIg/7pMTG/D29ubn59fW1s7MzORE+jqepps3bwIAYaOItMRhw4ahQJDfv3+XkZEZPHhwcXFxx9OCe8AIcAoC//77LwAQu3BMZM2fPx8A9uzZw1SOf3ILAlht4BZJYTo5C4HGxkZXV9emZeYhQ4a8fPmSs4jrFGoyMjJOnz599+7dsLCw9+/ff/v2rbq6ulN67uJO0tLSRo4caWBgMGzYsOHDhysqKgKAmpra8OHDUaGBgcGAAQOQjbupqSmJYdm8eXPThoOOjs7z58+7WCpd0b2fnx8AmJqa0un0kpISdXV1ANi3bx+iBZ2JHzZsGPlW4r28vDw8PB4/fvzu3bvPnz+Xl5fzcsCvBw8eXLhwITAwMDo6Oi8v7/v37yQLjt7WZys5OVlGRkZUVJStsZaPjw8AjB07lny7cG0FikvrY7WBSwWHye5iBLy8vFasWCEuLg4A0tLSixYtcnV1XfNfcnZ23rdvX2VlZRdT2ZHd37lzB1n0UqlUAQEBISEhHnGOERUVxWTKzPanuLi4hYXFhw8fOlIIXdm2t7e3s7OzlJQUAEhKSi5YsGDt2rX/PQFrnJ2dd+3axehiqCtp7Zi+Y2JihIWFpaSkrl69unr1agDo0aMHIfHg4GAAMDMzY3XO2zHkdF6rAwcOBAAKhcLPzy8kJKSurk5iR8O/hHXkyJHoDcDPzy8oKKisrMybC0kEUA0NDXPmzEHHGPz9/YlyOp1eUVGxZMkSABg5cmR5eTnjJZznFgSw2sAtksJ0chYCpqambCeLRGH37t3J7U/Dy8sLTR1ERUXV1dVHjhx58uRJzhJSx1BTWlr64MGDe/fu3b9/39vbe+bMmQCwfv16b2/v+/8lPz+/iIgIEu8z0On06dOnE6OdbUZcXJzcFsy1tbWzZ89m5H3btm3EoHNxcQGAdevWESWkyaBDwHx8fPLy8oMGDbK2tn7//j1puGsrI8gTMR8fX48ePQYOHDh9+vSEhIS2NkKy+klJSZqamk3GSHx8fJaWlps2bTp+/PjOnTsnTJiAnpctW7aQjGXeYQerDbwja8xpeyJw5coVJycnYm119c/JycmJ9LsNOTk5jx49SkhIyMvL+/btW2VlJW8aKmzbtg0AHj9+3J7DixvaunHjRsuPAOl3G+h0ek5Ozpw5c9R+pMWLF6NTDXQ6PSMjQ0ZGBgB8fHy4QZhtoLGxsTE4ODg0NDQrK6ugoKC0tJR82yltgINOf/HixfPnzzMzMxEatbW1bbqdrJWjo6ONjY0ZlWoiP3ny5Pz8fLIyTnq+sNpAehFjBjECGIEORGDHjh0A4O3t3YF94KY5G4GsrCymc+F5eXknTpy4dOkSLwc04GyhYeo6HIHKysqbN28uXrx45MiROjo6w4YNmzlz5rFjx7CTgA6HviM7wGpDR6KL28YI8AwCvLnVQKfTi4qKEhISsJ0uz4x0zChGACPQNgRKS0u/fPlSXFzM4xtTbUONU2tjtYFTJYPpwghwFQIRERFr1qxh6zqDq/jAxLYbAmVlZeSLdNZu6OCGeBWB0tJS/FzwqvDJwDdWG8ggRcxDVyHw9u3bzZs3W1tbjxo1ijgQfOTIEUtLy9evX3cVVV3S77179wCASqUaGxs3Hfwg93FwAmEPDw8zM7Np06aZmpq6urry1J6Dp6fn0qVLV/ycnJycHB0d7ezsxowZY2JiUlRURGBF1kxVVdW9e/eWLVtmamo6YcKEyMhIOp2em5vr4OCwYsUK8nlfZStHGo3GOBWm0Wienp7r168/cuQIr52Wvn79OtvnYtmyZXZ2dqNHjzY1NSW36VpKSoqNjc2UKVPMzc0tLS15OYI424eF2wux2sDtEsT0dw0CNTU1mzdvFhYWJo55rVq1CpHS5DICABwcHLqGsi7qNSsra+nSpd27d0eA9OnTZ9u2bWgK1UUUdUa306ZNIwaAqqoqL8ySCViRj0WCfdZMt27dSH/wMSMjw8TEhJF3tOFWUVGBHOyQ70g0MQCIzKVLl6ysrMLCwlBJQ0MDimmDYNHQ0IiKiiIqkz6DXKsxDgmmvKSkJLlXVe7fv8/I8o0bN0gvdJ5iEKsNPCVuzGy7IXDu3Dn0Zpw6daqzszOjp8Xc3NyePXsqKSl9+fKl3frjkoYSEhIOHTqE3LoDgLi4uLW1ta+vL1kj+yCX7Rs3brx7966/vz9POVGxsbEBACsrqw0bNri6uq5bt2716tV9+/YFADExse3bt7948YLcgHz//n3KlCkAICsru3LlSmNjYz4+vuDgYPSwXr58GQCWL1/OJc/ub5JZX18/adIkACCCFQQHB/Pz8wOAnp6elpYWAEyfPp1xL+I3e+KG2xobGy0sLADA1taWeC6cnZ1RKEAJCYk9e/aEhoaS28T/4sWLADB69Og7d+7cuHHj48eP3CA6TGNrEcBqQ2uRwvUwAgQCdXV1BgYGAHD8+HEajZabmwsALi4uqEJDQ8PUqVP5+Ph4zU6JwKe8vNzb23vWrFmSkpIAwM/Pr6+vf+LECSISFlGT2zPm5uYAEBgYyO2M/Ab9RkZGFAolPj6e8d6cnJy5c+cCgKWlJelPyYeFhVGpVBUVFbSafuDAAQAg1IaUlBRBQUEjIyNyh+8oLy/X0NBQUVFB7nHq6+sdHBwAYMSIEd++fUtNTVVQUJCTk8vKymIcJ2TN02i0kSNH8vPzp6enM/KYnZ09a9YsALCxsWEsJ2UeGazOmDGDlNxhprDagMcARqDNCBQVFYmKivbu3RsFwc3KymJUG+h0ur29PSldtrcVqbi4OAQF2plRV1fftWsXmUKAubu7A8DUqVPJvXzIKvfGxkYDAwMKhcJquV5ZWYk2IpydnVlvJFPJtWvXGB/8vXv3MqoNhYWFkpKS/fv3J7dFyufPnwUEBEaNGlVZWdn06svMzESBw8+fP49kbWFhQaVSecTAvba2duDAgfz8/Dk5OUxDvby83NLSknFfmqkCaX5mZmYqKiqKi4tHRESQhinMCIEAVhsIKHAGI9BaBMrLy+Xk5JSUlAoLC1FoJ8bZQ01NDdqL4M1FaALEzMzMI0eOoN15AJCTk0PKw4ABA/z8/IhqXJ0pLy+fPHkyADg5OZF7UZlVTGZmZgBw//591kuZmZk9evQQFxdPS0tjvUqaEmTDvWjRIsTRnj17GNWGFy9eUKlUfX19cp9/LSgoEBIS0tTUrKiooNPpJ06cAIBevXoR53yQrX9oaChp5N4CI/X19SgQsr+/P2u1lJQUaWlpGRkZpigfrDW5veTcuXNUKlVHRyc2NpbbecH0MyGA1QYmQPBPjMCvEWhoaEDWKW5ubnQ6vaCgAAA2bNiA7jxx4gQ/P7+SklJeXt6v2yJjjfT0dDc3t169eiE9QUFBYf369VFRUY8fP0bnR6WlpcPDw0nAemVl5dOnTxGnFhYWoaGhGRkZaQwpPT2drOoECo9taGjIun1UUVGhq6sLAF5eXiSQcnMsxMXFSUhIyMrKPnv2jE6nHzp0iDDxLyoqQjbuixcvrq+vb64FEpSXlZWpqqpSKJSYmJiysrJBgwYxLqjX1NSMHDlSSEgoOjqaBMy2hoUNGzYgy37Ws22lpaXa2toA4Ovr25qmuLROfX19bm6ura0tAKirq1++fPn9+/fp6enEezE5OZncW3BcKrhWko3VhlYChathBH5CICAggEqlAsC8efPOnz8PAAsXLgwPD3dxcUHHATdu3PjTDbzxIzU1df369YqKikhhUFZW3rJlS0ZGBsF9ZWWlnZ0dAFhYWJDgnPSRI0dUVFREREQQvyIiIj169OjOkHr27EnW9bbk5GS0g2RoaOjn55efn19VVVVTU5Obm+vm5ibwI6H5NCF9kmXq6+uXLl0KAJKSkgcPHlywYAGFQvHw8PD19TUyMgKAbt26PX/+nGRcM7HT0NAwf/58ANDS0jI0NAQACQmJxMREVC0lJaV79+7KysqsuiVTO6T5GRcXJy0tjTSHx48fFxQUVFVVVVdX5+TkrF+/np+fX1hYmByLJs2JLCEhYfDgwT169EBvRbTVLCcnx/Be7L5nz57mbsflHI4AVhs4XECYPM5F4MCBA0hzIF6ORGbWrFnktkxglUpeXt769esJB6x9+/bds2cPWx8a3759k5eXl5CQYHuVtWVOLtm9ezc/P7+YmJiUlJSkpKSIiIgQQxIQEJCQkIiJieFkFv6ENi8vL3TqHc0aTU1Np06dqqqqih6ESZMmIXv3P+mCw+/Nz89HVmrEs09kRERETp8+zeH0twt5cXFxvXv3JhjftWsX0ezu3bsBYMqUKUQJL2Ru3LghJiaGANHW1jYzMzM3Nyd2X6dOnUrWHUgk3Hfv3ikrKwsJCUn9SGJiYgwvxf/LAsDWrVt5YSSQkkesNpBSrJipTkLA19d33LhxUlJSAgICVCq1W7du2traR44c4amwXwhrHx8f9Jns27fv0aNHW1YJjI2NAYBYkuwkaXVANwUFBXE/Ujy7FBcXl5iYSIJNlRaQCwsLMzEx6datGzFrBAABAYHJkyeT3oAbwVJcXLx37151dXVRUVG+H0lKSmrSpEk8FTE9JSXl4MGDq1atunnzZk1NDUKmurrawsJCRUXl4sWLLQwhUl4KCQkZN24csQ+Jng5BQcGpU6eSz6EckwSrqqqSk5NjY2Pjm0kxMTGkj+jChAmZfmK1gUzSxLx0AQINDQ1Ne7IPHjzw8vJ69eoV8q3UBXR0dZcPHz4cMWLE0aNHv3371jItdXV1/fr1a3JtnpKS0nJNfJVbEHjz5s2RI0dcXFxWrly5d+/eR48e8ZprqbKysrCwsDt37vj4+CQnJ/NImIKWx2djY2NVVRW5Y3e0gACNRgsNDT148OCaNWtWrly5b98+f39/Go3Wwi34EkaA8xHAagPnywhTiBHgAgS+f//eyqOfDQ0NgYGBDx8+JKUFC+/MF1++fPno0aPMzExyb6dwwbOHScQIYAQwAp2FAFYbOgtp3A8PIECj0VJTU3lz+7WsrCwqKiosLCw0NPT169e8tusSERFx/PhxR0dHFB3Ww8OD9KYIVlZWyPRCSUnJ2Nh4xYoVJ0+efPTo0du3b3Nzc3lnVbWxsTElJeXNmzcRLOnFixfZ2dk88Ob7/yxmZGRERET4+fkhx7sNDQ3x8fGvX78mtyk/k3zLy8s/ffrEVIh+VlVVvX79+u3bt+R+Ompra9+/f5+QkJDEkuLi4l6/fu3p6fnmzRu2EOFCzkcAqw2cLyNMIScikJub++LFC0b3IHFxcdOmTVNRURk8ePD27dt5bQn26tWrwsLCaB4pISHBOxGyi4qKVq1aJSoqymjcDwD9+vXz8PDgxLHbTjQ9f/589+7d9vb2w4cPl5WVJdiXlpbW0dExNTVdv3496bXH9+/f29jY9OzZE51uovycGMO5tBPqHNpMbGzs4sWLVVVVBQQEiAOvDQ0NS5YsERUVvXHjBofS3QFkubm5DRo0yNXVlXU3NT09XUFBQVNT85eWnB1AV+c1mZycrKenh6KDE96T5OXllZWVFRQU0GfC0dGx8wjqlJ4af6RO6aqLO8FqQxcLAHfPpQisX7++W7duN2/eRPSXlpaOGjWKmDkBwO7du7mUtd8je/v27QDQvXv3QYMGjRgxIj4+/vfa4a67qqur582bh+Q+aNAgCwsLOzu7iRMnqqiooMJbt25xF0e/QW1jY2NdXV1ycvLRo0dHjBjB+BQ0t+z6G71w4C2lpaUoDgkA9OjRo1evXio/p169ejG6FeJAFtqFpKioKA0NDSR35HuUePshTwmTJ09upQVju9DTtY2geB0AYGNjQ8S8QySlpKSIiYkpKioylXctwe3ee1RUFHIkJS4uLiEhIS4ujgKHoxHSvXt3fX19d3f3du+3axs8c+aMsbHxokWLtm3bdvbsWR8fH7K+/bDa0LUjDffOlQg0NjZOnDgRABISEhADly5dAgBRUdG///57//79VCpVTU2N3N8GJsm5ubkBwObNm+vq6lp/zoGpEa77eefOHQCQkpI6e/Ys48p6eno68uivrKxMeqO12NjYM2fOzJ8/n1CWAGDAgAGbN29GkYO5TqytJDgkJISfn19GRubkyZOJiYlZWVkffk6ZmZnFxcWtbI1Lq9FoNBsbm6bw2GPGjPH19b13717T7HDnzp2InaKion79+snJyeXk5HApg20lG6GBpshjx45NTU0lWkhNTZWSkmIMoU1cIlPm5cuX/Pz8gwYNioyMjIqKioyMjImJ8ff3NzU1BQAdHR0S+NBjldfixYuR0Im/R48eZa1GghKsNpBAiJiFzkagqqpKRUVFXV0dhbqsqalBi442NjaIFCMjIyqV+urVq86mrOv6u3z5MgDMmDGj60jogp7nzp3bFO3r2LFjrH3X19ejz6S/vz/rVRKUREdHr1+/Xl9fHy0wo6hnw4cP37ZtW2hoaEFBAQl4bJkFT09PAJg8eXLL1ch9tbCwUFJSskePHsjfbnJyMqPaQKfTzc3N+fj4eOdliM78bNiwAQWxGTBgwMuXL9EY4BG14fHjx2izhWnkV1ZWosWUadOmsVpwMVXmup/79u1DxpkLFizYtGnTiRMnGDVGrmOnBYKx2tACOPgSRoA9AsXFxaKiogMGDEBLiTExMQICAhQK5fHjx+iGJUuWAEBAQAD7+8lYWlhY2L9/fwAgt0E/k+j09fX5+Pji4uKYytHPY8eOAQBZ15xmzZqF1tWoVOq0adP++ecfdBCWLRSkLAwPD+fn59fU1CT9lkIL4svNzaVQKPr6+sgMKSYmhlFtaGhoQEsqQUFBLTRCpkszZ84EgJycnJCQEBTiTUlJydfXl06nZ2Rk8MJuw5MnT5pTpysqKlB4RB6JhEimgU3wgtUGAgqcwQi0FoGqqioUBTMvL49Op69ZswYAhg4dSjgMsbW1BQCeivdEp9NfvnypqKgoJiZ29uxZHnHbP2XKFCqVGhoaynboIMOt//3vf2yvcnuhm5tb9+7dKRQKAGhoaCxevPjq1avJycmlpaXczlor6a+pqbG0tAQAZ0YbBu4AACAASURBVGdn3rHdZwKnrKysZ8+eYmJi6DhTbGwso9rw7t07GRkZSUlJUtqlMEGBfiK1Aa00R0ZGDho0CNmvXr9+/cOHD927d1dWVia3/eq7d+/ExMS6d+9OGPEyAuXl5YWUCuJzyXiVe/MxMTFeXl4vX77MyMjIz88vKSkh60cQqw3cO0ox5V2GQH19vZGREQC4ubndvXtXTk4OAM6cOYMIqqioMDQ0FBQUjIqK6jISO73jrKysEydOjBs3Dq1AW1pa7tu3b9euXTv/Szt27IiOju50ujq2wy1btjQdcbGysmJ1nBUbG4ts/cnqVKq+vj47O/v69evOzs6jRo1CgaL5+Ph0dXWdnZ0vXbr07t27hoaGjhVAV7deUFAwZswYAJg9ezZZT0C2jHFDQ8OKFSsAYNSoUdHR0YmJiQDw999/0+n0+Pj4kSNHojkiuV2OMkKE1Ibk5GRUmJ6ebmxsDABCQkJ2dnaSkpKkP/ZWWVmJthTGjRvHGtOz6YMAAAYGBmVlZYy4cXve2dkZffuadpjFxcU1NDRu377N7UyxpR+rDWxhwYUYgV8gcPXqVeIdAQD9+/cnjLkjIiJERER69+5dUlLyi1ZIdBkdDmbEhDXP9gwAV2MQFxcnLy8PAEZGRteuXUtOTv748WNkZOT+/ft79+4NAJMmTeKFKLnl5eWhoaFHjhwZOnQoIXcdHR2Srarm5+evXbt29erVLv8lNze3KVOmIJb19PRWr17t6ur630WX5cuXk/VkC+Njm56ejuK+y8nJIYdyhoaG1tbWSkpKACAjIxMWFsZYn9x5JrWBTqcXFRXZ2dkRz4WGhgbJngtWgT579gx5T1JVVV23bp2np+ezZ8/u37+PHPICgKOjI8nWFJDawM/PLyIi0r17dx0dnfv377MiQ4ISrDaQQIiYhS5AoK6ubuvWrX369BEXF9fV1SUsdxsbG5FHzjlz5nQBWV3XZUxMzKJFi+bNm+fALs2fP9/W1vb58+ddR2BH9ezp6SkhIYHmBCIiImJiYoKCgujnkCFDiEXHjuq+69r9+PHjkydPrly5sm3bNjs7u7Fjx6qoqPDx8RHTIxUVlcLCwq4jsP17RhY4BIOtySxatKj96eC8Fl+9ejV69GhWQPr37//w4UPOo7cDKTIzMwMAJqOsurq6jRs3Inx69uyJfGl0IBEc0LS3t7e6ujoxJBjfDFpaWmztlziA6t8nITw8/Nq1a+Hh4VlZWSUlJZWVlSTTiwhosNpAQIEzGIE2I5CZmRkREcH4DWhsbLx27drhw4djYmLa3By+gTsRCA8Pt7a2Zoz4pqysvHHjxo8fP3InQ62ietGiRcScAGUkJCSGDRtmZ2e3a9euS5cuhYaGksw05fPnz6tXr3b+Oa1atWr1f2nVqlWMF52cnMi64sg6REpLS69cubJo0aLx48ePGTNm7ty5p0+fzs3NZa1J7pJTp04tXryY2HxmZPbUqVMjRoyYPXs2yexzGHlkzGdkZOzcudPQ0FBMTIxCoQgJCamrq69YsSIpKYmxGs5zFwJYbeAueWFqMQIYAU5EgEaj5eXlvX79OjAwMDExkWSr7GwRX7t2rYGBga2t7Y4dO27duvX27dvPnz9///69sbGRbX1cSEoEWMVdUVFRXl5O1qXWPxRiRUVFVVUVK2h/2CxH3d7Q0MBomVlfX//ly5eMjIycnBzSW2dxlCA6iBisNnQQsLhZHkKguLj47du3ERERnz9/5iG2eZLV58+fHz58ODY2lie5/4lp8nle/4k9/KN1CNTW1p44ceLKlSusXgFa1wCuRTYE0tLSLC0t582bt3379uvXr0dGRvLUMT+yiZOFH6w2sECCCzACrUYgPDzc0tJSXV1dWlpaQkJCRUVl5MiRN2/erKmpaXUbpKpYVlZ29+7d9evXz5o1y97eHjmojY2NXbhw4alTp0iwAInOO166dIkQW15eXlRUFGOIaOISuTPu7u4ODg5//fXXvHnzeNMLO41Gc3NzmzRpUkREBKusd+/ebWJiEhwczHqJTCW1tbWDBw8GgCFDhpw8eZIHrZKYpBkUFHTu3Dm2tvv5+fkrV65ct25deXk5011k+pmQkNC/f3/GwwzS0tJaWlqzZs1CO5ORkZGMlr1k4p3gJSwsbNePtJtd2rVr1759+7h0nRGrDYSUcQYj0DYEjh07JiwszGTejX4uWLCAZE6pWwNNTEwMckaJQFBQUEDxv3JycmRlZcXFxbk9amZNTc2oUaP4+fkZQ95u2LABAHx8fFoDEWnqNDQ0IIf0SNa8GSk5LS1NXFxcVFQ0PT2dVbKurq4AsGrVKtZLZCppbGz8559/NDU10Ujo2bPnhg0bIiMjycRjm3iZMWMGAPTu3fvp06dMN6akpAgJCcnJyZF+0lxWVhYbG+vj43P8+PF169ZZW1sPGzYM+WhG42TLli1M4JDsJ/ouIGab+/vmzRtu5BqrDdwoNUxz1yPw+PFj5DDHyMjo+vXrL1++fPXqla+vr729PT8/PwAcPHiw66nsRAry8/PRoqOCgoKDg0Pv3r0VFRXfv3+PSHBxcQGACxcudCJF7d9VSUmJrq6upKQkwRedTkcOUu7du9f+/XFwi+Xl5YqKigCwdevW06dP84KbUVZpBAUFAYCFhQXrJTqdHhAQAAAmJia8sIKQk5Nz/vx5AwMDNEOSkpKytbUNCgriQUs2a2trBIKkpOS1a9cYx0ZqaqqkpCTpw70xskyn0ysqKry8vKZNmyYiIkJMoHfs2MFUjWQ/fX19582bZ2dnZ/9fcnBw0NbWBgAKhTJ+/PgVK1ZkZ2dzI9dYbeBGqWGauxiBxsZG9G1YuXIlayTIixcvCgoKqqmp8U64XDqdfvnyZRQqG7kctbKykpCQIKbXDx8+JMHKa11dHYpnFxAQQAxBFAr6wYMHRAkvZGg0mqamJoVCycjI4AV+2fJ4+/ZtANiwYQPbq+/evRMUFBw8eDDvHAOtra29d+/ejBkzqFQqmiAaGRldunSJS40x2Ir1l4Xo04DCtjR58f/777+JA9CpqalSUlK9evUi/ZCorq4ODw8/efLkzJkzUQAHNB6GDh2Kwsmz9TT1S2y5vcKHDx+srKxQtLsPHz5wKTtYbeBSwWGyuxKBsrIyeXl5GRkZtoa8jY2NEyZM4OPjI2t4YLbQr1u3DgDOnTuHrs6cOZNRbXjz5g0AzJw5k/iCsm2E8wvXrFkDAHp6enFxcbW1tY2NjZs2bQIA3vGzScjIyckJADZt2kSU8FrGy8sLABYuXMiW8X///ZdKpQ4ZMuTbt29sK5C4MCIiYuPGjQoKCmiyaGlpyQtbLkig6PhTcHDw3LlzEfsuLi7otBuPqA2ZmZnm5uaSkpKIfTk5uQkTJuzfvz84OJg3tQXGJ72qqgpFVTc3N+fShwKrDYwCxXmMQKsQKC4ulpCQ0NTUbM79toODA6/Zu2/duhUATp06hRCcMWMGo9pw5coVACBBCLyEhARlZWUAkJCQGD9+/Jw5c3R0dABg7NixDg4Odj+nefPmLViwgEt3on/5JKSnp/fq1Yufn/+ff/75ZWVSVoiIiKBSqRoaGhUVFawMbt68GQCmT5/O6IyStRpZS2JjY+fMmYMmjr169eIdnwFIbfj48WN9fb2joyNCwMbGpqSkJC8vjxd2G16/fo24BoC+ffv+/fff8fHxZB3nv8FXeXm5rq4uALCefvmN1jr/Fqw2dD7muEeuR4BGo+nr6wsKCjIejSW4Kioq0tbWFhYWjoqKIgpJn0Err4MHD87KyqLT6ba2thISEsg4IScnZ/jw4QBw6NAhEuDw4sULwoab+Dq2kOHSc2+tkdS9e/d69OghJCS0du3a7OzskpKSIoZUUlJCAt9ZLeBQWlqqr68PAKtXr2byjXPjxg1km3Hy5MkWWiDfpfr6+sDAQDs7O1lZWfRQKCgo7N69m2SB/1oQHFIbkK1mfX39zp07KRQKAEydOjUgIEBOTo70RkrFxcXnz5+fO3euiooKGgNKSkqTJ0/esmVLYGAgD26+sY6WpUuXAsCBAwdYL3F+SWeoDdxuloCkSA4uOH9EcguFyCZHX1//9evXjHOj9+/f29nZAYChoWF9fT23sPPndJaVlaEpVP/+/e/du2dsbCwpKfn48eNHjx4hnUFJSQk5Vvrzvrq8hbKysmfPnl28ePHQoUOGhoZoI2X//v17fk67du06cOAAWQ27XVxcVFVVkWOApo0mWVlZBQUFeYakp6f35cuXLhdWhxLg5+eH7PiHDh26bt26mzdvXrhwYdq0acgvgoGBAekRIOD99OnTlStXxowZIyAggCaLgwYNOnjwIPfacBOstSnDqDagGy9cuCAuLg4A3bt35+PjU1dXJ/3ZBsT4t2/f3rx5c/jwYQsLCw0NjSZPIcLCwsrKyubm5ly60N76kVBTU1NYWPjl51RYWJiXl+fv76+mpgYAnp6erW+Qc2r+vtrg7u5ubW29bNmy5lyJlZWVrVq1ytrauvNdeqenp9vb2zs4OLRXrNZr165ZW1ufOnUKKw+cM3a7lpK8vLwBAwYAgIiIiJWV1bp16zZu3Ojg4IAsWERFRR8+fNi1FHZ+72/evEEHAdGkgY+Pj3CdIS0tfffu3c4nqRN6RGcbfH19O6EvjuqC8BiDxM36V05OLj8/n6No7ghizpw5Q6ysM4JgYGDAI7YZqampO3fuRNZ6CIGpU6dev369ORvOjpAC57RpYWEBAElJSYwk+fv7E0vvffr04RG1obGx8cOHDy9evLh8+bKtra2YmBjxgDg7OzPiQ778xYsXB/9Iugxp0KBBhKtiFRUVLj3p8ftqw549e9AIaO57iXynNBkB/+9//+vkMfHs2TNEG+HI5Q8JWL58ObJSxWrDHyJJptujoqLGjx9PvAeJjKam5s2bN8nEaet5SUtLc3BwUFRUJGL9yMrKmpmZvXz5svWNcFfNI0eO9OrVKzAwkLvI/nNqc3Jy4lpMKSkpPGKa8vbt20WLFg0ePLh3795qamr6+voHDx7kkX0GGo1GKJAKCgoLFiwICwvj2XiXdDp97ty54uLirDurkZGRQ4YMQSEdyK025Ofnr1u3bty4cerq6oxulABAWlq6d+/eAwcOZHJN++evI05rAR32I2YFRIZCoUhJSY0YMSIsLIzTaG4lPb+vNmRmZqIllub8SCCXIwoKCu01d28lS3Q6PTQ0VEBAoFu3bpmZma2/q4WaKHDP3LlzsdrQAko8eKmmpubSpUvOzs7Tp0+fMmXK0qVLDx8+jEIj8yAaBMvv37+/e/fu+fPnb968+e7dO6KclJnKysqPHz9WVVWRkjvMVJsQQCYJbbqF2yvX1NSMGTOmX79+O3fuTElJ4XZ2/pz++Pj4kJAQtk5yPnz4cPbsWS8vL3KrVZGRkchIDwDU1NSMjY2XLl26f//+mzdvvnr1ikuX2Ns6MFJTUx88eOD7X3r06JGfn5+/v//Tp0+jo6PZOlFoaxddVf/31QY6nW5paQkAbHfcioqKBg4cCADz5s1jtPzuHD6x2tA5OONeCARoNBrb7wRRgfSZsrIyshrxM8qupqamuLiY3F99Rn5xHiPQMgJ1dXWvX7/OyclpuRq+yjsIfPr06fz58w8fPkxMTOTq+THviKxNnP6R2nDz5k0A4OfnZ7Va/vfffwGAj4+PcSvq06dPwcHBly5dunr1amhoaElJCVtai4uLQ0NDr169+s8///j4+LB9H5WWlgYGBl6+fNnd3f3y5cshISGMH3KkNoiKin7+/PnLly+PHz++cOGCp6dnVFQU06Z5dnb2s2fPWNdIcnJynjx5Quwzst1tqK2tDQ4Ovnbt2tmzZz08PAIDAxlNOcvKykJDQ9++fUun0xsaGoKCgjw8PPz9/Z8/f87W4DU7OzsoKAgtzRYXF7948SIkJIRtWAC2oOFCjEDXIvDgwQNVVVVXV1dyR6vYvXv3wIEDeS0mdMtDKzQ09MyZM2vXrnVycjpy5Ii3tzevxQYuKChITU2Nj49/93OKjIzkqb3HoKCgkydPrl692tnZ+dixY35+fkwf3JYHEr5KMgRoNJqvr+/Ro0dXrFixceNGd3d3nvIuiKT57t27c+fObd682dHRcf/+/bdu3eJ288U/Uhs+fvzYq1cvAHB0dGQa7shCSVVVlTgwff78eXSEFNl4CQoKGhgYsJ6L8PPzQ64tCVMwLS2tw4cPM7bv5eXF5ABRWFjY0tKS8NgQGhoqJCQkKSl5+PBhZE2IWpOWlp45cyaj0dT27dubbJns7e2ZtkTc3NwEBAQIvljVhqZp/bhx44hYmKj90aNHR0dHI1IjIiLExcWHDx+enJxsb2+P9uxUVVVFRUX79++fnp7OyFFNTY25ubmgoODy5cvpdPrt27fFxMRERUWPHDnCWA3nuQKB+vr6rB+Jp0zaAgMD0XkGMTExGxubwMBARk2eKwT3SyIbGhqMjY2Zgrt5enpaWVnFxsb+8nbyVcjNzV22bJmoqCjxukaZ8ePHBwcHk49fVo4KCgqWLVs2cOBARUVFWVlZqZ+TmJjY5s2bWe8iX0lqaurcuXOJE03EeDA3N+fBmWJz8m1sbKyuribfi5Etv97e3kzzNORvbd26dc0tGbNth3sLKyoqtm7dKi8vTzwOKKOrq3vr1i3u5euP1AY6nb5w4UIA0NLSYvSYUVFRoaWlBQBLlixB0KDANwDQq1cvKysrCwsLdFBGWFjYw8ODgM/T0xN9gaSkpKZMmTJ79mxC0zh69CiqFhISIi0tDQDy8vKmpqb29vZjxoxBwli6dCmqExoaKioqSszpDQ0NZ82aNWrUKFRt4MCBhOawdu1adNaZSW1AYfzmzZuHGmRSG9LS0pDHGAkJiQkTJtjZ2ZmZmaHuxo0bh5oKCwtrCpqroKAwevRo1K+mpqajoyM6EEIE00Xtx8XFIdfOjx49otPpZ8+eRbds3boVVcB/uQiBoqKiYcOG9evXr7S0lIvI/kNS6+rqHj16ZGVlRXhPGj169KVLlz59+vSHLXPO7d+/f9fT0xMXF0dO2RFhaInkzp07nENn51BSUlIyceJE9KYaMmSIubm5hYXFmDFj0ABQVFQk/XyxsrJy+vTpCAFhYWEZGRnZn5O0tPSWLVs6Rxxd2EuTT0ligmhgYDB16tRp06aNGDECaRF9+/ZlWibrQlK7tuvS0tLZs2ebm5uT3nTn4cOHyG+SlJTU+PHjp0+fbmZmRkzn5s+fT/rDYLW1tSg4A5ohm5qaTp8+fcKECd27d2+K2CAkJHT//v2uHY2/3fufqg23b99G6+gBAQEEEf7+/qgwKCiITqeHhYUh394WFhbE6yMqKgr5O1dTU0NRVL99+9a/f38A0NPTI743BQUFaLovKyuLNBMUf1dXV5cw9amurl62bBm6EUUSQWoDks3JkyfRAK2pqXF3d0fukwnnXxs2bAAAKysrJrVh1apVAODg4ICYItQG9HPHjh1IJXjx4gWxonzgwAEAkJKS+vjxI51ODw8PFxISQl8UQ0PDe/fuJSYmlpSUTJs2DUV+qaurIxDbvXs3AAwaNAiR+vz5c1tb2zlz5vj5+RF1cIZbEPj69Wu/fv3k5OTI7S6jOXG8fPnSxcUFvRwBQEdHZ/v27cSD39xdXFFeXl6ur68vIiKSmJhIEIwcsHLvN4BgpK2Zw4cPA4CysvK1a9eIXeXa2trnz58jdcLY2JjxLdfW9jm/flhYmICAgKio6IEDB169ehUXFxf/c4qJieGFAz/r169vckLfr18/b29vYq2ksrLyyZMnKGbL7NmzOV+anUBhcXFx3759paSkiOelEzrt/C6+fv2KoiDPmjUrIiKCmFzl5eWdOnVKVlaWQqEwmq93PoWd0KO3tzfyz3748GHC0r6xsTEqKgpFdurduzeXWiv9qdpQVFSEong4OTkRknB2dgaAwYMHFxcX0+l0FGG+d+/eTC/QsLAwSUlJAEA2SBcvXgQAQUHB58+fE03R6fTg4GBtbe2BAwdGRETQ6fRly5YZGBhcvnyZsc6FCxcAQFNTE2kgoaGh3bp1AwBi/4GojJYGpaWl0eT+99QGNze3Jkuq/fv3E83S6fSIiAgAEBMTQ3ZKhNowePBgYtDQ6fSrV6+iwUQsWNbV1Y0cOZIxZGBjY2P9j8TYPs5zCwKNjY26urqKioq8HA7zw4cP+/btI1y5d+/efcmSJejx5BY5sqUT+YHYsWMHcXXbtm0AwGsaftN5rVGjRlEoFNaDbXQ6PTc3V11dXVhYmPXYGIEbCTKenp4AYGxsTAJefpuF8vLyvn37CggIhISEsDYSHx8vKyurqKjI9PVnrcm9JTQarZURosrKygYOHKigoEDuFaUnT54AgIGBwffv31nFevLkSbQmSyy5stYhQcn8+fMZJ3WMHFVXV0+YMAEAHj9+zFjOLfk/VRvodLqjoyPyp4QOBBcVFQ0ePBgA3Nzc6HR6bW0tih27fv16VlBMTEwA4K+//qLT6WhFf+zYsazH6QoLC/Pz82tra+l0OjHUqqurk5OT/fz8/v77bxRBQ0tLCx1vQGcbAODVq1dMnUZGRqI9dKSctFVtQL0T2nN9fX1GRsbTp0+PHTs2dOhQAJCUlIyJiUG7DShY5rFjxxhpKCoqUlVVbQqXePDgQVSOlBxJSUnSu6pkxIHr8h4eHhtakTZu3Ojs7CwnJ6empsbLagOSb3V19fnz53v27Im23To/8mO7DzO0usHPz79mzRpfX99Xr16h/c+DBw9GRUW9/jlFRERERkaS0iDh+/fvMjIyioqKzS2YLVq0CABYT6+1u0S6sMHQ0FAAGDBgQHl5eReS0bVd5+TkUCiUQYMGNedKbsqUKVQqNTw8vGvp7KDeq6urV6xYoaenR+w3nj592o5dcnBwsLa2lpSUVFVVJbfacP78eQBo7lRPTk6OgIDAyJEjyf3U6Ovr8/HxNTepO3bsWNN0kWly2EFDtN2bbQe1gXCahOzynz59SqVSu3XrhublOTk5aDvi4sWLrNQj46IJEybU1dXNmzcPABYsWMBajakkKCho3rx5vXv3FhYWRtMR9JdRbUBxG9CWAuPtxcXFPXr0aDplgc5UbNy4ka2R0urVq9kaKRFKS2Rk5PLly/v168d0HJBRbaBQKE2PB2sQdXTSY8SIEfX19XQ6fefOnQBgaWlJaCOMBOM8hyCA1ELG8dZyXl5entzfhl/K5cuXL15eXpaWlsQzQoIoeDU1NQsWLCBELywsjCwwhYSEREVFu7EkaWlptI7wS7i4q0JdXZ2GhoaMjExznoJsbGyaDC+9vb25i682UVtdXW1qagoAGzZs4Nm399evX1EMr+ZmgWPHjqVQKC9evGgTttxSOScnB5k2ECchzc3NifcD24yCggK5jZTu3LkDACtWrGArxKSkJH5+fkNDw+YGDNu7uK7Q1NSUQqE0F+d0165dhKEN17HWDmpDSUnJoEGDAADZKaFDxoaGhshdQF5eXt++fZtMYNmqDejIiLGxcU1NzezZswFg0aJFLYBIo9H27t2LTg/Ly8vPmDFj9erV7u7uyLxYU1OT2G0QFBQUFhYmfCsRbRYVFSG1AdHT3G7DypUrW1Abrl69imZCEhISU6ZMcXJyOnbs2Llz5wBAXFyc2G0AABkZGeSDlSCATqdHRkaiGUZERERjY6Oenh4AXL9+nbEOznMaAqNHj+bj45szZ46Li4tTK9KuXbtY9804jakOoiclJWX//v0ocgv6cJqZmXl4eBB2zx3Ub+c0W1tbe/r0aQsLi4EDB6qoqCC1QUpKSklJSeHnJC8vr6qqGhcX1zmEdXIvVlZWTcLduXMna7/BwcEyMjKELShrBdKUZGVlIUu8xYsX8+YyQW1t7dixYwHgzJkzrGK9e/eusLCwuro6slhmrcDtJY2NjcePH58/fz5h2jBr1iwAWLNmzT52aefOnWfPniX3geDIyEghIaGePXsmJCQwybexsXH58uUAsHLlSqZLJPuJJqX29vasPojT0tLQYjqXbsG1g9pAp9Pd3NzQieTs7Gw0V9i3bx8aBPX19cjHgqurK+uwMDIyAgAUZxqdQp4wYQLTXmdpaenOnTsdHR0TEhLy8/ORiZGDg0NWVhbRYEBAAABoaGgQagPaiGA6JoFOIKC1gWfPntHpdHSWa9asWcQ2ArKDsra2Zqs2NBlTff/+HTkEMDU1TUpKIhaZcnJy0NkGRrWhR48erE8OjUZDCxJ79+6Nj4+nUCi9evXiEZdkhMi4LjN8+HARERHGUcd1LHQ0wbW1tREREUuWLFFWVkbagpSU1Pz58589e8b0UHc0JZ3QPo1GKygo+PDhw+LFi9GcKTMzM+Pn9P79+8zMTLL6W/Tx8QEAKpX6119/hYeH5+Xlff78OTk5ed++fcjnYGu2jjtBUh3XxZcvX/755x8LCws02seNG7djx449e/bs+i9t2bIFfWg6jgZOaBmdLRQSElq5cmVkZOSnHykuLs7NzQ25Pdy4cSMn0Nk5NMycObPpXCWJz3L8Esbq6mo0g1JRUfnf//6Xnp7++fPn3NzcoKAgpFMJCwsjfzm/bIp7K0RHR6PBb25uHhAQkJub+/nz58zMzLNnzzaFVAeAMWPGcKn22D5qQ0hIiIiIiJCQ0IoVK8TExISFhRk9jaCjIcrKykwmQ8HBwehI9PHjx+l0OjooIyQkFBoayjhWgoKC0Es5MjIyJCSk6VSAsLAw01wcKXZaWlpoxzw0NBRpF/b29oxN0el0FxcXAJCQkECnM5ELo1GjRjFWy8jIQNbYbD0pEaOB6RAkenVKSEggF0/h4eFNkwk5OTnC4xNjF5cvX246Rqmvr48Mo9nqVIz1cb7LEdDT0+Pj42MrzS6njRMIyMzMnDFjBuH1uH///m5ubklJSZxAW4fSgHYsfXx8OrQXzmx869at6OXctOEuKioqJSWFtoLRR5H0M6e4C+3o1gAAIABJREFUuDjCAI/AgSmzbNkyzpRdO1LVdCYYLSEj3sXFxdGXHf2cNm0aTy2KTZkyBQAYp0DtCDW3NJWVlYXOuKKVBWlpaTQlAwAKhcIUiYtbmGornZcuXUJ70WjWKiMjQwQ2UVdX595d6PZRG2pqapA3VYTRlClTGP3uRUZGorV/Y2PjpKSkuro65KQPuVvV0NBAsZDz8vLQWeGhQ4dGR0fX1tbSaLTExETkZcjQ0LCurg6pDfz8/E1R92praxsaGioqKs6ePYtcnaqpqSH3RIQDVj4+vn379pWXl9NotMrKysuXL6PXmZOTEzpXcO3aNSTRO3fu1NXV0Wi09+/fm5mZofcdW7UhKSkJxV7YunVrTU1NQ0NDZWWlt7c30izFxMSQEWfLasO3b9/U1NQAQEBAQEhIiGmvKigoaNKP5Onp2daRiut3EAITJ05UVFTkhXnw7wF4+/Zt9NSMHDnywoULjN7Dfq9BbrmrKUT9pk2beHNg1NbWenp6Dh06lDhm1vRyVlBQ2LZtG2MkH24RZVvpzMvLc3Z2njdvnsOPNH/+fPuf0+zZs2/cuNHWZrmxfkVFxT///KOtrU24HRcQEFBVVT106BBZzZOaE5O7u/uiRYtIrzM3xz5Rnp2d7erqKi0tTcyVRURExowZw7TeStQnZebp06cmJiaEysTHxycpKbl8+XIidBg3ct0+agNxrhfNG9zd3ZmwOHDgAHIrJCMjY2JiMmbMGKRgSEtL3759m6h87do1ZEEkKio6btw4MzMzGRkZtI6FtrS+fPnSp08fAODj4zMyMrK0tEQ+lOTl5dF3a+zYsR8/fnz9+jVqH6199unTx9TUlAg1MmTIEML5aX5+Ppq+CwoKmpiYTJo0CfWINtnt7OwQbeiEtK2tbZNFVl1dHYoUCwAjR460srJCdlmSkpISEhIotEdCQkJMTAwASEtLN6dTotPYyH8fk68VItwbL4QKIqTP4ZnS0tJv374hbZPDSe0S8p49ezZnzpyHDx+Szx6pS/Dkok4rKioSExO9vb1v3br1+vVrch/3ZJULo4Er01XChJWpnKw/GxoaMjMzAwIC/Pz8UlNTGVcPycoy5qtlBPLz88PDw2/cuPHw4cPU1FQe/DqgxWg/P7/r16+/ePGCBPFP201tiI+Pl5SUFBQU7N27d2pqKutIun37tp6eHrGFzc/PP3HiRNazB/7+/mh7AWkgaLP7yZMnRIMhISFEQEq0Wm9nZ5eQkIC2CPj5+aOioqKjo8XExOTl5S9cuIBOa6HWxMTE5s6dy2Se/vz5c0YnOfLy8idPntyxY4egoCAR9mHTpk2CgoKEqW5iYqKRkRHBCwCYmZlFRUWtXLkSFT569Cg1NVVYWJjtqSDES1RUFNJtTpw4QXCHMleuXBH8kXhkL4+JffyTGxHAUwRulFqbaP73338vX77cnOukNjWFK5MMgaSkpMDAwEePHgUEBDz5kQIDA/38/Hx8fLy8vMjqRumXQmxoaMArTb9EiZQVHj58eObMGVKuobSb2kCn0/Py8j5+/FhQUNDcICgtLU1LS3v48OGTJ0+ys7ObOw7y/fv39PR0Pz8/X1/fxMREppV4Op1eWlr66tUrLy+vkJCQnJwctKJTWFjo5+cXERFR+yN9/PgRfd4qKioiIyPv3Lnz7Nmz3Nxctss/paWlL1++vHXr1qtXr1Dclqqqqo8fPxJ+90tKShh/Np2lrqysfPv27b179wIDAzMzM1FMifLy8idPnjx//ryqqopGo+Xk5OTl5TU3nQoODqZSqT169GB191RRUfHxR2IbLaU5eHF5ZyLw77//zp07l61/sLCwsNmzZ7Nqg51JXlf1VVtb+/jx40OHDjk6Oq5atQpZqiQlJW3YsOHatWstrMt2FcHt0u/Xr1/v3Lmza9euBQsWHDx4ED3yT58+3bBhA+vKSLv02PmN1NbW6unpUalUxrNnWVlZcXFxZD3z3fkgc2OPNBpt06ZNaJeeWOxjymhra/OUW7mSkpILFy7Y29uPHTt22LBhFhYWu3fvjoyM5Eb5/h7NZWVlQUFBhFkHYyNnz551cXFhu7jMWI3b8yjqsaqqqpubW2xsLLezw0h/e6oNjO3i/C8RQA5nieMTv6yPK3AUAvb29k1n6//3v/+xUvX8+XMAUFVVRQEQWSuQtSQhIWHq1KnEjEFRUTE9PZ1Op2dkZIiJiUlISHC1QWdzUgsICGDc/5w0aRKaRiNHQ2PHjkVrCs3dzi3lnz9/VlJSkpeXZ9yttbGxkZKSYnJQwS0cdTSdnz59unr1anPxnjq6905rPz8/H5kWGxoaLly4cMGCBX/9nJq+cTt27OAd3TI3N5cwYyZehgAgKCjo5OTUynjSnSa+DuooMjISRcRiXSpCfhS2b9/eQV1zSLOPHz/W1dVFA0BQUNDW1tbLy4scNlpYbejsMRYfHx8aGrpv3z4+Pj4qldpcNJDOJgv31xYE6urq0OE/tvPgr1+/DhgwQEhIiKeWl4qKipBfBGlpaXNzc6UficDHyckJAC5dutQWmLmgbnR0NFpnVVdXnz59Oh8fn5mZGfo2VFVVGRgYUKnU5k43cQF7DCSmpaXJyMjo6uoyKsNIS+Spcc4AyS+yfn5+ALBq1apf1OPyyxUVFUhtvnLlCpez0j7ko2hUAGBoaLh69eqtW7fa29sTboV4xK/U27dvAcDa2prVviM+Pp6Pj8/Y2Jgcc+gWBk1RUZGPj8+MGTMIx2K6urpHjx5lXHlp4XaOvYTVhs4WDdq6QjrosmXLWEOBdDZBuL+2I1BWViYlJdWvXz/CjI2xDRqNhmLH8pTLiOvXrwNA//79UXzDWbNmMW4vPHjwAABcXFwYgSJBHsWFtLKyQgfdevToYWRkRHwOkWNoEsTGptPp+fn5vXr1kpKSQjtISHaWlpZ8fHykDIP954PzyZMnAODo6PjnTXF4C9HR0QYGBqqqqqdOneLNmHeEgMrKypSUlADA1dWV0Qy7vLz8f//7n7i4OADs3buXqE/WDFIbbGxsWNWGwsJCERERXV1dckT/bI0EY2Ji3NzctLS00MRPQUHB0dExODi4NfdyYB2sNnS2UC5evNi/f399ff0dO3Ywrtt1Nh24vz9AoLS0VFZWVklJie1JnvLycrTu/ujRoz/ohMtuRZETT58+jeieOXMmo9rQwp41l/H5M7mGhoYUCoVYbmdSG1AsmoMHD/58E1f+qq+vnzhxIgDMnj07Pz8f2R7MmDGDj4+PZJa7LYinrq7Ox8cnMDAQnXOtqalJTU2Nj49PYElpaWlnzpzhhWi4dDq9oaHB3d0dORLU1tZesmSJm5vbxv+Si4vLmTNnWKePLeDMvZe+f//eo0cPACA2Whl5OX78OFpbYdQoGCuQJp+amgoAhC9KRr58fHwoFIqFhUVzxz4ZK5MpX1xc7OPjg4LKA4CIiMj06dODgoJY7bg4nGusNnSBgGg0Gvau0AW4t1+X9fX1yN8X2wWDqKgoCQkJcXFxnlqFRaHiCefLM2bMYFQbbty4AQA2NjZc94psedSMHj2aSqWiDZaGhgYmtQHtRRw5cqTlRrjlqq+vL/KjrampOXfu3BUrVqirq1MoFFtbWxcXF+efk5OT044dO0jm1OHu3bvI/ffTp0/pdHpSUpKKigrhlp7RkJ3Ir1y5klvk+3t0VlVVTZ8+nfBMTzDOmFFVVS0vL/+99rnrrsbGRltb2yav8Wy9IH758kVdXV1CQoJxy467GGyB2nfv3j158iT4R3J3dweAUaNGPX36FJUEBwcHBgaeP39eXV29KQbc7t27W2iKlJc+ffp09OhRFRUVxkcDABwcHLjLPR1WG0g5PjFTHY7Ali1bkHdgJjvFDx8+TJgwAQBGjx7NO6cA6XQ6UgxGjBiBzHVsbGwkJCTQ27CoqMjIyIiUu/PI5pAwRJGXlzcxMUGDLzo6GgWbZ/Qf3eHjsoM7OH/+vIKCAtNnr7mfIiIiJAt65efnJygoKCUlFRYWRqfTExIS5OTkAED8RxL7OUlISEhLS2/evLmDZdLFzX/69AnFR3JycnrwI3mzpODgYN4xx42KipKVlRUVFQ0ICGCSTX19/fjx44WEhOLj45kukeAn2o1s7m3AWD5s2DAU5JcEXLeGhezs7G3btiF9CQBkZWVdXV1DQkL27t2LwgSbmJiwNXhuTeOdXwerDZ2POe6RDAjk5OSgAILq6uqurq5NsXIfPny4e/duIvj3/fv3ycBnq3koKipCx/5GjBjx9OlTY2NjKSmpf//9Nzg4eNKkSehdmZKS0ur2uKPi27dvRUVF0Xb8s2fPunfvPmbMmLi4uNu3b2toaKCIkKwupLmDt2aozM7Ovnbt2v79+9etW6eiokKlUufNm7d27VrXn5Ozs/OePXtIttvQ2Nj45s0bwjlSYmKimJjY0KFDv/1IRewS6R2PVldXW1tbN3kK2r9/fzNDhueKz58/LyoqKiMjc/bs2W/fvtXV1dXU1NBotE+fPuno6EhISMTFxaFCcrhZQwJeuHChpqZm3759tbS00Jq6uLh43759+/Xr17dvX01NTW1t7eHDhy9YsICUmy1sR3lycvKWLVuIpRY1NbX169enpaURlV++fIm+FE3hwohCDs9gtYHDBYTJ41wEwsPDBw0axLiIgvIiIiJHjx7lXLo7jLLg4GDi/UilUgUFBRUVFREm3bp1u3z5cof13JUNnzhxAq22Ik7FxcXRCjQAqKurE8ceupLEDut72rRpTbZnbL2zd1ifHNRwQkICPz//0KFDOYimriDl8+fPf/31Fx8f39SpUx89elRXV0djSHV1dTxllLt//34zMzMpKSn0QjAwMDAxMTEyMpo4ceKIESMEBASoVOrw4cNNTEwmTJhgbGzMuinRFTJshz6/fv2KYlXl5+cHBgYCwLRp03Jzcz9//pz3I+Xn55NeiyZwzMzMXLduHdpwbvIi2KRH7dy5k220Cl9fXwCYMGECcS+HZ7DawOECwuRxNAL5+flr1641MDDo3bu3kpKSlpaWlZUVsnvmaLo7jLjo6GhLS0tZWVn0yQSAbt26jRkzhjSfRrbI3bt3b/jw4cLCwgTXcnJytra2SUlJbOuTpnDRokXKysqktLhojYySk5MVFRW56HvfGqbaWqe+vn7t2rVoxbTJZp1KpWpoaGgzpD59+sycOZP0h4AJ3CZPnky8B1qTYRv8h2iNSzPv3r0DgBkzZnAp/X9O9p49e5D0+/Xrt2/fPmS7y7bZnJwcSUlJVVVVbnEbgNUGtnLEhRiBNiDQ0NCQnZ2dkJDA1rFSGxoiS9XIyEgPD4+jR4+eO3fu2bNnvOAxo6amJigoqMmfzP/+979Lly5FR0eTRZgt8ZGbmxsXF8c7M0ImLCoqKkJDQ3lE1ky8Ez/r6uqmT58uKCgo/SOJiYkJ/5yoVKqhoSHvLDM/f/78woULl1uRLv1IbFegCXi5NJOdnT158uS9e/eSzAdG68WxadMmbW3to0eP/vJ8V1pamqCgoJqaGlYbWg8vrokRwAhgBDACGAGMAPch0NjY+Pnz57S0tIz/0vufU1paWk5ODs9OH7lPou1EcWVlJU85BWGCLTs7+5cKA7qlsLDw4MGDt27dYmqBY3/i3QaOFQ0mDCOAEcAIYAQwAhgBjABGACPAKQhgtYFTJIHpwAhgBDACGAGMAEYAI4ARwAhwLAJYbeBY0WDCOAuBo0ePrl69+vDhw1euXPHx8Xn58iXJnEu2Fe63b982xSvYsWOHu7v7nTt3njx5kpmZ2dZGuK7+7du3nZyc9u/ff/Hixfv374eEhBQWFnIdF79H8IkTJ1avXn3o0KErV648ePAgPDyc1+Lcf/r0ycnJyc3N7dSpU7du3fL3909KSuIWi+TfEzrbu/bt2+fi4nL06NFr1675+vq+fv2ad44usAKCPw0fPnxYvnz5li1bTp8+fevWrYCAgOTkZF4zS7tz5w6PfBqw2sD6EsAlGAE2CAwcOJDRLYaUlFRoaCibejxThOK7MWKyfPly0nO/YMECRpYpFMo///xDeq4Rg8OGDWPkXVxcPCgoiEd4R2zGxsYyIgAAkyZN4sEZs6qqKiMOCgoKvHwuHH8aXr9+zTgeAMDc3JzXDjYsWrSIEQQSfxqw2sBTXz3M7O8jYGtrq62tPWrUKDMzMxsbm3Xr1vHC4noLePn7+/fp00dfX9/Y2HjGjBkLFizw8vJqoT45Lu3YsUNTU3P48OGTJk2ysrJydHR89eoVOVj7JRfz58/X0tIaOXKkqamptbW1q6srY9yiX95OggppaWmampq6urrjx4+3sLCws7M7c+YMmSJ2tVJGU6dO7d+/P3oZ2trabt68maeC/jKhhD8NcXFx6urqQ4YMmTBhgoWFhb29/blz53gnLjgaD7t27dLU1DQ0NCT9pwGrDUxvAPwTI8AegaKiotLSUvbXeLK0qqqqsLCQ174NpaWlRUVFPClw+rdv30pKSniTd8R1XV1dYWFhdXU1L4NAp9O/fv3K4yaajAMAfxpqa2sLCwt5bXuBcQzQ6XT0aeAF0yysNjCJHv/ECLBHID09PSYm5v3793l5eSUlJTwV95QtIsXFxVFRUcnJyR8+fPjy5QuPOO/Pzc2NiopCPiW/ffvGUyvNGRkZ0dHR6enp6BHgNY2RTqdXVVW9e/cuMTExKyuroKCgvLyc7aNB+sKUlJR3795lZGR8+vSptLSUx1+G+NNQWVkZExOTmJiYnZ1dUFBQUVFB+keAlUHe+TRgtYFV+rgEI8AGgVGjRgGAjIyMurq6np6ehYUFzwbHRejcuXMHAERERJSVlXV0dMaMGXP8+HE2wJGryMnJCQAkJCTU1NR0dXWNjIz8/PzIxWKz3BgbGwOAtLR0nz599PT0zM3Nec2iPSEhAQAEBAQUFBS0tbVHjBixYcMGHlxkRdb8srKyGhoaBgYGVlZW6enpzY4bsl/An4aoqCgAEBQUVFRU7N+//8iRI93c3Hghyifj0HZ2duaRTwNWGxjljvMYgWYR0NXVRQee+Pn5xcTEVFRUwsPDm63NAxcYj0SLiIhIS0uvXr2a9HwvXLgQDQMqldqtWzdZWVkPDw/Sc40YHD58OOMj0LNnz+DgYB7hHbHJeCRaSEhIUlJy+vTpPLi22qdPH2IkiIuLa2pqxsTE8NRIYGQWfxoiIiLQeAAA9FzMmjWL12z5Fi9ezCOfBqw2MD7+OI8RaBYBDw+Pv//++/bt2yEhIcnJycXFxbxgxdgsHHR6QkLCjh07PDw8/P393759m5eXxwsWO35+frt3775+/frTp0/j4uK+fPnCO/43r169evDgQU9Pz2fPniUlJfHgI5Cfn79nzx53d3fkdTQ7O5tHbPOY3gPu7u5Hjhzx8vJ6/vx5amoqjx/6wp+G3P/H3nkARJEsDbjJwUD2RDEcgqJgwnwqxlNPwJxzxoz51DOjYNYzoWDEnBAOQQVzTqCCoCLZAEhaMuzCzo/Wf/3mZhcEdoFdqHk+rme2p8PXMz1d3VXVnz6tX7/+4MGD8F5ERUVVNZmBYRhvb+/169dXhU8Dig2c/hBPkQASQAJIAAkgASSABJAAEuASQLGBSwTPkQASQAJIAAkgASSABJAAEuAQQLGBAwRPkQASQAJIAAkgASSABJAAEuASQLGBSwTPkQASQAJIAAkgASSABJAAEuAQQLGBAwRPkQASQAJIAAkgASSABJAAEuASQLGBSwTPkQASQAJIAAkgASSABJAAEuAQQLGBAwRPkQASQAJIAAkgASSABJAAEuASQLGBSwTPkQASQAJIAAkgASSABJAAEuAQQLGBAwRPkQASQAJIAAkgASSABJAAEuASQLGBSwTPkQASQAJIAAkgASSABJAAEuAQQLGBAwRPkQASQAJIAAkgASSABJAAEuASQLGBSwTPkQASQAJIAAkgASSABJAAEuAQQLGBAwRPkQASQAJIAAkgASSABJAAEuASQLGBSwTPkQASQAJIAAkgASSABJAAEuAQQLGBAwRPkQASQAJIAAkgASSABJAAEuASkEhsEAqF8fHxERERSUlJ3IRLe56YmBgWFpacnFzaBGT6vtzc3JiYmE+fPuXm5hZR0ISEhMjISB6PV0Qc/AkJIAEkgASQABJAAkgACZQbAYnEhrS0tOHDhxsZGS1dulRaJV64cGHdunXXrVsnrQRlKh1/f39TU9NmzZq9efMGCpaenh4aGhoTEyMUCmlRp02bZmRktHnzZnoFAzJCID8/38vLa/LkyT179rS2tt6wYcPHjx9lpGwyW4yHDx9euHDhxYsXMlvC0hUsLi7uxo0bf/7559ChQ62srEaNGrVt27bQ0NDSpSandyUnJ1++fHnu3Ln9+vXr1q3b6NGj16xZ4+/vL6fVkVaxY2NjL126dOvWLYFAIK005SKdFy9euLu7XxE53N3do6Oj5aIKUixkamrq6dOnJ0yY0L17dxsbmyVLlhw5ciQjI0OKWchyUp8+ffLw8Cjsebhx40ZWVpYsl1+6ZcvKyjp58uT48eO7d+8+adIkV1dXOX0SJBIbUlJSOnbsSAgZP368tPiOGjWKEDJ79mxpJShT6Tx48ID8OJ48eQIFu3DhQo0aNTp06MBef+jVqxchxN7eXqYKj4XJzs5esGABtCD9a2xsfPv2bYQjlkBGRsbKlStVVVUJIaNGjRIbR04vRkREmJiY0MeABszMzB48eCCnlSpFsfft20frrqCgAGEtLa2DBw+WIrXKcQufzx88eDAh5Ndff/3y5UvlqFQxazF8+HD6PHACVW0i7O3bt1ZWVhwIBT3h+/fviwlT3qMdP35ctPr0St26dauOJJmUlAR9Aq0+IWTAgAHy2D9IJDbweLxu3boRQqZOnSqt53vChAmVeMQcERExbdo0Ozs7+racOHECvi45OTmU4Z49e4YPH3758mV6BQOyQMDZ2Rne+fnz5z9+/Njb27tTp06EEBMTk8+fP8tCCWWnDNnZ2ZcvX+7SpQvtJceMGSM7xZO8JC9evKhRo8a4ceMuXrz44sWLV69eubi4/PLLL4SQbt26sRcPJc9LllM4cuRIt27djhw58vTp01evXnl7e8NcUvXq1YODg2W55GVXtr///hse+0aNGsnjsEASMiNHjoQvWs+ePXv8e3Tv3t3KyurChQuSpCxf98bGxrZs2ZIQ0rBhwz179jz7cRw9enTIkCHh4eHyVZdSl9bb27tly5bm5ubNWUfLli2NjY0JIY0aNao6mtgrVqwghDRp0sTT09Pf33/Xrl01atQghPz999+lxltRN6LYUFHk/z/fixcvEkLMzMwquByY/c8IpKWltWjRghAyceJEOii8desWjA927dr1swSq1u9nz54FMjY2NjDLMnbs2MqEgMfjieqnHTlyhBBiYGAQFRVVmSpbRF1ycnLy8vLYEd69e6enp0cIOXToEPt6FQkHBATUqlULHn5TU9OqKTY4OjoKWUf+j4N2m1XhSdi8eTMhxMjIiGoW0FpXHQ5CoVAgcjAMM2fOHELIsGHDKJPKHcjNzTUzMyOEeHp60pouXLiQEDJ8+HC502OUstgQGhq6cePGkydPCgSCu3fvrly50tbWdtiwYTt27Pj27RvlBYGUlJSzZ8/a29vb2NiMHDny0KFDaWlpM2bMEF1tSExMPH78+KxZs2xsbMaMGcPWCUtKStq2bduaNWtOnz7NTj89PX3//v0rVqw4c+aM2FbJz893d3f/66+/Xrx4ERMTs2vXrvHjxw8ePPivv/7y8fFhJ0XDz58/37p167hx4wYNGrR8+fJLly6xlwggWkhIyIYNG4YNG2ZtbT169GhHR0f22OLLly87duzYvXt3QkJCSEjIxo0bYUlXT09v/fr1W7ZsiYyMZBjG3d19/fr19+7do1kXvGkJCQnHjx+3t7e3tbWdNm3a3r17P3z4wI7w6tWrNWvWXLlyRSgUXr16dfHixTY2NqNHj3Z2dmar0KWnp+/evXv16tVnzpxh347hoglcvXqVEKKurk7tUhiGgceVENK9e/fU1NSiU6hSvx4+fLhly5a7du1KT0/fs2cPIaSSrTaIbU2YBTAwMKDLiWKjVe6LQqGwQYMGhJAqKEtnZmaCimmrVq2UlZWr7GrDli1bKvdDXnTtYmNjGzVqVDCDsH///qJjVsFf/f39NTU1q1Wr9uzZsypS/ezsbCMjI0KIu7s7rfLSpUsJISNHjuRMu9AIMhuQsthw5cqVAjQtWrRYvny5oqIizLjA306dOrEVOUJCQqB7Zcfp/OPgiA3Pnj377bff2NEIITY2NgkJCQzD5ObmwshbU1PTy8uLgt6wYQPccvLkSbHCfU5OTv/+/QkhPXr0gFlkmoWSktK0adPY7qEyMzM3btxYs2ZNGgcCAwYMCAsLg0yFQuGpU6foPBONaWho+M8//0Ccx48fKysrV6tWLTg4GNSTaDQIwFNlY2NDCFm2bBmtzoMHD9q3b8+JXL9+fTc3t/z8fIh28OBBGL+K6t8PHDiQDmrDwsKUlZUJIVZWVjR9DPyUwPz58wkhHTt2pFLopUuXlJSUCCEKCgrVq1dHM1A2w5SUlLS0NLji6OhYFcQGPp8PXYq1tTUbRVULX7x4UVVVVUFBgTPxURU4wKPesWPHixcvKioqVkHbBlBSkkfVCyk+n25uboSQKqW7X0x6KSkpHTp0IIQ4OTkV85bKEW3AgAGEkA4dOnz9+pVhmIiIiMaNG8vpkqyUxQYPDw9FRUUYlbZp02b37t1ubm6zZ88GUzk6Dk5KSmrXrh0hRFlZ2c7O7tixY3v27OncuTMdFlNr4MjIyIYNG4Iaz44dO06cOGFvb6+urk4IsbW1BTP8qKgoWABq1qwZSCZ+fn4aGhqEkCVLlhT2zOXk5Nja2tIchw8f7uLicujQoT/++AMusg02HBwc4GL79u337t177NixSZMmwZW2bdumpKQwDBOV+VfwAAAgAElEQVQTEwMyQ4cOHVxcXM6ePevk5FSvXj1QaIM4jx8/VlNTq1GjxuvXr8PDw1euXNmnTx9CiK6u7uLFi1euXAnGUvCELV++HAofHBwMOtPVq1dfvHjx8ePHHR0dYTJDWVnZw8MDoh06dAiQEkJ69ux54MABNze30aNHQznptMfHjx/BRLVHjx6FwcHrogSGDh1KCJkzZw78FBcXZ2ZmpqCgMGbMGGidW7duid6FVxiGqSJiw/r16wkhNWvWrFIm0QzDCIXC9PT0hISEwMDA3bt316lTR0lJafr06aKLsZX7dXj06FGNGjVUVFQePHjw+vXrqmkSDU5N2rZtO3/+/B07dly5ciUuLq5yt7to7WDAMHLkSIZh0tLSfHx8XF1dPTw8RHUuRO+txFeEQuG0adMIIf3792drQFTiKtOq3b9/X1tbmxDSqVOnEydOgK18v3795NG6Q8pig6enJ8gM3bt3T0xMpMjgWenSpQtM/IPFmJqaGlv5lcfj0TEuiA15eXkzZ84khLRv3x60dyDBy5cvg1Rw9epVuOLr6wtX5s2b9+nTp9atW8PQmU6x05LQQE5OzsCBA2GqeM2aNXSdKCcnZ+7cuYQQDQ0N+PwHBQXVrl2bEDJo0CB2pQ4dOgTi0NatWxmG8fHxKZCh1dTUHj58SHO5ceOGmpqaqqoqONt58uSJhoaGlpYWdUZ55swZkCvoLQzDDBo0iBCyYsUKhmHy8vKmTJkCooWvry+N9uHDB1gkadOmDcgkLi4uICGMHj2a+jXLycnp168faOTDvampqUeOHNm3b9/169dpahj4KQGw7qWugUExcejQodSjzsWLF3+aSNWMUBXEBnj7FBQU9u3bV9VaOTQ0tHnz5tra2tWqVYMuiD3nUkVo8Hg8cJCwYMEChmEePXpUNcUGa2treAbgr5KSUqNGjbZu3Vqlhomguw8q0BYWFhTIr7/+WpU/EzCzWbduXY5+dRXpIq5cucLWWBkwYEBsbKw81l36YgPoJnGGpDA4btWqVVZWVl5eHl3Kp4N1YBccHKyvr0+VlCIjI0FH9ty5cxy44HBp9OjR9PrGjRsJIZqamrCOYWRkVLQfDyo2tGnThmpTQGqxsbGwxLFo0SKGYUAzW19f/9WrVzQ7CIDg0a5dO4Zhbt68Cb3DlClTqOYSwzC3bt06d+4ciD2iYsPp06cJIY0bN+bz+TRxttgQFxcHFvd//vknjQABUKQmhIA4AQOXmjVrBgQEsGOuW7cO1LrYWbAjYPinBAQCAQhpsPh++/ZtVVVVbW3toKAghmHgw3DgwIGfplM1I1R6seHcuXOwBOrg4FAFmzgsLKxfv34mJia6urrQB5qbm+/atYuq81UFJuApxdLSErRb79+/XzXFhnPnzv3555+zZs0aOXKkpaUlHTHb2dmxnYxX4kdCKBSC4rSVlVWDBg0UFBRGjRq1atWqHj16FHjO0dHRuXTpUiWufmFVCwgI0NfXV1BQOHXqVGFxKvf1p0+fspXYp0yZkp2dLY9Vlr7YAGN3thkDwzAwwG3evHl6enrB9kDNmzcnhDg6OnKQ8fl8UOuH1Yb79+/DGkKfPn1mzJgx5d9j2rRpbdq0IYRYWlrSdfDs7Gx4V8Fu9afeS3NyckAXaP78+ZxiMAwzdepUQsiIESOEQiEotYu1BDh8+DD4Efv27VtqamrPnj2hlzQ0NOzbt6+Dg8Pdu3fZT4ao2HDy5EkQG2hFOKsNT58+JYQoKirev3+fU87k5GQDAwPqwwvEBhMTE4544OTkRAjp27cvXYLgpIOnPyVQsMsbPHIuLi58Ph+mFTdu3MgwTEpKCujIHTt27KfpVM0IlVtsuHTpEnRTa9eurZrtm5eXl5qaGh8fHxkZef/+fbpovH379ioCxMfHR11dXU9P7/Xr11BlUFJq1KhRle118/PzExMTr1+/Tq3yTpw4UUWeBzDwIISoqKhQISEzM9POzg40ruVRNUWStktPT6fO+sXamkqSuFzc6+3tDXPiffr0GTZsGAwUhw4dKo9PQpmIDXXq1OEsvpw/fx5MpbOzs6kNAFtDiTY8jNdBbHB3d6dzFWIDxsbGbL1JamSsp6fHnu+nibMD1LYBBn/snxiGWb58OSGkd+/eaWlpoKw5ZMgQThyGYcC7jr6+/vPnzxmGiYuLW7RoEfgkpgW2sLBwdnaGV6UUYgNAUFNTi4iI4BQgPT0dpnPAhMPV1ZUQ0rJlS060TZs2EUL69etXZT9gHCClOwVdr3Xr1m3duhVsm5KTkxmGCQsLAwuWwhxwlS67ynRXJRYbbt68CVPsGzZsqExNJkldhEIh6FUaGRlVBWXujIwMGBI1btzYwcFhw4YNmzZtmjx5MkwtL1q0yMHB4dChQ1VKS4f9/Hz8+BG+iVXH4ebs2bNhAMCZlAwODgbrl7t377IRVfowfDRNTEzAILjS15dTwZiYGFNTU0JInz59kpKS8vLyYDKaEDJjxgy5W4Urb7EhKyvr27dvYEIu6p4vPz8fxuggNvj6+iooKKioqKxcufLUqVNHWMeZM2euXLni5+dHJ+k/f/7Mdog0aNCgopfI6WoDtTxmt/S8efPA6logEICTzd9//50dAcLnzp0jhNSrV4+972NkZGSBncO6deusrKzU1NSg+zh8+DDDMKUQG27fvg2GznQeixYjLS3t119/LZjS2LRpE8MwsNrQokULGgECKDZwgJTudOLEiaB1UK1aNRUVlZs3b0I6vr6+oKBS1Qxhi4+xsooNb9++hReQOnsoPpPKHfPZs2cKCgrq6upVwU/A169fYf2cThWJBoyNjTlTaZX7AeDUDswFLSwsOGrJnGiV5nT16tXwDFy7do1dqdjY2CZNmhBCqCMT9q+VNRwVFQXa5nv37q2sdSy6Xn/99RchpH79+nSgKBAIYFVWXV39p3PcRSde/r+Wt9iQlpbG5/PB9eqkSZM4FY6LiwOZDMSG4ODgWrVqKSsr0yEajf/ly5cLFy7AHD/YDYO1Q5MmTVatWgWegsBSmd7CCVDbhj/++IMjYGRlZYFbpylTpjAMA1YTjRo1io+P5yQCrk4tLCyysrLevHlz7tw5tl1Bfn6+n58fKL6DT8YXL15wTKJBSalJkyZsiZNt2xAZGQlW5s7Ozpzc/f394SfYfRPFBg4f6Z7u2LGDjgbYc0igA/brr7+yrfalm7W8p1YpxYacnBxwrjV48GBcx+M8okFBQUpKSsrKytRrBSdCZTrNysry8PBwcXE5+u/h5ua2ZMkS2Phv586drq6unp6ebG3VylT94tQFHA9aWFhUEQWVM2fOgG/uGzdusPm8f/++Zs2a1apVe/r0Kft65Q7DJpj16tUT1Zio3BWH2gkEAvATMG/ePHZ9IyIiwEL6/Pnz7OuyHy5vsQH0OkAWr1mzJsex97Zt22BkBmJDdnZ23759wcaAriqAvz/wnTpx4kRA7OrqCqbYZ8+eFQqFIELUqFGjiAlgKjaoq6uz9+BgGObChQuQGiwR3Lp1S0VFRUFBgaO77O/vD5uhzpgxg2EYGD6am5tzPg+wXgmLFS9fvuSIDeDg2dTUlP2ssMWGnJwc8NXVunVrzoajI0aMIITUqlULtqQtptiQl5cXHR0dERHB1u9i545hsQQ+fvyoo6NDCGnWrBnd0yM1NbVjx46EEDs7uyryRRQLp+iL27dvJ4RMmDCh6Gjy9SvYvGpqagYGBspXycuhtLt37yaE/PLLL5wuqxyylpEs/P39weytCG9+MlJUKRZDbB8YFhZWt25dQsi4ceOkmJcsJ5WcnGxiYkIIAa8qtKhHjx6FpwIGQvR65Q6sWbOGEDJ06FCxj0flrjvDMAKBANz6w0CR1vfbt28wokCxwZMQUoRtA4y3IiIiYM+8hg0bnjhx4s2bN8+ePduwYQPMnVNPStR4APbSu3Pnzvv371+8eAEaRIqKiiDKv379Ghykjh07FvY+i4yMBOUBS0tLtstU2mAF1gtUbADfpvv27Xv58mVAQMDBgwfB2r1FixbgYSk/Px8G6IqKisuWLXv+/HlQUNDp06dhYURHR+fdu3cMwzx48ABknvHjxz98+DA8PDwkJOTYsWN16tSh3cfTp085YsOlS5cIITVq1HB1dfX19YU97NhiA8MwXl5e4Om1a9eu165dCw4OLkh//PjxkB21zSim2BAVFWVoaFizZs2BAweygWC4aAJCoRD0lBo3bgw7u6WkpMBGj0pKSuBgt+gUqtSvPB7v7du3QUFB7969s7e3J4RYW1sHBwcHBQUFBgZWApX3Xbt2wXTy1atXb7IOPz+/mzdvVh0V3l27djk7O9N5RD6ff+nSJTD+mz17dpV65tmVrZqelL59+zZ//nw3N7fQ0NDMzMzk5OR79+7BxIqamlqVUugHz1paWlrU4+qNGzcMDQ2pUjH7aancYfC/P3369MpdzSJqt2zZMtjSh+7PGx8fDwZg1atXr1pKSikpKW3btmXv/3r58mUYBHO+mqdOnSKEGBsb00H8lStXwJAU4sOwWEtLC1wD2dnZQRsIhcINGzaA0hHMrFPRYvXq1UKhMD4+HsrQsGHD6Oho2nJnz56FUfWYMWPEqhBQ2wZjY2PQTVdTUwOPKDCj/OjRI5paREQEWMQSQpSUlLS0tCBxIyMj2ink5OSAL3/4qW7dutQdoaWlZWhoKMMwDx8+hJ0i6BplUFAQdXZO9x6HPeDoRIVAINi2bRuNBhIq5DJ16lQ6b7F//36ATIsNAZD1raysgMOHDx/gXvAby4mMp0UQePv2LeyyV6tWraFDh8KDRwiZN28e3au7iNur1E+nTp2qVq2apqYm21N19erVNTU1NTQ0KsEWoStXroT3SOzfgwcPVpHm/u233wghDRo0sLGxGTduHCyNgvEf7ZqqCAp2Ne/cuUMI0dfX//TpE/t65Q7HxsZqamrC1GHnzp3btm0L6/bKysrbtm2r3HXn1O7Lly+wf5SCgoKNjY21tTUMY/r168dx+M65sZKd5ufng8P9KriXC23K8PBwsGkBRzvjx483NzeHD4ejo6PcLcJIpKSUlZW1cOFCKysr6mjv6dOnVlZWw4cPp1ocAO727dtWVlZTp05le5Pw9/efPn1627ZtCwbf5ubmQ4YMuXv37rZt26ysrPbs2UOJw5rDsGHDWrVqVadOncaNG/ft2/fSpUvA2tvb+7fffrOysuIoGjEM8+eff3bt2rVbt26wGsBOEFYbQNNp7dq1Pj4+vXr1atiwYb169Tp06DBv3jxR+S8zM3PHjh29e/c2NTWtV69e+/btZ8yY8ebNG3ay+fn5bm5uffr0adKkSe3atRs0aNCuXbvly5fHxMRAtHfv3vXt29fa2hqkCFC4On/+vK2tbdcfB8gqa9assbKyOnLkCDvxmzdvjho1ytLSsm7duubm5jY2NidOnGA/cD4+PlZWVtOmTWPfxTDMyZMnraysli9fDo5ZP3/+/Pvvv1tZWS1dupQTE09/SiAgIMDa2prKjSYmJuvXr+fYxvw0kaoQwdPTs/2/B7yhnTt3hgsdOnSoBM5qT506ZfXj6CzuqDputfbs2WNpaUknNTQ0NMzNzXfs2JGZmVkVnvPC6hgUFGRlZTVy5EhYQC4sWiW7npmZaW9v37JlSzpZoK+v36tXrytXrlSymhanOh8/fhwxYgR11W9sbLxkyZIqJTPACAfcw3AGdcUBWJniBAcHjxgxgs6Va2pqNm/e3NnZWR6dBEgkNkilUYVCYVRUFFucKCzZ3NzcyMhIac1gUQes1HPily9f2OsVhRUjKSmJigGFxUlOTg4PD//69avUnwmBQBAVFZWenl5Y1ni9HAj4+/t7eXn5+vpy9icph6wxCyQgawRycnKeP3/u7e3t4+Pz6tWrqjYwkrXmqPDyZGRk+Pv7X7t2zcfHhzOzVuFlK/8CBAYGXr169e7du1XZlVb5Y5fNHMPDw/38/K5evfry5Ut53LEBqFa82FBRrUvFBo6hc0WVB/NFAkgACSABJIAEkAASQAIyS6BKiw2gcrd69WqZbR4sGBJAAkgACSABJIAEkAASkAUCVVpsGDBgACGEKinJQntgGZAAEkACSAAJIAEkgASQgAwSqLpiQ15e3q1btw4fPizWYFoGmwqLhASQABJAAkgACSABJIAEKopA1RUbKoo45osEkAASQAJIAAkgASSABOSOAIoNctdkWGAkgASQABJAAkgACSABJFDeBFBsKG/imB8SQAJIAAkgASSABJAAEpA7Aig2yF2TYYGRABJAAkgACSABJIAEkEB5E0CxobyJY35IAAkgASSABJAAEkACSEDuCKDYIHdNhgVGAkgACSABJIAEkAASQALlTQDFhvImjvkhASSABJAAEkACSAAJIAG5I4Big9w1GRYYCSABJIAEkAASQAJIAAmUNwEUG8qbOOaHBJAAEkACSAAJIAEkgATkjgCKDXLXZFhgJIAEkAASQAJIAAkgASRQ3gRQbChv4pgfEkACSAAJIAEkgASQABKQOwIoNshdk2GBkQASQAJIAAkgASSABJBAeRNAsaG8iWN+SAAJIAEkgASQABJAAkhA7gig2CB3TYYFRgJIAAkgASSABJAAEkAC5U0AxYbyJo75IQEkgASQABJAAkgACSABuSOAYoPcNRkWGAkgASSABJAAEkACSAAJlDcBFBvKmzjmhwSQABJAAkgACSABJIAE5I4Aig1y12RYYCSABJAAEkACSAAJIAEkUN4EUGwob+KYHxJAAkgACSABJIAEkAASkDsCKDbIXZNhgZEAEkACSAAJIAEkgASQQHkTQLGhvIljfkgACSABJIAEkAASQAJIQO4IoNggd02GBUYCSAAJIAEkgASQABJAAuVNAMWG8iaO+SEBJIAEkAASQAJIAAkgAbkjgGKD3DUZFhgJIAEkgASQABJAAkgACZQ3ARQbyps45ocEkAASQAJIAAkgASSABOSOAIoNctdkWGAkgASQABJAAkgACSABJFDeBFBsKG/imB8SQAJIAAkgASSABJAAEpA7Aig2yF2TYYGRABJAAkgACSABJIAEkEB5E0CxobyJY35IAAkgASSABJAAEkACSEDuCJRSbMjPz8/FAwkgASSABJAAEkACSAAJIIFSEeDz+fIlOZRSbPDx8dHAAwkgASSABJAAEkACSAAJIIFSEejSpUuVEBs+fPiwFg8kgASQABJAAkgACSABJIAESkXAxcWlSogN8lVJLC0SQAJIAAkgASSABJAAEkACkhAopZKSJFnivUgACSABJIAEkAASQAJIAAnIFwEUG+SrvbC0SAAJIAEkgASQABJAAkigAgig2FAB0DFLJIAEkAASQAJIAAkgASQgXwRQbJCv9sLSIgEkgASQABJAAkgACSCBCiCAYkMFQMcskQASQAJIAAkgASSABJCAfBFAsUG+2gtLiwSQABJAAkgACSABJIAEKoAAig0VAB2zRAJIAAkgASSABJAAEkAC8kUAxQb5ai8sLRJAAkgACSABJIAEkAASqAACKDZUAHTMEgkgASSABJAAEkACSAAJyBcBFBvkq72wtEgACSABJIAEkAASQAJIoAIIoNhQAdAxSySABJAAEkACSAAJIAEkIF8EUGyQr/bC0iIBJIAEkAASQAJIAAkggQoggGJDBUDHLJEAEkACSAAJIAEkgASQgHwRQLFBvtoLS4sEkAASQAJIAAkgASSABCqAAIoNFQAds0QCSAAJIAEkgASQABJAAvJFAMUG+WovLC0SQAJIAAkgASSABJAAEqgAAig2VAB0zBIJIAEkgASQABJAAkgACcgXARQb5Ku9sLRIAAkgASSABJAAEkACSKACCKDYUAHQMUskgASQABJAAkgACSABJCBfBFBskK/2wtIiASSABJAAEkACSAAJIIEKIIBiQwVAxyyRABJAAkgACSABJIAEkIB8EUCxQb7aC0uLBJAAEkACSAAJIAEkgAQqgACKDRUAHbNEAkgACSABJIAEkAASQALyRQDFBvlqLywtEkACSAAJIAEkgASQABKoAAIoNlQAdMwSCSABJIAEkAASQAJIAAnIFwEUG+SrvbC0SAAJIAEkgASQABJAAkigAgig2FAB0DFLqRB49erVkiVL7O3tF7CO+fPnr1y5MiIiQipZVMFEcnJyIiMjP378+OXLF8mr/+3bt7CwsE+fPvH5/MJSS0hI+PjxY2RkZE5OTmFx5Pp6ampqREREWFhYSkpKERX5+vUrcMjMzCwiWvn/lJSUFB4eHhYW9u3bt8raRuVMNSEhISwsLDw8PDExUfTV4PF4UVFRoaGhkZGRCQkJ5Vy28syOPvPJycn5+fmiWScmJkZFRX38+DE2NlZsBNFb5O4KPAyfPn0q4uVKTEwMCwuLiIjIzs6WqQpmZGTA9+Lr16+SdFzJycnR0dEfP378+vWrQCAorI6QXXh4OI/HKyxOpb/O5/M/f/4cGhpaum90YmKig4PD3LlzWeOmBQsXLpw/f/7du3eLQ6+sxIazZ89Onz59w4YNxSmEtOLcv39/6tSp27Zty83NlVaamI7MEjh8+DAp5Cjm0y9atezs7PXr18+ePfv69euivxZ9JScnx8nJafbs2bP+e8ycOXPevHkfPnzg3M7j8RwdHe3s7A4dOsT5qaJOPT09ra2tdXR01NXVGzZsOH369Pfv35euMDExMUuXLjUzM1NXVzc0NBw0aJC3tzcnqYLRgJ2dnbm5ubq6uo6Ojo2NjaenJydORZ0mJydv3LjRzs7u+PHjpS5DWlra+vXrf/vttxo1amhqanbq1GnPnj2ivVNkZOT8+fMbNWqkpqampaXVu3fvs2fPljpTKd74+fPnVatWWVpaampqamhoNGnSpH///iV9uZydnWfNmjVb5JgzZ86sWbNOnTrFMExaWtrmzZvFvjsLFiwIDQ2VYqVKl9Tjx4/t7e3nzJnj7+9fuhTgrtDQ0IULF8IzX61aNXNz84EDB75+/Rp+jYmJWbRoUbt27XR1dVVUVLS0tFq2bLlgwQLZmQe5cuXKnDlzli9f/vnzZ0k4PH36dMqUKcbGxqqqqtra2paWlhMmTKBpJicnnz59eurUqRYWFrq6umpqaqampqNGjbp//74kmUrrXqFQ6OLiMnPmzI0bN4q+zsXP5cuXL8uWLYOHwdDQUGwHGB4ePmvWrObNm6urq2tra/fv3//KlSvFz6LsYmZlZe3du7dHjx7a2tqqqqoNGjTo2bPn0aNHS5Qjj8e7dOnSzJkzW7Zsqaenp6amZmxsPGTIEF9fX046eXl5x48f7969u5aWVvXq1Tt16uTg4JCVlcWJViGnERERy5YtmzVrlpeXV+kKcOLEiZkzZ4r0kbPnzJkze/bskydP0mQ9PT0HDBhQt25dVVXVX3/91c7OTnRoQSOLDYSEhNSoUUPs0Gnjxo1ib+FcLCuxYdy4cYSQ+vXrc/Ir09Ndu3YRQszMzDIyMiAjV1fXAQMGyM6wrEyrX9USP3bsGCGkefPm7u7uN27c8Pn38PPzS05OLh2N3bt3w+u0ZMmSkqaQlpZmbGws9m0khLi7u7MTfPnyZa9evSBy79692T9VVPj48ePq6uqEEF1dXVNTUyUlJcAbHBxc0iJ9/fq1Z8+ehJCaNWu2bt3awMCAEFK9evV//vmHJvX48eMmTZoQQtTV1U1MTLS1tSF84sQJGqeiAs+fP+/evTu0zqBBg0pXjISEhD/++AMSMTY2rlOnDoTt7e3Z86YxMTEdOnSAn0xMTAwNDQkhSkpKu3btKl2+0rrr7du37du3h4I1bNgQvusF7bh9+/YSZUFrB0lx/o4ePZphmK9fvzZq1IjzEz0t9ce4ROUsLHJmZqaLi4uuri6Uh/0JL+yWwq7TZ54QYmJi0rx5cy0tLUIIlRL/+ecfQoiysnLDhg3bt2/fsGFDyLRr165JSUmFJVs+1wvWytauXauiogLvaUBAQKnzPXfunJ6eHiFETU2t6Y9DQ0ODEPLs2TNI89SpU1BxPT09S0vLli1bKioqEkL09fVv3LhR6nylcmNUVNSUKVOgePXq1aODjZImnpCQ0Lt3b+gYW7duXatWLUKIpqbmhQsXaFIvXrwwMzMDUKamptBJqqqqlnR0ThOUViAlJWXEiBEAoXbt2q1atapbty4hZMiQISXK4sKFC5CItrZ2q1atWrduraysDB8O9hczPz9/w4YNENPc3Bw+HISQGTNmsPvSEmUtlcj5+fne3t7NmjWDsi1evLh0yfbv3x9SEPt35MiRkOy2bdvU1NQIIbVr1zYxMYHILVu2LJHkkJGRcefOHW9vbxgxXf9xWFlZFTxmTk5OxSl/WYkNM2bMIIRYWFgUpxDSinPmzBl9ff3BgwfTxb4JEyYQQsaNGyetLDAd2SEAYoMUx9wBAQH6+vrwKq5evbqkNU1PT2/ZsiU8b46Ojpv+PRwcHJycnMLCwiDBmJiYBQsWVKtWjRACf0s9MC1pCYuIHxUVBYN7GxubyMhIPp9/9+5d6JjGjBkjFAqLuFf0py1bthBCWrdu/fbt27y8vMjIyN9//50QYm1tnZeXxzBMampq165dCSHdu3d//fo1n88PDg6GkbqRkVEFzq1GR0fPnz8fBjHQQY8dO1a0gsW5smTJEkJInTp1rl+/zufzExMTZ82aBU8Xe+Fl3rx5hBA9PT13d3c+nx8fHw+dp7a2toQT28UpZGFxBAIBiLUNGjTw8PDIzMzMy8tLSko6fPjw48ePC7tL7PWjR4/OnTt38X+PhQsXGhkZEULWrFnDMExcXFyLFi0IIRMmTHBycvr31dnk4OCwZcuWCnwe/Pz8evToAa2mrq6uqKh4/vx5sdX86cWUlBSoY4sWLfz8/HJycgQCQWxs7IEDBwIDA+H2169fL1u27Pnz53w+Py8vLzMzc+fOnfAc7tu376dZlFEEgUBw+vRpKDwhRFFRsVatWm/evClddvZrPLAAACAASURBVEFBQTo6OtAbBAQECH4coaGhBw4ciImJgTTd3d0HDhzo4eGRnJyc9+O4desWTMqMGjWqdPlKfhePx9u2bRuMj2GGxdzcvNSaOdu2bYN5mcDAwLy8vKioKBg7/vHHHzCAycrKgsmXzp07Qyf5/v17eCv19fWjoqIkr1GpU1i4cCEIOfv27UtMTMzLy8vKyrp8+TJ7rF+cxD09PYcNG3bhwoWEhARo6AcPHlhYWBBCBg0aRPX3AgICYMH2+PHjAoEgNzd3y5YtioqKKioqISEhxcmoLOK8fft2zJgx0DnAJ2PVqlWly+jMmTOzZ8/+bx+5ePny5fCwQSf58OFD6ApWr16dkpLC5/MvXrwI4veUKVNKly+9a/z48QXTAZs3b6ZXighUKrEhIyPj48ePcXFxtMLwnbazs6NXMFBpCIDY0KNHj1LP97BRpKWlwdAWprVKJzY0b96cEHLr1i12ypywi4sLTCiuXbt25cqV0D9y4pT/6ebNmwkhv/76a2RkJM3d1tYWJsNK1DULBAK4kT1f7u3tTQgxNDSExjp//jwhxMjIiJ1dUFAQTMnv2bOHlqGcA87OzoQQFRUVR0dH+DSOGTOmFGUICQnR1dXljDJzcnJ+++03QsiIESMgzYiICKgyewofppwJIaV4CEtRVLG3uLu7E0J0dHTKSC0kPDzcwMBAXV0dJpjj4uJgrHDnzh2x5amoi+3atStYKmzRooWrq2vbtm0JIaUWG+DRql+/flBQUImqAyPFiRMnluguKUaOj4//5ZdfCCF9+vRxcXHR1tbW0dEptdhgZ2dHCOncuXNiYmJhhaQTf+wIGzduJIS0adOmovT7Hz16BGPEqVOnHjhwgBDSrFmzUosN0Enu3r2b1vHq1auEkIYNG4L4dPnyZegz2d1vaGgozO9s2bKF3ljOgZCQEBit7t+/X8KsxTYlCFTNmjWLjY2F9GH1qXPnzjS7rKwsECPPnDlDL5ZzYPHixYSQWrVq7dy5c9SoUYSQUosNYkseExNTu3ZtZWVlmKkZMmQIIYTTD8AMnY6OjoRzK1B+eRIbBAJBcHDwtWvX3N3dnzx5wh73s2nm5+c/e/bM3d39ypUrAQEBQqGQz+f7+/t//PgRoqWmpgYHB3/58iU/P//Tp0+vXr0aOnQoIWTw4MGvX79+9+4dzHQyDJOVlfXgwYPLly9funTJ19eXPXZh54hhWSYgXbFh06ZNMD7o169f6UZs6enpIDaw55JFAfr4+MybN+/FixcMwxw8eFAWxIbMzMzOnTsTQhYtWkQLfPHiRZhBIYSsX7+eXv9pIC8vD9avJ0yYQCPv2LGDENK2bVuYQFq6dCkhhK690mjW1taEkF69eklFFKTJFj/g5eVlb2//8uVLhmF27txJCCmd2HDu3LmCIWbTpk05YyNYatfW1obVJ3gAjIyMqHEbj8fr1KkTjE6aNWtWIRax2dnZffr0IYTMmjWr+OiKHzM7OxsmVpcuXQp3UbHh2rVrxU+nHGKuWrVq27ZtqampAoEARL7SiQ2pqamtW7cumKovqb2fUCiEVbgKnPxKSEhYtGiRm5tbbm5udHS09o+jdGJDUFCQgYGBgoLCpUuXStp806dPB9GlovRS3rx5M2fOnGvXrgmFwidPnkgoNgwbNowQwl7M3LNnDyGkQ4cOqampDMOI7SSFQuHgwYNB7qoQzX6hUPjnn38SQn777Texg/6SNqtofJiv6datW3p6OvwKukz169enaywRERE1a9YkhJTRvIZoqUSvHD9+fPHixTB6hBlqKYoNubm5IFja29szDMPj8UAVysPDg12SDx8+gFrX1q1b2ddLGpYzsSEgIGDgwIGg2AcLoAXK0KJSbHR09JgxY+g4RlNTc8aMGW5ubnp6en/88QcwcnNzq1mz5qBBg7Kzs+fMmaOhoQGKmCoqKpqamg0bNgSVdz8/P1j7g28zIaRx48YODg5F2O+XtA0wfjkQkKLY8PDhw2rVqqmpqV2/fn3u3LkSig3u7u7FfJbAlKLClZQCAwPhBaTGdnFxcaBTCyrdNjY2JWpQsFavVq2as7MzwzBBQUENGjQoUE2mihbwyRSVRmBCRV9fXxYkeUdHx1KLDdCy1tbWHG4wkVagnHD58mWGYaZNm0YIsbW1pdHWrFlDCNHS0oKPQSkMS2hSpQ68fftWX19fVVXVz8+v1IkUceP69etBhoThESgpwWqDh4dHMd+dItIvi59SUlLASKN0YsO9e/dUVVW1tLRevXpVouIdP34crIyKnowoUZoljczWUQwODtbS0tLW1i6d2AA9g4WFBUec/mmR7t+/D5r9Li4uP41cRhHYHG7duiWh2HDixAkwWoDF1ZCQEDDv2bZtG5QfJl9EO0kwHK1bt25Jl62kgiUtLQ3mNSQcpxZWmICAgNq1a3NsqD5+/AirskOGDAGdqEmTJhFCunXrViGyk2jhp06dKt3VBvj6tG7dGt6UoKCgWrVqqaioUPsfKENUVBRoLtEVbNGyFeeKPIkNt27dAuUtQkjHjh179uxJDQfnzZtHaxsREdGxY0cY5bdr165Hjx4QDVQkLS0tISasG3bs2DErK2v9+vUmJiaamppgXmNiYtK2bduMjIzg4GBYbzUwMOjbt6+1tTU1Y/37779pjhiQfQLSEhtSU1OhH1y2bBnDMPD+l0I/JD09HdR/9fX1W7RoMWTIkFWrVj18+LAIkjIiNty/f19FRaV69eq0S5o/fz4hZNiwYTDxY2Vlxf5kFlEj+CkjIwO+ecrKymPHjoUR4ciRI+mC/sSJEwkhM2fOZCcVHx8PsoqSklKFDJfZhWEYRhKxAZYR2rdvz/mqgbxUYNN28OBBhmEGDBjAXuR58uSJlpZWzZo1d+/eDaoIJXVbxKlC6U7v3LmjqKjYoEGDhISEyMjIbdu2jRs3bsqUKa6urpKvfnh5eSkqKtasWfPJkye0eNS2gb47a9euZUegMSsqkJycLInYANOlbdu2zc3Nfffu3caNG8eMGQMzX1R2olV78uSJl5fXsWPHJkyYoKqqqqur6+DgQH+t2ICEYgO8U2Bt+ODBg+XLl48ePdre3t7Ly4sqsotWMDIyEhZyBwwYUEYz3KKZFn1FcrEhKysLxmoKCgpjx46FCg4aNIgutEInyVllSkpKatq0KSGkRo0aFTLRHhsbW79+fQUFhadPnyYlJbm6uk6ePHncuHE7duygeh9Foyvi169fv4IqYM+ePdPS0tgxDx8+DPYk3bp1Ay0SIyMj+sFix6yQsHTFhhs3bqirq2tqaj548ACqEx4eXq9ePUVFRY6PKWpT3rdv3xJ9ozmU5EZs4PF4YBZZv3596j0gNDR09OjRICFQvyvUavDo0aPQuYSFhcHEJMgbgODQoUN08U4gECQkJIwcORLWARMTE2GpAfQj69atC3oIBcPET58+gcOTFi1acJ5UDlk8lSkC0hIbli9fDiqz4KsEpjFKJzZA109XscDlyPTp0799+yYWnYyIDZ6enmBp8O7dO4Zh/Pz81NXVDQwMIiMj3dzcCCGtWrUqqXOq9PR06oeHENKvXz8qMzAMA3retWvXfvv2LZDJz88HG2Kgd/v2bbHEyvOiJGLDw4cPNTQ0lJWV2Y6hzp49C+ufhJC1a9cyDAPfSEdHR9CchFXQdevW5eTkwOzG6dOny7PKkBdYnnTp0uXKlSv169dnP89dunSRRIk2IiICvAOxVbrZJtHsvKpVqzZnzpyiN7soNzgSig2gfzJo0KDz589Tp0xQWVtb2/j4eFqRvLy8evXqsTn07t2bDiVptIoKSCg2wFruvHnzjh49yq4jIcTe3l6sSUNsbCyME1q3bh0dHV1RFefkK7nYwDBMRkYGnQ8F/SuqlkM7SX19fbbTKjCHA70Mjr4Kp4RldPrx40cVFRVdXd1//vmnW7du7EZs0KABHeaWIvfExEQYiVlYWIj1uezg4ECz09bWlqlpBSmKDVFRUTCXzV7PycnJAd8MI0eOpK9JZGQkTMmxddtKQZ5hGLkRG0D9V0VFheMZPTk5GdRA+/fvzzBMZGQkrEhwRnJxcXHwSevYsSOQomIDHaDMnDmTEDJ9+nSKcvbs2TBCos4rGIZ59erVqFGjJk2aVNKxEU0WA0UT8PPzM/1xmIg7TE1Nu3bt+vXr16IT4fwqFbHB19dXTU1NXV393r17kP7kyZOpgxdOjkWf5uXl+fv7+/n5nTt3bt++fZMmTQJnmoSQ8ePHi50kkxGx4ezZs6CqFx8fn5mZCbOqYB115syZAgeRTZo0oU5OioZAf3V3d6fVJ4QYGxuztSy+ffsGGtumpqZOTk6HDx8GhV1LS0vQWL169SpNSlqB9PT0yMjImP8eUVFRhelLSCI25OXlLViwAAzKly5deuLEiXnz5ikqKhoYGMBk4Z9//skwjKmpKSEEdDJhZAmTF0KhEMaOBw4ckFb1i58OLJUYGBjo6OioqKisXr360aNHp06dAqm4c+fOpXMGmpeXN2jQIDA2o2ZmUCqwUoN3Z+/evRMmTACpCXpv+pksfhWkHlNCsWHt2rXgVqt69epaWlpbtmx5/Pixi4sLCFEDBw6kdRQKhVu3brWzsxs6dGjbtm1VVVVhTMAeO0qxdnl5eV+/fo2Ojma/FtHR0Z8+fRKrLSaJ2JCfnw+jE9BCadKkCTjm2rhxY/Xq1Qkhy5cv51QtJSUFzGCaN29eIi+TnHR+epqbm8smAOGoqKi4uDixphRSERs8PT2ptgV4pKBTpQzDJCUlwTxCwY4uTk5OR44cgbXKpk2bgrYFnWz9ae2kGMHf3x+mw0DvdNq0abdv37569SqM+OvUqUM3ISlRpunp6bBAbWpqKvZRj4yMBMs3BQUFKMCqVauKWKEqUe6SR5aW2JCXlzd8+HDwM8apnbe3N3wcbW1tjxw54uTkBIvzrVq1gqm9wmYni1M7uREbQIvX0tJSdD5p+/btYFCYlpZ2584d8CUv6o4QpIIixAYwopo6dSoFd/LkSRBY69Wrt2zZsvPnz5d6QyuaJgZ+SuDq1asGBga1a9c2FHfUqlWrTZs21Cr0p6lBBMnFhs+fP4Owvm7dOpop+ORmX6E/lTQQGhoKBtZUl52TgoyIDV5eXvDRio+P37p1K5i7wbwXLAtYWlqKqlJw6sI+dXd3B9+y48ePP3ny5K+//gpueUChH2JGR0eD3S2dQLK2tn7+/Dl8R8V+OdhZlCK8d+9ebW1tAwODWv8eBgYGurq6M2bMEJuaJGIDwzA5OTmg4kUraGZmdv36dfj2g5spmGs8dOhQVFRUrVq1lJWVYcO7lJQUUFIqnSa92OoU/yLtJAuESbajksDAQPCg4ubmVvzUaMz9+/cTQurWrUudEdOfRAPBwcHgQUhBQaEsZEjRHIu+IqHYQG1aVFVV2WoGt2/fBoM9sftL5uXlubu7w9Rj165dJdcQE61jeHi4mZmZnp7ev+/E9//q6+vXq1cvPDxcNL4kYgM15iGE1KtXjz2jDJKqjo4O26iJx+OBFp+5uXlZay3eu3fP4MfB5qCrq9uzZ0+xk4mSiw0eHh4gLI0fP97NzQ28XWtpabGFgU+fPoHURPsQa2vr27dvm5mZKSoq3rx5U7SByvpKgYodmF0RQkCtF3Kkxj+l2PIoIyMDHICamJhQNRB2RWJjYy0tLWFXrjNnzsDAGvZtoPI2O375h6UlNoCjRUNDQ1j551TEw8MD/FbD86CkpHTgwAGwF+rRowdHzODcW/Sp3IgNMK0r1h4UXI/p6Oi8e/cOlLdMTExEPSxBX9yhQwcgIrraICo25OTkODo6speJ69at261bt71799I1iqL54q+lIMDn81NSUlILOXg8Xnp6uthJnSLyklxsgBRgNr1Dhw5t27Zt06YNbN1gaGjYrl27Nm3aSDhui4iIgPec7aSIVkpGxIZHjx6pq6vr6upu2bLF0NBQSUmJqtSD559u3boVX2/y8+fPYNtHFZGfPHkCs6p16tRhqxnweDwPD4+NPw5PT8/09PQPHz6oq6tXq1aNPXqguCQMODs7N2jQoBnraNq0qampaWF79EgoNjAMk5+ff/fu3R07dqxdu/bkyZNfvnzh8/mwlAqDA1hjmT59Opg5Tp48Gd6CDx8+wEaekiz6lxqXt7c3uCH+/fffOcsCoEG6cOHCkiYeEREBc8zF33wzODgY1pNlQbNfQrGBdjWcTYRyc3NB96AIf5ru7u4wUCsL8Sk8PLx9+/ZNmjRhvRbNzMzMWrVqRb3WsNtaQrGB6tiwFTBgvz94PGgdBQIB6Iu2aNGiHKb2Hjx40Lhx46ZNm7I5mJqaDhkyRHRak2EYCcWGz58/w6pj//79QQPt6dOnIB8aGBiw5erU1NR//vln06bve5h4eHgUzMqHhIRUr15dV1e3dFbp7NYsRfjTp0+wEmhsbMzuzBmGcXJyAj94nE6j6FyEQqG9vT0hxNTUVHRqGO4FNfU6deo8ffoUlLtgaYIaiRWdRTn8KhWxISwsDD6URbggDwsLO3LkyOrVq/fs2fP8+XOGYWAYXFVMoqFTGDp0qGijgtdwLS2t4OBgUJNo1KgRdeJL44OuW4nEBrg3KCho06ZNQ4YMASUBEN369etXmLoCzREDpSMQHx/v4eFxtZDD09Pz5s2bYtV4ishOcrHh7NmztWvXrlevnp6eXs2aNbW0tGrUqAEDJjU1NR0dHQ0NDQkdd+Tn58N00eDBg0XrIiNiQ0hICMzxw8QneHxjGEYgEMBsn1jZXrQ6cGXv3r2wnytbqcDT0xP8Exw5cqSwGxmG2bdvH0wplcXEan5+Pp/Ph+2l6F8+n1+YvCq52CBa0zdv3qirqysoKIAxH7jtA1O/Bg0aUGHp/PnzioqKCgoK5TBgEi3kkydPwGuN6MQhLPCy/VWI3i72yooVK2AD0OLbjwmFQlDSmDZtmtg0y/OihGKDl5cXDP3ZG3QwDMPn80FxC+xbxNYoNjYWtBFEHQyKjV+ii0KhkL4LnIDYmQIJxQZwalygdsXxtBsfHw9zDVRfH96+OnXqlNT3VImqTyMXxqGwEbCEYgOs4urr67OVpa9duwbrD0VvAg0fPjMzM7ZJDK1IWQcSEhJAWbF3794cNTbwSdOtWzfO9aKLBIuQRWwR8/nzZ5hDYb87iYmJoEzbv3//wjrwovOV7q9SERtgQNu8efPiD0Tz8vJAPWzBggWS1EhuVhtg4qF9+/ai9l6g5tu4cWMejwdKSlpaWqIWMGAVXXwlJaFQmJmZybY6io6Ovnr16sCBA0FyKP5MmCQtVAXvBSNLutIqGtDS0uJMXfyUkuRiQ0pKSmBgYMi/x7t374KDg8FZ8qxZs96/f//mzRuxK9Q/LRuNkJqa2qRJE0LI5MmT6UUaKKbYUKJemCZe/EB2djYohMCupfRrFBsbC0op7P76p8nCyJK6RYb4+fn5YD9XxIhTIBDAzKu9vb3Yr3VZc+BUrSzEBnB53qZNG+j0wAkjIURJSYktUM2ZMwdclIqd6RQLh1N4SU55PB7YanMeWj6fDz7HOAbNP82Lz+dD65do3SAuLg7eHVHp5ac5Sj2ChGJDTEwMzCWvWLGCXbbk5GQYLp87d459nR2OiooCNT/2E0IjlPOYSUKx4c6dO6C+ePbsWVoFhmFCQkKUlZU1NDTAR8KbN29q1qypoqLCica+hRMu585BQrEB3D+A9Sa7ImD8XUQnmZ+fD7qd06ZNEyvXlTUHgUAAerzt2rXjTAHARn5snXB21cSG379/D3YaRQy9bt++XbB3kIKCAlurjZqMW1hYiJ1jKutOklMdycUGulsOW/WLk4vo6cuXL1VVVZWVlSV0li1DYkPz5s1F60mvwCdTRUWFeouHn7Kzs+Hj9PvvvzMM8+HDB9ApAiNCevvr16+1tLTEelKi6kbgFp3qLvP5/GnTptWrV48zhZyVldW4cWNw5kDTx4AUCbx+/XrevHkLCzkKrEU3bNggdoRURBkkFxvEJg6KbYXtypSYmLh9+3ZHR8fPnz9zbk9LSxNdEANTgQKbYLHq4KDRO2zYME5S9FQgEJw6dcra2nrDhg0cV540jlQCMFFECIGdFiDNdevWEUK0tbVF1RXCw8M3bNiwd+9eUZsH8ExlampKxQ+GYahz1SIGjrBMUbD1iqhRXVpa2pYtW/r371+wPltu4ySYGeXsysmh/ezZs1WrVp0+fbo4X6nHjx+DmTidTfzy5QsseHbq1ImmQJVzRPfsjI+PX7Ro0aBBg8SqwnPKJskpmPAaGhqyP9U+Pj6qqqoqKiqgKsBO38fHZ+XKlYUpW3/9+hX2KmIbt7Bv5/F4oqZNYPymoKBw8eJFdmSGYd69ezdp0qTx48eXm54G3e6NbbTKKVVWVtbJkyfXrFkj1qE+DKqaNGnCtlyEj6Curi7opSQnJ4sO+8DST+xWCXfv3h06dOjs2bNL6k+CU/Lin8J2bzo6OmItHyCdxMTEXbt2bdq06dOnT5yUBQIBjIw5W8FAp9GqVStQVYeep3379pzbxZ7m5+efPn26IMG1a9eKdkdib5H8Imz3ZmFhUURSUVFRDg4Ou3btEv20wdYlTZo0YSNKT08HOXnjxo2FJQu67xoaGqLWXzk5OZs3b7axsXFxcRF9igpLsBTXPTw8lJSUVFVV2SO3iIgIEIxFhdtXr16tXr369OnTogoFoGDTsmXLIgr8+vVrMINm21kxDLNo0SLwFsD5MiYlJUEnyXbCUYpqlugWWDcu4uuWn5/v5+f3119/3bx5U6y89+3bN2h9TjWLKEZaWpqNjQ0h5I8//pDwsyhDYkPTpk15PF5aWhrvv0dKSkp2dnZiYiKYuZiYmNy+fRtQfvv2DRqAWuPl5eXB/KWOjs7Ro0dzcnIEAsHz58/btWsHk9ZFrDZAT21tbZ2VlQXPJQwKjY2N2W/dkydPYAsI9pipiNbCn2SBQBmJDUU7YIXZYtE93hmGefz4ccuWLRcsWODu7v7q1asbN27MmTMHVJ569OhBl9TCwsJcXV0PHjx4+PBhMO1q1arVkSNHDh065OzszDEI8/f3Bw0WzoBe6vzj4+Oh0+/Zs+fz58+/fv26f/9+WDGfO3cuJzuhUAjKS5xNeSDanTt3YIOq/v37P3nyJDc39+XLl7CgV6NGDfreXbhwwcnJKSQkJD09/e3btw4ODuA0Zv78+ZzsGIYBr2swK1+mvlnDwsJcXFwOHjx49OhRqGP79u1dXV3Ftk58fDz1fyc6jn/z5s2aNWsePXrE4/E+ffp0/Phx0NTv0qULe5Zu1apVhBA9Pb2DBw/Gx8ffu3cPllwMDQ3ZWl7ABIZTBQ/DL7/8QjWaRHFJfiU0NBQma7p27fr48eOUlJTz58+DJtvMmTM5n72XL1/CDI6urq7Y0eTr16/BZOjGjRtiy3b79u3mzZsvWbLE09MzICDAx8dnxowZ0L1bW1uzcYHuHDhuJ4R07dq1TEeKN27c2Ldvn6ur686dO8F1zPTp0w8fPuzs7Hz06FEej8euDl1Tbd26NX3faYQnT57Au2xra/vmzZvExMSjR48CN+qAYdu2bX379j18+HBoaGhmZmZ0dLSDgwNMzy9atIgKlpAmj8ejSrYzZswoYuBFy1C6QG5u7uXLl/fv33/48OG1a9eqqalpamquWbPG1dXV2dn5/PnznKxhTAwe5DhlZhgG+m1CyNy5c8FlExhQEUJAPhQKhWPHjiWEmJiYrFixYhnrKDBDWrt2LWddOiQkBHa8KvC7UKabLyUkJJw8edLZ2fnIkSPg7cDQ0HDv3r0uLi4HDhzw8/Njvxe5ubkwFCOE0B3cKH9qCt+nT5+HDx/m5OQEBASAuhp7/5yrV69u2rQpODg4PT393bt3jo6O8AjNnj2bJkUD4EebEKKsrMzRAaNxpBJIT0/v3Lkz+Mfz8PAAvzUw1du5c2fOS5GQkACufgqWT6nhCi0GLKuamJgsW7bszz//pE29dOnSxYsXQ0NnZmaCL++6deuePHmSx+PFxcVt2rQJVGrpu0PTpI9T7dq1xRoW05gSBl69erVnzx4XF5dDhw5B9a2treFjsX//fk7/DBYpsJWnWPv+gh1yqlWrpqCgUFjbZWRkFHhPOnfu3NevX1NSUm7evAkPjLq6emHzNcWvoEyIDTDNr6ioCI5zaosc4Grt6tWrMF7X0NDo06fPqFGjaD84YcIE2uO8f/8eBAzoSiwsLKCbANMcOicBc7edOnWiqw2wSwNsXdS1a9esrKynT59Cjtra2ra2tnPmzBk4cCAo8jZs2FASl+TFbyGMKRUCZSQ2gKMbsRbMDMPA96xgT/uePXtyavH48WOqfEU/YxCTPWUL00U0JiewdOlSdrIvX76kbisGDBjA/knqYS8vL1BJUlFRgdEM2Lex58MgU4FAAEoshBCxKpVr166FYispKRkYGEC4evXqe/fupcUG8UxVVVVPT4+KRhMnThQ7CqQDstJt4E0z/WmArrpw2gVOOa0TERFBt7fneJFmGAbc2oIXOHCcBy6qON+M5ORk0IuDhR2QM2vWrCl2zokOyArsBC5duvTT6kgSwc3NDeRGZWVl6DMJIQMHDhRdUrtx4wbFJdaokb4ahX0RQeUDEmG/O3379hXtkwUCAd20R0FBoUxHBmy3+rSONMDJGnRrCzzqGhgYiPVRu3PnTti4Q01NDT46hJBJkyZRuWjp0qWQuKampr6+PpgDKSkpTZ8+XVQO4fF44H4HnDqIVdWQ5AGg98bFxbH9hNLqQ8DAwICt91uwtEgn/sR6d8nNzaURatSoQZ+xNWvWQI75+fmgrs3JiJ5Shw0Q//3797STHDJkiCT+ZGiVxQYePnxIyyAa6NOnD3vGNyMjg25rINpJCoXC9evXw0QJ+GWGKmhqahZ4UKC5gxNnFRUVPT09GCWDMCa6fMEwzJUrV2ip/vrrL5pIWQQePXoEUjRMeUC+rVq1BPnb+QAAIABJREFUevHiBSe76Oho6kyZrrLSOPR7SkvODlCv6Hfv3qVPoJ6eHv08DRgwgCOlMAzD7iRPnjxJ85J6YNmyZezScsIcZyq0DySEPHr0SLQwHz58gBQKWyRJTk6G70iNGjWoUx89PT2O7oxoysW5IkNiA4cj+3TKlClQmYcPH4LdG/3VyMho06ZNnIWnL1++TJkyhT5/RkZGy5cvB6mADuBgQPbbb7/RtbAPHz506dIFUlZTU4OO1dvbG2RlmiNsRyX6xBcHN8apKAIgNvTs2ZPzqEhYnmvXrm3evLkwDzavX7+2tbXt06cP59PFMExycvLhw4ft7Oy6du1qampqYWExbNiwgwcPcsbBgYGBm/49nJycNm/e7OTk9O+FTZxdpQUCwZkzZ2CMLtZ5gISV5dz+5MmTGTNmtGjRwtjYuFu3bhs2bGArGrEje3l59ejRY8iQIYXtDHr58uUJEya0adOmYcOGnTp1mjJlCmdGxNfXd+bMmT169DAxMTE3Nx81atSpU6fY3112dikpKXS6tzD9MXb8Uodfv35N2+KnrcMwTMEsY+fOnWfMmCH6If/48ePChQutra2b/vDX9Mcff2zfvp2toEILyePxtm7d2qtXL2Nj4+bNm0+ePPnOnTv0V3bg06dPy5Ytg5EWuGpl/yr18M2bNydOnGhubt6kSZPBgwfv3r2bzsiw88rMzFy9enXHjh3Xr18vdtAWFxe3e/fuLVu2iGq7QToJCQnOzs7Tp0/v3Llz48aNmzdvPmLEiMOHD4vNjmGYwMDAyZMnKygoKCsrc8bu7IJJHi7YoY8+D5t/HI6OjnBl+/btnEb//PnztGnTOnfu7Obmxp54ZhfDw8Nj1KhRZmZmzZo1GzFihKurK50dYximQLtp7dq1/fr1MzMzMzY27tKly/Tp0wsbRjAMc+fOHXBm36xZs+KbUbLLU5xwRkaGq6sr1LpgwpvDwcXFhdPogYGBAwcO7N27d2GPMZ/Pd3FxsbW1NTExad269cSJE6klNJTHy8sLcnESOXbv3s3RZ8vPzz9//jxMSI8YMYKz9FGcChYzzpcvXwoEPw4H+nhwqsAwzI0bN3r16jV48GDRZUPI0d3dfdKkSW3btm3YsGHHjh2nTJnCWbS8d+/ezJkze/XqZWpqCg+Mm5tbYRXMzMzcs2cPmMGs/bGbZDHrVbpogYGBc+fObdOmTaNGjfr06fPXX3+JTjAxDCMUCo8dO9a5c+epU6eKOsP09fUtrKGdnJzYqndBQUELFy7s2bOnsbGxhYXF0KFD//77b7H9Q2xs7IoVK2BgXXzbmFJAuH//Pu0NRD8WnC9jRkbG+vXrO3bsuGHDBtEpAIZheDze9u3bt27dWlgnmZubu3v37jFjxrRt29bY2LhDhw7z588X1RctRUUKbAHARZ6oWqzY1IjYq5Jf/Pz5c2CRB1s1PD09PSgoyN3d/dixY48fP+ZsLCUUCrOysqBjKvD1/vjHAbfD3MykSZOgwMnJyYGBgeHh4ewum8fjvX37NjAwMDg4mL5vKSkpjx49KnCkc/DgwYsXL/r7+0t36Ck5QEzhpwSo2MBu7p/eJXmEnJwcsa89TTktLS0uLi4hIYE9IKC/liIA7ueKcNFYijSLuCUxMTE2NpYzgygaPy0tjTNcEI2TkpISGxtLJ1NFI2RlZcXHxyckJBSnEUErurAZa9HEy+cKZ+zIyZTP5yckJMTHx//Uv3hmZmZsbOxP54yFQqGenp6SkhLns8TJV4qnCQkJ3759++nDLKHzAChwWloaPA+FCZC0Xm/evFFUVGzWrFnR/Gn88gkIhULR6U9O1kKh8Nu3b0U889nZ2d++fYuLiyu6n4FkYZONkSNH/pQYpxhlepqbm/vTwufm5sbFxUnlsWEYBrSGilAuL9P6FpZ4enp6MTtJzuwSO8ESdZK9e/cmhLA3f2AnJfVwcnJyXFwcnagtLP2fvhSF3ci5Dp1kYmJi0d1RdnZ2gwYN1NTUqE4sJ52KOpXK087j8WJjY6WFFFCAB/AKFhuk2CppaWlz5szp0aMHxxbty5cvsG5VzKpKsUiYlCwQOHLkCOgD2NnZLVy4cP6/x/Lly8UqWMtCmUtRhufPn//yyy8GBgbgY6QUKVSOWy5cuKCiomJubi5W/aNy1PGntRAKheCkb/jw4VV5pqNgiw+YHlu/fv1PoVXiCDExMe3bt1dUVORoRFTiKout2suXL42MjHR1dWVtmCi2tGV38cKFCxoaGs2aNeMsyJRdjjKYslAohB0kBg8eXJU7ycKaJj4+ft26df8Ol+Yv+HGAP7ci3ECzUyur1QZ2HhKG+Xw+aLLWr1/f3d0d5mmePHnSvXt3QkitWrXYiuMS5oW3yxGBEydOqKqqgi44W99MVVX1/v37clSRIorq7e0Nev/Hjh0rIlql/wk81RoaGhamPFbpCYApMDiHaN26NccqtCpUn9YxLS0NVE8HDBggVkuBxqzcgdDQUHBeuXjx4qInXys3Bx8fH01NTSUlJVdX18pd06Jr9/fffxcYhevo6Igq0BZ9YyX7FbwpWFhYVKbZQym20bt378CIkT1qIoSoqKiI2u6LzVcOxAaGYV68eAH73RBC6tSpwzaOEbVEFFtPvFj5CMTExHj8ODxZx5UrV65fvy5TeguSkP/nn39+//13d3d3SRKpBPfu3LnT1taWY/hRCepVoirw+fx58+ZNmjSpik+UJCcnjxo1ateuXUXodZQIrJxGfv/+fffu3Xfv3l2VZQaGYby8vEaOHMmxCpDTNpWk2Dt27LC1ta3iMgPDMLNnzx47dmyFbJQpSfOV273p6em+vr5XrlxhjZs8PTw8Ll++XEzFV/kQGxiGCQsL27BhQ4cOHQx+HB07dpwxY4a0zEHKrcEwIyRQIgLUGqdEd1W+yD/VD658VRatkVAoRA4Mw8iUEr9oM5XblfwfR7llJ7MZ4fMATYOdA3Ion5dUbsQGwJGVlcX7cfzUBKd88GEuSAAJIAEkgASQABJAAkigKhCQM7GhKjQJ1hEJIAEkgASQABJAAkgACcgaARQbZK1FsDxIAAkgASSABJAAEkACSEDmCKDYIHNNggVCAkgACSABJIAEkAASQAKyRgDFBllrESwPEkACSAAJIAEkgASQABKQOQIoNshck2CBkAASQAJIAAkgASSABJCArBFAsUHWWgTLgwSQABJAAkgACSABJIAEZI4Aig0y1yRYICSABJAAEkACSAAJIAEkIGsEUGyQtRbB8iABJIAEkAASQAJIAAkgAZkjgGKDzDUJFggJIAEkgASQABJAAkgACcgaARQbZK1FsDxIAAkgASSABJAAEkACSEDmCKDYIHNNggVCAkgACSABJIAEkAASQAKyRgDFBllrESwPEkACSAAJIAEkgASQABKQOQIoNshck2CBkAASQAJIAAkgASSABJCArBFAsUHWWgTLgwSQABJAAkgACSABJIAEZI6AHIsNDg4OVlZWFy9elDmoWCAkgASQABJAAkgACSABJFC5CMix2DB48GBCyJYtWypXi2BtkAASQAJIAAkgASSABJCAzBGQY7Fh7NixhJDdu3fLHFQsEBJAAkgACSABJIAEkAASqFwEUGyoXO2JtUECSAAJIAEkgASQABJAAmVAAMWGMoCKSSIBJIAEkAASQAJIAAkggcpFAMWGytWeWBskgASQABJAAkgACSABJFAGBFBsKAOomCQSQAJIAAkgASSABJAAEqhcBFBsqFztibVBAkgACSABJIAEkAASQAJlQADFhjKAikkiASSABJAAEkACSAAJIIHKRQDFhsrVnlgbJIAEkAASQAJIAAkgASRQBgTkWGwYN24cIWTPnj1lgAWTRAJIAAkgASSABJAAEkACSOB/BORMbMjNzRX8OPLy8saMGUMI2blzZ35+vkAg4P84/lczDCEBJIAEkAASQAJIAAkgASQgJQJyJjbcv3+/X79+AwYMGDp0qJGRESHEwsJi6NChNjY2I0aMiIyMlBIWTAYJIAEkgASQABJAAkgACSCB/xGQM7Hhy5cvDRo0IOKOvn378vn8/9UMQ0gACSABJIAEkAASQAJIAAlIiYCciQ0Mw+zZs0dUalBVVb17966UmGAySAAJIAEkgASQABJAAkgACfyHgPyJDYmJiRYWFhzJYfjw4bjU8J+GxRMkgASQABJAAkgACSABJCA9AvInNoguOGhqat6+fVt6TDAlJIAEkAASQAJIAAkgASSABP5DQC7FhuTk5KZNm9IFh8GDB/+nTniCBJAAEkACSAAJIAEkgASQgFQJyKXYwDDMvn37QGxQVla+d++eVJlgYkgACSABJIAEkAASQAJIAAn8h4C8ig3x8fEtWrQghAwfPlwgEPynTniCBJAAEkACSAAJIAEkgASQgFQJyKvYwDDM1q1bNTQ0fH19pQoEE0MCSAAJIAEkgASQABJAAkiAS0COxYbPnz+vW7cOlxq4TYrnSAAJIAEkgASQABJAAkhA2gTkWGxgGEYoFEobCKaHBJAAEkACSAAJIAEkgASQAJeAfIsN3NrgORIoCYHs7Ozw8PBXr149fvz43r17t2/f9vX1vX792n8OH59r1679/7UfYforJyJc92HFYSclNgWaFCdw/fp1Pz+/O3du379//+nTJ2/evImOjs7Pzy9J5TAuEkACSAAJIAEkgASkSQDFBmnSxLTkhUBISPDqVat69uhRz8hIQ12dOvOVzUD16tUaGf9q3f+PHTt2fP36VV4gYzmRABJAAkigKhDIz8/P+3EIijr4AoHgv9G+X4EjLy8Pfv33gtj/iqbwv2h5eXk4uVYODxuKDeUAGbOQIQJxcXH29vNr1qihpKLarGXbMVPnLl23zXHPkV2Hz+07ceXgaa9DZ7xcznm7nvNxgX9nvX+cev84/f7X9fuv3i7nIcL3X+Hi9whn4Tpc8YGfvl/8Huc/KXw/Pe/zI5H//PQ98lnvQ2e8nE/9s8/NfafL2Y27XReuchw6ZkpDEzNFJeVaBvpbNm/OzMyUIaZYlMpFICkpKSoq6v3790FBQW9ev3758uXz58+fPX367NlTOJ49ffbs+/9/nD17+iP4/ex//77//v343xU4/d/1779/T+Tf/0F6/4v/v5j/JvLs2YsXL169ehUYGBgSEhIWHh4bG4u2bZXr0cPayDqB5OTkmzdv/vXXykEDB3Ts0N6sSeMG9evVM6prVMewrmHtOoa16/74V+d7+BfWX3r6PcK/139hhen1/6TwIwKkI5rC/678SPD7jUZ1DOsZ1WlYv55Zk8Yd2rUdOMB25YoVvr6+SUlJsk5WfsqHYoP8tBWWVGICT58+bW5hoaysOmjkJDfPO8/Dkl6Ep7yMSHkZyfOPSg2ISgv4/jfVPyrd/3sY/qW+ik6DX/+9mOoflfbjX2pA9PeYP67D7f9/y/+xdxxgURzdoQgSQYrYo6hgwQYoWLBhw96NAXuN0ehvVOxRY1cQOzbsvWtiV7DCwQFHFQ44ej16B0Xlfmbe7tx6FBHOxCR3nx/O7c2+mZ2d9+b1BxAozLIQfBkIueVBwHNgOkTnCKKzfaKyBFHZvNAUp3O3ew8cihAaNHBgVFRUjddDAUCxAtIVyMvLO3/+/Izp001MOuvXq6eqqvJtGt9gVpqamkaGrUaOGLFzx47w8HDpYyhaihVQrMBXWIG8vLwDBw506WKGENLWqWfcuUv3PgP7WY8cNGL8kDGTho21GT7edsSEySMnTB6B/00hf3F75PjJI8ZPHjkR/5X9N4FcIbfgbuR2BgL5ivsDTIAA/blwJkyBPsPHTx4xznbYWJuhYyYNGjG+35BR3fsMbG/SVUdPHyFkamKyb9/evLy8r7Aw/zmQCrHhP/fK/7MP7O7mpqujXb/x94fO3faPyxfE5PBCU3jCFHeh2F2YzPwNSXYLSXaHv0IxtN1DxO4hpAP+ibRJH6Yb7izGt0Ojcgi4G/TEo1QFgntIMk8o5glTPMJS/OPzvSIz1+88hJCymZlpbGzsf/ZtKh5cjitQUlJy9syZdm3bKCkr6+o3GDhs7OxFK+022v/ucHjb/pM7nc7aHzm/++iF3ccu7T560fHYxd343yXy96Ij04Cvl+A66YOvsJ3hFvJXCoG5+CkEBnLZGx2OXth1+NyOg6c3Ox5bu23fQrsN42xnGbbtgBBqUL/+ihV2aWlpclwTBSjFCihWgK6AQCDo3csS89/mlpv3HL/2mP/UW+QWnOwdkeEbk+Mflx8QXxiQgP8Fcv8lFgUmFrEXSSOxKCC+kL1YBJ1xB9ytKDBRejvcxf4E11kIeAi4VwohgED2jy/ww4d7rldEpltw0lNv0bUn/K37Tph174MQ6tmjh5eXF30oRaN6K6AQG6q3boq7/mErkJAQ36Z16/oNm1x5xAtMKPIITWFEAobd/0RaYMUGclEodgtOomIDvovcQq8A988KAFjScKMwhSxYCgFEEQqBFT84IgQRKigEKoQAhJBkz/D0wMSifaeu1daoM8R6cFFR0T/sTSim+42tQEZGxvRp0xBC7Tqabdnn7OoX7Rme7hWZKYjGxjTf2Dw//C/fPy7fj/yDBv3qF5vnHyf9Ffpwe/qxv/rHFcjeCz+VgUCBU8jkCp6GH5mSb3SOd1QWX5TuLhSfuvlk6NgfVVRrmZqa8Pn8b2x1FdNRrMA/fgVevnzZtEljPf2GW/Ye5wnFfrF5gugcvijDMyyVF5bKE6YQBRzRnWENF24QVRfTICo5fDLCRdoBrkNnd0Z/J72lEgj0RtoAzRr7NYUnTOWFpniEp3mJMgTROX5xebzQlG37T+o3aNywYUMXV5d//Cv5Wx9AITb8rcuvGPyvWoHZs2chJZXjl+8FJhS6M7w7Nh1IhQfMqTN2ADfWzoBlAJazhzbtTywMshDgV5AcaJuKBOVAwMDFGBRII8y4RPZgh6Zw6O0eoSmBiUVrt+1DCO3Zs+evWkLFOP/CFcjMzBw+fBhCaP7Sta+DkwLiC/iidF5oKi8UG7hAAGYOY2pnw7uUtZhxBGAGNRi5mrHgcfe21FLHhUDBwoaXAmSRQoodYOtLYZEFMyseYanYFTA2b/+p642aNtfT03396tW/8D0pHkmxAn/TCgQFBdXXr2dg2PbyfbeAxCLP8DQ40TBZwMiOje3MIYWN9oCk+NxkqAfBa0oc6HHGYDE21EuPUTcw+7PkpdoHMcyQexB7hKUGJhRde+xp2LaDnq6On5/f37Sc/4ZhFWLDv+EtKp6h8hUQ+AiUEJo8Z5F/fL5HKPZKkhIvyqYwBIv4DkEH+pOUEyKEknyVgYC/MkRTCgH6uAczVzDbRGFy50AkEykEtg/ICVIaDcyWUOwmFPPD0/iiDIte/b9v2kScklL54yt+VaxAuStQUlKCxWmk9NuOAwHxhd4RmWQTVoQdZBvTzc/uUs7xXx52yOxtEMLJ5pfBDiKHAw+BB4JfmT7sV8aZkIVJf/UITQ1MLLr60KNB42aGrVoqwn7Kfd2Ki4oV+NIVKCgo6G9lpa5R58Ldl4EJRawGgZ5on9IEbE/4xBqPMZRLKLA88MkhSPl7abcvhCAlFGQgMiJIL8wkYQ6kmzggofDKQ953mtq9elnm5+d/6Woo+sMKKMQGxU7496/Agvnzv9Ose/WxpyAmh+VIMPGS8uXctlQ7Qvgn6U+YK+IoMD6FQDQuZfUrQMXYgaQQCLkUY+WKVCtD5sMSWfYWwj8RSgqEj5lDSLJfXP5e5ysIoSOHD//7X6HiCb/CCly9ehUhNGfxyoD4As+wtAr3NqCA7M6sGnYwd1W2t9mtDtiBpWJioyiDHcLy9ZdEW4nRJCCh8NT1x7XU1CdPnqzIw/gV9osC5H9uBc6cOYMQ+m3H/sDEQqk1nujICLnAKMnaBD45EBmkxiozKaEgEAgpoBBCmNvJ6YZlDJYakJOR0ReUD6HccWG4MgcxQMAwAxOKNu0+ihA6fuzYf+51yumBFWKDnBZSAeZbXYHMzMz27dv17D/ELzafpUpShQfQF8rcS4UK1k7KsPUkSoFQNKBrUghcNYnUeQPUKqyWFI9SHgRKKxmlCzH4MoIB5rcYMYPOAYBAB4+w1FdvEht9bzBh/DgFk/St7r5vd14FBfmmJp0N23Z4FZSAwwfxXpXd259iB92N5exMOOzLQigfO8rb2yy7IJ2DLHaQGVaCHbzQlICEgjmLVyKEXru5fbtLr5iZYgX+CStQVFTUrZtF2w6mr4ISSBwRSf7BIRQUQz8lFFQXhikG/UcPQYLCDJrDjcwBB8clOSjJFfB3omSHaA3orxUQKzwc5xgFQQWIBozCF2H9SEdTCzNTE0Ue8+ptQ4XYUL11U9z1j1kBb2/vevXq/bJyo29sHkuMCF1jg4wpv+IegkOfsQ4jOAlf5FhLQbEBxgGWDrKh0iyxw3oO1nrAQmAUMAxYBiahpBwfUPwrIXY86EDoMlwkpBZTWIBA/jKEmBeawhdlDBtnY2zcNi019R/zPhQT/TZW4PbtW0oIrd950D++gN3S1Lj/6d7G209cLnbQncngi5RLELtz8ItxX64hdmBrA0EEVpwuix2C6Jw7L/x09OpPmTz521hmxSwUK/BPXQEvLy+E0IqN9v5xBSD/S09Agon4PJKiOT40QdUF9AQfgtgWQU43ljIAxQDmnnZjGnAOEuyG8449Rj/xdGLPa+YcxMeudA5AwcoexIwdg4wr9o8rgMhAN4VyoVp7UyE2VGvZFDf9c1bgwYMHtWrV2ul01jsqG+shhFLqxpAwkvnBLZgyJQw9YskTq+0g9lNg3Cntk0LABJShj/gipapEDsF34YtUAEh2IyIKc538hCkaQMByCyWUjAwj7UlAYfItFHtHZs1fulZHu25kZOQ/54UoZvr3r0CJRLJg/vw6dXUee4VBPiLYySx2AHdOEKFS7ABlYZm9LcUgOKfx7i0HO4jGkXgxUQggfsBkpHue8XRipGuMHQxvUQY7hGL/+ALrUT80b/a9WJz89y+0YgaKFfjHroC9vb2mlvbpmy5+sXnMgUWPMIbFZzCdQXPm5IKLxNTwidMROXmlECo8iFm3Q8ZY8WUHMZkDQ804sgohLHCUJ/nF5p3747mWts62bVv/sS/n75y4Qmz4O1dfMfZfsALXrl1DCB29dNcnMpshQIQTwkw8JmHEfQh4F7jOMP2MGxJ0YDkYhu/HqheINyDaFOo7hLkZYHGw2MCmSGKlCELLPoFAlDFENQIqGXwvnhWmwkRzA15PhCjjKwABhuAJxb4xOau37FFWUgoJCfkLVlIxxL9mBQry87t3s7C0GuIeIvYIS8X7ij3OP9nbn8MOsuGlOxNO608hgM8Ay0l8gh1wkZGxK8MOVuomOMXexcUvgi8wun9c/spNu7W1tZ8/e/6veV+KB1GswF+/AnNmz2resvXd10FeEZnc0wfIBRyg5C/r30iwm/kVTj32SGXOWRaRAVU/JRTcg5jVmpFjFM67KkAgpIY5PT85iFkIDKnxisi47x7c0qjt9KlT//pV/ReMqBAb/gUvUfEIla3A+fPnEELn/njuHZnFqjFY/puhYpgRAYkCyBn5S/h7hg4yMZpcJgn6MMSU2BY49zLw8RXG5akiCMzQdGIsdQbeiJkDsdVKIcBA7iFi35jczY44uisgIKCyJVD8pliBT1cgNTW1aePGNjMX8EUZvNAUhh1nt3HV9zbZrtKdSbcxwSbQ7XGlAsCLivY2sSHAHFjTBIOY7MQqxg7G69o9ROwTlX3gzA019dqXLl789KEV3xQroFiBL1iBkSOGt+1g+tw/xjM8jVVgwZHEHJesbovgNdF8yRyjjJ6OkepBHfYJBBlSQ2+HMw5+xX/Zg5iYGSEdk/TUJhfBqZg9T+FkZ/6yRzn2PcbEyjM87UVAXHvTrkOsB3/Bcii6siugEBvYlVD8/y9dgdOnTiGELj9w944kKhNGGyHVZ3AoFIcastZV+JUhTED+ZCBwKBSXSoIqhb2dBpNxNSKfZIYBCwOFwKGVwGZxIIDjEy67k7vjIM50ochC/S/dvF/rsRISEjRqqy9Y/psgOhtXXyIbGzPltA0N1i+ZHudMzypgBwVF8Ut2b1P7BsYgqYwhvZGdDAeJKC5QToJeYSB4R2ae/+O5krLK0SNHvtbyKeAqVuA/sAJ9+/TuaNaNVEdJYcUGBt2Y04o1JoC+gEr1EArIPdEICkvpzCcEpwypYZQFQJRkSQ2eAENSWPoAQgW1+VdErNj5iD1CUz3CUk0tevXs0e0/8Brl/4gKsUH+a6qA+E2tgPPx4wiha4/53pFZlINhKQhDgECHgX9lSBjWT9CvUnaHZXQAjgx1Y1W2hDiyxI5Vk0gpHb1Xdg54aBiXgYA7kIvcgRjHKkJS/WLzHI6cV4gN39R++0dMJjY2FiG0fP0O35hcZh/Kb2/THU4RB7Yx/krwS4pc3K/kV3pvxdhBGBdyI8UOLifhFZF5/SkO5dyrqIT4j9iLikl+qyvQrZu5iXlPrwhskKSIieUHUomIcwXOSiz8SwUGIlEw8dCsCZFFaqL+JycsAKGEAgMHQgQCSZljVC7Eihea6h2ZZd6zn5lJ52917b/peSnEhm/69SgmV/MVOHYMu/HceOrtRawNQJWkMcfAf4APd0gyj1W7km6UfZdKAizhwyGeVCRguBZWNQt9GPLHqEbArspKI8AhQRk4dkRMQBkIZDgqw0gFGOZ2RvEjFPvG5u0+dhEh5K+oeVnzjfJfghAdFY0QWrN1D5MjBR/P0k1O9zbscPy3nL3NxQ72sCebGTMBLHZQfPkEAlVSfjl2UGaFmRswHxiLGezgizL+eOmPEHKwt/8vvVLFsypWQM4rYN7FrEv3Pj7RObzQVAa/MB2QEgqM3awATxCTIRQ4JSAlBWx/qlbjQpASiqodxOSUZKQORptGSQ2BQJKFMKNzDmI8Z5IGChMKXmiKICanW+8BJiaPNaxeAAAgAElEQVSd5Lxk/w1wCrHhv/Ge/8NPefTIEYTQTRdvYm1gGXcm5AAClxl+HUgSTyjmhaVizw1KIoE1ISSSzUxPyCXJ0yr1XxImE3suNoDywlI9QlM88F9osKWpCX8GJNVdKOYJU6ADQwFZaktFDlZ64VBqqoAhFd8cj19WWBv+w7u7mo8eERGBqzhtPxAQj1MrgraPu7eZ1Ie47KvYOzJTEJ0tiM72iczEaZdwLASgDNmWDF5gjOBCcA+BTCnJGBGIV0AZ7MDXeUKAhs9yKb6Q/gzukOHYGTKmBopBhAX5BDu8RBn33N4ghOztd1VzdRS3KVZAsQISSRdTE/Oe/XxjcslpSJh1oj4Avt+NEAcvUbogKss3OscnMstLlM7YJRgOnsQllzlGCS4TPh5IR3CSR2iKd0SmT1SWb0wOJjLhaQxRYmwOxI5BhuOT4QQxOVIbyKdHuZRQkHsZj0fOHIgSROwXl9ej7yCTzgqxoTobXSE2VGfVFPd8CyvA5/Pnzp0749PPtGnTFi5cGB4eTmfIiA2uPiS2gVOTknBLQJ4o5+QRmuIlSvcMS/Mk6WUwfZQyVeDWyWQ64qo9GCYmhHBIYVhs8AhL9WRZH0+4Ekry1WAdDIEgFPNF6T6RmZhbYk3ALByqTeEIOVSiAC0OoYl+sXmOxy7JV2zIzs4OCAgQCARhYWF0DavdiI6OFggEQqEwLy+vIiAxMTECgSAgICA7O7uiPv/o6ykpKf7+/r6+vklJSZU8iEgkgnXIyMiopJtcfgoLC0MIbdh5EIsN0q316d4OTvaOzPSOyPjTLfj8Pfdzd91uvwhw8Y2mAYhVxA5WHiBSAYMdaQQ7UjzC0tjNL/YITcGYQoQHQBlPghqeYakkaBuwD4QTFhNh5sCjELxwD0n2EmU84IV842ID7Hk/P7/Y2Nj8/HyZd5qUlBQUFOTt7R0QEBAbGyvz67/ma0lJiUgk8vHxCQwMTExMfPv2bdlHi4uLCwoKEggEERERRUVFZTv8C67ExsYKBIKQkJCcnJyKHicuLg6IQ1ZWVkV95H7dDIsNVn6xeVwnJUaFH5LMD0/zjc5+xA+/+MDj7F23666+j70jcAkFxm5AMhxQHT+cthxSAwerR1hqQHy+R1jqn27Blx7xAc4zvxifqCxI1QBWArfgZM/wNEFU1kPP8AsPPC7c593jCT3D07xE6dKDWHYIsDkQ+QTEBvYodxeK/ePye/Qb/A+1NuTl5YWGhvr4+HD5nKq//dTUVDs7u6lTp3JZp5kzZ86YMePx48dVgaMQG6qySoo+3+IKODs7o/I+qqqqL1++pDM+ehQ7Kd1ixAZcG4FaSxmZgdAyt5Bkvijd1S9mtt22EVMXO56+w4RQE42I1BrLcCeEoefoMzzCUp4HxP28xn70jF/HzV4+ZtayMbOWjSV/R834dcK8lZcf8/lA40KSPcJS/WJy73uEzl25w/rHn1fuPAZj4cAyTNpAe8ooVqWzZRkjSrj94/Idj8tTbDh//nyfPn1q1aqFEKpXr96kSZMEAgFdyS9qhIeHz5s3r2nTpgghLS2tAQMGXL58WQaCv7+/jY1Ns2bNEEJqamp9+/Y9f/68TJ+/62tSUpKdnd2PP/54+PDhas8hNTV12bJlHTt2VFZWLvWUK21s3ry5LJsYEhIyY8aMhg0bIoRUVVW7d+9+9OjRkpKSao/72RtDQjBjvWGXU0BCId1OuMHBDkF09s1nftOX/G7ca6ROq646rboaWVh3s/7x0KWH3hEZhDnAWEC9FDhwCHYQkdsrIsNu25ERUxePnb183By7cbOX43+kMX6O3fCpizfsO+sfl/fUJ/LnNfajpi8ZN3v5WII48HfU9CU//LT6ymMv74gMZixgSoi3NJ2DtAoVweKHHkKElOzl6qT0+PHjGTNmTJ061dPT87PLW0kHf3//WbNmNW/eHEhXs2bNrKysvL294ZaoqKhZs2a1bdtWTU0NNoOhoeHMmTODg4MrgflX/nT27NkpU6YsXLiwhvLM06dPJ0yYUL9+fYRQrVq1jIyMxo4dS2GmpKQ4OTmNHz++efPm6urqpRm0GzVqNGzYsAcPHvyVD1vRWG/fvnVwcLC1tV21atW7d+8q6vbZ65GRkfPnz4fNoKWlVS4BDAwMtLW1NTAwgP3Qu3fvM2fOfBayXDqYmnS2sOzvF5vHkQQY6d0nItNFEPW/jfu6DPpBv033ui3Mmpv272w1bo3DCe+oLNyf2CWkGEoJBXuKYUkgLO0RP3zTgfOjZixp23N4I2PLui3MWnQZ2G/srN0nb3mJ0mFctxDc82VQwhp7Z7MBE/TbdNczsujUb+wcu+0uvtF8nOVJqk3A9SWYY5RVNDBDS4kVLzTFPy6/Z7/B8rI2vHnzZt68eba2ttevX6/eyh85csTW1nZymc+UKVMmT5587NgxCvb8+fNWVlZ169ZFCDVo0MDGxuZLE6IIhUI9Pb3yWCe0ZcsWOlAljX+/2FBSUhIVFRUXF1fJKvyNP+Xn54eHh1eii/0b5/aND3369GmEUJcuXZ4/f+7l5eXBfry9vXNzc+nkwdpwy1WAE7BimsWYRz+JziSURRCdtWTTAdX6bZB2izkrtvvF5mLaRxQVhDCxHBIhfNgYyqo5scgRnuYiiGrfayTSbaWs31qpnpFSPSNl8g/ptFRr2G73qVuCKByT7R2RwQ9PO37NpdtQW+V6RkijyYCJc/3jcvHECKkFMytXpCHTYLQm9Lo7zqSUt0d+YsPBgweBuzUwMOjWrZuWlhZCyNDQsBqSQ0xMTPfu3RFCTZo06d+/f6tWrUAwuHLlCn0vLi4uIDDo6+tbWFh8//33CCFlZeVDhw7RPn9Xw8XFpUuXLkBYx44dW71pJCYm9u7dGx68S5cuxsbGAHDWrFnFxcUUZnh4eMeOHRFCtWvXNjc3b9u2LXTbvHnzx48faTf5NoRCIRYb7J38EwrZU5YIqyx2+ERmnrvn3qnvGKTTUs/IouvgSf3GzTa2HKFcz8hu2xHfmBxmH4IaD6NPedghFPtGZ/ccPgUp10NazT/5V9cAI1qd78fNWR6aUnzPPaRD71GorgHFHUAfpN2iduP2+87e9Y/FodtcDwSMkuSKDHbwRekPPeRpbcjIyLC3t9fQ0ID3UhPJ9unTp7DPNTQ0zM3N+/btCyhAJeo//vgDIVS3bl1TU1Nra2tTU1MYtGvXrmKxWL574EuhJSYmLlmyBOZTu3ZtX1/fL4VA+x8/frxOnTqgm7AkH5Af+Hw+9DlzBieIK02c3apVqwEDBlhZWUF/TU3NO3fuUDh/S+PNmzcTJkyA6TVr1qysFqCKs0pMTOzRowdIRP379zc0NATBgCsVvHr1CnZIvXr1LCwsoK2kpLR///4qjlKTbkRssPKLywO/RMqde4nSH3qGDfrhJ+V6RnW+79Sx7xir8XNM+o+v1aDtyOlLgDhIJQ0oFE3UYRQCwVyxf1ze9iNXVOu3+a5px7Y9h1uNn91/wpzvO/VFuq10Dc23H7niF5NLXKGwoXLeqp21GrTVbdW1z+gZPYZN1mzWWbV+m7GzlrmFJHmEpVLigI949hglxz2xOYAhghKrUFwUskc/65qLDW/fvr106RLVAixfvrx6Cz58+HDYUeX+tbGxAbDr169XUlIqzQzZtm1bc3NzVVVVhFDr1q0DAwOrPm5RUZGvry+PxwOOiU8+gwYNKj2Ddu7cWRU4smLDhw8ftm/fPm/evJ/Yz/z583/++ef58+ezF/D/8+bNu3DhQlUGqHmfq1evzps378SJE9UDde7cOT09vXXr1qWlpS1atGjBggWpqanVA1Xtu4qKih4+fHjgwIGtW7ceOXKEW9I8JCSkYcOGEyZM+PDhQ7Xh/zdvBLFh0KBBlT8+G9vgQ7QghPPALA5YMImWgqhG/GJzT9x61qh9L40mHTSbdV6wbjcmfyTOklAiokCF4m5geKUQiPzAD09z9Y3uMnCiZrPOUxat37jv3DrHU/Bv7e6T6/ecvvMy0CMslS9Kv/0iYOJPq7RbmNVu3L6ZiZVqg7bDpy4mIgqroSEAqf+oNGiMyDZYVmEUrkRscJZPbINIJNLR0UEI2djYAIL4+vp26NChtCjEuHHjvnRzbt68GSFkaWkZExMjkUhSU1PHjh2LEBo8ePD79+8lEklGRoa5uTlCaOTIkRERERKJJDY2duTIkaBBkYt/VOW7oqJfRSLRtGnTgHaD4DRlypSKOld+fcGCBSB38Xg8iURSWFi4atUqIPo3b96Ee0tKSubOnQvy1dOnTyUSSV5e3vLly0sjeuvUqePh4VH5ENX+lYoN0tgGzt72DE97HhBnOWIq0mnZ2Wrc8esubiHJXhEZLwLiHE7eOnfXHfK4U8mZObM5EKgUwQ9P2+V845ffHJdsOrBk04FfNx3436YDS7cc+t/GfW17DldrZLxow97gpKL7PGHXQT9oNTeZ+r+Nmw6cl+KOw4kNe8/cef2GL0qj3ABNJoYnQAIiQYTAkoxQ7BWR8dATrA1yiG24desWFSC/++47ZWXlq1evVm/Z09LSWrdujRDq2bMn5Y9zc3MvXboUGhoKMIODg3fu3CkUCuFrSUnJiRMnvvvuu1JZYs/flxjq3bt3hw8fbtGiBcjAKioqDRo0qHatGB8fH5ABbGxsqJdFYmLixYsXqRffvXv3Zs+e/fz5c+q55O3tDeRowoQJ1Vv/mt+Vnp6+bt06bW3t0jxd8LdDhw4FBQXVg7x161aEULdu3aKioiQSSVpa2g8//ABEsrCwUCKR5Obm9uzZEyE0ZMgQIJIJCQljxoyB0UUiUfXGrfpdpqYm5pZWfnH57mwAkhuOxxP7RGZOXrReSc+wSYfeW50uvQyM98Lmx+TDlx8dvPjAk4lMkGYpIMco0Uow7DtUOBULorMPXLhnu3DdoYsPnvvH8iPSvSMzLz/26j7UFtU1GGKz8PWbJM+wVEF09uk7L+u17tagbQ/HU7cF0dl8Ufpve05rt+ii37rbxQeeeHR6OEIDdAr4oCTqNka/AJoRfOjLRWzw9vam7D6o/3/77beqLy+3559//rl+/fptn37s7e1BIAEjwNOnT1VUVHCyBwcHsHE9efKkcePGCCFbW1sutGq0p06dWn2xobi4GKhDuUIP9+KkSZOqMblq3PLTTz8hhEaPHl2Ne2NiYpo1a6ahoSEUCoODg2H+lFRVA2A1bgkODh46dCi8b5iAtrb2lClTUlJSJBLJu3fvQHVx6dKlagD/L98CYkP//v0r1/ccPUpCoqmTEngWEeKC2R1CyLwi0l0E0ZYjp9Vq2E6/dbc6RGwABac7VJ4i3RgFpwwEQpL4ojQX3yizARM0m5scvvI4NKU4ID4vID4/IC4vIC7PPy4Pc1rByf6xub85ngKCu8beedGGvUiz2fApixjLRkgSqGFATeJOgsCkepQyc/CTn5PSpk2bQIdBT26JRAI0UUNDw9/fv+o77f379yNGjEAI7du3j9718OFD0KvBy7pw4QJCqGXLlsnJybRPeHg4UMndu3fTi39x49ChQ6Uz19HRcXJyWr16NUJo8uTJ1ZhDQECAtra2qqrq3bt36e0fP37s379/aSzKmDFjwAcpLCysQYMGSkpKTk5OtNutW7eAUKxcuZJelG+DERt2OfnHF0rtVyw6+MbkbD9ypU7Tjs1N+5/583VgQr5HaAqE7/vF5HiJMrAHMzmYYXMChPKxIzhJEJMdlFgQGJ8fFI//BsbnR2RKrjz2amRs2ah9r3N33f3j8u7zhKYDJmi37HL02lNRRklAfL4/wRqMO7G5UMcaux/gQZmzHzSXzARY4QFcDR96hiKk5CCPkGgzMzOEUJ8+fa5du9atWzeEULXFhj179iCEjIyMgAWs+gsdMmQIQmjatGlVv0W+PcVisb6+PkJo0qRJly9f1iWfaosNM2bMAOa4Ehs7KBdknmL79u0Ioa5du/5dQQ6vX79GCKmrqy9btuzs2bOleb3bt29fbbEBiOSBAwfoYz548AAh1KJFC3DWunwZq4SaNWsGcgV0i42NbdKkSalhdvPmzfTGr9Qww05KJLaBE+MniM4+d8+9acc+Ws1NNh+6GJRQgCOYcUhSiiA6yycKm/QZMZ4essT7UWoqBNJBjtGXQQnekZm+MTkeGIiYFyoOTSleseOoin5rE6uxf7oFe0dmBsTlbXW6hDSb9Rk9QxCd7Rme5hOV9TwgrmOf0VrNTbYdviKAQUEmYUeXzoGdBiVW2FCPnZSsaxjb8Ouvv4Ji6OTJk8B2V1tsKPcNikSi+vXr165dGwz+oFb7+eefuZ0PHjwI9ska6tpsbGyqLzZIJJLjx4+vWrVqPfls2LBh3LhxCCENDY05c+Zs2LABrq9cufLPP//kzv7rtcEwWj1x6pdffkEIrVixQiKR+Pv7q6qqKisrfynVrsmjpaWlgbLqu+++s7GxWbRo0cCBA4EnmDJlCigVvLy8NDQ0jI2NMzMzazLWf+3eqooNJJMSjW1gqAmrsMc20NAUQVTWT6t3Keu37j5s8tDJv9Rq0G7But1+sTlcxv0TfoVSIpZU8UXpLoIoswETtZqbHDh/zz821zM8lRdGssSA5oNwPD6RmYcvP1r4m+O1pz6hKcXrdp9CGk2w2BCTw2NBsfQO7BusgyZXZiCU0S0k2T8uf488Minl5uYCS7R69Wq6i86ePQtBDgihtWvX0uufbXz8+NHW1haYDNp527ZtYH8AhmDZsmUIobKK/FGjRiGE+vbty3Uzo0D+gsaTJ09+//130Czs3r272mLDpUs45qRTp04ySA3roKWlBRrlAwcOIIQMDAxAiQCWGRMTEyARRkZG9Lp8nx3Eho32ThASTa1qxI049WVQQr9xs5FW89nLt/rG5PDD0iDKH5u5cFAB2ZlkV0OpOLJjOdw8wQ58EbCMfsU3JnlFpD/3j+s3braSnuGi9Xu9IzJ8IjPvgdjQwuzgxQdBCQUQGy0LgSOrAAdAQxoAdwBxiJOS3KwNu3btcnZ2LiYfUP1WT2zIyMgAV7Rdu77MBvL+/Xtwdfvll1/kuweqDi09PX3Tpk1w4sfExOiQT/XEBoFAoKurq6ysXA3+Yfr06Qih4cOHf9Wwn0qWJTg4+LfffnN3d5dIJDwer4Ziw48//ogQ4hpPHBwcEEK9evUCgQqI5NSpU7lTKikpmThxIkKoe/fulchd3Fuq3TY1BbEBaw2A6YeUITOXbUFaza3Gz4EMBB5h2IkI8hYADsJfTChYmzyXUHD78EJTIN4aLvJCU/xic6cv2YS0mvcfP+e5f5xneFpAXJ7DiZvK9YwMzQdfcxH4x+X7xeRce+rTyNhS19D85K3nODKQPT3ZBqZRoGXAMyehUHQOPKF8YhuuXr26detWMM7Pnz8f56arrrWh7DvKz88HXhEO34yMjHbt2pWKzVw9lEQiEYlEcExv3bq1LJCqX6mp2CAzEnhb1qtXj1pOZTp87a/VFhuio6P19PRq164dFBQkkUh8fX3/erFh7969CCE9PT36st++fWtnZwdOCDS6DuTIs2fPfu3F/DfB/yKx4Sa1NrDUhPg84ByRfrE5hy4/0jXs2qBdT+cbrtN/3aRcz2jBWgc/UgmLoT4QgsncS52qCW0iLk+exEkJrA3bj159FZTwMijBIzTVNzrbk3heEn4Lq2E8QlP8YnK8IzIC4vNX7TyGviNiA4mjwMwQG5PKUj1pMAbV79KGP45tkIOTUkBAAGgT6VkeFxcHVkeI0x0+fPgX7Zzz53ERutq1a+/atev9+/eenp6NGjUq1ZydPHkS4ICFrazCDJQUenp6XAXbFw0tx86g3ayetWHfvn0IoREjRsjMZ9euXSASQPDc7NmzwQ2MdgMPJX19fTgMgHbRX+XVoNYG4qTEiqZkewuisi488DAw7a/TquvRa0+FKcVeovTXbxJfv0nyicpiQpNZRPgsduADm2Ud3IJxMgDviMy5K3coabfoO2bWy4B4L1G6lyj9Pk9oNmBCqefezmPX3UOSXwbGe4SlYh0kSWjGhSAVWhiUZJwQKFLwRemPsLVBzglYMzMzIVynemLDs2fPatWqpaenR1/ohw8fPsv+fvjwAbSJKioqLi4u8nr7NYETHBysra2to6NTPbHhOCm+aWZmRjMClWtYKDvDR48eaWpqlkY7nDt3ruyvf/0VV1fXGooNV65cQQipqKhs2bLl/fv3Pj4+kECCBneBz1JZIjl58mRwa/wij/ZqLJGZaWfspMQJifYSpT/xiew+bLJ6I+NVu44LxcU+kZmvg5NevUnkR+BMrFSj7wZWehlCwX6l2AqaCMaQKMTWeOebz5p26qvesN0ahxPYCE+iAW+/CGjfa6RyPaOBE+c98Ah9GZQwcvr/kG6rQZPmvwxKgLSHGCaH1HxiAiUlkqTECmdSKpBvJqU5c+bIV2xYu3YtyJCgQQsMDKxfv76ampqXlxf3VUZHR0P6hB9++IF7/UvbchYbQG2mp6cnM12YVmxs7KtXr27cuOHq6lrW+ScnJ8fX1xeui8Vi2vOLeIJyxYbCwkJfX18vLy+hUFgR8YVTf/jw4eAfWZHYEB4eLhAIvLy8vkb+x6FDhyKE5syZw32L4eHhEAF2+vRpuA4Wz759+1JXTm5/RbvcFfhSscErIpNSK7Z6pdg7IvMRP9xs4ERl3VaLN+z1jc7+8ec1SvWMsLUBxzYQjgoYFJYkwUWmHCZWcmDGBYdE+0abDZyo0aRD4/a9jC1H9B8/Z+r/Nu4/dxcTvshMTLMIBNB5uGNbQR4WG8DaQOjjJ8MRuzCdsJQgcigvCYmWg9jw8uVLVVVVLS0tiuPgcD9jxoxVq1aBk8YXhee+ffsWyChEL0C039y5c+n2njVrVlm8SEhIgJ7Kyspv3rwp96X/lRdrIjYAe9SlSxcZjeDo0aNBbIAETaAvsLOzg+d69uxZnTp19PX1nZ2dGzRoUGp4efbs2dd4ZNbacDggASdgxTItOVndsRSde/jKY52WXTr0Gf2QH371ife8VTuH2CwYMXXxsi2H/ngVLIjOlpoR2F1N96csdlCDA+4p9ovJ3XHsap1mnZt17nf+Ps83OhsrLCPS7/GEXQZOVG9k3Lh9r/a9RvYfP2f6kt8PXnrIC03xwjmUpD5RrNGPjfBhMRR4AnBSeoQzKX1bYgPwiN27d3/37p2Xl9fy5cuHDx8+adKk/fv3yxiUSkpKHj16dPbsWUdHxzFjxigpKTVq1IjryvI19kPVYdZQbACH/hkzZkgkkrt3786fP3/YsGEzZsw4d+5cJd4+ISEhRkZG4MPNTSdQ9WnLvWfNxYZ3797NmzcPqMGoUaPgAadPn05dsECnMHv2bO7kU1JSoKempiY3YSC3j7zapqYmjJMSq8v3jsi46xbcpvvQekYWZ/58/YgvWrr54PApi4fYLvxp9a7z99wF0dnsAcemBKQHFnuMunPMhmDEwCx+cLJvdPbt5/4mVuOQdothk3/BerfwNKAngqisHceuNTS2rN24vYX1jwMmzFVrZNy+16hLj/jgFgUQGKGFpQnkazmEgheKnZSw2CC/ug3yFRtu3bqlqqqqo6Pj4+MDbzM6Orp58+ZKSkoyycTOnTsHW8ja2roiTrgq++EvEhvy8vLWr19P834ghJo3bz5v3jxuzqKbN2/q6+v36dPH2dm5c+fO8HgQ+r169erKXdLpo5YVGzIyMmxtbevWrduoUaNLly6Vu1j5+fn9+vUrDR7au3cvgCpXbDhz5kzLli01NTWnTp0q93TpHz9+7NGjh5qamkz4eEhIiK6ubqnC4Pjx4zC3+Ph4bW1tJSUlyrfRx/93ND5+/Pjuc59y32Mlj19lsYFJwIrFBszESFkQj7BUr4gMbBLVbtFn9Awc2iVK/+GnVdjagJ2UsKqD/CMOGAwDxDhjMOwR6eAWIgaxodsQm7oGptotzOp836lWg7ZIt5VOq66jpi+5xxP6sDWqKd8jKzYQ+Az3Qwgrsa5Kja2YCJJ8NYzWhDgpyaXc2507d8CJFkIz//jjD1VV1aZNmyYnJ4PdoHPnzunp6ZW8i7I/vXv3Dpw6AOtHjhzJVSueOnUK8qhQg1thYSHYeaH/t6BbrYnYwOfzNTU1ZYIWjh8/DiHROIvRhg0SiQQ8GHfs2MGNgHRwcHj//j3YeWqSt6fsS6FXGGuDvVMgqdvAHrp4bwfE5+88fk25nlHvUdO3Ol1qZmKlpGeoZWD6XdMOSKdll4E/XHPxwUc1y0kw+5l4KrN7mzFfsKw8U/xEEJ19+ZFXy66D1BoZb9h31i+WlJEi2sT7PGG3ITZazU20W5h9930nVYI7uobm4+Ysf8gPZ0MeGZ9piKzgYgcPAh8JdvBFGcTaoCTfcm81tDaA9WnMmDEnTpyoXbs2PQoRQlZWVpA5AN7Ohw8fwHmd9hkwYIDczya6E760UUOxYeHChQihhQsXgh2ePiNCaPbs2TIyNswtOjoa0KRPnz4yItaXTl6O/WsuNkBko6WlJV2E4cOHc9O5ApHU1tZ+/fo1zPzt27eLFy+G/kpKSrdv35bjE5UFZWrS2ZwkYKXuPT5RWddcBPWMLAxM++88dq3r4ElIt5Vms86azTojnZbNTKwOXLgPNgfmfKRxgPigBOM8lhA41APTCreQZEFMzkPPsN6jpqO6Bt2G2v75+o0PCXQGGuIRmvImsXDZVieNph1rN25fq2G77zv1PXfPPZBoPRjZA8MHL0pZQsEZjhzfoSkkJPobFRtCQ0OBAnBzfxcXF0OM0+jRo6mCOzg4GBRtCCELCwtqwSv7Kj975a8QG7KzsyGgB2SAAQMGUH/cLl260Bh/YOwoVpiYmAwYMACyMSKEJk6cCM79lT+SjNiQmZkJDtC1atU6fPgwlxfhwgHqpqamBvlJynVSOnLkCHgCjBgxIj4+nnu7XNolJSVJSUmxsbFUfyCRSLKzs3/++WeEUL9w3p0AACAASURBVP369anB+u3bt3379i2NIflSz1e5zPMvAPLgwYP6lX5MTEwSEhK+aCZVFhtwSDSJbcD5T8FZCIiaX0zO7pO3tQ1MG7fvfebPV0EJhR5hqZOItWHhb44BCflQaooJAKVsPSM/cFy3iSb19Zuk608FpTkfDl64v+3w5dl22zr0Ga3RpIOyfuvhUxc/849lU0zgG3nEICtjbSAkEtM1lt/CDdrGc2aYM2ZoXO5NHglYIfauTZs2qamp2dnZgMsHDx6USCQXL16EUOkvQpCSkpLTp0/Xq1cPkrIjhJo2bcoN+s/MzARFe5MmTVatWuXg4ACxwn369IGETvfv3/+izVCVzhkZGYGBgcGffoKCgiraeDURG0pKStavXw8ZFefOnbtv3z6ImWvevDkoUCCMpE2bNqXJo+B42LFjB2RWKSoq+vjxIyRb5J4cVXnGKvahYgNkUgLrAcEOcWB8/vq9p5XrGTUzsWpobNmkY59VO49dfuR18Py9niOmIj3DroMnPeSH80WfpEuHnQkQALkAJtPG5rj0l0EJAybOQ3UNJsxb6RmeRtIxgTVP/Coo4ZqL4PQfrw5euL/18OWZS7cYW46o3bi9cj2jsbOWcfwQyscO6Yi4imIGhER/U2LDxo0bgearqak1btz42LFjISEh165dg+xAgwYNorr2kpKSo0ePrl69eu7cuYMGDYJ0Xu3bt+fm36viW65Kt+LiYpFI9ObNGy5avHnzRigUcllYCqomYsPHjx+BO4G08ebm5jdu3AgJCXFycgInyUWLFtGBoJGcnAwnY48ePbgaSZluNf9aWFjIXQFoBwUFRUZGlptHTi5iw7lz58DvADJpNmnShKsmKHXWAONko0aNVq1atXv37sGDB0NQOBCHa9eu1fzBK4GAxYZeTLk3OH18orLO3nXTbmHWoG0PA7MB2i27zLbbdv4+7+TtF6NnLavVsF3Tjn3O/PmasQCQFAvMgQtaBvb8gkMN0NYtJNknKuuJT8TgSfNRXQPTAROuu/hiO6T0wMXm+qtPvHuPmq7WyLh+2x51mnXWadV1+pLfXwTE0fIOtD8BjkUUGIXoF6DN6OB4JJMSDon+9qwNb9++hUwkkyZNklGkvnjxAkzQffv23b1798qVK7///nsVFRWQPE1NTdPS0ip5m5X/9FeIDRAsqKSkZGdnBwqAgoKCffv2AY376aefgJunBhRtbe3Tp0+DkJCQkLBo0SKQJaivcyWPxBUbEhISIL9s/fr1b9y4UcldN2/ehFhDSmuotQHSFOzfvx9wddq0aZVIaQUFBUFBQf7+/gEVfPz8/CIjIyuZCfxUVFR0/PjxFStWgA3EwMBARlUAWoTqJYz67Oh/e4fHjx8bGhq2reBjZGRkZWXFTapTlQlXVWzgZFJiSAnxLPKOyLj9MrBDn9Gq9dv8b+N+n8hMj7DU12+SJs5bCbENvtHZr4Nx8IOU+rBtor2QhodSrsVLhOM7vSMzfSIzfaOx+mTUtP/VbtJBy8B0x9GrULcBoPFwModcEtvQFEKigS4TlyeG5NFxQVki/coYYXGpS7nENty/fx8yeCQlJf3+++8IoQEDBoCse/jwYTioylUEVvSazp8/DwL5L7/88ueff7Zv3x6CebjRO2KxmKY/B2pga2sbEBAAipYvyt1U0TRkrjs6Oqqqqn736UdNTW369OkyPeFrTcQGiURS6ry+YcMGWAd4QAsLi9evX0NEI7idAMU/evRoWFiYrq5u7dq1nzx5AglqgZGqdv2gcp+IXhQKsff/RvvDuG4D2dU0eDEwIX/bkSvfNe2o2dxEt1VXx9N3AuMLfKKyAuLzr7v4tuwysHbjDhv3ncU6RcIKAILQv9JtjH0SpOe0T1TWsq2HVfRbG/ca8cerIE7GFdJHKPYS4fSLgDt+MTl/ugcPm/yLeiNjreYmu0/dDojLI0NIszpK0YGdBjyIfEOi6YrV0NoAJyZgAcTUAmQPDw9w2afBb3REaLi4uIBoYW5u/qUUUgZUuV9FIlGzZs1q167NRQsNDQ1dXV2q/uPeWBOxQSKRQF5E0DZyNRHAKtStW5ebsCQ1NXXAgAEgS0dHR3OnIff2s2fPNMiHuw5qamo9evQo19RTc7Hh0qVL4JW+cOHCO3fudOrUCXLPnDp1ij5damoqRE5T3autrS2Px2vbtq2KispX8mCkoxNrAyRgZRDZJyrr6lOf0kSoWgamtRu3X7Rhr19sriA62zcm52VQQp/RM5BOyxlLNzPqNla/xiUOGG1Zd19w9PWOzHD1ix0+ZRHSbmE2YMLVpz409Tl08InKuvMysHO/sUinpQUpNzlp/hqNJh3UGrYbO3v5i8B4Ej3IzBD0F2D2xOOCuAIkjv1LDt98y2/SSQmscAYGBuV68ru4uEBgNOwHLS2tCxcuACM0cODAinTo9IVW0vjqYkNWVhbULCxbCAni+dTV1cE1GWhBqV3+999/5864pKQEgsTNzMyouzO3A7cNYsO8efNSUlKAiBgZGX22CLa9vX2pjrlz585UYgOxQU1NLTEx8cCBA8rKyurq6kuXLi1Xp0In4OHhoa2trV7xR01NbejQobR/RY2MjAyu6dnc3JxWBoVbwIrdtWvXKvpuVTTQt3m9pKTkw4cPHyv4wE9fOvOqig00kxIJ2AK2xj0kOTA+f8O+s6iugWazzq27DenYd4xxr5HGvUY27dhHu2WXZp37te896vvO/bYcuhQQn080GRwvSQ4xokoOrFZhCSUQL7/Y3Ltuwe16Dq9Vv830XzfhYAlOB9ZJiYgN4BBF4kdpH6C2VCZhZRV2GiSLnFzKvfF4PA0NDR0dnfXr1+vr69euXZvmlQctqZWVVdXfTlRUFNS0mjx5MijqAgMDodiZvr4+ly0oKip6+fLloUOHnJycXr16VVxcHBwcrK6urqWl9TW4hNOnT5uYmEB5KfrXwsJi/fr15T5dDcUGgOnn53fq1Kl9+/bdu3cvMzPz3bt3wB+A1gMEp2nTpo0fPx4hRLPlCIVC4Ca/ko5ZGttAErDiU5bdmf6xuQfO39Nv3U29kfEQmwVuIUk4waIwGbIbTZi3UknPcMbSTeRoZ5yRyL1SCCBOUKMZBDVeeeLd3LR/7SYdtjpdIqmN2WMeYirw6AQC4wCNS0HdcPVt13M40m7xy2+OgmicaoyLYp9gB7mXuCiI+REZJLbh23JSgug1cMXhbrbi4mJQIYOjGvcn2n7w4AHwl3/88Qe9KK9GTEzM4MGDu3fvTjHC0tKyR48e/fr1oxo37lg1FBt+++034Hi42ZklEolYLIaAYJqVobCwELCjZ8+etHo0dybybXt4eHTr1o27CJaWlt26dZsxYwb1CeGOWEOxISoqCtwuJk2aBNEaQUFBIB9qa2tz08+8ffv21atXhw8fPnTo0IsXL0oztgcFBUEE1NcOiaZVognqYQz1jsz84/UbQ/PBag3bdew7+k+3YMYlSSj2jcm2235ErZGx1bjZr0iYMkMHWMJCDjIWzVnNl2dYmltw0qSf1yDtliZW4667CPw/PSV5oSkeoSnYBUDPsE33oZce8UPE79xCkm0WrK3duH3txu1X7DjKRCGSgUAskfoUwEkNc6CkRoidlCytrE2/MWtDSEhIkyZNlJSUKilTlpycfOvWrT179pw/fx6cisFM/eOPP3L355e2v7rYIBAIQE8vE5wB2aCgNg2UgwWxQVtbuywTAM4PWlpa8fHx7969O3DgwI5PP05OTiA8gdhgYWEBxkqEUCVrShdr5cqVCKEePXrQK76+vmpqaurq6jNmzIBquH379i3X/khvkUgkwcHBI0eOtLa2HlLBZ/DgwVVJT1lcXFyqgt22bdvixYtBftDX1wfNIgwHTLCxsXFFLhPcWf3j2vHx8SdOnDh9+vSZ8j4nTpy4du0aNdNX8emqKDYcOYL15bdcvb3YKtFAWfxic+2db7QyH9y539h2liNadxvSpvtQo25DGrTtodOyS9NOfdv0GNakQ+/Nhy4GxOcT1SbrIEFyxkEIKQ02IExMEmWYgGfyDE97HZxk/ePPqK7B8KmLMbcEpI38DYjNX0kyKQ1jErDiJHeUe2OkBZIfli/CGTDJEGQOpKwViV7N2+OME336+/lVcdHK7RYaGgpWb8DrdevWQbf3798PGzYMITR+/Phybyz3oqOjI0KocePGXI9tFxcXMEUeOXKk3LvgIuS279ix45eGUlQCs9o/yUVskBnd29tbTU1NRUUFYt3A7goWiTZt2tCiGRcuXFBSUlJWVq5hNm6Z0elXRmxwOBwQXwAGLrozfaOzT91+2dzESrme0Ry77XxROkm/iEux8kJTbBeuU9JrNXPZZt+YHKj9BFudJxR7hOJ0www3j09opqiTe0iyb3TO7OVbVfQMLYbYuPrFeInSCUJJd7sUv8jehjywbiFJ/cfPQVrNf1ywFleNCEvlYodnWCrWMgJDwIyLscNTlPHQQ251G+iK1dDacP/+fXjLjo6OFKZEIikuLgZHlErqs4rFYrDX0Rw7XAh/cbuGYgNox0rzhz58+JA7c7FY3KpVKyUlJSo2QCYZQ0PDr4QC3NGr0a6h2AAJsho3bsx9ulevXoGL5rFjxyqZ0rFjxyCJU02cUiqBT38idRv6+8XmsQlYsUnwIT+866AfkG6rARPmvnqT6BGeBoegT2TWWocT6iA2vElk8geyVY8AVQHNccVSIjbwQpIFUdnLthxSrd+mZddB5+66+cfkgi2CoQ8hyV6kQGoj417fNe24bvdJ/7g8LL1EZbr6xfQdOwvptBz4w09g3KDEB+pGe4ancXKaY5UEjdBgE7B+c05KIFR36dKlXEmVvhduo7i4GFTw1S5QDdC+uthw/fr10mojysrKZZ1zCgsLW7ZsWerRC0lkIZ6yTZs2Za0n/v7+UHKSx+NlZ2dTGxy3AU5NUFODe33QoEGfVclDKhhra2u6xL6+vhoaGlw42tra9+7dox3KbZSUlLx//764uPh9BZ93795Rg0a5EMpedHNzg0AWa2tr+iBXr16FsNSQkJCyt/zTr0AiEe7iy7S1tLS4XGZVnreKYgO33Jsb8ZoArSQvNMXVN/r2y8A/XgXdeRl051XgXbfgOy8DR0xdrFK/zcylmx97Rdx+EeDiG40zUhO7Kq6VK0r3isjwEmUwyZEIo88jRNAjLMU7MpMlVViZKojKeuwlat9rpIp+a9uF69gYa1zL1l0oDogjCVhJJiWQKAg9ZYQTbF0Nxtla+eFpz/xiPMJSPcNTgTKy9BGng5BLSPS7d+8g5Rf4A1CfPYjUL41dhjiHqrwUiUQCkc0yOVtLSkogeqGs+zIF+/btW3DaWblyZbmJm77IUYqCrXbja4gNoASxtLQE4gZRJVBDClQtMFtIsWJpaZmTk1N2/l8qYJeFQGMbsJMSu7cBOzzD0575x0KJ6AnzVvLDUjG/jnd+xouA+O5DbdUbt1/jcEIQhZMgwVbkhYp9orI8w9PwRa56j2CHZ1jqq6BE7MCg+f3SLYdIZUOmngkwBzgrcVgqJF+n+VWxn5JbcIfeo1Bdg3mrdgqisnih0twsXhEZr4ISIYcB4/NALHUkkxJUif62MiklJSVBHAsUEaJvJD09HUz3lXijRUVFQRnEM2fO0Btpo7CwsFxkoR3k26ih2ODu7g71dLlO/BKJJCgoSEVFpbS6EShQoZaRurp61Q0s9CSV7/NWBK2GYgP4ZZRN0Aw+zJUQyeLi4sr7yHEdGCel2DzW0JfsEYqpweRF61FdA4shNk98Ipl0BTireO6PC9Yq6Rna/vIbW8ZBTJRruKo0n9Row5lSicofSI1PVNbFh54GZgM0mnTYduRKYHw+MxCUdMTSBb738JXHuq266rfuduOZn08UyUkYkvwmqQg7C2g1Nxsw4T5PiDURQjEcxKSivPi5f6yXKJ0H9a2JWgETK9Zi6Y8zKX1bYkNhYSEIAFRtV9He417n8XgqKipqamqvXr3iXv/S9lcXG65du4YQUlJSKut9VVhYCNnBNm3aJJFIPis21KpV6/nz50VFRQsXLpz26WflypUgbFCxYejQoRBlWMpxyng9lV0jKPTWv39/+hMVG3R0dOzt7SHu09jY+Gs4jMKgKSkprq6uPB6vrB/Uli1bEEL6+vp0DYGxbtas2b9SbCh9qI0bN27evHlLeZ+NGzfu37+/XA6Jvr6yjaqKDcRJCddtiGJDoom2wy04ySMUM/reEVgGwLUqo7N9IjNtCO1btGFvcPJbzAxxMsd7hqfd44X8vG73bLttN5/5MQoVXGwhiScUP/aOwHSNwPGOyPCLyeGL0heu2/1d045azU12Hb8OsQ2e4angDBqW9uE3x1NIo/Go6UtCU4oF0dl+MdkQaQoembzQlNdvEtftPtlj2OTZy7e6+sUwI0odOeQT2yCRSE6ePAmC3NGjR+lSr1ixAuI4y1rAgoKCli5dunnz5rJmAVCZtGjRguvkEBcXB6JyJc4YwKbr6elxbfQwmVL3njVr1vTu3XvPnj1/WQZGMJtUFPkAE3Nxcfnll1+cnJzK4jhdRtp48uQJhInT6PCUlBRQJPfq1YtaPn18fBo3blxa+3PPnj30XmjExcXNmjVrwIABlXCZMreU+zUkJARnc3JwomID11DmF5v766YD6o2Mm5tYXXjgERCf7x2REZhQsMv5hnYLs4bGlufuuWN2geARODDsOHZ10s9rdp+8BfWbsETBpln0EqX/8Tqoc7+x6o2Nd5+8jW13NJUKgeARlvqQH37d1RfjRXQ2xp3YHH542qzlWzHuGJg6nrpNhA3GJ8pLlH72rpu1zYKBP/x08tZzJiaSIIWbUMyPSH+IE7DKp0o0Xb3i4mKQaSthZHNzcw8cOLB48WIPDw96I23873//g8roXJ9+JycnhFDDhg3BD0csFpdl+zZv3gyHRdmj4d69e4MHD548eTI9R+hwX6kB5d4qinyAQRMTEzds2GBnZ1c2J/vHjx+BNxo4cCAXkSG0r3v37nBx3bp1CKGePXtW5Snev39/+PDhvn37LlmypCw5qgqEavThkXJvHTt2rOTekJCQZcuWrV+/HiqCcXtCItpWrVpxA0jS09OBSFZiegKipKmpGRwczAUokUgKCgpWr17dt29fBweHz/p+y9xb7ldsbejV3y+O+OgCfpG84fvO3dVp2aVuC7PtR68GJRRg4hCff+mhZ6uug9Qattt6+DJkWsNEQCj2DEt1vuH6489r1u4++dw/FmyGWF8gxNkXft10AKdOGmLzMighOLnILzYX/4vJ8Y/J8YvNxdXlIjIuPeLXM7LQbNZ54/5zQQkFXqJ0coBmT/3fRqTV3HLktFfEuAEGf8+w1HvuIZN+XmM5ctqOY9e4aUgYpRvxJfaPL5BvSDTkuSlbZIMu7IcPH27evLlw4cKbN29SUk9/lUgkNLUuV3/E7VC2nZqaCsq48ePHf6nyWgbaVxcb+Hy+iopKaTZ3V1dXmbFjY2PBFQFSjoKTkq6ublm2A0wWderUKUtZZGCC2GBubg6RSVAQSlNTkxtYJnOLRCLZtGkThHLSn8BJqTQtzOXLlyUSyZ07d8BVaf78+bRP2UZKSsrBgwcdHR33VvCxt7evKDjb1dVVW1tbV1e3LE2HldHU1KQ2SuDb2rdvn5iYWHYaiitlV6CqYgMJib7l6uNFUqC6CXGUMw2ZAtKGeSZSi8pdmPzDT6uU6hktJHUbuD15QrEgOnvm0s1IzxBptxg9c6l3RAbYPd2FYu+IDOcbzzr0HlUaUb350MXj110cTt4cP3eFZnMTJT3DIbYLIHKLH5525bH38q1OSzcfXL3r+BCbBWoN2pgOmLDa3nnZVqdfNx10vulKlLvYHIHdRe681G/dTbV+G7WG7VbsOEqtGRDA6heXt8dZDnUbIAYXwg+6d+/u6upaWnty27Zt6urqtMg6d/1LSkqsra1BzNi2bRv3J4lE4u7uDq7Yffr0efLkSWZm5vPnz4G66enp0YIMZ86cWblypZeXV0pKiqenJ6jfEEJr1qyRAUgVEDDio0ePynaQ15WQkBB7e/udO3fu2bMHntHMzMzBwcHe3n7Hjh0ykQaJiYmtW7eGWVHnCjoTb2/vxYsXP3r0KCkpSSgU7tu3D7KmWFtbczPIAQNRt27dXbt2RUVF3b17Fyp2lxsVB54bCCEdHR0uw0EHrWKDE9tQAEc42erJgB3YMeBloJGFtbKeobn1j4evPL7rFrJx/7nmJlZIu8Vsu21eogymtitGiqyTt180NLZEdQ2adOh97amPV0Q6F78E0dnn7/MMTPvrGpofuvgAqigSSwW2yLkJxf4xOYevPDKysP5xwZqthy8fv+6yy/n66Bm/an7fSbme0eiZS1+/SfQgBdex81J4aqlrxBDbhUi3lbJ+625DbJ4KoqReTyHJOCQal3uTT2zDzZs3t2zZ4uDgsHHjRnC+nzJliqOj444dO/bu3SsTLAtqMoSQsbFx2TLnvr6+EK9iZWXl5uYWGxu7Z88eSMZaCh9e3LZt23r06OHo6Ojr65uWlhYcHGxnZweugxs2bJDhDDIzM8EKgRCaPn06lwuv4jaoYreioqIzZ85s27bN0dFx6dKlampqGhoaS5cudXBw2L59O1TR5oICph8h9MMPP5TlkKjledq0acHBwUKhkOI+5E8rKSmBMvMGBgbz58+fy/nMnDlzyZIlMm4OQUFBNK/xV01FKBaLDx06tH37dkdHR7AHNmjQYOvWrfb29tu3b79z5w73Bb19+3bs2LFAHMpW8HVzcwNOydLS8uHDh5mZma9evQKBSkdHx491Or1+/bqdnZ2np2dKSoq3t/eqVauAaZGxWcHi37hxA4ZDCFUi3HLfVOVtrrUB6AOIAS8D4/tPmIt0WrbqOmiL06X7POH+8/fMBk5Ems0GTJz3IjAOR0MRi4F3RMZ9j9BO/cYi7RbqjYwdTt6CUi3u2PkWR0pMXbxBWbdV257DbReus124zmbhOpsF+O+PC9b+8NOqm8/8fKOzXwbGY1ulnmFzE6t1jifvuQXfehEwd8V2nZZd1Bq2W7rloBSmUOwTmbVgrYOKfmsV/dbNTftfeOBBM5FgUwMxOzBOSlY1TcDq4eGxefNme3v7Xbt2QY7ggQMHwmGxbds2Gc42MDAQELl27drllkqMjo7W0NBQUlKS8d+j7ygvL2/16tVHjx4ViUQJCQm3bt2CDaOlpSVzMNFbqt746mJDeno6KMOmTZsmMy1Qoquqqvr6+kokEmCOSeUde5mekE7EyMiIe4LK9IGvYNanY7158wYqzvbq1assaaYQjh7F2frbt29P4dNMSlSGAcxXVVWtBMdevnxJUbGiRteuXem43IZIJAK3KFrWjf4KyhVTU1OqHYFUGxYWFnTCtLOiUe4KVFVsoCHRkdjaAEwSVpSyYc2M5EA8JXhC8egZvyLV+nPsthE3ymTi+Q1qTlys6of5q5FuK3CppMwTFHQ7dedlne87I81mGk076rTqqtkcp7LWaNJh+JRFf7oFe0dmuIUkB8Tlrt97RokIHkjPULmekWqDtir6rfEV3VZIq9mcFdu9IxlpBPitxh16qzcy/q5pxyG2CzzD07AHOSF/7rjUpXyclGB5nz17BhEOkDYUdvvYsWPL5kp///49rclQ7gG2e/fuOnXqAATqGaivr8/1soBiRuCfQzHrf//7X7n7/9atW7TPF9lwy905lVyEzFF0LJmGzMPGxsYCJSzNDHPx4kUZsJQ9gmAGADV06FAZJUJeXh6UfaXJakH9XFYOkUgkEP0GoGqSfpE6KeEErMTXSIoOxAnYOypr96nbTTv2QTottQxM67ftUatBW7VG7SbMXfHEJ4ImPXQLEfsSpl/X0BzpGeoZml+4z2PcjQh+uYUk+8bknLz9vFQ3qdaw3cEL94g/HsjtjIuzf2zu0WtPlOsZIa3m3xHcqUPSwNf5vtPomb/e9whlSlOzponSqJ4xs5Yp6RlqtzDTNTS//NiLm5eJL8p4QGIb5JKAFSpDy2wD+lXGLEY3T9OmTTMzM2X2g0QicXZ2BsmB+665e37NmjUAXElJiZZ3qFOnjp2dXVlzVk5ODgTRQmKisirtshOo3pXk5GRuPg/6+NDQ19eX8R6E0w0hZG1tXdY/+cOHD1BEEmokAx9cp04dGvXx8eNHmt5dZiz4+uLFC+6DiEQiiKgsjfIaO3bs1xOfXr9+Xe584KK1tTXXW6ygoAC4unI1LxKJZM+ePXQzUCKpp6dHqzmV1nJZtmwZAAcNDrQXLVpU1iQlkUggIR70KVf5wl20qrTNcLm3/n6xkBGEyWEKh93Fh564LptOS42mHRu07fFd045Iz7DXyGlXn3j7RLFlVYU4ceofr9+07jZEqZ6RSj2jLYcu+pJ6cNgvkVgSxs9dgTQaK9UzQprNPvlX53uk3ujY9acBsbk46+ufrzv2Ga2kZ6jWyLhBu571WndTrmdUu0mHifNWvgiIY2rJEwuGT1Tm0s0HazVoq2VgqtbIeIvTpSAmowmTERGOe/+4AssaOymBNR4WvOxfmXLyfD6f9qHVirhvITw8HDqUjRmGbllZWRD6oqysDIo5cGuvunWCO5xM+6uLDVSXr66uvnPnTjCHffz48fLly2CCnzx5MqAuFRv09fXv3LkDiocPHz7s3bsXaGJVdAMgNtja2tLnhHAiWjKJXuc2nj9/DoZdKthRsYHmcklMTASbYLt27SpyVUpKSnJyctpf6efWrVvcoWm7uLgYlKwGBga0Ysv79++PHj2qra2NEFq0aBHoJ0pKSkCGqWGFcDr0f6EBYsOAAQPKZTTpCoAACXUbIMECIzxAiShMaxgXbZAlnG+4rrF3PnvXDeybRD8BTtW4pts1F8H4OXYjpi4+88crzDwxckgyLzTlqSDK4cStuSt3DLFd2H2ITa+R0ybNX73L+caroAQ2EELMTjrUywAAIABJREFUD0+/7iJYv/fMb46n1+89U+qd+fv+cxv2nd2w98yGPafXOZ46f88dQkuxPkaIg6T3n7/XY/gUtUbGY2b+ysdhXiRymoyLrQ2kbkMNQ6LpWr1582bVqlV9+/Y1MzMbPXr0oUOHKvIce/78+dixY2fNmsX1uKBwJBKJi4vLkiVLBg4caGJiMmzYMDs7O5lShu7u7mvXrh0/fry5ubmlpeWCBQsqqdWQl5d3+vRpUO2XtW9wx61hu7TUznHyOXbsmLOz84kTJ5ydneHK8ePHQRvCHeLChQvDhg1buXKlDOckkUhiY2O3bt06derUnj17mpub29ranjx5slxNR2FhobOz8/jx483MzHr37r1s2TKBQMAdhbZTU1NLLSHgHf7ZuCx6V9kGx9pQSPSCJK8RiwhuZO95R2ae/fP19CW/W46c2mPY5InzVm45dNEtOAlU+4z4TUL2X79JtNt+pO+Ymat2HsOhh6F4i4K8DfaBR/ywLU6Xft9/7k+3YKKJZHOzYisfDrZ+4hOx0/nGnBXbrX9c0G2Ybe9R039csNbhxM3XwUlECGExlEg4/PC02y8CZvy6SdfQvEHbHteeevtg/0MQQsR8UfojT7k5KT148IC+/RPkQ/fD6dOnZd5mamrq8uXLhw0bJpNcm7v+z58///nnnyFz0fz582WczUQi0YEDB2xsbHr06NGlS5dRo0atWrWqElWit7c3JOjs1KmTjOmDO2gN24WFhdevX5dZB/r1+vXrMrKBSCSaPn36hAkTaEK2shO4du3atGnTunbt2r9//6VLl8rkEn3x4gVdbedPP+fOnZMRkEpKSh4/fgwZU2xsbMraN8qOXr0rKSkpZ8+epQ8OM6RfyzpfuLm5jR8/fubMmRWF7bm6ui5dupQSyeXLl/N4PO7cvL29165dO2HCBHNz8549e86fP79cbQLc8u7duwsXLkAF3kq8ZbjwK2+bmXa26GXlF4djGyh+EcRP9onMvP0icOG63VbjZlsMsRk1fcmK7UceeYkIJjIMOpAIj7BU+xM3+46dNcdu2xPvCH441HvBTkoeoaknbj1ft/vkxn1nN+w7u3E//sv823tm/d4zDzxCPcPTsTEfDxeweOO+4VMXmw+e1HvUjB9+WrXF6ZJbcBKfnML4ICbRTR5hKU98IpdvdTIwG6DeyHjnsWtMRhOh2B2nU8cPgus2xBXUvEq0j48PfftlDwuZ9F9FRUX79u2ztrY+cOAAt5AXfQW5ubmnT58+efJkRf4mxcXFZ86c+eWXXwYPHmxmZlZqDP/999+p9Z7CqV4D7HuVeMdxwSLul3LbkPJIR0eHSwKSk5MhFypCqEuXLpMnT+7Tpw+ISm3btqU510FsANMMuCra2NiANQch1K9fv4qYde5MQHXBTS/17t07qIihqakpQ27ojcnJyRBlQXVyAoEATJlc4/6VK1dA2zF37tyvoaVwd3cHjYKWltawYcNmzpwJHggIIVNTU6p3LCwstLCwKNebmT6RoiGzAtTaIHNoyXQ7SmMbGCclRsfJ6uw5NI5UaRBEZb1JKqLkD9M+jlMT8Eyv3yQSDSgDCvrwwlL84/K8IjJeBsY/FUS5+sXwQlP8YnMhOgLI7uvgJK+I9MDEwqCEgqCEAmmDfA1KLGQFDGZW/PC0EPG7aUt+V9IzXLHjiDfrUA72Vv+4PEfipCQvsQGWrqCgICcn57PoUFb9KbPyEomkqKgoJyenkp4fPnzIzc0tV3lWFlqvXr0QQrSAY9kOf8uVcs8A7kzy8/Nzc3O5DgzcX2n7/fv3OTk5n12K9+/f6+rq1qpVi1IPCqHqDY61AcQG2OQkZJCz4X2js/nhaa6+0TgxAM6xmMOG+hD/IiK7QkAzPzztOSm9hPMHEAiwRfFxHpzkGZYaEJ8fmFCAS7wRLOOa+8A/MCA+n8Ed32hX32iPUIxNLO6w0wPIwUlC8bvz93naLcy6DJz42DuCj1MzYWQkIdHyFBuqvqS052f3g0QiycvLq+RFf/z4MS8vLzc397M4KJFIgAxOmTLlsxuMzvAvaJSUlHx28iUlJbm5uZUrfao+VVAvVhI6VXVQcuz52UWQO5EExqwiVeYXPdqnTkrsucnQByw5eEdlPQ+IcxFEuQUn+UZnU19BWi2BOCPh+IQXgfEkqweRGVgIbsFJgujsN0lF+DRMLAiEM5H9G5hQwOYPxHjtHZHhE5X1KigBzlaP0BQuOSI2BNzNLTgpIKHgmV9Mmx7DGhpbnr/PE0Rns4pC0D5gscEvLr9njZ2UvmgxobNcdvvbt29zcnLkEr5CH2HKlCkIITmLDdra2lyxARItL1q0CLTmIDDUqlVr4sSJ3LAtEBtat27t6OgIqdyhp4aGxsyZM6mzEJ16uQ2IbZgyZQr3V39/f3AP6NWrV7nJqkpKSmbOnIkQgmqsEokkICBAiXy4x+3Hjx+hW61ate7cucMdQl5tV1dXaqyEx1dXV585cyYtES2RSMLCwjQ0NFRUVCrSMsprMv8mOBANoqOjM2nSpBkzZkxlP/Pnz6cRIxKJhE3A6iPDkQMp4UgF2G2JlSUYrgi+sn0YVh6TP5L5kSFGREdLeuLbPUJTPMNS+aJ07FDEJoikZItLTxnuCtI7EAMryVlJ8iwxX5P54WlHrj5pZGzZosvAa099sKyC894wFJxaG6gv7L/p/XKfpaSk5OTJk0pKShYWFuXiO7fzv7j99u1bSC09c+bMmhwb1Nrgzzop0Z0Ju51iB8nllY7TsIal0kgeducznDq2ToSm0IyHXHxhhAfsX4Q3NnyV3s56G8MtBEgqPzyND7gDYgnrkgcQcIrV8NSngqihtgtV67dZvvUwhBgx04Yq0fJzUvrG91JoaGinTp1q1apViZ/tN/4Icpneixcv9PX1GzVqJC/lq1xm9dcDOXXqVK1atbp27VrWs7Qak8FiQ6/+/oy1gYrukB8Jn4Y8odgzPI0SB4zXcIZK/zLdwE7OHnnEtskqHSipIWI/ewqzEKS0AoYLw/SBcdYlEEBZwHTDvk847dvPax1U6rcZN2c5nMiYOHBIDS9ELPeQ6Gos7991S3Jy8q+//sqyS1Onkw/w51W05H/e2pCVlRUYGBgcHFyunBQREfHs2bMTJ048fPgwNDRURu8LYkP79u0lEkl8fPzdu3ePHj364MGDsLCwqqtGkpOTAwMDy/pCREdHBwYG+vn5VXR8Pnz4ECHUoUMHcDN9+/ZtEPnIKADy8vIADk2aLvfXmZeX5+vre/PmzePHjz9+/BhyzHFHgfQI1tbWMnPj9lG0ZVbgwoULWlpa1CsURDKEkEyEEFgbaEg0+HBDLheiogAWHFeSwnSQVYSQbuQnwvFAz0/4IZINBmgW85dAAMrI7U/uYkBR6oZZKKg+w45ISBtIJkxn35gcx9O31Rq2q9+mu/3Jmzjwi/EXZzvE5jnK1UlJZoW/na+QZMnQ0PC/LFe/f/9+6tSppbko+vTpIxaLa/J2GLEB120g1gbqhAAbjN3bVIpmkpyye7Xq2AHowNnbhPmg8jlz8H8BdvDD01wEUWYDJ6g1bDd+7gq3N4nY7YHDE/BFX6XcW01W+yvdKxQKIawW8hZ+pVG+fbC3b9+G8ttycfL+9p+3ohlC4FOTJk1k3EEr6v/Z6yS2wcovNs+dlmShSitCKOCY4xx20mMUzkpy3jHYDbmVuaQD/ypDav7P3nGARXF0B0SxgF1R7IKAiqDYe0009t41Jv6xl1gSjcYeNZYoYu8lGo0m1tgLqHDUowpH7713UcD7nXkze8tRBEQBGb77jr3dmbezb+f1N2/wvo0FCWLCSajVQQ0GEQSJDG/pMPb7lah2q25fT7mDlxTigq00FIkdfHQwzsFkl2jjDh9EwpfX4H0ibu6lSurq6hoaGrlr9+X5+B82G/LsVsiTYDbo6+sXkKVQSFDFaJaZmQkl8z5p6ZViDEypy9u3b/v06YMQEsoyKjXgP/PEQEREhLm5+bNnz8xFf0+fPrWyshInmtMkpSf29ni7N8I18DdOqiY6DeFBrOg71cuZg5Nq+VRZB3eLAgIrMYnPYMYEZgNRiQQnqwABIMMd2TfZMpOpYgoIxDVi6RHh4J9w8NLdYdMXH73y0M6X1q4BHg0QSmrfhjzRW6ZOHjt2bM6cOUL2Y5ka22cbzNu3b9etW7dy5crcPpSijkGRpIT3bQASEGajMnUolP6izW1KX3lRh+C5BMLBLkbQM8QUyo5xY5yUTOjLxjvmkb3vjKUbtxy8aOEaApnN4OMECKQAqweppKRch6OoWCrj7X18fCZMmHD+/PkyPs5PPbxHjx4tWrRIaVXAp75pGYR/9OjROXPmlKBjhewSPcAxKBWbDYIQxAfAK5QYBZaARDBh1z4WfOBxI+0FCgW9n5A2BaIsiEEgChCA57A4hkKe5iXKJTjYGPvDmt9nL998++UrbDPkEuXYFQJJSv2/Mq6QZkN6erq1tfXTp09FehM+fPLkidJ6jPwm+WcyG/ILCOQ3rJI6DwVYvvnmm8IHN0rq1oWHc+vWLci+UFpgV3gIvGUBGDhOamr989gOr62ETAnq4ySufcKeRFqLwt9P04FIWIByK8zRFIkWRJsBnUbxTU8Sjkl64UxK6C4oRgIPzQeCQo3DayF8YoU4A2XKjIc6BqXsPX4JIVQRkpQKeMUV51JJ8THBbIAkpRwzsyjUgec22Qg2DwhgRYuhEYVA0BvyoQ6a5wAAxd+CRvKSrIN0DkqhFVSIZsAGgLeluyeRkfJ9uyrOxOBPyjEgruNUItjo1NG4S08cbYAiB4L0wUo/yE3m86I/mTBlLYlDDXz8mFFgPwKjUwpBQeCsLz4Duj6RtrgL5iSkPVkWJUAAk0AZArkFWWiBSxeC6wEgCMwKihDiJdEV0mz4+Lnxac2GM2fOIISaN29eWmbDmzdvRo8eXZYd+QkJCUZGRioqKrnrMHz82+UQ5HL5qZMn35fivfrQmpgN1FTAfA1nWtPyC4SdsXABY4W4MgM5JuxJwSgVfA0gYFBgNija0DP0vNjvIhgYELUAnihAAD+N4HnFKeOsLg3hgIxZwxicglJ2H/mzIpgNfCaXLAbAbNiw65AzJCkJc16Q2XlQh2JagiwHJaA41EE8hYK8zwOCMB4awaOUKCgrUG1MgEDIjVIfMRvwZnYlUoC1ZNHOoXEMlCMMmHQ07tyzv2NgMt1rmUkfahWIHfkkXE/YAlnCREMNWNriD+wMTfZZYxYFoWgBQk5BDOusSEyDiUsBQk7WIWRRikR5uLVntLKdk1MQk1IlKT36DTE2qohJSh8/Az+t2WBhYTF69Oiffvrp09VE+yAKHB0dx48ff+DAgQ+2LJUGMpls+PDhu3d/4fH0UsEt3PTsWWy7XrlrSZKUmPshJ18jVgTlcdRUALuCuTqImi72gpDGzM0J6gskKdFjXOiNhCaIUUE5oIhvAj8V7qUEAf9kPJocg+EBRg7T3mSRjkHJOw+e5WZDKc6ucnprqBH+604zvG8DmZZMSEPGHZtvgneQqO90lsJJ6h0kjkAyyUU+woKoI4+5DfkGdBigKLBJDmqHYEUIP/OnDlufuLtW7txsKKczkw+77GCgi0mnTt37OgQkQnm0nJRL3V4gp8TiDLwJCm5AHRA4tSk3BNwxlxhlEJjNQIid2BIUggI4MIRcEMTjUdwUohakfoM0MLlrn0EdudlQrNn2ac2Gd+/eZWZmllRgvVgPiDtlZWUprdUuNqgS75iVlcWXQZc4VsUAL17E/vjzN56C2UD4FPbuY24C2jlOdhSp6ZgHMeUJNCSmxIMXhPhURBAY41Mo+jkhCDwOWCTcF4pMKy4RxieMClgkcE/FojFhtGzkjoHJW/44jhASNicRPzg/5hjIDwN+fn4IoXXbTZ2D8V5ORMpSTR1mZmGpA+YtE97iuQ3aACEWomEIin4+1KFoSWx1IElqV4uogxERo1CyIFI8WlvfuDsvXN6vkd2zmycp5ff++XmOgQ9joFu3LsZdetn5xdOqytgAALoLZ959yjSo7BOLUSxDgbGA+ywnEwB/HG5feEEsgqBgJrkgMGHN+AljFOQ88BOJZ5S9X3znnv07dTT6MBZ4i1wY+LRmQ67b8RMcA58bA/9cu/Z+292jl27DVrJYUwemAxyQHgPzYkyQeTcxlyGp20y1Iv4PJQhgWjD2RzUYAgEKVhKdjJolTK+iY6A/FRAg+5Pwx0JAkAYkrtn6RyVVVXHV48+NX36/coiBwMBAvHnt5t24TAqTwVTQFok66NQV9APiOxRDUMxt5jtkxFU86gCTHg+V6QH4gBkPlh4Rdr5x159J31dU+2Pv3nL4ZviQOQbKCgb69e3bvlM3iWcUrmpKiBoEFrjblMQosfNziVFqZlAxSkUhcAAlMUqZRi4IjF2AICarFKBNLlYDEIAzsG+wE8A9JwhiiVe0tVd0x669e3TvVlZwXa7Gwc2GcvW6+GCLjoEHDx5UqVJlh9kZB/9Eqm0whSOHwoTZEzEbcB6kQg0SlJsc+kpuCJRnCYaHAIrENCgXo/aAwL8E1QcYMTBlxppzQhBxbaG7vV/CvOW/1K1dW7wVSdExxHtUOAwEBwerVaq0dM1Wx8AkIlPpvKVzj3r3hckskuWFpo685rYAMOfcLix1QGkmBUEJq4+EqgNW2GyI/+uuJUIqBw+aVbj3yh+YY6DkMDBqxHC99sbmzoG23rFM48eUy44pJTKpSv367CcRo8ybJhajOcUcAcI0fqEv4R4lJoiBUQhjsPGOsXAJbmfc5euvhpQctioQJG42VKCXXTEf1dFR2qB+/QUrN2DHKmRREwuBhEfDc+RCEGMAKsPk4F/4PGZh1MtC/B+gFVHuxrgeJBQJXBWWgll5EHWn8BBERgtxlijYMfhOgAnifbh8Yr8eNaldu7YxMTEV8+Xypy4eBiIiIurVrfPtgpX2fvFkeTHo8QqzliYPkKwDOuvAow/BN+bMAw3g46hDUD7IPAeLBeADWYkzH1jVJqZVUKqkwyCEae+XePzyPTW1ymfPnikecngvjgGOgfd7bc39/rtmrXTvvHC1840DJoDFoognkNA9LSsi2PCENmmBNWUxqvDNUVZDIXh8pCAmfo2cjEIcHqFrsgl/sJLhgOQ9K4+WuvqzZs7kL7oYGOBmQzGQxruUJwwkJSV2MDTs1nsQc6xiNQVinUK0QaF2YOWe1ZIHLkNtBlEOJTlP1zlgzYZxQMaVBAhisISZ0ugq0/6priZkgVPWTMaArRSmQuHzzG0jwLTxirFwDa6vpT1lyqQSL71Xnl4wH2vRMZCYmNi+XdthYyZbe0aRvcxJng+b8KK5DeTANPt8qKOocxuTDLO0FXObzHBheivGIKYCPEIgt3ypQxqQ9Nv+UxoaGndu3y46YngPjgGOAYqBPbt3a9Ssdfb6Y6egFCBMSp5UQtGwAyVV5koAiiYR+zwkI3Yx0B2TKG8h3IOIQmUIRRXEhWVWTkHJF25ZaNaqvf233/jLLgYGuNlQDKTxLuUMA8uXLVOvVuPSfy8dA5OtPMKFraNALydKDFl7QBWUcKrTMH2FpECQk/gMZoUKvYfWrSdKDEnWxEzTPQ8IhJnCkrJcEBhA4nohrJZBECwKGmCVhQs82jk49ffD5xFCp0+fLmfvgw+3tDGQlZU1Yfz4Zq10n7uF2HjH4AmPSxwqz0w21TF1MCO2aHObQWAE8mHqANmP2wv6hKU76w4kmT91WHlEuoa+nvG/pQ0bNpDJPEobzfz+HAPlGAP29vawAsolJA2EIJM+EEzAFKoIrWNfAGEUYNjnXLpg5RGhEKOKlUgUgpIgZq6BPFiNJY5LFCxGRcyKMQrGu/AYrDwinYPT1m03RQhZWlqW49dTekPnZkPp4Z7f+XNh4JWbm1ollQkz5zoFp2LfKg0LEAWdKCIi3kcdq0RlgdAndYQw1gackTQDJUbw0RJXqBgUjWkITpRcnJSOJCcEomlRx4kYGhgeoE7Z+sRZe0YZde7RulXL+Pj4z4VIfp8vBwNmBw4ghE7+fU8aAMsb6GzPnzqYjIf5DOEvIWiQe27nRR2FmNuCfUIpUaAR4ukEw0aZOoQx2/rEPncN0TEw7N2rVylW/f5yZgl/kgqMgYyMjG7duhoYdnrhFoq3Y2e+A0KJjDyBzPMTo7gLacm8AAoxyqQe1enzgyBE2sWshrIgIsFxg9yiPAezYoIYn7TB6zTCDTt2NelknJaWVoFfb/EfnZsNxccd71mOMLBkyWKE0IGz/7iGvgbNG3I0aTFpovEzJ4fCZYK1doFbMc8KqPLkEm3J2CiNRVD9nvpu84YA+hMxTmihOqL6AATGDRkE6nklfNbSI8LaK9o1NP3Hdb8hhI4fP16O3gIfatnBgL+/f4MG9b8aMd4pMFmoy640tz+eOj4IQWluC+QGIyEKAbPblYg0L+pwCU2DnUxOnz5VdlDNR8IxUE4xcPYs3hfo151mrqHp1OZnApHyCmwV0ExdSrMQbQBtXjAGWC8QjiAxFRDwVUHRL4QYJdBod8VyC4FR5AOBDMw19PXmvUcRQidOcNFZzFnJzYZiIo53K18YiI6ONjY20qhZ+9z1J27hbyDmwLR2cIcwpwXhd/SSkIWJ2Z/ID8qYoACBHMDKaYVzBZ90D8fVIalHJB8IzB4gQV7FMBgXhhXVuK+lR4StT5xr6OsdZmdUK6lNGD+eb/pRvuZhmRrt6lWrEEJmZ6+5hmFbmhiuePrheavsz1Oe27h9YahDAUoZghJ1QOIf9U3C3dm3EKNgWRB0eGScUF4Jj9nBP+mZU0Brvfbt2rZNTEwsU6jmg+EYKI8YSEtL69+vH0nxfQEeNzGjoBxDkJj4QCG/KCcRMwqsuOcQggABE7KC/4iPCS8qEIISsyKglFkNHglhVq6h6VfuS6pr1OzTu1dqamp5fCNlYczcbCgLb4GP4XNgwNHRsWkT7Zp16v1+8KyDf6JTUIq1N96FHjMsiKWylV6MG+LzQtU2IRZB1huwqCjjkthZwo5Z9xxZH4S7Uc0MQwAuibtQLpkHBDqwSIlnpLVntLV3jHNwmsQzasX6HQihfn37REREfA7E8Xt8oRiIjo7Wb9OmSfNW/z51cAlJV5QxJYYulEYRXHrConwm6RkJUOWezW34KUAQ+QWVIAhkwqwCDAGiDZhY6H4pmECY/SzSBog1giFQmo2090uw9Y4bMW6aCkJ37tz5Qt8YfyyOgc+NAVdX1wb167XU0f/rrqVb2Gtr7xjGARhhEhoE9V24JFA3dgcwq4Ac0z3jgOopexFBADg5oeUNgbIFgdUQzkNPsgoilLfIIq29YtzCXl99aKOj375unTpOTk6fG49f0P242fAFvUz+KB/CgLu7e+9evRBSGfD1qGN/3bF0D7f1iXPwT5AGJDkGJTsFpdBPcKpTUKpzcKpTMP12Isfib+fgNGgAbdix4mRhIAjwnRU3IhCCUpyCUx0DUxwDk6UBifZ+8bbeseYuQbuOXDDq3AMhNGHCBG4zfOht8+sfxoCVpVX9enWbttC5eNvCJSTd3j+BmMfUrLUkZjMW4VgME7Ue6+tEirNQALGBqQLBMg3ADqfCHgzvHBCYZ5GqCMRoZ7YB9i9C5IGqDiLTXRiDUCqAxN9inUPSzJ2DxkyejRDaumXLhx+bt+AY4BgoNAZevHjRpIl23QZaW/84biWLdApKkQYm4fV13tESL+J684zCZE7dYcTXRo4lHvQYriraCI0VbjtFLyvWizjXPgBBIlPcWkJ4hcQzUuIZTWrExdj6xEkDkpyCUiSeUdsPnK6vpd1Iq+GTJ08K/ei8YR4Y4GZDHkjhp75gDCQnJ2/evFm7cSOEUPPWeqMnzVqwcv2abX9s3Xdsp9mZXYcv7Dl6ce+xS3uP/7X32KU/jl8ix5f2Hr+05zj+xp9jokuiNrQx7kvaEAh7j1/64/hf0DEPCBQ+BsiAX9pz7NKeo3/uOnx+h9mZTXuO/Lxlz/+Wrvlq5IT6WtoIqei0bnX8+HG+3PMLnqKf+dEePXrUsEF9tSpVf1y//b61p2vYa+fgVHu/BDvfOFufWBuvGGvvGBvvGGuvaBsvHPKy8YomP+lJa3JS8U2u4l6kPe7iifdkLSQEG2/a2MYL34jelEGwwXePsfGJtfWJs/dLcAxMdgt/Y+kRceDM1fbGXVRUVLZu3fqZscdvxzFQETAgdZT27dMbIWTctdfWfcevPrJ9ZO9DNmWPdwxMdgpOdQlJcwlNdw1Lx9+hr8l3uksYHLx2DU13CYXvdFd88rVrGPmQk4r2GALrEobb05/k2IWAJXchEMhVob1LaLpLSJoz/qQ6Bibb+cZbekQ8tve59thum+kJkx59EUI9uneztbWtCO/rkz4jNxs+KXo58DKKgaDAwH37/hg7doxeG91aNWuiMvxXSVWlXt26HQwNZ8yYfubMaV43qYxOqfI8rFevXo0eNep9Md9mrdpM/W7RDrMzZ/99fP2Z9L617InUz9w5yMIl+LlbyAu3kOduIc9dQ164hT5nH3IylJzBDdhBKDuPz+CTrqEKCKSZAIS1xA1IG2gJMDEcgPncNcTcOeiZY8BDW6/bz10u/ffS9MzVxas3de7RDyFkYKB/9erV8vwS+Ng5Bso0BlJTUw+amZl06ogQqlWnXlsjkx79Bvf/etSQEeOHjpn8zbipI8ZPx58J00eS7xHjp42YgH/S8+TqSPjJztOf0BH3miFAyNFSBASfFz70RvQWw8dP+2bctGFjJg8ZMX7A16N69B3c1sikdt362NoxMtq/f39ycnKZRnE5GVw5NhvWrl3boUOHixcvlhNU82GWOQxkZ2dHRUb6+/vLPDxcXV1dyt6fm5ubp6csICAgNja2zKGPD+gLwkBmZua9e3dHjhhep3btGhoaNTRqVtfQrFpDs1qNmtVr1q5Rs45GrToateriT+26mnBAvjVrKX4nIuEnAAAgAElEQVTi87Xr0WZwtTbpImpfbAg1atWtoVm7mkbNqtU1q9XQrKGBP5qaGobt25mZmUVFR31Bb4M/CsdAGcVAfHz8kydP1q9fN3bM6B7duhro67Vs0axZE+0m2o21tRtpN26k3ViLfBrhn420yBl8soniklYT2ka4KnTM2VK7EWlJr+aCAPeCq/S7iXbjZk21WzRv1lZfr0e3rmPHjF6/bt2jR4/i4uLKKELL4bDKsdkwYcIEhNCePXvKIdr5kDkGOAY4BsoiBgICAv7959r+/fs2bvh11cqVS5csWbRo4YIF8+fPnzd/Hv4smDdvwXzyIT/hJL46H18iP3+YP+8HaEmvzsNXlSCwBrgl/uSAMI9A+IEBJPedP2/hwgVLlyxe8ePyX35Z+/vvO8+dPevgYM8T9sriNOJjqmAYyM7OzsznLysrKzMzE77f5tUGLglXlH4KfQsDITs7u4IhvhQetxybDTNmzEAImZqalgLa+C05BjgGOAY4BjgGOAY4BjgGOAYqEga42VCR3jZ/Vo4BjgGOAY4BjgGOAY4BjgGOgWJhgJsNxUIb78QxwDHAMcAxwDHAMcAxwDHAMVCRMMDNhor0tvmzcgxwDHAMcAxwDHAMcAxwDHAMFAsD3GwoFtp4J44BjgGOAY4BjgGOAY4BjgGOgYqEAW42VKS3zZ+VY4BjgGOAY4BjgGOAY4BjgGOgWBjgZkOx0MY7cQxwDHAMcAxwDHAMcAxwDHAMVCQMcLOhIr1t/qwcAxwDHAMcAxwDHAMcAxwDHAPFwkA5NhtmzZqFEDp48GCxHpx34hjgGOAY4BjgGOAY4BjgGOAY4BgoLAbKmdmQlpaWkpKSmpqanp4+ZcoUhNDu3bvT09NTU1OTk5MzMjIK+9y8HccAxwDHAMcAxwDHAMcAxwDHAMdAoTFQzswGCwuLXr169e/ff8iQIVpaWgghXV3dr776ql+/fiNGjAgICCj0g/OGHAMcAxwDHAMcAxwDHAMcAxwDHAOFxUA5MxuioqL09PRQXn9jxozJysoq7HPzdhwDHAMcAxwDHAMcAxwDHAMcAxwDhcZAOTMb5HL5iRMnVFRUlAyH6tWrW1tbF/qpeUOOAY4BjgGOAY4BjgGOAY4BjgGOgSJgoPyZDYmJiSYmJkpmw6xZs3iooQivnTflGOAY4BjgGOAY4BjgGOAY4BgoCgbKn9kgl8tPnjwpNhs0NTUlEklRnpq35RjgGOAY4BjgGOAY4BjgGOAY4BgoAgbKpdmQnJzcsWNHwXKYNm1aEZ6YN+UY4BjgGOAY4BjgGOAY4BjgGOAYKCIGyqXZIJfLT506BSsc1NXVbWxsivjUvDnHAMcAxwDHAMcAxwDHAMcAxwDHQBEwUF7Nhvj4+C5duiCE+KqGIrxt3pRjgGOAY4BjgGOAY4BjgGOAY6BYGCivZoNcLjczM9PU1Hz+/HmxHpx34hjgGOAY4BjgGOAY4BjgGOAY4BgoLAbKsdkQGRm5b9++d+/eFfZZeTuOAREGUlNT7e3t7ty5fenSxVOnTh49euTQoYNmBw6Y7t+/f/8+0/378ceUfAsHwk9yVdFMaMwaKC6xMxSU8FPoAgfCt6npQbMDhw8dOnbs6JnTp69cvvzg/v1Xr16JBs4POQY4BjgGOAY4BjgGOAZKAQPl2GwoBWzxW34RGHB3d1+1coWRoWH9evXU1dWFtfVl8kClWrVqjRs36t6t6759+6Kior6IN8AfokxjICMjIyUlJTExMT4+PiYmJjIyMiIiIlz0p/RTdAUfwtXCtFHqKPzMDSEiIiI6Ojo+Pj4hISE5OTk9PT07O7tMI5EPjmPgS8RAdHT0jRs3Nm749fvvvhs3dszQr78aPGhgUT9Dit5F6RYFQBj69Vfjxo6Z+/13mzZuvH37dmxs7Jf4HkrzmbjZUJrY5/f+zBiIiY1dvWpVFTW1Gpq1uvUZvHDVht8PnT9+5e7FO8+vPrT594nDjWeON82dblk43bRwvmXhfOu5Mz7G3874DPmJz9NjfAZffe5808Lp1nPn26TlLQsKQejC2ihDgF7sqtNNC6eb5k43nkn/fWJ/9b71hZvmh/+8tXXf8dnzlht06KRWuUrzZk1PnTrFtyj5zNOmgtxO5ik7cuTw9GlTTTp1bKLdWFOjRmU11UqqKqoqiH4QOUBINfeBuI3oqgo0hjMqOTuKLwkNoI0IAr4X+VlJVUWtkkr1alUbNqjfrq3ByBHDt2/fznf5rCCTkz9mqWPA1dV1+fLldevUUqusVq9Bo6YtWrfUNdDRN2zT1ki/fUf9DiYGHUwMjMiHHLeFbyNyHq6yBnCJtu9gwn52FkHAxx+CwNoT4PqGnfTbd2rT1kjHwLBlG4MmzXXqNdBSU6vUoH69n376ycPDo9QR+MUMgJsNX8yr5A/yAQy4u7t37dIZITRu6pw/b1tIA5Odg1MdAhLt/RPs/eLt/OLtfOPsfOPhY++XgM/gk8IZfMBawnGCvXCVHeA25FgEgYLFfXNCsPOjjYVe9O6++Nb2/okO/gkOAUkuIWkSz2jTM9e69x2EEJo7d25KSsoHnpZf5hgoNAYCAgIWL17UuHEjhFCL1noDh46eMGPu7Pk//m/Zmvkr1y9avWHJz5vJZ8uSNVvwwRpyQI/xpaVrSIM1W5bCSWiDe5H2P29ZKhznhLD05y1LSN/8IWxe/POmxas3Lly1Yd7yX+YsXDllzoKhoye1N+6CVFSrVas6euTIly9fFvpZeUOOAY6BomEgOzt79+5d9erWqaxedczk2b8fPnfpvxf3rNwtXIKtZJG2PrH2fvEO/olS/0SHgCRpAP528E/Cx/6J0gB8AB9pAP4JH4eARAfaHroo+hI47Gogbq8EwcGfAcEQ4HZYVtr7xdt6x1rJIs1dgu5auV+883yH2ZkRE6arqKppNWxw0MysaI/NW+eDAW425IMYfvrLwoC/v7+hYXv1qtV3H7ngFJTiFJQikUVaeURYekRYwYf8tFL6hp+kgSVrTLvIItkBQIjEfeHjEaGAkxuCjN1UAQGPxMqDdSddFAPzwFetvaJdQtKsPCLmr1iHEJo+ffqbN2++rFfEn6Z0MHDjxvVmTZuoVVEfNXHmmX8ePZX6W3lE2PnGOwYmOQWnuoSkuYamu4a9pp9QdgBnQl/Tq6HpLmGvXZWuCr3CMlzxh/QNfe2i1AzgAwTWRnFHDDbdFfdKdw5JcwxKcfBLkHhGmbsEXXtkO2/5L5q16qiqqvz227bMzMzSwSC/K8fAl4uB9PT077//DiE0ePi4yw8kDv4JrqHpUv9EO584G+8Ya69oa69oiWeUxDNSIosiB/jbCp8hJ+FARq7i70h8Hg5Ex1b0TC4I0EbcRRaJgQsA2SUrTwzZ2jPa2ivGxjvGzjdOGpDoGvbazi/+0n8v+g4ejhBauHBhRkbGl/uuPtOTcbPhMyGa36YUMfD69euvvhpSvUbNoxdvu4a9tvaKtnSnmr0lVeuxym7pESFhVoQl/km0edwg0oq0F1R5bEIIEMCoIAaD0AAbJMwqICcVEKANvupOLRbhDIwB3w4MD2Zy4NvJ8B3tfOOdglOWrd2KENq4cWMpopTf+svAwIXzF9TVq7Q1Mjl97aFjYLI0IMnWJ46I3mhsVzPpTmcmTEjBPKZGMp2ujJQUVjE1yNlkxvM8NwQwmMklgWRoM0aMQA7CeKw9o6y9orGP0z/BOTj1zku3r0dNRAgtW7aUWw5fxrTkT1FGMJCVmTVv3jyE0PwV67EiHphk7RmdQxoSMYcpF7vDFGIUuAHxtTFxBn43kWDNIUYJZxBDACaQEwJx1THBCl4/hSAGCDkFsSXxuDkGJdt4x3y7YAVCaMWKH8sIbsvvMLjZUH7fHR95YTFgduAAQuiX30zdwjMksiiilxNexgIIVrIIKwgCUCZIFHo4BoWGtKQGAFV0ckAQ+B1ldjJlCKB45YJAgRAOSHkuKFvUlhDuy7ihjU/se93um7GTq1SuZGdnV1gU8HYcA7kw8OjRI1UVle59Bz2093YOTSekQaJeYLgK1IFJgBgDVDAXcm5TqzjH3BZDyDW3C0MdAl2A0mDlESENSLLzS5izcCVCaNu2bbmekp/gGOAYKCYGTp8+jRD6fvEqp+BUW59Y4sAifjTMIuCDyZxSLpF6+JiJUdExlW5whvVVgoD5DIXGIGB5So/ZAXHJUeea8hiwt07s47BkAG2xzZM8/fvFCKHLly8XEx28G8EANxv4RPjCMRAbG9umjY5xl1423jh2SbwXjK9hf7/CgUF4H+aA1G+KOQ6zDdyp2mTpEUl9oqAACRAEHYjGGUhH3AaHZUFzYjwUQ6DxBIhaMP2Mjo1CIAw0NwSPCKl/0g1zxxqaNb/99lteT+YLn76f7PGio6L09dtoN291z1rmFJwCcy9P6oAJT6kDuxVh9mLqgOgcJgqqKxSBOohEz0Ud7gL1EaohETkFYbLInjAY0D/syZKhb8ZNqaSq8oLv5PPJ5gwHXKEwEBER0URbu3OPvhJZpJ1vHKFxIh+JWBSokvi5BA4gchYQDZ645AjH8AgXMRlC3YKBIYhRYiEIjjOwAYgtwSDkJYgxWAGCkiBmzMrSI9LBL+GFW2h74y4tW7aIj4+vUK+yZB+Wmw0li08Orcxh4K+//kII7T76p1NQiuDJAK0dsxsSZyDGQyR2qRI1hSpDxFEBGj/WThhHI9yTcDHwghBfLG3GUo8k4ORgrg6iaeUFQeBxrCW5C2XBdLTQhtgPMAaJZ5Q0IGna3EXVqqoHBASUOYzzAZUHDPy+cydC6MCZay6h6aABfIg6aFrdx1MHWOOC2pEHdbD0JGbGMF2EGC0CASogeIRLA5PuSTzqNNAa+tVX3JYuDxOQj7GsY2D37t0IqRw8f92ZLKsTJCCo9TSTkIYCIFBAvAZECIJzQbATcvAWRt15QwDHHDYPwFQgDjuF+4DZG+Bro1YBlphMlLNcKZEoF4IYLqHpe49dRAgdPnyorGO/DI+Pmw1l+OXwoX00Bt69e/e/ud/Xqd/wiYOvrU8c5XcKZZ0o6PhnODhFBP2JtMSxAnIGjASmu4DLk7Etxh8JBDiZgy3mDUHBT5n7lihD4YKpAJyOMFYCAfgju7VLSNqRP2+qqKqeO3f2o5HEAVQ4DCQmJuq0bt2z/xC8fNArWqALOGDKeglShyj9gJnZirkN+gGz0oEEFGMgM5/8xNTB6IIQI7Gl8SXS1yUkbeGqX9WrVHn54kWFe6P8gTkGShQDGRkZHY2NjDr3IIueY3KzCEFUCUuScohRRVojZiMKMcqEI4haBZlT0ZZDEEMbiCjmhlAgs4I7MpHNGIWNd8xL93Bdgw59evd6+/ZtiSKsAgHjZkMFetkV8FHT0tK6dO7cb8gIsjSKZiiBW4KyJNDahYRIkiAkeEMZ22JJTULAQVgLAcwOdHrFVZqyKfBEBYMT2oACBB3pTVnGlNIY2NprojPRFBEHv4TrzxwbN22xZMniCvha+SN/JAYePXyIENp+4BT2I4K/kFrI1GlXWOoQJjCZtNCL0pdwqXDUgbUQRRdiHih+5gju0egE0UWEBZFWHhH2fvE3zR0rqVVZv27dR+KHd+cYqOAYcHR0rFe3ztyla1zDXufgBpjuwvECaCwEqWeBHojFKPYFiA0GBQlTvwCFwPT7DwtiEQR23zxEORaszN+BGQjuJQhiS48Il9D0ad8vbty4kaenZwV/xcV+fG42FBt1vGM5wEBcXJx240aTZ8+H+jA0WAmOEHB7YG6FOSDmjITLMNcIOCoiLd0JDwLVCrNFfJ62p44TgIATN4l5IPBKClDBxUAxAq8qAKRdYCEXYcT4TL4QMCjCmm19Yp9I/fXbGY8ZPaocvAY+xDKGgV/Xr69br+Hlu1bSgCSRyM81t8XUkUMPEKY6k9CiuZ2TOkC9YMpB/nMb0x2jLxgSI6ic1CEmHFALWGagjXfMi1dhRp17DBk8iJcnLmMzjg+nnGHg+vV/q1ev/vuh89KAJMjdJdIHhBpRzXOKUZzim1uMUg0e5zeChKVyFkyOnBBw99wQBKlKITBJnVsQA7MiKyiUBTGRqiBYpYFJm/YerVGjxqNHD8vZKykzw+VmQ5l5FXwgnwADkZGR1aqq/2/ZGmlAEluaTDQecGRSpka0JbqmCnKNqDIE3AfcFeC3YMci7gl8Desu4YQxkVQK8N2ChUAaEB2I+EtyOj9ofqfYRyIwSohICPBJRxgAriHrEWnUpWef3r0+Ado4yC8cA1MmT9LRb//A1ssWVjrCdGUTjM7Jj6MOqh8Is7cEqAMoCywWrD1gX6OIWKw9o228YkZPnqWj0zohIeELf4X88TgGPiUGTp48oaqmdvraAwe/BJEni7q0iDgTqA+cAtSvTyQUE4IKw0C4qnA0MOIlRgglZLq8kOY7Mb5UQoIYj8HeP+HwnzdUVFX//vvKp8Tflwybmw1f8tvlzxYeHq6C0JKfNzsFpULdd8qqiNlANBtmAFBFn3I3RcxBaClsxyZoQqBmiWK1gqoE3ZV4KzY8SKxAGAO9S04IQi/hIAfTJD4Va89oO984kx79TDoZ87fMMVBUDAwcMKCDSfeXr8JsvHDmHlYLcs5Mah6TmQnTDzdjtKBEHXR+5oSQ59zOAwJTF4A6SAISUUeEqEI+1EGJiBGjlUeERBYl9U/8dsHK2jU1o6Oji4oT3p5jgGNAwICp6X6EVK7cl9j7xgtkSxiFIDGZ2YApVGHDF8AoGKtRhkC6CCeJXZEPqwEISmJUzKxIAxaRYB46OAlPYe8Xf/7mM4TQmTOnhYflB0XCADcbioQu3ricYSAkJATv8PLrTloLgukoEA9l1ejBWUKVFcKDiH5PGuMYAmGLtLECAtW0FJkVIg2GbuNAijlYkfXWObIwATLLOAIIlLUplDNam5JFOSAJirpqSDGlxK59BnUwbF/OXgkfbhnAQNfOnU169rPxirH2jML6tyzCCkcDqB4Amzex5KUPU0cx5jYGTqmD6BxkDAprhCQsgSUDhoSCOmiycg7qwMnW2GyIdAxKWbhqQyVVlYiIiDKAZj4EjoHyioHdu3chhG4+c7TzibN0pym4TP/OwSiEAs0KIsU2P9svFYQdiNF8WQ0o+h9mNSCLFTeijAKbHPikIrhBjRAQxHh/OlykFYtyO9/4vx9YI4SOHTtWXt9NaY+bmw2l/Qb4/T8lBgIDAhBCqzbucgkRV5mELS0pr2GsUGEqUB7EtCgJZklYqQINRrArCJ/C3KowEEAnEyBQ3yrmdAVBoJCJSkTui8dANaTAlB79hrRv1/ZT4o/D/jIxYNShfbc+gxz8E609o+jcZkq8eOPC4s3tj4egTB0wNhrNwPHAHFTDqMNKFuEckrZ83W8IodDQ0C/zzfGn4hj4LBjYvn07QujOSzc7VoGQrIQm2jkz3YE/CN9AmNTPRahVkF8kGMjEqIjVUA6jJAQJfIHMQXTmgEBiEcUTxHa+cf8+tcc1WA/xGqzFnEncbCgm4ni3coEBf39/hNBPm3a7hqYTlZ2uaSaciHBAzLDIjg05A5qCSSDwLAhxgkLDTgIPZYWiMQR8BnglPiDckDUm/g/M7xQbOIAlIGZ/eDD5QyBuXXwLiSzSKSi1Z/+v2rU1KBcvgg+yTGGgfbu2Pft95RSYjPVvyETCslxkObOcPRF15JjbSqY1SxvIBYEQBdPyC5rbYgiCtsFIiZAMdiV+AIJLaPqqDb8jhIKCgsoUwvlgOAbKFwa2bt2KkMo9iYetTyyIMEH64FQlRXCSmvGEfhWyj3XJKewg4ZDUBgRvBWlGxKhIEIMEZLRPfQQUIHEZQC8mkVkFQhGEfAQxHqqdb/xNC0eE0MEDB8rXGyk7o+VmQ9l5F3wkJY8BPz8/hNCaLXtcQtOZ7oJZG9HpgR8RngXKjcjJAS4TJdWfdoTu2CoglgAoWEWEoOCMxJBgLBIKxhFGjGMdTEkSmR+4JXHkOAen9hrwdVsD/ZLHGof4pWOgXVuDXgOH4g0Qmd/uE1EH3UA6f+oQmx9icgNaI8MTKBQooiDqcAlN/2nzHoSQv7//l/4O+fNxDHxCDGzdugUhlfvWHrhqAuMSIH2YtGJilOUjUZoVi1HSUUzXWONn4gzaM2uEeiWIa4DROBGOVFayXvgnOabdiyiI7Xzjblk4I4RMTfd/QvR90aC52fBFv94K/3C+vr7YbNi6F5sNRN0HtkUcq8xLwRRxQU3HXIkEUmlOp8D7RBDACwslJihMxtcol2QQBEYpsDl2BpgjywFVRHUZAwUIJD9KMDOAZVvJIp1DUnsNGNqOmw0VfpIXAwHtDPR7Y7MhVULWNuQxM3GRIqqvg5mKJy2Z/7mpQ+guTM5iUwfchdwoN3WALzMP6oABWJGi7D9v3osQ8vPzKwZaeBeOAY4BwMDWLZuJ2SCz9YkV6EswGECEkW8aY8c0C4sAmbdLYWzA0ggmRoGNMAgQ/6esRvDE5cdq6PkPCWJgI3jYuUS5wmzYz82GYk52bjYUE3G8W7nAAIs27HUNfS04VjE3AY0caj8LPEh0QBZXUcWFsTnqAqE8VIDAPB+Mh9LlYjmWZ1HICgi4MStEDS2ZysW6Y2OGHNNv0JYwBMyOZZE42jCQRxvKxTQsc4Nsa6Dfe9Aw5+A0sm6HJs4JIpmuIBRTB2QXsNU+JUIdINoFAU+NdoGaikQd1MKJdA1NX7OVmw1lbr7xAZU7DGwhZsMDG0+SpCRIH7rfqIJXgNNNLDqVj8ViFLMahTlBBDFR7qlLAmQoE7hU/EFqInPqKSAoC2JyX0GM0gMiRsUQbH3jbz93QQjt52ZDcSclNxuKi7l8+mVlZb158+bdu3f5XOenSwwDqamp3t7eMpnMU/Qnk8l8fHzS09PhNn5+eG3Dmi3EbAB2BjEB5tpnXIa6MK08Imy9Y+x846DCDL4q6DEiJwrpRbM2BfZkKYuw9Ym1842z84m184Fv8tMXf+eIzBK/i0QWZeMTY+8bZ+MdQ5QnMgZyiTJlGm0g9gMMm42BRBvSeg38ul3b0klSysjICAkJKbF3SQDFxcX5+voGBAQkJCRkZ2eXLPBiQAsJCcnKyipGx/y6pKWl+fv7+/r6RkdHv337Nr9mn+E8NRvIFtFEHtP5D9F/fIaRiZ1PrGNgknNIinNIqlNgkoN/grVnNLG6cZfCUIetN57kdoQKCGlQGrEnxGLjHU3gRNh6w/k4W0xBcZiOfGPtffFPGhLBRR4Vhre4EBMjLmw2/LylNM2GsLAwgfmUyHt8+/ZtYGCgj49PZGRkRkZGicD8DECCg4NLlnZSU1P9yF9MTExmZuZneISPv8Xbt29LfGl+fHw8MMn4+PhPyiQ3b96EkMoDGxleEp1T+jCRF2njHS0NSHQOTnEJSXUOTJYGJNp4Q0FnmglMHBAKRiFmNdStJou09ooGJuNC4DgFJTn4JZBSDQQIFoIUgrUXvZ1zcAq+F150QV0e1IQgmb3EDlFiFAABA7Tzjb/9onTMhtjY2Pj4+I+fV2IIoaGh3t7eYWFhaWlp4vMFHGdmZvr7+3t4eIj0Jnwok8kKud1NSZoNrq6uBw4c8Pb2LmDERb0klUoPHjy4devW8+fPW1tblyxHLupgPtg+NjZ27ty5X3/9ta2t7Qcb8wYfiYEbN260atWqSZMmdevWrVOnTl3yV7t27datW9vY2ABwIdogrG0gFdyIz54lXVDfBvatRtp4Rd+x8vj7kf1jB3+Jp4L1CDyOckxRvJU6Tcl2bzcsXP9+ZH/1ifTqYyn5drj6GH+uPXV87hoCyR6wEaa1V7SDf8I9G6/LD2zvWLpLcEEbGl7A+hBT2hiDJukZ4P3FBg9u4Byc1mvA0FJZ2/D27dtFixYZGhr+/fffH/kSobu3t/fixYtNTEy0tLSaNm3auXPn33//vUQgFxvI0aNHDQ0Nf/rppxKRzcnJyTt37uzXr1+TJk0aNWrUoUOHefPmJSUlFXt4H9mxrYEeiTakSmS4ACuZe0SyEksAn3EPt/aMcvCLv2PpvvXQpfm/7J63ZteG/ecOXbr3wM7H2iuaTnvaNw8I0EDiGXX7pfsVTBQOmCgeO2C6gM9jhysP7e5KZNZe0S9ehd2wcCXNpLQlJiJMO/+aO1u4BBPaIS7JnNQBBCLQjkvY61KMNty6dcvY2Pi7775LTEz8yBckl8uzsrKOHTs2ZMiQFi1aaGlptW3bdtiwYVFRUR8P+ZNCePfu3e7du9u3b7958+YSoZ2EhIQtW7b07t1bW1u7cePGRkZGCxYsSE1N/aRP8fHAk5OTFyxY0KFDh/Pnz388NLlc7ufnt3Tp0s6dOwOTNDEx2bVrV4lAzhMIRBvu42hDHKZlKn2obJJ4Rjn4JzyR+u89c2PJhn1zf9qx9vfj+87duvnc1dozmpkZmC2IRBgTuyLphjmJLPLaU8dth/9atsn0fz/tWLvrxLG/H1m6h9v5xQmi0NIjwt437plz0N4z1xf9+sfCdXt2Hrt66+UrqX8CiZcqghUCKyBjJhKc2jy0DU5Seo7XNuzfvy/PB/9EJx0dHbt16zZo0KCSyp+8cePG6NGjdXV1GzRooKur27t3b4lEUpjB+/v7Gxsb16pVC1SmOuRPW1u7WbNmx48fLwyEEjMbMjIyhg8fjhCaMmVKYW5cmDZ//fVX7dq1EftTV1d3cXEpTMfSahMSEtKoUSNc7fjmzdIaQ8W578mTJxFCVapUMTIyMjEx6cj++vXr5+TkBHjIYTaAnUDYHyhGAkeD/CWHgITLD+0M+47W0u+x8rfDjoFJirwmYJpCkgZ4NVg1a4hRPHUM7D/2u8bt+zTt0E/bsE8Tw77ahn2bGPZt1LZX844DD19+4OAXD3eU+ic4BiTuOX3dsO+YOq07T/jfT44BiXAvSA+FZoQDMr8vZI4KXFixtkHv87/xyMjIBg0aIIQmT5788ZqBTCZ7r2QAlevq6izEYakAACAASURBVLZs2VJVVXX8+PGf/7nEdxw6dOj7In0NGjRITk4Wny/GcWpq6vjx4+EBmzdv3qZNm2rVqrVt27YU9xZgSUqpwgynZgCjDhuvKBvvmE0HLrTpPky9UVtUu5VKPd1KDfTeH282uyCF6crkMZ60wsykNBIJG0E4+CeMmbOynm7Xpkb9mnbAn2ZG/eG7eceB9fW6f7tiq0dExj0br/7jvm/UthehHUo42oZ9tQx6tjIZfPzqI0wgLHm6AOpwKdUkpWXLliGEVFRUPl5OZWZm/vjjjzBnGjVqpKenV6tWLVVV1ZLSOYoxjQvZJSMjo3///gghPT29QjovC4CcmJg4YsQIgXZ0dXWrVavWvn37uLi4AnqVhUvh4eH169dHCI0aNerjx+Pl5dWxY0fAg46ODjDJSZMmfTz7zW9sLNpAzQZK44TSJbJIaUDC0csPunw9pUbTDqh2K9V6uqr126jU1ZmxdKNjYCLeWZXuk4BTkoBgKYcRZKgswsEv/tI9668mz2+g171yQ/0qWgaq9XTVGujVa9N18vy1D+18bEnswtIjwsE/4cpDu/5jv6vexLBS/Taork61JobGA8aduPbEzidWImY+cGvGkWB1IqT1wjBwtIGYDaafN0npwoUL8PouX76cH84Lf/7EiRNVqlRBCNWsWVNfX79hw4YIoUJ68QIDA4cNG8bUpY6dyF+NGjUQQr/99lthxlBiZsPbt29/+OEHhNDKlSsLc+MPtklLS+vUqRNCaPz48WZmZmvWrPn5559jY2M/2LEUG4SFhbVp0wYh9N9//5XiMCrIrc+ePYsQGjhw4OvXr/N7ZDAbfsZJSung5ie71mNdXPCIgOZk4x3z0j182PTFag30KmsZzF+7yykomThLIOaAd4qhvhPi7AdnBjkTbiWLtPWOeSL1Nx4wTr1R2yaGfVt1HtLKZDB8mnccqNtt6OG/7tv7xVt54Jb/PHP8dsWWWq1MKjfUR3V1hk5d6BSUDKyWgiUuVQkzThjDpXvuWMnwXld0SXQpJSkdOXJk1qxZz58/zw/zhT8/ffp0hJCOjs5///2XkJAQHR39/PnzUo/XPXnyZObMmSdOnCj8g+TX8vjx4wih6tWrm5mZRUREJCUl2dnZmZubl2LsFMwGp5A0CWyQJCxdkOHJLJFFOvjF/7LnlEZzY3Utg35jv1v12+HNBy4sXLfHsO/oDabnBCcfyxrKmzqweuGfMGLm0hpNOzTQ6y586ut1b6jfo3YrE5V6OtMWr5dFvvlP4tFx4PjKDfW1Dfu2JrTTkpBPM+MBet2HHb/6GMwGQh2wMCkyN3VYeUTgtQ0kScm3NJZEOzo6zp49e9euXR/vC797966amhpCaN26df7+/ikpKW5ubnfv3k1JSclvmpWd8/fv3585c+aff/758UPauxennNWsWfPo0aMRERGJiYlAO2U/Xys7O/vUqVOzZs16/PjxR+IhOzsblKtWrVrdvn07Pj4+JibGwsLCzs7u06VDb9lMlkSTtQ1E4VbsNyr1Tzhy5UHTDv1U6up0HDh+4fq9m80u/Lj1YNehU2cu2wTMgSQ64kLhIGcVEARW4xHuEpyy+cCFGk07dP9m+rw1uzYfuLDl4MVRs5drtuioUldn/trdYIHY+sQ+dvDrO2YOqtO614hZm0zPr9110mjAONV6uoZ9xzyW+oN1QbZVJQsnSHIvle+yCMwoiOkCzMoWRxtKIUkpMjLyhx9+WL58+cd7i3x9fbW0tMBH7+zsDPl7d+/eDQ4OLvZMmzZtGkKokEH+EjMb5HJ5ZmamTCYrKXqOjY2tXLmyhoZGGTcVxO+Jmw1ibHzqYzAbBg0aVID6JZgNpJISGACYibDVxnTTBolnpFNQ8tpdJ6ppt6/exFCjufHCdXucgnBVe7KES3CmEicKJHIQfwbmR5gPRth4xzxxDOg0aKJmc+PNBy7cs/a88dz1xnO3my/cbli43HzhZu4SZEW0qKNXHrbuPARVb6Lb9eveI2ep1tUZPmOpU1ASzZ4Sxka8MpjbUpZHw8QkmxOfdA5O7T2w3FdSCgsLa9q0qYqKyr///vupJ0ypwM/Ozh41ahTeqnzFilIZQJ43bWeg12fQMOcQGm0APxyNGMgi7Xzjbli4tuw0SK2h/rRFv1q4hbqGprmFpTsHJT+w9X5k7wtWt4I66OaseVCHlSzqjiUkKSnS9q5buJy79aJ9n1FVG7fbaHreLSz9rrWs0+CJNVt03HLw4gM7nxvPXW++cL2JKchVoB24KXg9wZBWUAcmE0ykrqGlmaSUJ6qLdxJCDePGjSte9y+jV0ZGxrBhwxBCa9eu/TKeqHhPERIS0qpVK1VV1QsXLhQPQjF6gdlAlkTjtQ00SckjwoakFPYZ/S2q3arvmG9vv3R3DU1zDU1zCUl96hR4z8ZL8H8xLxuIXSIoxWEBD7wU8PID26NXHj5xDHAKSnYLTXULT7fziZu84BdiIcx85OBn6xPrHJxy4MKdKloG7XqP/M/KwyPyjUfkmz/vSpoZDajV0uTQX/cd/OIFQQw8gbAmQWqDxCfcCe8STZOUPnO0oRivIL8uFy9eRAjp6+uXYJrrZzUb3rx54+vrK5PJvLy8/Pz8QkJC8ozpZ2Vl+fv7CwFWLy+vf/7559atW7kNr9evX/v6+np7e9+9exchpK2tLZVKfXx8PD09Q0NDCwjJZWZmWllZ3b59OyEh4e3bt+bm5qampnv37r1//z4sFsnOzpZIJIcOHdqxY8epU6fyLOxtZ2d3/PjxHTt2bN++/fDhw3Z2dkpvLjs7+/Hjx/v37//tt9/27dt37do18RqX/MwGe3v769ev//vvv4GBgUoA+c9iY0CINhTg26NJSlv3uoa9Blcl5i9QpAWWFxOl3zEg8fwdy6Yd+tVqZaLXfVi1JoYL1+0RkpRI7Xmy9Aq0k5wQIHcCRxuw2TBBo7nxwUv3XEPTHPwT7P3i8cc3zt43nizrxMbJ+r2ntQx6jv1u5XVz51/3nUXVtL+ZsQSbKIylgg4nqERkwOHiMdDt3srPvg1JSUn5rY+0t7evUaNG/fr1AwICij0TSr3j69ev87Nds7KyDA0Ny1oEEkcbBuJKSky+0iWD8FMakDj/l92V6ul2/2b6E8cAnJLEUg7sfGJtSDoyFc940kIFYaIcgCuR0BdULyFrEGOl/gkO5GPvFy/1T5BFvtl66JJ6o7adBk+8b+vtGJj0n0TWcdCEWi07Hf7rvntEhr0vIRy/eAdCPkKVWBZ2Ey2lIGuKaFRQVvpLogs/Fd++fVtA6GDy5MkIob179xYeYDltmZ6enl+4OC4uDmjn7t275fTpCj/s5OTk/JZ6u7m5qamp1a9fP0+lpfC3KFJLWknJWmbjjdc2CMWInAKTdp24VqOJYfOOAy/dt3EJTqWrC2S4mggsiQaDQfhmRj6zH4gYxVfdI2CNn51PLPWOuYfLIt+s3nFUtZ5ux4Hj/7OS2fvGOQenbDt0CdVo2nPETBvvGFtvXCnhmVNg214jNJsb/37imoN/AkhhcbZkbjFqhZOKI0txSXSR8F/A+qgdO3YghKZOnVokgAU3njp16ueLNshkMj09PU1NzfdhRC0trebNm+e5qALSlwcMGGBvbz979uxatWpBmpehoeGTJ0/Ez+Ps7Kyjo1OrVi3ItapUqVLNmjVr1aqlqak5bNiwAlCZnJw8YMCAKlWqmJqaguUEt6hater48eNlMtmCBQsqV64MJxFCrVu3Fq9AiI+Pnzt3bt26dYUGkNm8YcMGgZh9fX1HjRoFKWVCM2Nj42fPnsEj5Gk2/Pnnn5AIPnz48PDwcPHD8uOPwUARzIYtZN8Glu9I7AeacGlJfB4WriEDxs1Vqac7c9mmKQvXqdZvs2j9XhZtoIu6gAkKyj2wOWqK4PpLsU9JtEGjufGxq489ozMdA5Ps/cBaUECw9oq+bu78539WNl7RXtGZa3adQNWbDJ+xxCkwSQJ79JKoruIuJE9J8VNRlRIKsH7WJdGJiYlr166dNGnStGnTZs6cOXHiRAsLi9xv8PHjx5MnTzY1NZXL5ZaWluPHj2/Xrl3Xrl23bNmipCdlZ2c/fPjwvRetdevWgYGB7969y87OzszM/HSR99yjVTpz8ODB8ePHT5s2bcaMGVOnTj169KhSA7lc/r6yzYwZM5YuXfrmzZvg4OClS5caGRkZGxvPmzfPx8dH3P7du3cpKSnNmjVDCJmbm8MDZmVlleIDwvBYJSUs8unsYtRh5xN719rTaMA4VKf1uj2nnINS7HzipAGJUv8EKPlFE5NyTtT8qYPqCsRhiY8dAxIv3rNubjygZstOBy/dcwxItPeNuwtmQ6tOJ6498Y1750Roh5o0ZIQk54HmFirIQYk6yL4Nn39J9I0bNyZNmjR16tQZM2ZMmjRp586ductkxcbGrlixYtasWWFhYampqRs2bOjYsaOhoeGMGTOE+g3wat69e5eeng5La44cOSKXy7Ozs8vCnBFP7DyPzczMgDnMmDFjwoQJp0+fzt3M3d3922+/Xb16dUZGRmBgICwa7tix45IlS5R04uzs7ICAgBYtWqipqT19+rTs0E7uhxKfefv27erVqwU8TJ8+/f79++IGcGxubj527Ng//vhDLpdbW1tPmjQJmOTGjRuVXMjv3r2TSCQIoebNm4eFhQEesrOzPzUP2boFb/dGow0k9G3lgbX8l+5hI2cvR5rNJ89fKw1MsvOJwcwhIAGr/uBBIJwBMwSgXFGkQsxqqAtAdBW7GIj98NWUBUij2fi5q629oq09o5yCko9cfqDRzKiebrffj199FZbuFpa+79xNjWZGzYz6/2vuTG5Nhawyo1CMgTI6O9+4z7m2wc7ObubMmVOmTJk+ffq0adOWLVsWExOjNB8yMzP37NkzceJEKyurrKysw4cP9+jRo127diNHjrx27ZpS4+zs7FWrViGEFixYIEyGAvzpSt3z+/lZzYbAwMBJkyYNJn+wLGPnzp25RyaVSqtXr66urt64cWNVVdWhQ4fOnz9fR0cHIdSnTx8xnXh7e0+YMGHIkCHdunVDCNWoUaNfv35DhgwZOHDgjz/+qKR2iG+UnJzcs2dPyCFGCA0aNGj+/PkDBgwA/V5bWxsh1K1btwULFsycObNmzZoIIWNj4+joaKhZMX/+fGjZr1+/BQsWLFmyBPwc73vdu3dPLpe/fv0a1jVqampOmzZt5cqVM2fOrFOnDkLIwMAAilHmNhtOnjxZtWpVhNCIESM+JvNM/KT8GDBQRLMB79ug8ECwFCCJLNIxIHH55gOqdXVMiO9z5tKNKvV0F67f68yWRINfBHfPCwLAtPWJfeIYYDJ4kkZz429XbNl7+sbxa0+uW7jY+cTSECpZrvCScF6pf4K1V7RTUPKa34+j6k1wtIHeC4+Q+nUEfseKrkLFSTIGHPqAXaI/53Zv4eHhbdu2FQxmhNCxY8dyz8b9+/cjhIYPH37w4EFNTU1x+8WLFwtGuKmp6eTJk4FmNTU1R40aNXXq1MmTJ48dO/b27du5wX6eMxMmTBAPeOLEibnv6+Dg8P7ZGzVqdO3aNSWE9O7dW4ig3rlzZ8qUKePGjQNHw+DBg6dNmzZ58uQJEybs2rXrU0v93MMWn2FLotOwsQqJcGxuSwMSz9x83rh976ZG/S8/tIP1ymdvvTj/n9Uz5yDHgESo+iWKNpDFBgVSBzEA8Ny294174hjQa+Qsldqt5q3dRcq5Rtn5xP1n5WEyZKJmC+M5K7buP3vrxLUnNy1ccZiOpB/ACKEOI5CbyKIAs4SOwaU0kpQ24yxwxV/Pnj1zu88DAwNBPp46deqrr75StCZLhz08PODtODg4TJkyZcyYMeDA6tKly4wZMyZPnjx+/Pi1a9fmF9ESv9lSPB43bpz4uWbOnJl7MI8ePUII6erqnjlzRk9PT9y+f//+wkLnW7duTZ48ediwYWpqapUqVRo4cCDQzvjx4/fs2ZMbbNk5k5GR0bp1a/Fz5Vnv6PDhwwihoUOHnjp1SvCiQq958+ZBfsS7d+8OHTo0ZcoUUGM0NDTGjBkzZcqUSZMmTZw4sZDrX4uNGWw2qKjct5ZBJSWQPrY+sfdtvTsOnKDZ3HjXiWuyyDfPnALP37E8e+vFfRsvqX+itRctwApuAlhPSBOcFEsOFIJYkMiWHhHWnlGOgUkrtx1Sb9xOy6Dn8WtPpAFJlh44AdjCJXjo1IUqdXVadBy489jfx64+1us+rFL9NgvX78VLokkdQhFnIPCZAKUeDfKTWCZxd6AA677PUUnp2rVr4slQu3bt3HH1jIyMgQMHIoS2bdu2aNEicftatWoJ0jA6Ovq7776bOHFiy5YtEUJt2rQBiTlx4sRvv/32I0v9flazQS6XC/Jv8eLF7xX9PKnayckJSgy1aNHizp07MJWfPn1as2bNqlWrKrlb4KqTkxPkb0E1hg+aU8nJyf369UMIqaqq7tu3D7ST5ORkeB8IoUWLFgkJVHv37lVRUalUqZKDg4NcLvf3x9X935fl2bFjh1D+1s/PD3SCX3/9VS6Xu7u7g7Eh3iXk5s2b1atXf7+gE5Z/CWbDw4cP5XL54cOHIb4xe/bsAuIkxSbsCt6x8GbDzzTawBKNoNgzsRycApNO/vusgV732sT36RyUMmneWlViNigSh2B1AU0iAjVFAEWdHLbe2Gxo32eUSl0dVLt1pfp6DQ16tu09ctL8tRfvShz8EhSsDdgZ1vtTiNmgzaINdBkDuGHE/BQfCy4ccoyXRJMCrJ/TbHjz5o29vf3Tp08tLCw6d+6MEDp16lTuSXjo0CGEUL169VRUVDQ0NPbs2WNpabl27Vooe+Xm5gZMAzL+xSxSOC7F3Ax3d/fHjx9bWFh8//33CKHp06fnfkBHR0dVVdXq1auD12DRokUvXrw4ffo08Ach3LoFu+vy/hs9evQHGVru+5bgGRZtSJPIcOVfOsGICeEclHLgwn/Vm3bo8tWUO1YeK3871Lb3yHptujVq26vr0Knbj1wBoxd6Kc9MMEJE9MUmM86NlnhG2fnEzly2CdVu1W/sd+bOQXZkA1p73/j/JLL2fUejWi1R7VZqDfS0DHq26z1q2qL1Vx7ZY6ubjZAOlVIiHjb9MOoolUpKgYGBQBS//PLL+7BS//79c5sNQUFBrVu3VlNTq1evHpQge09Ed+7cad68Oax7hpf7zz//5D1jEDIxMRHkVwnOhBIE5e7uDniYNWsWQuj777/PDfzp06dVq1atWbMmZBMsX778xYsXx44dg5+CKrxp06b88DB27NjcYMvOmezsbFtb26fkr0+fPu/Xc+/LSz2FMgn16tVTU1OrXr36rl27Xr58CfNHVVVVKpVClEnJEhPjZNOmTZ/0qYXt3vD2CIy+7P3ib75wa248oHHb3pfu2ew59W/nIZMa6vdooN/DsO/o5ZsPWMkiBd8/sxmIL4xBELEakKHU7Jd4RjkHpew4+nftVibqjdqu3n4Epx5RWRlh7xd/3cKlz6jZ6o3bNdDv0bh9nxpNO8xatum5W6itdyxjMmQxA7sR9KVLoZgEx8PzjYcCrKamn2OXaFi8bm5ufvr0aYRQw4YNc2eqC2VIIS2lZ8+ed+7cef78ed++fcHjDAuGPT091dXVxXNAOH7vy/by8vqY+fC5zQZhrFB+Lj+zoTb5E1eWzczMhFpJDx48EIAIB25ubmA2FBBhEBrL5fLk5GTAshJb2blzJwT4xEaet7c3FEd7+fKlXC53cnIaMmTIyJEjlfgyAFy8eLFcLpdKpaqqqgihpUuXiuvKnTx5cuHChZCtIZgNjx8/PnXqlIqKSpUqVSAgKx5qBTwODw+/XuDf/fv3i+pLK5LZ4BqaTqINhIWBe9U9HIcIpP49R8xEtVt9v3q7Y2CStWf0pHlrINogJCmB1gL8jmRyC2oWOSCqkrVXtLlz0MwlG/qMmt3jm+lG/cc20O+BdaCG+s07DjS9cAcSxIUxWMkiqNlQTXuEaG0DvgsMjx2QNdDUVmFjwFtMQLShrUEpFGCVy+XffPNNwWYDGAmCpyQhIQGiizdu3ID57+/v7+bmBl63Fi1aPHjwwM3NzZH8CU7HUqQUKOGSn9kAVW7eV9vcsmWLMEjgvOvXr4czERERzs7OVlZWIAzOnj0LDyiVSks98NiuLd0lWqgPRvRvTB0uIalbD15UqaPT9espk+atqaJl0LRDv/7jvu80aLxaA706rTtv2HfWjm7BRkW+sB9TftQB89YxMOm3w5drNGnf1KjfxbsSvHaIGBi23jEP7XxnLt3Ye+Ss7oR26ut1R7VbVW6o38pk8NErDx0DEgULoQDqwEuiw16X4nZvV69eLcBs0NXVBTE/d+5cYakPaIqTJk2COZOQkODk5CSRSHr06IEQ2rBhg4eHh6Ojo4ODg6enZ+mamsI8/+DBtm3bEEJz587N3fLp06dCBFJctgWqrG7fvh26REREuLi43L17V0tLq3LlyqdPn3716pWjo6NUKi3xXSZzD7KkzkyZMqVgs+F9yUs1NbV//vkH7piZmQmVGAW2GRAQ8OrVq/PnzyOEGjdu/PTpUxcXF2CSn7pUjFBJCW/3xoLzDv4Jf923qd3KpEXHgXNWbK3TunOd1p1B5NVo2qGylsGcldssPcJhD0ecpIQ/WFoJEBgh4zMKcSaLxN6KP/9r1LZXpfpt/vfzThuvaLJMghRikkVYe0a/Cn+9avuRqtrt1Ru3U9cyaG484OJdiVsYiHUqiBlwJqBJCJRwDMUYBLPhM+/bAL7p/MyGkSNHAnPo0aOHEK/++++/EUKGhoawW0tGRoaLi4uzs/PMmTNhbYObm5uTk5NUKn316pUQxi/e7C0BsyE7O/vs2bPvyxe8t2jhb8OGDdu2bSs4NX/JkiUFRBs0NDR0dXWV5jro5UL8QfzAzs54Sw59ff1C+umTk5N79+79Pklp9+7dYjhmZmaQCiU2P0JCQpo2bYoQArNBaP/u3bvAwMDHjx8fOnRo7NixlSpVAjtBLpcnJSUJgYvu3buvXr36ypUrSoZjWFgYBF4HDhxYrVo1hFDLli3L/gY9wuN/uoPLly8LlnGeB9WqVRPbdYUZSeHNhjVb/8BmA+N9kK2EfZ++cT+s2Vmpfpu+Y+a8dA+XRb11DEyatmi9Sl2dZZtNvWIynYKSbX1iSXyWFpITmB1hRoIRQnR9D7zhpZVH5BOp/21L95P/PPtu1W9aBj3VGujp9xxx9bGDnW8cWAXALp2DU34mSUo42hCUxBaW4QWm0IDeC4aN/S6KMZBdolN7DSixSkrv3r37+++/t23btiPn3+bNmx0dHXO/Dki0KCDaoKqqKo7LpaamArFfunRJDM3c3BzS/JQ4g7hNSR3b2tpu2bIl5/Pt2LZtm3iNk3Cv3377rYBoA3CG6dOniwvHrVixIncF6qysrCZNmiCEILApwC/dA5akRCopMZcezDfX0LSNpucrN9Svq9Olqnb7IZPmXXsitfeNf+YcuHD9HvXG7Rq17XX+jqVoMueYmcLUBSojPzF1SP0Trz6RtjIZrN7Q4Nc/zkBWHr5KP0A7EZh2Xr46ce3JrGWbG+j1qFS/jWHf0f+aO9v7wp5TLFGQjBm6s1tg6ijxaIOrq+sOUiFDPG22bNly8eLF3AsYQL3LL9oAZkP//v3FXqejR49CRp8QtIdYHKxtOHv2bOnOE+HuT58+3bp1qxgJO3bs2LhxY56LlX/99dcCzAYNDQ24KraCFixYII66wH0jIyObN2+urq5e6uWYBTxcv35diYds375927Zt1tbWQhs4yMrKgqzmAqINKioqYttJLpf36tXrvdqjVNrf0dERIdSqVSslt6bSHUv2p2A22OJFC9SZ5eCf8Od/VnVad67dunP1JoaG/cYcv/YEljxtO3ypoX6PyloGvx35y8EflzYCfgKqfA65KVA9CQJISG7S4cu4oqtq/TZzVmzFBc1JHBLuK/GKsvWJ/WXPyQb6PTRbdOw5Yqa2Yd+qjdu17zv6zM3nUhKUwHch1U3IjYigJDlRpEyzUIQQJwCX4JLo8PDw/fv3KwnNbdu2mZmZiSvlwHtxdXUtINoAZoOOjo54y5fnz5+rqam1bt1aKQHp559/LvHSfCVgNrx9+9bAwCC3eqekZCtN0w+aDa1bt1YyPCCtKM9dDoptNhw4cEA8sAMHDkB1f7EzOzg4GGS58ETh4eHbtm0zMjICdR+eHXyKS5cuBYC+vr6TJ08WnCWQifH1118LZk9YWJi+vr6AN1VV1UqVKv3yyy/i8VTM41evXq1Zs2b9+vW/5vW3du3aPXv2FNI+FBBYFLMB79vAFBTMAS09IhwDk45ffVxXt2v1ph3mrfn9zA2Lo1ceHvrr/uCJP1TWMhg3d/XJf58duHDn5gs3yjfJmlEBCOWGzJ9BtoPAaRjWXtG23jF2vnFOQclOgUnr9p6u3bpzNe32P+08Rtyrgp4U4RxEzIZqZEl0UBKGLAun7BUfU04tuHKFW1t54HrYONowsMSWRGdlZQExCrNXOBBr/wLyP2g29OnTR6xXpaamgtV95swZAYhcLn/48CF4B5Q4o7hNSR2DNiM8l3AwYsSI3Lco2GxACNWvX9/b21vcEVaqLVmyRHwyNTUVFlZZWVmJz5fucTsDHG1wCk4TqiUKs8slOGX3qX81mxtXb9pBp+vX1y1cXEJScdpxQJK5S3C3oVMrN9RftvkALa+ENQDiSiyQOqw98V7Uo2YvR7VbDZ+5VCLD27GTO4LhjSEItAO1U6QBiT/tPFarlYlaA72N+8+5hKTSEVK6yEEdQlVWxb4Nvr4lguFTp04J80R80KlTJ7EfCu5VsNnQqlUrhJBSFf8TJ068914NHjxYrEOnp6cDfZXItiElggcQ7mIMwPHkyZNzwy/YbFBTU9PW1lYqHgDwV61aJYYWGBjYrFkzdXX1Fy9eiM+XtNgxiAAAIABJREFU4jHkHeXGw3vvqtKoCmM29OrVS+x3kMvlsFOekrlobW0NLkhYiql0o0/0E7Z7u2/tKdbgHfzi/33m1MSwb41mRvXadDM9f9s9IgOLPJ9Yp6DkSfNxfu+YOSuscHwAZz8S44E511jMAQhZcBk4BiadvfWiZadBqvV056zcZiXDK6DEHgGpf4LZn3drtzJRa6g/Z8XWl+5hu07+o92+j2o9Xf2ew688tLPzxSViWRe8hwwEUQWeJgzDCpsNcbdfwC7RH5ukJJFIwH+kNB+qVq3q6emp9F4KNhtgr2SlZTCWlpbq6upNmzZVck+vXLlScGcr3aXYP0vAbIBoA4s00P+bN28uWLSXEbNBScsBs2HAgAHCogW5XC6YDZaWlrC2QdiCcfDgwStXrjQ1Nb116xYUjRbMBnglFhYWu3btmjp1aosWLWC6QBRVLpeHh4eD2VC7du1Tp07NmTMHlmgriYpiv1reUYyBwpsNeG1DGF0SLaj7LiGpv/5xBtVsodHcuJp2+8oN9dUa6Kk10HtfQbWebtcaTTtUaqCHqmit3n7kVfhroRfjTTkYk1Aygl7FjhbMxez94i1cQnqOmKFSp/WEH36GrCdog8MFsCS6GlnbgAuwsritRzgBSLktjnUQzw1mgixxU+IR4RyS1mvA120N9MU4Kfbxu3fv7t27d+DAgcM5//bv3//q1avcYD9oNowePVrIxJDL5WlpaYMGDUIIKdVX+Zxmg4ODwx9//JHz+Q4fOHDg0aNHuR/wg2aDtra2UiBx9erVCCHIaRQAlk2zQbS2gXjmsNClchfXLbnyoFHbXpUb6k9Z8AsuZoIrrmI9wMY7euZSvDJhJt4LluyhzmYmntUKyU2oQ3RJ6p+w7+zNmi07NdDvceE/S8HkgF5i6U4pCO8LG//UKbD7sGlIs/mcFVvtfGJBEbFk1AEGNqUOuJcsssSTlHx8fI4cOXLo0CHxtDE1Nb1586bYKobXXbDZAPJCyXEOW92XfbPBxsbGzMxMCQ9//PGHUEVQmPDvS4wUbDaoqqrq6uoq6RKgPCjtFVsGzYY7d+7s379fPBkOHTpkZmaWOyRbGLMht8Oi7JgNJNqgipdEE6UcpI+9b9xtS3eDXiPUGuj1GD7jiWMAjTrKIh38EzbsO1u1cbveo2Y/dwshfgEiwmiqEjgXaLSQBgcImf/zzMmw3xhUp/WMpRshBYAyAUzUkTbeMc+cg7oPm65aT/eryfNfvAqVBiQ6B6fsOPZ3fb3uleq3mblsk3NwCgwvP0EsiG8rD9i3AW/39vH7NkRHR589e9bMzEw8H8zMzM6dO5fbB1qw2QBJv8K6OKAmMBuaNGlSPswGMQso/HH5NRtgAVbdunVv3bolXs0GS7vAbEhISPD09IyMjASEvHv3LjQ09Ny5cxB67tatW1paWkxMDOQmHjp0SC6XBwUFwZp3ExOT3EGrwiP2C2hpaWnZq1evfv369c/rr1evXpMmTSqqK6XwZsOarVCAle1ZQxyW9n7xZ25YTF24bvaPW2b/uHn28s3frtgya9mmdr1Hwr6V36/aPnn+WlzPQQiDkiCArXeM2AGDLQRZhCUOFBDOSNQvYHw23jHPXUMHTpiLarUcOXu5U1AK0fupo1TZbMBAIBZBDQZghTZeMU6BybDODGtmhAuTXaLTSjBJqahz7INmw4gRI8R6VVkwG4r0jB80Gxo3bhwWFiaGWY7MBhJt+MYZ7xLNMt/wAZ5+9v4JVx7Zt+k2VKVO67mrd9jiQiV4QtqQGimjv/2xUv02C9iuJoKxAfKebrBAd3+DyRxh5Rn5frsGHGrQbD7m2x8hqgBzO0feHbWKKXXYeEdbuIb0G/0t0mw+ffGv1l5REi8csqDGCdk5URqQSJZ0U4MHJymFleZ2b4UxG5SCTuXFbBDP8w8ef9Bs0NHRCQoKEsMpL2aDeMwFHxfGbBg2bJjYt1L2og2q96097Xyo7x/nDpHtifqN+Q7Vajlo/P9evAqjYUNiNizffKCylsGw6Yst3XHwEJwCZJchXC2NeB8IqQKrkUVKPKPebyQPQcihUxeau4bY+5F7EYMBdH1737g/70rq6nSp1crk6JWHTkHJhBdFSwMSZi3fjGq26DliprlLMN1MBnMevM+9vW8cXqnoFS24IYh0xncnaxtKxmwoeAIoXS2M2QAFl4WO3Gxw0tDQ+DxJSsWINowePRohNGbMGOGFyeXy0NBQqKQG27veuHFDXV29S5cu4sxUuVwOS65btGgRHR0dHx8PZoPgvzx37pyKigpCaPXq1WLgFe34xo0bampq6urqVfP6U1NT09XVLepat8KYDb6+vgihNVBJiSVoCm5Ra88oW984W59YO59YW2+8KZWdT+yUBb+o1NNdvGGfO96xMtbaE7MeYa2nnU/sfTufu9aeEBilLk8CWSKLdPCLh/2wsGvWK9olOOWvB7ZNDPtW0TKYt3YXzucm+UU2PrG2PrHu4a9/2X0SVWs8YuZStzB8L1vvGOxShUJ1BKatT8xje1+zi3dvPHfFdyTpVcCOnULSSnGXaDAbzp07l3smQyWlEjcbQkND79+//9nMbzAb8iwiCanGJW42pKSkPH782LeEsmtyvxfxGUhScg7GaxtgemONnJRalxDlYMSsZSp1dQaM+/7FqzBcBRXvt5B0z9pLv8c31Zt22HHsb2xL4y64uw2u5h7+r7mzFV3eAysUqYqPVQ2pf/dh01Rqtdxket6VpBvBHKY3JRlKDn4Jdr5xNl7REhzWiHELTTt93bxph34qdXVWbDtEInXUDpF4Rko8I8/eenH6hgWuJU8yoKA4Ml7bsGUvQujzoFGMUrlcDmbDwIEDxRlH0CYoKAiiDSVrNrzPLXz27Jk4H1ppSKXyE8yGH374Iffd36+RUFVVLXGz4X359YcPHyrt/JD77p/zjGA2KGVNwxigklKJmw3h4eEPHz7MvTNAMR4cV1JSUXlgLSMeK2FNUZRjQOKPW8xU6+ro9xz+r7mzM9mo1MYHb8GG91sghZVtvXFskPCTCIknzki8YeGKlXtvXJ6VqvIk3v7HmZsaLTo2atf7rwe2HpFv7Hxj7Xzi7H3j7AhAiSzK3i/u2N+P6rTuXE+36+WHdqS8YaREFukR+WbD/nNIo1mnQRPu23jhmmyElQH7+vuRw+G/Hpg7B9mSO7JwPTEb/OJvQwHW/R+bpFQkrILZoKWlpeRsksvlGRkZEG3gZkMOlDo5lWmzYfr06VAHVyqVpqenJyUl/Z+964CL4ujiQxNUFLEhoNhREBHsCnax11hBoylfLImxxNiS2DXWRKwxMTHWRGNvUTFiQcrd0ZXeezt6sYF8zrzZueUABUUEGX73O/Z2Z9/M/ndenTcznp6eYBi91EAzZ8588uSJt7c3THVYsGBBYmIi7AsbFhYGxWxsbPLz85OTk8FtYLM18vPzYb9PLS0t5ksUgaZm/MjMzPTx8Xn48OGjkv58fX2DgoLEwemyoFIWtwF2iV6+fqdvLE5SEsQHyfYhQwfEBMExD5cAbKy4BCZNmbtSpVG7L7/f6R2VRc6z3CGcFrn/7+sWgyeZWo/d+tsZ4jmQSQgBeCz1zH8ea3YduXDXx+lRnBtxAE45yKzHzdZo2qGZqdXRKw/wtM6ARKdHcbc9I257hLsGJn2zcR+q23z49C9dApNue0X+5xlx1zcGbClnsg/dv26BI+y+0m3TrcvAiX9dd5OFkCTOADa3YZiJScUkKZUFcHEZ6Pb79+/PycnJysoSZ+i+C7fBx8fH0tJSS0vLxsaGjfiJ21Phx+A2TJ06FR5QPDPqXbgNeXl5kydPrlu3rrGxsZJlWeGPVlhYKE5SIlqcjmJB3/OIyNj22xltoy46rSzX7DriEZ7uG5PzwD/h40Vr1ZoYm/Uff801UBKcgguTWQq33MM++nxZS4tB0+avgsgfqHDiGyS4h6Wdue3Zsc+oui3M7Y9d8Y7G8UJmPeDxjdDUUzel3+3847LTIye/eAlhw7+uu/UaYavexNioy8Dj11zAS8GRy8AkSUjK9z/90czUSs+k79LNB9zInlCk5RWfpFQu8MFtsLa2lsvl2dnZOTk5bKLzu3Abnj17tmTJknr16unr658/f75cTX2nhcFtmDVrVm5ublZWlngA/124DWlpaWPHjq1Tp46pqalSDtg7fcxXE2duw5YtW3JycjIzM8VC8l24DaGhoebm5nXq1Bk6dGh5Y3DFn4VOiQa3gSQBgqDwiMCLKbXoMlCtifFsMn3ZNzbXPSzth58O1zPq0sS41+/n7zBuJYmF8QtW72plOXjQpP+dx2sbpJG5y9j094nOnrN8K9Ju0XfMx+fveN+Qhlxz9r/qEnDVOYB8+9/zjZWFpl5yemRI5kBPn//d/UdxvjG5vrG5V5z9rcbOQjqtRth+KQtNJaOmWBxJQ1N/OXWzfa8RDdt2nzZv1V3fGDbmANpfGpp6ibgNsCFp8Qd/R2fAbWjcuLG/v382+WMDTTXabYDFEJRWBoB34OnpWatWrebNmyt5WrDZE1tuTPzCYN+G1q1bF88SExdjx1lZWbBDnNKi7z///PPLiWhWVlbiuQ1RUVGwKiLMtTp16hTMUtDR0Rk8eLClpaWGhoaamhosi6Spqbl06dInT57ATBRYCm3o0KGDBw+GTXlq16596tSpwsLCuLg4CCmJnygoKAhWberUqRNbWos1mx+8MQJlcRvoaMMGcBuErAkSJVXMmqKpQXiVN+eAxI8+/xbVbzkXDw5k4XiJH56mDKvIeUZmjp29GK8uX7+l9bjZ2G0ITIIJWLLQ1IP/3Kpn1MWoy8CRdl998s3GiZ8tbd1tqGqjdtotzJdu2i8NxbvSeISn7z1xrc+oGT2HT+87+uN2PYZp6psamvWDpSe720xbs+uINCQFgrjeUVkHTzvUbWGupW+q0bTDx4vW4a1tiASnU6Irbm5Ded8C7EDUsmXLPn36dO/eXbxaCMwmGjZsmNgPzM3NhZWUlGZ5Xr9+HRYJebWeAy0LTKpEobwtL2P5DRs2IIR0dHR69+7dtWvXuXPnMuvHw8MDlkNQys9evHgxQmju3LniKnJycmCtZ5hGJb4kPpbJZGz7+RkzZogvvYtjk47GVoNHeEfTXaLBW2DfrkHJ93xjh06Zg3TbNG7f027B6hXbfrOZOk9L37R+S4tth87iTd9gdMIv3isy0/7o5XpGFioN29RvafHnpfuKVY/I8iaeERl/XrrfzKRv/VaW+07+6xWJt3DCdQmjat5RWXtPXFNvYtyq65BRM7/+5JuN4z9Z0tJisFrj9vVbWa7cfgi2biDMSPZ+8o2xHveJSsO2WvqmrboOuez0iNbon+Ab+z4XYAWJBIPSPXr0GD16NFsfLDIyUl9fv/jafQcPHkQI9e/fXzxAkZeXB/xV4iblrD8kJyezncL69++fk5PDLr3fA1hVVldX18rKqmvXrgsWLGAW861bt15OcGrRooVSujYYDwsXLhS3PCIiQk9PT0VFpcTd6FlJ2H4RhMNXX33FXDVW4L0c5Ofnjx8/HiFkaGjYt29fS0tLsZA8cOAATIVntiM0ElZSUpoABrtEF59MpfRchw8fBhBeLtgAadJKBcr1E9wGsku0nCpBYNsAPD3gi+Vb1JsY1zE0GzXz65XbD02Zs6Jh2+5qjdt/+f1OWVgajJk/8Mchg3OOXkZdBqk2aod0Wq2xP0rmRGH2dyW7uEybtwo1aN24fc/WloNbWgzCH8tBLS0GG1kMMjTrd+Syk3d0tltQ8qffbFRrYlzb0GzQR5+v3PbbN5v2WwyepNa4fRPjXvtO/useng4ixSUA50N+vGidSqN2WgaddIjA8Y7KggF8eArsh9zDU6Lffm5DufD08fGBxJMuXbr07Nmzb9++MpkMKDx58mTo0KEvdcrevXvFNO/fv6+iotKkSROlRSZhq4P58+eLC7/lcQVMiX6zFixfvlxXV7fE/urr62toaNitWzel/PWxY8fq6uqWGIYPCAjQ1dXt0aOHeA/pVzQsJydnzJgxurq6SlbFwYMHdXV1x48fzyQXJCCZmJjo6upCcKKgoOCnn34yMjKCefHq6uqmpqaXLl26e/euvr6+uro6DCbm5uZu3ry5bdu2bNX2WrVqWVlZsQ3Ak5KSunfv/lJcKs2BPnTokK6ubr169UrcQvsVD8UvvQKBsrgNitGGuDy6+zKOdJLZCJAn7adIqHDFCRKJsxavq9/SYtH6PZ4RGWBIkaVRsfPgEZ6+ZOO++i0t6jbvjKdpErcB4qbSEPmpm9IuAz/Sad21tkEn1cbt1Zt2qGfU5eUGcOv3HMerUJOlY7wiMzcf+FuvY5/G7Xs2JdvWGFkMat65X9MOvZt26K3btvvi9XtkocQ3IIGTyw/8rMfO0mllWcfQbOjUuRBYJdmibN+G9zPaMHHiRF1d3bp169aqVUtTU3P58uXsTUFvt7W1Fa8knZeXN27cOF1dXdgYkRV2dHQENldaY40VgAOZTNamTRtgT3FdSsUq8OdPP/0EPKtJ/mxsbJjb4OPjo6ura2JiojQlevXq1bq6usuWLRM3Izc3VyxqxJfEx5mZmTY2NuA5DBw4UGxEiotV1DGMNvhgtyEJZwNj95g61ZhNSN+78sBvuO2XOq27qjUxVmnYtrZhJ+PeI7f/dgYG5ZiP4R6Wduqm1MRqjIZex07WYy87PcIbMMH0aPINizZ27DOqpcXgX/+5hdkKroIVgtOfMo5fc+nQZ1SDNt209E3VGrevpdexXkuLzgMmbP7ltKI6MlqIEwuDU5Zs3NewXQ+dVpYNWnf967qbkDGV4BNHk5TCwsIqCquy0/n77791dXXr168PfaZt27ZsZCwmJsbc3Lxhw4ZSqVRM8NixY6CexG/88ePHwF9Hjx4VF1Y6fvr06SeffAI7QLVu3ZrVpVSs8n9u3rwZeAeEw5gxYxjv3Lt3r1GjRt26dVNyucF4YHueQJujo6PNzMz09PTE2z0Vfxy5XG5tbQ07q44ZM+bp06fFy1T+mfz8/NmzZ5cmJI8cOaKrqzt16lTxey8sLAQbRmmVaplMpqur26VLl1dnHz18+LB169YgJJWk0Bs8PnUbyEpKwOywGgFs23zPN+aTJRuadOhdS6+jSsM2ms1MDMz6Ldm4D0bacXnCrZIQ+S33sMGT/ldLr2Mzk74HTt2g+xeB2xCa+vmyHxu27d68c399U6tmplb6wkfPpG8T415/XrrvGZkpDZE7ekXOXry+mWnf2gadkG4b1Ubt6jbvLBrzJxO0iASThab+/OdFoy4DG7Tppt7EeP3eE76xuUxYuYBWraCVlMqFqp+fn76+foMGDbS0tDQ1NbW1te/duwcUnjx5MmXKFF1dXaWkXzc3Nz09PVNTU6V9fr7//ntdXd0VK1aUqwGvLvze3Ibc3NzU1FQmIMStzM/PT0tLy8jIUIoEZGVlpaamiqOS7K6CgoLU1NTit7ACSgcvXrwAamL3oLCw8PHjx6mpqUoLHhcUFKSnp6empootm6SkJBcXFwcHh9DQUBa5CQsLu3PnTmJiImt5Wlqaj4/PjRs3HB0dg4KCxM/74sWLjIyMEp8oNTVVLpdXWma2Ejgf5E9wG4YMGSJ+iUpPytwGnzi8GpIwa5lZSFi6ETtJkTVx2zPiuluQo3cUzARlEseZJDLdexi77dDZjftP3vaMYKOfYGk98E+45RF++OK9tXuOL1q3+5tN+3cdvXxTGuIelsbmjTkHJN71ibkhDbkhCb4pCb6h+ITckIZclwTf8Y7GNhyxqLCADpE7ekdNmbtSo4nxjK/X4PmpxORyCUj0isrpO/C9JSkBr6UKf+IcHuA4peUpS2PPZ8+eAZsrqU+l91hYWJiQkAChOKXlJoqXrJAzeXl5wsPh/2IBkp+fn5qamp6ezmQC1AgCUDyqCWvwFxc1JbbwyZMnMF5hZ2enRLnE8m9zks1tUOwWgpUuzOmn3CENTXXyi//ltMPSzfu/2bRv15FLV5z9IZToBC63YPdLglOOX3NZue23v65LaPKS0IEJ++DEvJu4z4fcfxgLDIWdbeY8kAG0W+5hv5+/s9b+6OL1e5b++Iv9sSu33MPcw9JJngPhU2GmNc5TCk75+cilRu17trQYdPGeL8y+eDlUyEYb3svchidPnoj7TEZGBuvVJWocSGtW6l3QZ0rUZcXf+PPnz3fs2IEQ6tevH9NZxYtV8hkl3hGLgtL4vUTeAdDS0tJeIeHh0R4/fvz5558jhObPn/+ueafsYGZnZ4v7g1hIQlcRIwNkS3zvz58/L1HgFG9JWloarKO9Z8+e4lfLdYYmKbnhBVgZzwpToRLwuiDBKceuPFi1/dCi9bu3/PrPmdue0lA57OHAlOYDnGqbcsnp0aodvx88fQvPgYbJe8KYuaNXJFWCRD7ckIp1YjAWF0RKSELkbkHJJ6+7bdz/18J19su3HARxhHesh0kUVCJByEN+8rqbSd/R2i3M9xy/WmQBQ7KSEsxt2F0pu0QzzMEGZv1BqVeX9t7T0tLS09OZGAFqJTILq+jNDiBRv8RcoeIEUfFT/AxHoFogAG5Dz549/f394+LioslfVFRUbGwscx2p27COrqTEkqqJ1UJ9BsFGp3MY3IKSpaFk2QewbAIS2RAtpFa7h6e7h6dTnwGLPzzRCgtKPJcUzwzziMh4mc7kEZHhHp7mFkIir5DpRPwBkpxNJmGTidFSmJAtfONEKZHbIAtLk4WlDp8+X71phy2//oOzNWCGBtlWs8+AYabvaW5D5feQnJwcSBqsahNAKxCK2bNnFx+qrkD6jBQZbcArKTEFzwwCxiPOAYmuQSkvF0HyiMjAnTksHRsQRN/DN7b7Be6Qkm6PZ08SNa/EX2SeIp7syLwURgGX94vHBULktK7ITE9cXRqe5CDiL+b24wmRCU+2/35OS9906NS593xhtUfMg2xK9HsZbWDwVubBmjVrEEKVMwRXmc9V3romTZr0cnMDpXhteYlU9/LZ2dmdO3dWVVVlG1K98RNtWL8eIRVYgJUubAqKSfD2XQKTqLKLyHQPz4AEWsakoBBBvLiFyD0iMugMBFHE4YF/givRtng5kBC8Ngl8yE+sIulyTKA3g5KkIXjZEqpbw9JAHDFRA4r4gX/Co7jHp25Km5late814tL9h3QpEUFY4bkNd99DktIbv4gKv/H58+dxcXFRUVFgMsWSP1gWiLsNFY42J1i1EICdkhBCWlpadevWrSP8GRgYsEHtiPBwhNCydTt8yHZvzL4nKz/SdWCogCMGCpjsxBjCVgiYUCD7FOaUIrChTIHSLyoZlW5nbRCSpshwB7kFTC4m/tyCU25Igmcv3qDRtMPQqXMdvaMkZBFMut1bVDZxGzpWrbfybloTGho6efJkhNDixYuVQi/vpsLKppqSkgITSa2trVNTU9919dhtGDTcOzqXmu/iro7NAliMVeEPk2LUry7OHUVY43XcQdR8Is02FsYrFBSEiUbC0IeYOzA/ugTgBQx2/nHBqMvARu16HDzt4B6Wzlx3n9i85etx9L0muA05OTn29vZqampt27YNCgp6132mytJPTk6GnRZtbGzKmNJcZZ/lbRoWHh4+bdo02DrmteMzr62Iug0u/rDaOKgt8TeIDpj1B7pM2KdZISiY7iMKl55ncTEqVTDLU1EDs6WB95UEBa4aYhYknAeUicYsIqwkwSlHLt3vNdJWo2mHVdsPycLSWJvhQOE2VO5ow2sBr7QCwcHBHTp0EMylOnXJH8yK2bBhQ1mawUcbyoISL1MVEbh586aNjc2QIUP6i/6sra3HjBnj5+cHLY6OikIILV2zFbsNgtAhAU7iFRAbBUwWmNkMkoU5D0Q2gbDDowpiCjChE8RcqRTAKiI5l0SwlkZB8E/I9pZEEOPmeUdnr919DNUzGjDxswv3fN3DM6gExOlSiZ6RWb36DelkalIV301FtwmWdf/0008/VLPg2LFjCKHevXtXjv1n2rFDX+w24CnRr+qZzJ0ouvEqaPSycUeRvl2Ev0riDsxQpFIRfwkU8IrsCdIQ+Q1JsFGXQW172Px48LR7eDosEgBPwZKUwsPfw9yGiu71r6EHU/ONjY2rzibKr2nxu7kMO3mPGjWqJviKr4AQhKStrW2FCMmNG/GaENec/SQhqcSsh2gCWXJNGF0XbHeBZ7FlT7Z6FIcDqNpVqFE2doH1KShHxvVvRwHv2BCW1nfMx5rNTOat2u6KVzgk66eL2iANTb14xwshtGf37leA+QFfio6Onjx5srW1tchu6j+Y/MHSPq99du42vBYiXqCKIvD8+fOcYn/Z2dl5eXksvTU2Ng6HqL/bBIFVbLXAGCtJ9aHmvnCymE1DQiCkPLmkCKLQn4pLNF7CBCKjTGpkdo+CAphc1EgShJrIGsO34EVdb3vsPHzhtmcEiZrQHeUgV0oWnt6970DzzmZV9PVUaLOkUqmDg0OJk6AqtJ73RiwkJOTKlStKe8K8u9Z0MjXpM8CG7j+IpzTgrg7dr4S+Df1c8LqFvl027iilb5NacI2woBmtFLcBVognTQJjglHA+yHiLaIcvSIP/H3jqrM/XkAJM7LA1P6JPjG5367ZhhBSWqjn3SH5HinL5fJz584pzS1+j+15X1WHhYU5OTmxxNT31Yz3Xq9EIrl161ZFCcnNmzchhK46kSQfUJpk7hNlfzLRiOxzCgyLNSDoVsba+IDMmCJsDuMJClFDGR9yhyBSUAZFTAYiShdWAYmugcn7/77+x/m7rmQZkqLCCgscaWjaudvuFbLY1Ht/42/WgIKCgry8PFghWmxAZWdnl7HzcLfhzZDnd1UPBBISEtRUVb78drUn2aGZbmoL0wNIRAQMfSLX6GIy5AwZW2AhE2KaCEYVtZaKjDzQ6As2enCsFBs6pVNgRhiVxeKxV2I2+ZHZooSIa2CSe3g67FlDG0mWMeIpAAAgAElEQVSsKJfAZLfgFMue1j26d60eb4K3sioh0NnMtFe/IR4RmXhfZ7AAwGQnmpv17XfFHaRv4/7MeJBaIdSqIM4A2BkK7iDtJNlNJKYoC8XzfIAIbidxHrxjcpd8/yNC6NXr+ValV8HbwhGoighs24bd7wt3PKV4tIENI9BBA8JxCg7FP/3ii6tRxuNULQqrGkB0APMvUWeC0hTiCIohiJLVKBmQVFbEQIo4BnLFUgrFFLEsLO30DZeXy+j/+uvBqoh7dWgTdxuqw1vibXxTBPDS5vXrfTJ/iXt4BraQsE0vGCsg5qjFj6UhZAdh94BcAskoWDaicVhq7uCpnAqxSCOjtJiYgmDZFKWAywuDD7QNCS5C8+gtgg1XnIJbcMr9R7FmFj0HDxrwptjw+2ouApYWXbr3GUCm/mOmUHwodyj1bcIdpJgSdxTvmQIpakZAAcpZwCMCf4l9A0VuksALJXAHHm1QMBGmTPx/1gacuRed8/WKdSoIvXo935r74vmTcwTKhoC9/S6EVE5dd5GSTeKFgXFBVlBBQXUl5XrwAUSXwDGgQkAsZwRtizVyETUqVsRUCokVMVRUlGBxYQWzHcjwqUiVw12ysLRjFx0RQn8e/qNsSPBSyghwt0EZEf77Q0IgPT29bZvW46Z8TLZtJosUBYCtT012LIbA+PCLFxslJJ5Bgh/UuI8XhTbhvMKCwRRE4g+LJyY6hflbeHV8RXC0ZApQKS7mx4KsCpkI6+tDGWlo6nVJYBvjTtOnTf2Q3hd/lspBwKpvX4sefZ0D8EompLuysL3CE6a6+ZXcIUT4Xt+3mXEA1RH1jytVokDOiHx76kVQvwU4i0ynhjNFuMMlIMkjIvN/C1fU0dKsOpsYVM4L5bVwBCoWgd8P/aaqpvH7PzdkeMmBBKp9mApjaUXMGRAEhaD7MIfCymlUkvjDcIQgauCnEDsTK2IhfqfgekIB/wTpAQRxipRQOz0Q2kALiK4yUSMLSz9w/JKqquppskVvxYJWQ6hxt6GGvOga+phPnz4dOmSwebfeTo9iFSvKY+FCoiZYCOJjLGWIxCkSzKBn8N5wVGAxGSemwCaBFaNAiINtRHO4WQyVVCcIQSUKgsshlpK4DfQ8lp4eEZmn/nVu2KjpD99/X0NfLX/st0Bg/LixHc0s/vMIh0XZi2hfcd8uI3dQ/a3Q6yL+Enp+CdyBmQ78BMqDjL+I4w1cCcYB41BgRgWfAgVSnuw7mzpt9lwD/WaVsBrVW8DPb+UIVHUEzp87X6dOna37jnpEZIK2EpQgG3AQHADM/oSRiRplHEqlCk1DEqtRBQWRoFAo4hIoYCJiCiWJGiU1SnwGRRvoSEiiR0Tmup2/1K1b9+bNm1X9HVTV9nG3oaq+Gd6uCkLgh++/V9OodfGuF90TCg8LQJSCiR7qFWALhskaCKvAMAKWiZBkKYx+lkKBCVawcug3HictjYLgkCg8E9oGiL6USOGBf4J3TO5m+98RQlz2VVA3qVlkFiz4Ur95y/OOHhBKpAsgQicsT98mHb7kvk3n+RCDvghfQAhQ4C8yCgEUYFYl4Qi2dzthSTAjFLxZAgVsuLgFpTj7J/QfOqpH925Km+7VrLfLn5Yj8NYIeHl5NWrY8H9fL/eNfQxsTnx14iqQMIGwrzxzGLDmYh9geaZSS6NAmFqhiNntCmYXBIVAoXRFLETWFPeKRyfI7AvY2sXu8wUG+s0CAwPeGqQaSoC7DTX0xdecx3ZycqpVS2P+Nz/A5lYgUxT5QmCCkDAJWOpYPAmRCZp9REwfJgGVKCgGASCeCp5GcQqCSBUCqzTUyirFAxFiCqxh4hAsMafcgpJdg1L6DBjarm2bjIyMmvMq+ZNWFAJHjhxRVVXbf/yCd3QOKHjoxkp9m/58LXewvg16mpRnpMDaKKFvC+MPUJLyFx24eBPukIak3nIPbdhE7/PPP2NrqVUUYpwOR6BGIfDkyROLLubm3XqzJYnEgoIwNXUSmDKluozwNWZnhRIUomPUjsc/6Qe8AiY3RKKmKAXBtShd1AjCqqgaVbQBU3ALSnHyi29nYmZt1beMqwbVqJdexoflbkMZgeLFqisCBQUFw2yG6jbWu+bi5xGRyax/EIIKWUOGWcFPoLkTgggTDBq20pxiQEBBDYsniMRg8VQCBTJdAW+VxSQmOShOAcK0rCUsr4ntkOUTk2v/xz8Ioe3btlXXt8Lb/V4RiIiIqK2laff5Vx7hmS4BSbi7Cj2T9c/iPZP1ScYRlImK9u1XUBBmMhAOErkNMJmHtYFZFcXbQIkza4A41bgZfvFeUdnbfzmOEPrr5Mn3ii6vnCPwISCwffs2hFT2H7vgE5NLxxZIPhLdbEFQZII0IKlKghiBMAGdfiAMYwqakSpBxt2iA7qKK9xeXI1SCkItrxA1JQorn9i8HQexiDhwYP+H8Ibe0zNwt+E9Ac+rrUQE7t+7p6qiMmridPewdNg28oEfGPeCAyCkRdIpXPinaBVqEFJUVEHYI9G5KAU2jQGkFU6rIEQEkUpDIOSnmIIwywIHUQSJKYhjFxgLphEaetUrKvu6a4C+UesOHdonJydXIoq8qg8HgYKCglmzPq5bT+fSXS938KWJ30vcAOW+TVS1YOjjIKIydzBmEVxcBQVwABR9m5j7lDtY4BD8B8Jf4DPjb8xfJXAHMxTE3PEA7+skdwtO6dK9j3H7dnxiw4fTU/mTvD8EEhISDAz0u/Xp5xyQKA3F2y3DRg2EzYVkISH4xbiVbOVOMpdg5BD4WtCnEKFQUCiqRtmYJ93DUSxqSqBAlGZRCjgwIehrLM1EFGRh6fcfxnbq0q11q5ZpaWnvD9dqXzN3G6r9K+QPUBYENm7YiBCaPW+JNCwN5ngJEQ4YIsBWEbZImIzDx3SNVBpSpVeJQCTHdKVqIYmIUSBE6JgDkY9kQFaQZXTvCKAAlQqSV2gSbQZEVgQJm+ASkOQdk+sgDenVb7CqioqDg0NZHpyX4QiUiIBE4qahrj5q4nSPiExhYxBF3xYWPlKof+AOQesX4Q6mp8UzI52LrpRSEncAf1FOUXAfuM3gYAguNNxOfQZgJcpB2HxxCUh8GP9k1aZdePPXPTV089cS3zI/yRF4GwRgB+7PvvrWKyqbLZ8g+PYk9cgvnoQGFGpUUFskSQkb8cpqlPAyxM6IpqMLsCpTwMWID1CcAmhYJlKKCKuiwQghUSpBGprqGZFl+9mXCKHTp0+9DSb8Xu428D5QIxB49uzZwoVfI4Rsxk6+4vTQOyrHPTzDLVjuGpTsEphENr0iAwLEB3CBzAeQdzQKC1dpnFU8AEqkJGRqCmXIwnPCyg/kJBAhlhCEZikF5jaQYVwSsKHlXQISXQJww1yDkqWhqe4RmZ6RWX+cuWnSuauWpubxY8dqxGvjD/kuEVizZg1CaOHKDV5ROdJQvKkTsd0V/jNxEsCJpX0bhxLBT4Z0BXCz8Y3E+id7PLOlycDKxwE/SllhK0BGH75LmQLYCqQNAncABWqOMJ+B5AQ+8E9wDUrxjXv8y4nLtbXrDR06JO/x43eJGafNEahBCDx//nzunDkIoblLvpeG4oibK9n+iAbyheCXQlCAoU+9fYHfQWKQwtTzJwOJQgoTOAxkoSTM3VTUsHgZdg/IkAK5lxTG9MlWcaIBDdoGJVGD5UOyR1SWW3DKJ/OXIISWLFlSg97fu3lU7ja8G1w51aqHwPPnzzdt3KSqqlJPR3fO4lVnHaR3vKNcApPdw9M9o7K8Y3J9YvN8Yh/7xubhT9xj+okVDuAMLlD0DC1Z0i3xuCSmyajFkdtfSQQ3IybXOzrHMzJTGoaHhv/zCD981mHslJnqtTRbNDe8cOFC1UOXt6j6IfD06VM7W1uE0LzF3+E1RmLy3ALJ3iZgDQgWAPgSYN+TyKLgJMNkHoWPDeepk0DuorvAUgqCGwCpCMRzBiOAuBzUc1bcrkQB/8QNg298i0tgkmdUtmdk9vYDxzVr1zEz6xQWFlb9XgNvMUegCiOQl5f32WefIoSGjJxw6rqLe1i6b2yee3gG2SwyBcfdaOgND/pBDI5+w08ydUpxKSCJRMRoYecitxSloCiZhCNorCQ+FojgTe6LVhqYiOdwh6RIQlM9IjJ84/JkYWknr97vP3QUQujLefOfPH1ahcGuHk3jbkP1eE+8lRWFgJOT09gxY2rX1kIqaqZdug8fN2Xa7HmffvnNnMWr5i9d/dWyNQuWr1uwfD3+rFj39fJ1X5MDfLxiPf6QM1/jMusW4J/rhfKkJNy1gty+nNwiUMA3EgoL6Bm4Ee6CGnF1Xy1f99WyNfOW/vDFwpWz5i6eNPN/g4aPM2pjjBDSb9ZswYKvIiMjKwoKTocjkJ2d/fn/PkcI9eo3ePfhf1wCk3xic90jMmXhGbKwNCl8QtNkoWmS0FQp/qSRDz7AZ8LYT7gEZcg3voQPJPgWoTz5KaNnUkunQG8RU8DtCcVNkoWne0RkekXneERkHr98d+L0TxBC3bt38/Pz4y+UI8ARqHAECgoKduzY0ahhQw1NrfHTZm3dd/TkNad/Xfzv+US7BCRKQuSysDT38Az38AyPiEyPiAx3/Mn0CIfjTPfITPjpHo4P4Co+CMfF8CVSHg4UFCIxBaEwJSiUh7tEFMIzZOF44qIkRO4SkHjHO/Ka86MTV+79uOfP0ZPsVNU0mjZtsmfPngpHpmYS5G5DzXzvNf2pXV1df9y8efSokSYdOzRp3Ki2Vi01FaSKkArCf/BNDulXiWeKn2S3FKdTvLBKKRWpIKSqgtRVVbXr1DYwaGZp0cV2+vQDB/YHBPB1pmt6v30Xz5+fn3/o0KEWzQ3V1TU6mFl+PHfxhp9/O3Di0vFLd/+56Xb+tvvFu16X7npfvud9+b7PpXv4c/me9yX88bmEz+BL+Od9/PMyLkAu4WLwkx0UoQDUyLeCwmWgoKiIUrh4x/O8o/sZB8nJK/d/O/3vtv1Hv1y6ule/IXW162uoq3377VJ5ivxdgMNpcgQ4AoDAQ1/fxYsWNdDRUVdTb9REz7Bl29btO7bt0Km9aZcOZpYdO3c16dLNxLy7iTn9NsU/S/yQMuSqKS0PxbqXjwIhTil07taxc9cOZl3bd+rStoNZq3YdDY3aNGzcVE1VrXGjhsuWLeMxhQrsxtxtqEAwOalqhkB+fn5ubm5mZmZaWppcLk9KSoqPj48r+hcbi3/D+Vj4IRQoXjguLk5cRFygRAoCJcX/+Pj4hISE5OTk1NTU9PT0rKysxzxXu5p1q2rZ3MTExJ9+2tm7V0/9Zs3q1KmLVIr7ucwpfv8HWppajRs3Nu9s9s2SxY8ePaqWiPNGcwSqIQJJSUnnz59f/cMPn37yyYTx44bbDB08aODAAf3797Pu38+6n7WV8G3Vvx8+Jp8SDqCkUMBaKGxVCgWgw4rhg34K+vTqwAH9hwweOHyYzcQJEz7/7NM1a1ZfunQpJYWvN1jB/Yy7DRUMKCfHEeAIcASqLwKPHj28cePG33//dfiPPw4e/GX//n27d++2t99lv4t84ID9JCd37frZfteu3fa7xMXgJL5L6Rb2syiRV1PYbW+/b+/eX3755dChQydOnLhy5bJMJs3Jya6+OPOWcwQ4AhyB6ogAdxuq41vjbeYIcAQ4AhwBjgBHgCPAEeAIVCoC3G2oVLh5ZRwBjgBHgCPAEeAIcAQ4AhyB6ogAdxuq41vjbeYIcAQ4AhwBjgBHgCPAEeAIVCoC1dhtuHLlytatW2UyWaUCxivjCHAEOAIcAY4AR4AjwBHgCNQ8BKqx2zB27FiE0JYtW2reW+NPzBHgCHAEOAIcAY4AR4AjwBGoVASqsdswY8YMhJC9vX2lAsYr4whwBDgCHAGOAEeAI8AR4AjUPAS421Dz3jl/Yo4AR4AjwBHgCHAEOAIcAY5AORHgbkM5AePFOQIcAY4AR4AjwBHgCHAEOAI1DwHuNtS8d86fmCPAEeAIcAQ4AhwBjgBHgCNQTgS421BOwHhxjgBHgCPAEeAIcAQ4AhwBjkDNQ4C7DTXvnfMn5ghwBDgCHAGOAEeAI8AR4AiUEwHuNpQTMF6cI8AR4AhwBDgCHAGOAEeAI1DzEOBuQ8175/yJOQIcAY4AR4AjwBHgCHAEOALlRIC7DeUEjBfnCHAEOAIcAY4AR4AjwBHgCNQ8BKqx2zBz5kyE0J49e2reW+NPzBHgCHAEOAIcAY4AR4AjwBGoVASqmdvw9OnT5+QvPz/fzs4OIfTzzz8XFBQ8f/78GfmrVPB4ZRwBjgBHgCPAEeAIcAQ4AhyBmoFANXMb7t+/P2LEiHHjxk2aNKl58+YIITMzs0mTJo0ZM2bq1KkRERE1463xp+QIcAQ4AhwBjgBHgCPAEeAIVCoC1cxtiIuLa9myJSrpb/jw4c+ePatU8HhlHAGOAEeAI8AR4AhwBDgCHIGagUA1cxsKCwv37NlT3GuoVavW3bt3a8Yr40/JEeAIcAQ4AhwBjgBHgCPAEahsBKqf2yCXy83MzJQ8hylTpvChhsruO9W8vqioqPPnz9vb71q7ZvW3S79ZuPDrr76cP2/e3Llz5sybO2funCKfome+wGVExebNhbvwN3zE5elV4RIp8MXcuSVQoPfOm/vl/HlfL/hqyeJFq1at2rply5E//5RIJPn5+dUcct58jgBHgCPAEfjQEHjx4kV+fj7MOxV9Pyvp5PMST4ruEh8+E/9gx6VRKCgoePHixYcGbtV7nurnNhQfcKhTp46jo2PVw5a3qCoiUFBQ4ODgMGHC+Ia6DbS1tetq16tdF3+06tarW69B3fq62jq62joN6aeBcMDO6DTUbtCwng7+KIrBcX3lM7gMo8AOXkGB0tGtU69BHW0drbr1amvXr6NdX1u7Xr162p1MTex37UpKSqqKsPI2fSgIZGdnx8TEBAcH+/n5+VTJPz8/v5Dg4JiYmJycnA8Fdf4cHIFqgEB+fr63t7e9vf1MO7v+/aw7dzJt07qVUXPD5ob6hvrNDPT1DPT1DBXfzchJep5chWNWkv1kBwoKQvlmBgJl4YyeqC52Iy5maNCsuaGBUYvm7du17WphMWzY0C+/nH/q77+jo6OqAbjVp4nV0m1IS0szMTFhAw4TJ06sPoDzlr5PBIICgz76aCJCyLBl62mz5myy//3wWYfzjh7XXQNueYQ5ekXe9Ym+9zDm3sNY+Nx/GOP0KPY+PhNz/2EsfMgx/ikUEx/jk8IluCvGCZ9RpgAEWS3CLbH3fGPu+kTf8Y5y9Ay/KQ26fN/nr6tOew6f+XrF+u59BiCEOhi3//vvv98niLzuDxQBx9u3Fy9eZG1lZWhooKVZiwnYKnhQW0vT0NCgXz/rb75ZcvfunQ/0hfDH4ghUIQT+/fff8ePGIYQ0amm2NTbt1qd/vyGjhoycMGzslJETp4+aaDt6kt2YSXajP7LDB+R7NPs5CZ+ES4pvKPORcJ6UUVCYTG4R7sLnlY6Fn5ggJmU7aqLtiPHTbMZOGjRifN9Bw7p076PfHE+F1dNrumjRwuDg4CqEZnVuSrV0GwoLC/ft2wfKTF1d/d69e9X5FfC2VxIC9+7ebW5ogFTVvl6x/pqLn29snndMjnt4ujQsVRIidwtOcQtKcQtOcQ1Mdg1KdhM+9Dg4GV+lH3zVNTgFf/BBMr4Ll8f3wjHchX8KdNzKTiEoxZW0RBIsl4akysLSPSOzHsY/cQlI2HPkXGfLnioIrVmzppJQ49XUAAQkEsmokSPr1KmtpqHZvc8Au88XLP5u8w9b92zadWjrviPbDhzbcfDEzoMnd/56En/jg7/oAZz8lZwhV3+iBUhhfF64C+4tjQLQLJ3CjoMntv9yfMveI5t2/f7Dlj2Lvttk9/lXXXv1U1XTqFOnzrhxYz08PGrAi+KPyBF4DwhkZWUt+OpLDXX1xnoGXy1bc+zSnesu/vd9YyQhco+IDK+obO+YXJ/YPF/2iXvsE/NY8TP2Mb4aRwrEwXnhatxj37g8n9g8n1h84BurOI/PMIKMQlyer4ICLuCjoIDpeEfneEVlycLSXYOSHb0iL9313nf0/NjJMxBCTZs0PnLkyHuA74Orsrq6DUlJSebm5gihKVOmPH/+/IN7L/yBKhgBd3d3A319/eZGR87/5xOTKwtPdw5IdA5IfOCX4Oyf8MAff+NPAPzEl+gZ4aRzgKiYf8KDgER8F/4WlRQK45NQQCBLCpdCQVyXQMGZUBC3wS04xTs6565v9CS7zxBCP/zwQwVjxMnVSAT27t1Tp07txnoG8775/tJdb7egFGloqiw8wzMqyzMyyysqG3+ic7yFj1d0ruInthhy4Cc76RWNz+CfMbgkO69EQXFeRIGdLEIhKsc7GrcBtyQy2zMy0z08UxKa6haccvGO5/8WrmjYWK9+vXq//vprjXyB/KE5Au8QgaSkJBsbG4RUZn6x8KY0GGSCLDTNLVjuEpjsHJjkEphEtRVRqS4BieST5ByQ5EyPE138E10CE50DElyIsoMyoIJxmZIpJJZKQSBbIgWXwCTXwCS3oGRJsFwWjr0aWVjasYuO5t16I4R+3Lz5HYJVM0hXV7ehsLBw+/bttWvXdnBwqBlvij/lmyOQnpZm0cW8sZ7h6RuuPrF5ILkEb4HY/dRbULgQgksguBPEQyBGfBEnAfwNcBIEgtQ3eMBcC4VPAt4IpgA3soMyUngQkCALT5eGpo2fOgshdP78uTcHhd/JESgs3LJlC0Jo0PCxF+54+cY9loWmuQYmuwQmYR4Bvxq7r9g9xh/ot+A/M68YnF5aALiDFganl/btCqOAqyDNS3INSpaFpfnG5J27JbMePAJ2/+RvlSPAEagoBPLy8saNG4sQWrvjgHdMriwsjcoBEm5TRLUgyEXUqOgkDq6Jw2dUq/pBuE2hW4k2VChiQW4I6piJGip/BCHDFCvVpwoKgl6mFFwCk7yis50exo6aMB0hdPDgwYrCp2bSqcZuQ2xs7Lp16/hQQ83suOV66rVr1yKEth045hv/BKQeFkzM3CFCRyxolM0jv3hWHgQflYxAQRBeguwTuw3CMaMAErDojZSaIPtEvgS+nTZMoPDAP8E9PP2uT1RHMwtj4/apqanlgoIX5ggwBE6ePIkQGjPJztk/wSs6m3U81tuZq1C8b9PBNzxeJ3CHUt8u2smBAqsCOrZS36Zjd0VvfD13BCR6RWXffxg3bOyklxuAnj17hj0gP+AIcATeBoGtJKywfN0On9g816BkyrCCyitFUFCdhZkduw3EPQBBIY4dMCLA7+Rboe+Eq7hGFqdgogbUIhMUJVDAuQCstQ8CEpz8EzwiMh/4J1gNGl6ntpaXl9fbwFLD763GbkNhYSFfbKuGd9+yPH5sbGxzQwOrwSPcwzNcA4ngw1IGxBlJNAIXAk4SWUMTkOBYJL+YJBLsmwRn/yIURHKKnoczYC2JTSVKARMX0pwUgRkq8hi14rf7xOT+/NtfL/M1DxzYXxYQeBmOgBIC4eHhzfSadrLocd83xj0847V9G8x3XEwI/rFbWMemvR0XKIG/WH8WU1CQFdS8cIbGFDEpyqFgB5TMHR4RGXe8I41NzY2MmsdERys9LP/JEeAIlBeBiIgInfr1B48cLwtLkwSniH1+ypLUpheUHR6WxBqNKizBrGeCglJg6b7FFPEDGNgUUVAIjfIoYkGGKAsrr6ics//JtOs1mDBhQnnR4OUZAtXbbWCPwQ84AqUh8PuhQwih/ccvekbieCrIOyaMRIMPwvgDsVFwAUHqCSJSlHohspxYRJbkchD6AgWoxRnGc6mIBGNIMUpLy4DNBGJXqFcsbXEt1BrDB5JguZNfvIl5125dLfmAW2mvnp9/BQIrV65ESOXw2Vte0Tl4ho/Q60g3o4P7opN02o+CfVh5yimlcAfhOMJNyhSUuEPIZaIcBFeLcAeuSNHOItxBvHfv6JzfTl1DCG1Yv/4VD84vcQQ4AmVB4PvvvlPTqHX4rIN3VA4RBYTHGeOzA0HfkexBBYdSSSIuhv2BIoICNDKRD0wzlo+CQlCQiggpZVGjkGP+CT6xeZ/M+6ZObS2JRFIWEHiZ4ghwt6E4JvzMh4NAQUHBDDu7ZoZGjl6RkhA5iCdicGDhhWMbCkcinhkiwkHiAzL1iv2kMo76DJQCHofFRBIf+MeLTS4qzsgobXEK9BbiJ4goiCSmEHylgVtWKT6Pa3wY9+ST+Ut1dRv4+vp+OC+MP0mlIJCcnKyvp2czdpIkJNU1KJkNmgnjACVxh8hVJn37nXDHA39MlvRwwp4BJM+B8lcJ3EGHDUnb3IJSJMHyATZjjJobpqenVwqQvBKOwIeJQHZ2tkkH455Wg2BVIqLCsN4BvQaJQw8IezL9BepPUHakJA6ZiQUFdhuKUAB+L7MiJkMZbHADDooKK6KIBTmG26AkrGRh6Wf/k6mqqa9dy1cjfMOuy92GNwSO31YtEMjOzrGwMB8ycoJzQCJJzcSChsY1IQ4qClGAOAMpw0ZasaAUmf7YrClKQRHJwGOvTLCSsIogZEujIAhQcDwSsBQWKBBZzKjRNrDVnB6QTM2t+47Urat95gxP5q4WnbEKNfLChQsIoZ0HT3jH5FILgPRqpb4NBgHupaKeCZqbGRCl9W3mkAsHir5NI5clcQdYFcChytwBfEfuKo07fGLzNtv/gRC6fv16FYKbN4UjUN0QkEgkurq6Xy5b4xObh1kYIlxUPVElyDi0qKAgY5VYsVK9BhKACQoiOgQKNOhGowOCqAEKkO+krASh0uKKGNoATWVqtLiwcgtOeeAX38mix7BhQ588eVLdXkuVaC93G6rEa+CNeEcIyOVyvaZNbD+dLw1LcwlKYuIPSy4yvwrbSX54nIGYMnhyJ5Y+bKkHhVNBxJwg40gGJ6UApISkTEFiAgUhpwLo47qIB0KbAQMd4L34xT8ISHCBY5Y+DuMhojbQ5pHcUFlY+sviV7MAACAASURBVB9nb2rU0uTTG95R5/mAyS5b9m1jPYN/brq5R2TiTkX7Pxl8I5G/t+cOZ5i/CPwlMEIR/hJOlpE7KNMV5Q6wFVj7PSKzTl69r9uoyZo1qz/g18cfjSPwrhE4888/Wlq1d/56EkQERMcUak5QZCUJCqIE/ROc/SAQRqQKixEwUfNaCiUpYhLXEI06liqsiipiodIH/gl4S6XglAnTZrdp04ovKPJmvYi7DW+GG7+reiCQmJioqakxZ9FKz8gsQfARJ0EI6hMLnoxyEhlHTShmvuMDIdrBkjSI1Y5vFEQhpewH46FghClkpdiywfYNtnsScEZTMQpYzhIBJ8o1h6iMqC4abU2Qhqb+4+Cmqq6xfdu26vEyeCurDAKTJ33U3qSzgzRYnLlHeiZwh6i/Ye2OtzeBjD7owNDzqRsseB2ivq3o/JS/sPNQnDsUrjjt9kLfLpk7aEWYlBDIVOYOaWjqvy7+Ldt2+HimXZUBmzeEI1D9EPjt14OqqmqHzznIwtLFmo6yub9CUIAiw0oQ9kGiGUdkqIEoTUFo0PBcUQqCegXLXkQBRgyYqCmrIgZhJdatIFUgZkfWbnYPz/h8wfL69erGx8dXvxdTBVrM3YYq8BJ4E94ZAvHx8QihhSvWe0VluwQkKWIVIOOIcFFYNkL4k8Q1sRAkMouIP1oSmymsPEvlVEhVIapBKRQdpSXitQgFSMEUxCgNooCbAYUF80hsh9GGSUNTL9/3QSpqGzbwCaDvrAN9oIQH9O9v3q23k1+8WzBdVBE6s1LfJp1QyB+oItzBeBYzl5g3sVviFpxyzzemQyeLkSNGfKCvjj8WR6AyEPj5558RQv/cdJOGpik0FJnQjH+CAi1RjYqVICnA9CPTnuyA0mFMDTq3dFHDbmQHILLoT8E3EMkxEmJgI/bEbfCIylq0aqOqiko0X3LtjboSdxveCDZ+UzVBIC4uDiH0zQ9bSA43XUOaOg+KYQQaWxXOQ1iU2PeC50AiH8RMgVFRCHwWo1BUPlIKJAmKzvLEhk4RCrRqdpJRIBZbyRRAREqC5f+6+CMVtdWreT5GNemOVaaZ3btaduvTH8+HDkwW9TQFI4hie0IXpX2+rNyhSC8WOvzr+jYoeFKdMDQBt4gHOph9QOdW4uAijmJCda6Bya6ByZ0sevaztqoyYPOGcASqHwLbtm5FCF266yUNSSVsCC46qCQsBAROxGfwMRmEh2O4JD4ujQIpCeG5kikwNhcoQLBASY0SCtjZeKWwwoICB928onOWrduOEIqIiKx+L6YKtJi7DVXgJfAmvDMEwG1YunYbnddVUjSCyThqowjjCUWlniDailMQBGjR8hCPYbJVPB+Uhm9xdcQtgXqJ9aYQx0QQKyoVhCYl+CAgURIivykJUlHT+P67794Zfpzwh4mAeWeznv0Ge0RkuASSCT9CtI91SBhqE0/Bh+4NvZSNswHvKHwMcZcu2rfF3EH7tpD1V6RvK5ZOKpk7GJsIg4HYUGAUXAKTZGFp5t379OrZ48N8c/ypOAKVgsC2rXj/+CsPHkpCUwnzYmWk9MHiAtic2OtMkbGFjOCMIDpeQ6FsiljkGAgShrWBURBqJA0ukiiFz3jH5K7atAshFBoaWilYfmiVcLfhQ3uj/HnECIDbsIxscsnSMARbR2GjE7uHhvaxZGSChggmJoOYNCyBAi5ZDgpM/jLiRPZB5IaIVzCqCFkmfPEBPo8LSILlDtIQVfVaq1auFD8yP+YIvBYBc7NOvQfYeEbRCT9Cv1KoZHGXYz1TUM8svoj7IevAZeEOcEvoLYLNUZzCK7lDYQpAw6AwZcnAJPeIDIueVj26d30tCLwAR4AjUBoCW4nb8K+LnzDaQPgO8ztZMkQIlikkAB5tgNWTKYdiNQrzAGEQAPYvIhTE9r2CAhBnik/IgMKFBUVMmR3KFG8DLfkqRezsn+ATk/v9j7sRQkFBQaU9Pj//CgS42/AKcPilao8AuA3LidtADQsicRRzjok8gtyhB/50LSMsmwTrXGGaCKKKijlhhywmAVlolho9QnlSABKcBHsLrH9BjCrsHhCyLGObto2MMBD/AQwscBvcQuQ3qduwotq/J/4AlYuAuVmnPgOHeUXnOJMJP+LejvuY0LeZn1BS36bOLbjc4GmznqygQIcCaAYCYw1KmSr+cnAH5WLBkqDMKHCHc2CSR0RW1979unW1rFxEeW0cgQ8KAeI2qFx39ZeEyEEJYslAfAPMxYJ2YyKCqjmiwlwEg54oLIWgwGVEirUEUUOSeF+hiAUKzIdRFlZkrSc6Js+kDWhMkuuIRY1PbN4PW/YghAIDAz+od1ZZD8PdhspCmtfzPhCgbsP6Hb6xeSCwiCAjwosuEAmRCWGpOCINaaoGEZFgpijuovs2YArCEpNCzBWMfhojobISBJZCzhKhCTRBFlPRRuQsjc0UFcqEAqNGWk4qcguW33IPVVWvtXIldxveR9+qznWad+7Ud9Bwb+w2UFcWFLyin4u4A3dLcd8Gb5Zwh0gxU4OAUXCma4W9gjsgc69o34YhO5KCDLlPUAUmC20omTtwsgS2NgKTvKKyu/bp39XSojq/H952jsB7RgDchhtugZKQVKyqCH/h8AFlfKI3/fHMIsKhZAxcSFWiUgWGE0l58TBjEQpkbpJAQRRcALlUCgVCnwoufKxoAxn8BEEBbS5JWHnH5K7euhchFBAQ8J5Rrp7Vc7eher433uqyIQBuw4r1O4W5DXQUVRG0oNIQhCCOYRCbntg6IB9BfgnhE5yJRCSRgoJwiToD8BOXAbmW6FIiBai36L0CBdYYKhkZBWqlkcEKSYjcQRaixt2GsvUEXkqMQGezTlaDRvjE5LqwzoyHBYr17ddxB+uZiq7LCJbUwyl/vYo7yJSGUu7F/V+4JPAXceAFPnIJSPSKyu7Wp3837jaI3zc/5giUE4GteEq0ynVwGwT+EhSQ4EUQflRwpSAuFMWIt08G86lSY4KCuhaMo4V7cQEiQwiR8ihiQTIIVSirchBWJEkpb/XWfdxtKGePUBTnboMCC3704SFA3YYNP+HRBjaji0koup8aCVGQACeTONi+EYQXOVAISpBr9Fug4IzXsVaUoUs6CAs7lEBBGLXAGeE4LiJ4LLhtRMIy84uI7OIUJCEpt2Shanxuw4fXa9/9ExG3gYw2BCaJlDRRtMW4g9j6or4NeUdC/yzeM6llTzo25AyUTEFYiKwECtDnCQ8y7qDWidA86oGAQYPZB7cQL5MSld2tN3cb3n0f4jV80AjQJCW3QLdgOVWdwHqvVqPA9YL2pGOYJB2XMDIZWnw1BWGCBBuoxweMgiA0KPsL0oCoUVhJqagihrqKCKsEn9g8PtrwNp2Xuw1vgx6/930iUFBQkJeXl5ubmyf6g58FBQXQMiFJaadv3GPBPCIBjCJyDZvs0hC5V1SWT3S2d1SWNERO5R0uRmZ64RCIOApCPA0mjKhsAvcjQRIi94rM8saksqWhqYq8cBEF8Drcw9K8o7N9orM9IzNlYWluQXRnCYVnIlhFxLTCjWHRVjcy2kCmRPMkpffZD6tj3TDaAKsSC50NNHoR7nANSvaIyIAu6h6e7hJItb5wCyQVkJOivg0anfZYkjjkhndmTSb7s8J3CjmTgtdxIhkFLgGJbsF491Z8Hn9ScGGyn6tbMD4G5oUMKEXtxbjDJTDJE482DOjalScpVceOydtcVRAgow0IjzaEyhkvM+2DEwIDEt3D07GaI/oLM6ngDwCHKpwNsjwaC4fhq5hzqahxC04BIUM0ZpZHRLprUDLe8LFIKA3WAsF7PHtGZvrE5HhHZXlGZEjJvAuBIIl6EE0NggIaoBAXNH0Auw1rttXc0YYXL148fvxYyXACUyo/P78s/Y+7DWVBiZepigg4OjoOGzZs0KBBAwYM6C/8WVtbjx49+uHDh9Bi6jZsIElKJDKBBQo2cZiISXQJSvKMyLjmGrjnxLXth87uOXHtqnOAJ1mbUiF94F4h3FKEgsgDcQlI9IzIuCEL3f/Xje2/n7M/duXi/YceERmwOj6pmo7VSkNTpaHy0w6yXUcubT909uA/t87c9nD0jiIRU8VySfgWNj8VxnOJr4JXUgqRO7yDuQ1hYWFXrlw5e/bs7du3s7Ky3ubFR0dHX7t27cyZMw4ODnK5vDRSEonk/PnzFy5c8PDwKK1M5Z/39fW9ePHi2bNnnZ2dyyhMS2tkYGDgxYsXz507d//+/cePH5dYLC8v7+7du2fPnr18+XIlrO/B3AacpET5QsgiIKzxwD/BPSzN2T/h8MV7Ow9f2Hn4wrGrzm7BKbAaI3UMhJ7P/ASqv4G/hI56/1HcHe+oOz7Rjt5RcHDHO/qOd5Sjd5STX7wzdkVwdjIt4COU8cG34PLkXpy+rOBfupgY4w6oF/MOcxsqNEkpNzf3zp07FfJ2nj596uTkdO7cuUuXLj169KjEzlBYWBgZGQm8c+vWrYyMjNKKVfL5lJSUGzdunDlz5vr162+5w25GRsatW7fOnj179erVyMhSl89/9OgR8I6Tk9PTp08r+XlLqy4iIuLq1atnzpz577//3vLtxMbGMiGZkpJSWo1SqfTcuXOVKSSFKdEBkpBUGviHgXFs8cdLQuSSUPlfNyQ//Xlxx+/nDp1zvPcw1j08XeRXsDRdkv1InATRVYjHJUhDU+/4RB+97LTr6OWtv53ZfezKsavOD/ziZWGwx5wQxSDRB4/wjLu+Mb+fv7Pj93M/Hb5w5NL9yw/8nB7F0YCg0DxFLVgEKSiwYni0YRue2+Dv718a4OU6L5FIKurteHh4XLhw4dy5cxKJpLQ2yOVyBweHs2fPXrt2LSYmprRipZ2Pi4ubNm2alZWVYDTh/4PJ35kzZ0q7S3yeuw1iNPhxdULgt99+Q+RPTU1NXfTXpEkTZ2dneBI22iDMbSAjBmD9E7PGNShZEiJfv/d4l4ET6zbvrNq4fZ3mnTsPGL/G/qgkRO4amPwAdp4STBZsIQmWFoghcC1gOqYsNHXH7+e6DZ1Sr6WFauP2tQ06mfQdvezHX3AwFUdQiK8SkOARkX7hrs/UuStbWgzSbGai3tS4fitLg07Wi9btlgSnuIqW0mep5yxkwiwkMtqAp0SvqqAp0fn5+Zs2bWrTpg2gihDq1avXtWvX3qxP2Nvbd+jQgZGytLT8+++/lUgFBgZOmjRJW1sbiunq6s6ePfu979wpl8vnz5+vp6cHrdLS0ho1apSnp6dS48vyMzs7e9myZc2bNwdS6urqgwYNcnJyUrr3zp07AwYMUFVVhWItWrRYuXJlbm6uUrEK/NnZTHlKNI3MCX3bIzzjn1vuo2YsaNqht0ZTY42mHQw79586d+VVZ39Bo+OQITgMzKBX5o6ARFlo6qb9f/ceaddn9MzeI+16j5xBvu16j7TrNnTKwnW7nQMSPcMz/roh6Tf+k14j7fqOngmfPqNn9iHH+HvMx+ccvaShkCxBBjcoK1GbAOcwCExN5zZU3GjDf//9169fPxUVFfZ2vv/++7y8vDd4Ha6urjY2NrVq1QJS+vr6ixcvVrI7X7x4sX379vbt20MZhFCPHj3OnTv3BtVV7C3Hjh2zsLBgrTI1NT1w4MCbVXH+/Pnu3bszUu3atdu+fTsbIgaa6enpixcv1tfXh2IaGho2NjZubm5vVmNF3VVQULBly5Z27dqxxvfo0ePSpUtvRn/v3r0mJiaMlIWFxcmTJ5VIhYaGTps2rX79+lCsQYMGM2bMeIWjpXT7G/8kbgO64RqAV1IS+Au0jyws9aYsdNaidS0sBtVqZqLW2LhR+55Dpsw5euWBB4410AAElg9EyeK7iBqlGpAOzid6RGT8+s+tXiPsmnbojfVgE+PaBp2ad+4/3PbLE/+6ulPPAQsZ18AkaWiq/dHL/cbNbtS+p3oTY81mJo3a9TAfMOHXM7dloWRDOpAAIBmEb5BR1GEQhIZ3TO4PZG5DYODbTokOCgqaMmWKWIXNmjXrzVRYTEzM7NmzdXV14UVra2tPnjy5+FpPp06dsrS0ZH2mY8eO9vb25XrLQUFBrVu3FllM+BAIbty4sSykKtJtiI+P9/b2dnZ29vHxSUhIKEv1ry0TR/6ePXv22pK8QE1D4M8//0QI9enTJzg4OD4+Pkb4i4uLe/LkCaDB3Abf2McKK0cQZ854mDVtw96T9VtaqDcxthwyefKcFT1H2Go2M9E26rLG/qh7WBrsh0XEpcheEVEASYpHbMPSfvrzQmPjXmqN25v1Gzfpi+XWY2fVNuikpW+6eMNeaVgqkJKGpv7zn4flkMmoQWu9jn2GTp1rt+CHEXZf6XXsM3XeKpHbADMcqHFWxDIj4o+tpFRR+zasWrUKZEf//v1tbW3BcGnYsOGtW7fK27V27twJpHr27GlnZ9e5c2eEkJaWltj6iYuL69atG0Kofv36k8hf3bp1EUKDBw9OS0srb40VVT4vL++jjz6Cxo8aNWratGlNmzZFCJmamoaEhJSrlufPn3/++edAysbGxtbWFvyHli1bisdVpFKpgYEBQqhFixbTp08fMWIE3DJ//vx3F16lcxticoXInDDUQDS6NER+2cmv+7BpSLeNQSfrsR8vGjXza72OfVCD1kOmzLntFSkhWXzOJFGBeg4QTWTamqhwksaQtmD1LlDzdZp3xh9DszqGZrUNzVQbtx83e4lLQKJvTM5vZ/7TbGaCdFqpNmqn2qidCvmoNmqn0bRDLb2OtQ3MTl538whPp0aA4K7gQT9yzGZm4+E+MiW6olZScnFxgQ5gZGRka2s7bNgweDsLFiwo79t59OhR69atEUJNmzadPn366NGjwVGcMWMGc0IKCgo2btwIVfTp08fW1tbU1BQhpK2tffXq1XJ1v4otfOLECbAtOnfubGtr27t3b4SQiorK3r17y1vRlStXgNONjY3t7Oz69+8Pz7tx40bmOeTm5s6YMQPODxs2zNbW1tDQECHUunVrNpJc3norpPzq1auhVVZWVtOnTwejX0dH58aNG+Wlb29vD6R69Ohha2sLLlnt2rXF4ZWkpKQ+ffpAB/joo4+mTJkC0A0YMCA1NbW8NZarPLgN110DpCFyxl/O/omuQcn3H8aO//Qb1UbtGrTuOmTyFxM/W9q2uw1q0NrUaszpW+4krCAsrySM6rP4F3MqHvgnPIzNXfbjLxpNO1gOmTzhs6UfL1w3bNq8Ru16oAatXwYabkqC3YJTsHol0YcNe080atdDpWFbE6sxEz5bOn3+d31Gz9TvZL3jj3N4XFTwGYQD5rrgAxAU0AZhSjSspPRWow3x8fGgwnR0dD766KNJkybVqVMHITRo0KDyqrC0tLQhQ4aAlhw3btzUqVPBf+jatWtcXBx7cWfPntXS0kIIdejQwc7OzsrKCrrQ9u3bWZnXHjx//jwhIUEwl2LAxh43btzL2rdu3fra2wsLCyvGbZBKpXPmzDEzM6tXrx5CqEGDBhYWFvPnz/f29i5LI0osc/Xq1TFjxpiamhobG4M3X1BQ8OzZMyZZSryLn6w5CIDbMGTIkOfPn5f21OA2rFi/E7sNgpFBTA08C9ktOOWGNLhj39GqjdqNsP3ylnv4o/jHTn7x4z/9RqNph/Y9h//rGohjLVhyCeY7MVPEQVYy5wGTuuMT3c1mKtJt03/8J9dcAh7F5bkEJH28cG2tZibNzQecdfSUhmLPwS04ZcysRahB6459R/925j9ZWJpPTLZnZMYpB9lfN9xESSOsRiGkKlQNppIkOIWupLSiAuY2eHl5aWpqIoSWLFkCeMbHx/fq1QuEYLkspIiICB0dHYTQJ598kpOTU1hYmJaWZmNjgxDq3Lkzs5BAATds2JANaJw7dw6Cavv37y/thb7r8ydOnAB76JdffoG6vLy8WrZsiRBavHhxuWp3cHAAmf7jjz/CjWFhYTACY2trC2fy8/MnT54Mbgmzh7Zt24YQUldXfwOHrYwtpElK0TlMlUKngm/v6Kwvlm9Va9y+eef++/667h2d7Rubs/XXf5qZ9FVt3H6N/VHPiAxFHLF07nAOSJCFpy3esFfLoJP1uNn2x67sO3l99/Gre8hn19HLJ/51JRsXptyQBG8/dHbLwdNbf/0HPlt+/cf+6OVPvtmobdSlXc/hV5z9ZaGpOGFPWEtAYMki3CGspDSgotyGMWPGwNth+QybNm1CCGloaBQfNXo1+LNnz0YIGRkZSaVSKLl//34NDQ2E0OXLl+HMw4cPQYfOmzcPhptSUlIGDx4M8RHgplfX8i6upqSkgPcycuRISKTJy8uDx2nRokVUVFTZK83Ly+vZsyc8TmxsbGFh4fPnzxctWgSWMQP50qVLwIY//fQTEH/06BHE+GfPnl326iq2pJeXF7ydBQsWQLZhUlLSoEGDEEIDBgwo19uJiIiAgZQZM2ZkZ2cXFhamp6ePHTsWIWRubs6Mzi1b8FbNurq6Fy9ehGe5du0aeA47d+6s2KdTokZ2iVYhC7DimX6CfEj0js7eduhsHUOz+kYWq7Yfcg9PfxT/+NhVZ5O+o5FOK7uvfiCToJLoKL1wo4gCI4XnE5687vbzkYv/eUbgCVRYD2au33O8UbsedQzN1u4+5h2d/cA/wSMi4/Qtd6MuA1UatZvw6dLrbkFeUVm+MTnO/gl/Xrx31SXANRDPCcQtFLwUyOxlgxtEbrC05ASfmIqZ27BhwwaEUKNGjZhLf/HiRXg7u3btUsLz1T/37MH7SNSuXZsNN92+fbtZs2YIobVr18K9ubm55ubmoJHBl3j27Nm8efMQQg0bNnzLASjw0ivPbThz5kyjRo1AQTZt2rRly5ZsyMbQ0PDNNJ+7uzvEeADKw4cPFxYWbtiwwdjY+Oeff371C+BXawgC4DYMGjToFfJaMdoQ91gsuWANeM+ozHV7jtdt3tmoy8B/brl7R2W54nXfs+wWrNYy6FTPqMuaXUdwjBN8BkEkgQCle+LiIAc2XNzD0+2PXtZpZdm4fc+jl518yIr43lFZX36/sy6JsC5ct9srMtMzMuPgP7caG/dq2Lb7vpP/PozNxdO/SGaIe1iajGSTMwHNhlaLCERBEONdomUVtkv00qVLEULdu3dn8xlevHgxcOBAsJAePHhQ9k4FVm+bNm2SkpLYXRMmTEAIqaqqXrhwobCwMCkpCQyR1atXszKurq7gNvTv3/8V75SVr/CDZ8+ejR49GiE0Y8YMRjw+Pr5t27YIIQMDg3INos6cORMhNGLECDY1Iicnx8zMDCGko6MDo89eXl46OjpqamriEOORI0dAnM6fP/8dRUnMyQKs3tF4tAF6F6xVAmsDXHML7DL4I9Sg9aJ1u31jclyDknyis387859BJ2sNvY79J3x6zzfGjc2ABL4ohTtkYelLNuyt1bTDR59/6xWZ+TA21zsqyysKLzzgHZUF0yec/eNdg5J9YnLwh6wQ4BOd4xf/+GF83qT/LVNp0PrTpZvcgsn8adz5SYPpxg6CCcJqx6MNWXhKdEXMbZDJZDo6Ourq6uKUX5YbuWDBAtZJXnsQFBQERsDvv//OCp85cwbchilTpsBJ8Ek6deokzlwC16VWrVr//vsvu7cyD06ePAmDJL6+vqxesPURQgcPHmQnX3tw7do1dXV1LS2te/fuscJgfr0UNZs3b4aTU6dORQiNHj2alUlNTTU2NgY2rITJP6xe8cHatWsRQpaWlunp6ez8yJEjwcl3dHRkJ197sGvXLoRQ+/btxbnptra2wPgwKpudnQ3iYoUoMOTp6QmGae/evd+pkIQFWGmSkjCKiFNt/eLHzl6M6huN/nihe1iaJETuHp5+xdnfrN84iLWdc/QiA4NUMwrqTAi9BSQI+x3haXt4+ZCoLBqbI/OpHL2j+o6eibRbzPtux8O4PJfAJFmo/IvlW1CDNn1Hz7zjHeUZmQlSyxXv7ZjBRiRAvyu0PNHaWDuDiBP8CjzaUBErKcnlclBh3333HXvdEokE3k7//v2ZJmVXSzvIzs7u168fQmjevHmsjL+/P0iMzp07JycnFxYWXr58GSGkqakpzphduXIl9JkyWvyMvtLB9OnTK2+04dGjR/BsZmZmx44d8/f3j4qKepmAuHbtWhhk6dChAwQVlFr56p/gezVp0uTPP/90c3MDbQ0PNn/+/Fffy6/WEATK4zbs8KFuQyLZhQpbHi4BOPA/wu4rVL/lhE+/gXEAr8hM+6OXG7fvifMoDDoNmTLHLSiZBDPwjEwigASrhYghLKRI1qZnZOak/y1Tbdh24MTP7vnGSIJTvKKyDp1zNOhkDXlKVmM+hkljU+euRNotRs34GudrhsglIXJpiFyxVgwIOzYBVBh7pYO84pWUglNgu7e3T1KSy+VdunR5adZv2LCBdZ4dO3aAPEIILVq0iJ1/9UFeXp61tTVCaOHChazk4cOHWfbkzJkzCwsLr1y5ghCqV68ei7zm5uaClwI62NXVld1eaQfu7u4wTnL69GmotKCggCUavcwj+uOPP8rYmNDQ0BYtWiCEDh06xG759ttvGaQg5cHFMjY2ZmZieHg4DG68vNfQ0FA8Qs3ovP0BJCn54NEGEqjDWyZRi9w7Onvrb2e09E2bmw84euWBZ2SmNFTu6BVpPXZWLb2O9VpaNO3Y5/DFe8zFpeMVJXEHuNNL1u+tpddx4uffuoele0VmQhoeyRygiQTFKbgEJHlGZq6xP6rZzKTzgAl4qAHnIdBkA8X06GLcAdu9des9oEL2bYB8IXNzc5YQEhISAq8VIdS8efNXzGFVekeg0YyMjMLDw+FSYmIiy2tv2LBhdHT0ixcvIJ1vyZIl7Pb9+/ezPrNgwYIXL16wS5Vz8Pz5czBnx48fz2q8efNm7dq1oWFDhgwpexbxV199BeFSlkcqkUhY2NHc3PzFixdRUVEQPjh69CirEW6EGt94TgWj9gYHqampICSXLVvGaPLAFwAAIABJREFUbofXCq0SvzVWoMSD3NzcoUOHIoS++OILVuDEiRNs/gyMRt68eRMhpKamxnIac3NzYdgWslkcHBzY7RV+IEyJFsbbiefgHpZ2+pZ7M5O+9VpabNx30jsqyyUwURqSardgtYZeR51WlrUNOq3bfcwjPF1QWHTFBUhoxOoSRI3AudSpINLDJSjZNybn4n3fjn1GqTVuv2Lbb74xOZIQ+cX7D1t3G1rb0Gz9nuNeUVluwSl4QRE881AYZKBeDXFU6HoMOKAA28DRSom+hlYRt+FtV1K6evUqBLWZES9WYbVq1Sr7aKSzs7OampqmpiZLdcvPz584cSJjfBjNsLOzQwjZ2NiwONS9e/dg+Ash1K9fv7dxIyvVbfj5558hK4lNQmXd9+DBg2pqai/TsMSBNHb11QdAduTIkeJioL+//fZb8Ul+XGMRKI/bAElKxEwR0o2kIfIbkuDuNlORTqtVO373icaLpd6UhnQdOqWeURfzgRNqNTOxHDzppjTELTiFRGSxwwAySCHsiDDCk5gDEq3GzkLaLRau243HDcgCEf3GzdY26mLWb1wdQzMTqzEX7z+84x3VY/h0Tb2Oa+2PBiXnS4JTbkpDbkiC8XrzNIgi1ELqUgyz0mCJEDsJSJQEy2/JyC7RoljUm3UGT09PXV1dFRUVJrYePnzYqFEjDQ0NSAwYMWJEGSlHRERAAjcL0EZERLRq1UpVVRUmSwwYMODFixe7d+9GCFlYWDAJCAb0y8mRkB4qthjKWPXbFzt//jyEM9lEtAsXLqiqqurq6kJGwdKlS8tYi4ODg5qamra2tkwmg1vu3r2rqampra3dqlUrhNBnn31WWFgImR7Tp0+HMi9evPj4448RQm3btoUcVh8fnzLWWK5inTvj7d5gAVbBH8Z9Gyf5RGYu2bAP1TG0Hjf7nm8sLI+4aN3uWnodTa3HNu3Qu0Hrbhv2ncSrpoARIOqZytxBlmhcsmGvZjOTIVPm/HVDctnp0U33MFmo3IOkOeHyVOWT2ZPC2J1XZOaRS/cNOlnXb2W558Q1r8gsgRFK5g7Gj9RtwNu9WZYLkOKF2bv4+OOP4eqLFy/AgO7QoYOqqqqmpqaXl1fxG0s8s3jxYoTQxIkTmd2/YMECyFFWVVXV0NC4fft2ZmYmDNSztL3AwMDmzZvXrl0bfJXhw4eXthJXiZVWyMmMjAyYgrlt2zYgmJmZCSndIBwMDAzKGFh9/Pjx8OHDEULLly8HUk+fPoUULEjea9SoUVpa2p07dyCqGhYWBsVu3ryppqbWpEkTmAVUdjasEASASERERK1atVRVVa9cuQJnAgICmjVrpqGhYWRkhBAaPnw4k2avrjc6Ohpu+fPPP6FkbGwsDGnCt7m5eWFhIYxImJmZZWZmQjE4o6+vD7kY4pGrV9f4BleF7d7IlGg6JolXXN331/XahmbNzQdcuOtDVi3P3HX0sk5Li7bdbVpZDtZsZvK/ZT+ysUEykE6GBMFPoMEFIV+I8L5LYBIee4zOlobI/3UNnDp3pUrDtsa9R5519JKGyGVhafv+ul6/pUXrbkOvuQY+in98/1HcdbcgB/cw97A0Om1aaB4IEyJVyJQGQbxAcgGdVhGQSFZSwm4Dk/NvgM/27dsho4z5zHCmRYsWDRs2RAidOHGijGSPHz+OEGrZsiXjoz/++APOQBgLUp769u0rHhDIysqCCB0o1nbt2jF+KWO94mKV6jbMmTMH1D97YNaUx48fg1j55ptv2Ek48Pb2/uuvv7Zs2bJv375bt26Jh/xCQkIuXrw4a9YsWEHi6tWrd+7ccXJyunLlCkwZGTdu3NWrV52cnAoKCjIzM6FAYWFhQkLC+fPnt2zZcvDgQbZ2VWpq6tWrV7eRv3PnzhX3xh4/fnzt2rXdu3dv3Lhx69atR48eZZmaz58/v3fv3rlz5+7cucN6BrTfy8vr/Pnzly9ffqernSiBxn8qIVB2t2GF8gKsOCwhC0s75+hl0ne0pr7ptt/OPIzN8QhP/2LFVqTbZvwnSzbsPanexLhjn9Fnb3vShRpEdjzJUEoky7BiUhI8RyIET2yoZ7Rh7wnf2FzPyMxvNx9Qadh28OQvNu7/q0Gbbi26DPz7pvSaa6BxrxFNO/Z5mQx62kE2dd6qbjZTLAdPGjt7sf3Ry+5haWSpVmYbCQei2AxYZg/IAqy3SJLSyhUrlZAp709HR0dVVdUGDRq4u7tDtvH48eMRQitWrICAq5WV1SsmkIir8/DwaNSokYqKyp07d+D8p59+ihD6+uuvITLXrVu3jIwMmNgwfPhwKOPj49O4cWNtbe0rV67A1MByzfESN+Btjg8fPgxJCBBdTkpKgnjw/v37IfWTWZCvreX06dMwgxNEeVZWFkxt3LZtG2R3TJo0qbCwcNSoUYAzEDxz5oyamlrr1q0vX74MSzm9o4AiTVIiU6KZMwxugyRE/tm3m5F2i5F2CzwjMr0iM49dddYzsWrasc+O3891HTK5jqHZ0k0HqN0v9Eww6+k3sf6BO9zD0heutdfSN63TvLNO665tug3tO3rm7CUbjl11lhVZb4D6D7Dw6w1JcA8yIXv+9/9n7yrgqsi6+LyHICgoIWUgqSIqiomusRZrK9baubL2quvagWJ3f2JgKy2oIAqodHd3SreAUvMxc+ZdRh6yKKjAXn7+cJi5c+6d/8w99/Q97RObx6otVlNREZVW5CVBMtIJbPfW+CCl0tJSSE/fuZOZX48fP+ZwOGpqajY2NiIiIlwuF6nZ9X8PVVVVELG2Zs0aaGlnZyckJCQvL//06VPQSE1NTWNiYkBXhFig8vJyWMu3bdsG03DgwIHstbL+TpvqalpaGqTyo6hrmLxTpkyBaDpRUdEGBhRkZ2draWlV2xlR7RdICx4+fLilpSW4HyMiIkxMTKBCAMRm5OfnA0+4efMmqNlLly79TsF79YAWEBBAEES7du1AV/z06dPcuXMJgti6dau+vj5IQciFUg8dkiQjIyNFREQEBATQ7NbT04NkMGCS3bp1q6qq2rNnD0EQkydPBrIhISEyMjJCQkLGxsagazUyLqX+QfK8DXQBVloudwtL847NPXzlUbvOGmpDf3Ok44XsvGIGjJ0t1KnH/vP3Zq3cJtBJbc4f/7iFp7tFZEDwLSPKsxgFmrAu4VSCtb1f/PZj11ZvP/r7uj19R88Ulu+tOWbW/0xeQzlXn9g8/Yv323XpM0Z31ZuAxGPXTSbM09McM2vYpIXLtxyyeBMIzWiVgFoumW0fUYUGauTMMsrEFYelBVKVlCAl+tsrKUFY7+TJkwHGwMBAGRkZERERa2tryN5BaTn140ySJDj2tbS0oGVCQoKCgkKbNm1MTEzgRe/du7ewsBBmwb1796AZbKwxadKke/fuQYoF8nv8a4/8DX6o2rB161aCINq3b29ra8s/FGdnZxMTE7ZJBqqqQVwTuGAEBQWHDh2KUiBQpQLkoFFQUNDQ0EB/wkGPHj0KCwuDg4Pbtm2roaFx7949iAKEq506dTp69GhAQADkdMJJDoejo6PDVsjc3d1/+eUX5BmEZioqKpCBXVFRsXv3bqj0wg5OCAoKAvVu3rx5P972ww9yizhTUlKSWO9PSkpKA0016Hkbrjb8w6REA1uh/aR0otVda+eufUdJqg6+9OBFZGb5DTOHTqqDpXsOM3XwM7Jy6qik1aXv6NtP3/nGQQIoz9LPMrKCEO8dm2vq4NtLe7KgdI9TN82jsioe2Xh06zuqQ/f+Ny3eGNt5d+03RlxJ65bFW3PHAGm1IaqDJ24/ek1l8ESOpEqXPiPle48gJJTFlQcevHjPm06bBuspz8LKyEM0t6XHQDNxat8G2tvQ+AKs5ubmYNuAYkFg6ujVq1dRURGENffp04edqIBeAf8BWNk7dOgAVvanT59yOJzOnTtnZmaCV1dJSam68hWYGyCFoLy8HHIBt27dWlVVBcVqGh4WxT+Gbz4DCYi//PIL6EhbtmyBZbu8vBxCSBvudbl69SpoIBDHcuTIEUgDLSsrg0Vi3LhxyGoLOlJ6ejrYXMHTAtIkskd+80PVeSNTSYlJiaZXVvqjgjLBuqv+JsSV5vyxI5SuEDBhnh7RobverpPVBVXGz10jIN1jxTYDKsIY/Az0dOCt1izLIn3VOzZ318kb3QeMVdAcI997hLiSFiGhTFCf/aidJwzpYIYMig6tabjSdYo9IjMXrNtDdFAcNXPF26BkasPEGo8E7ZRARkQ0AGaDdkpY8U8q0tIe1Xi1ITc3F4JSTp06RZJkSkoKxNY/efKktLQUljBIuqsTYfZJFFsCGkhOTg4IFleuXPn06RNIA5cvX3Z1deVwOEJCQvHx8SRJPnnyBFKos7Oz4VheXr6RuyWwR9XA47i4OEFBQS6XC0u8p6dnu3btxMTEfH19IyMjwS2AQg3rp5mYmAgFkUD0CQsLk5GR4XK5jo6OaWlpQkJCAgIC7969u3SJEukGDBgAVva9e/dCznFlZeWOHTsgTuPHG+xsbGwgsAKyESCmSEVFJTs7G2wEcnJyyC1QPw4+Pj6gIwGTtLGxERQUlJeXj4+Pf/fuHUEQnTp1ysnJgfCKJUuWVNE/ELWyfv16kiQh3eVrizTUP6paV0FtQLkN4JP0is3ZcvhyWzn1gePnOgWn+icW6u08AQXWPKKyVv9zTFCm59jZq51DUqncJ1AVaMbC4xU1rAZmvXdMztN3QXLqwwlxJeAMgrK9fluwztYjEuoj+cbnr997RkhOfdKiDX/8c0xYvrdot37dNMdIKA8kOnTXGjfH+JU3VSyB4UIQDsDLo0ArNYyB3mraNTw9MLlkX6O3ewPH49KlS0mSrKqqgiUMli2Q9fnN5bUQRn+CK3LixIlwZvny5QRBLF68uLKyEsxVq1evjomJATc1JAcGBARISkpyuVwvL6/Q0FAxMTEul2tvb49ofu3BD1Ubnj59iiT1ffv22dvb1xPuWVRUBPlDsILq6en9/vvvqPgSeGYfPnz422+/gatOSkpq7NixK1as2LBhw9ixY6WlpcEIMWnSpJUrV5aUlPj5+XG5XA6HIygoKCoqOn/+fD09PbhXWFgY2s+YMWP9+vUQSgiFYsBNnJqaiqqnTZ8+fdOmTcuWLQPvUo8ePcCok5qaCvy9c+fOUOShpKQExJru3buHh3+7qvq1L7Wlt4fwD/hU6vzduXPnr612/M1qA4jjfgn5tyzfyqkPl6VjtT2jskZOX86VUFq753R4RtlNc8dOakPke48wNHPwjc8HvyfwPkaaZ7a7p+QY79jcxy+9VAdPbNelz6WHNoFJRZMWbSA6dF+y6WBQSvEjWw+lgePFuvW7Yebw2M5LXElLSm2IpMog+d4jdp26+cI94qlT8KrtR0U6a0iqDr76xA5FjTOslsd26X5pwwlIeDUp0Y2tpARCSY8ePXJyclJTU4E9QWwhVBbq1atXAw2KL168IAhCWlo6Ojq6sLAQFH6o0gi8okuXLiEhIcAZwfgKWoqamhoYF2FFZCeH/bCP/+DBgwRBjBs3jiRJJyentm3biomJQTk4qE47duzYBg4GorC0tbUrKyuDgoKkpKSEhYUhaRLUhtGjR2dmZkIsO1RtQlpKZWVleXk5xKV8Vb5pA8dGkiRUUgpMLqZLK9as5R6RmU4hqdOWbiYkVRZv2h+ZVb73rJGAdA/N0TNfece4RWTo/L6WI6W6ZNMB/4QCl/B0JoKZEt8ZnZw9O+giY+mO/gnP3cJNHHyNnr47dcti4fq93TTHCEirSakOPnXLgnLlMZZIioJfQsGhyw9FOmt06zfm/gs3mHoMTUoIoNWSGm2hlhZBjcc/kVYbtBobpFQtrPfq1Qul/EJM0bRp06DoDcwRVG6rfuQLCwuhzKiBgUF1S8isHTlyJOzVCkvM2bNnIThHTEwsm/6BhQw0E5ihkpKSDZyG9Y/nq65GR0dDupGbm1t5eTn4/EH/CQkJ+aqiUnFxcZ06dao2zENdIKghtmrVKpIk4+Li2rdvz+FwXr9+febMGYIgRowYUS0f+/j4iNE/EAUNhrxRo0ZB9aGvepBGNoYlTFJSsri4ODMzEz6A+/fvkyT5+PFjqGaDKiDV35e7uzvUR4qJifnw4QNopxCI4uDgAKTev38P8YrACSGORVFRET4A8AavW7eu/o4acxUKsL6kawlCAVa3cGrzhA37zgrJqQ+fstgnNve25btOakOkewy9/fRdSGrJmp0nhGR7jZy+zCk4BZVMgKRkHqOgWA3lheBp/u4RmY7+Cadumu89c/sv/Ytz1+xQHDBWWL632hCdm+aOvvH5fvH5y7ccatelj0wv7XZd+gydtNDQxN7OK+b2UycqKrij4i/Tlr7yjvGIpgKJgVHADtP0ks2wi1pjCEwu3tdobwNocfAKwE2toqICxjWQckHBa8grWLt2LUQworxnGRkZMHDDQrl06dLQ0FBQue3t7auqqqB0x8aNG0mSDAwMhOygOm33DRkASZI/VG0oLS2tjmSAHAbgIAMGDNDV1T127Ji3t3et2J5r166ByLhnzx6klzs7O4ONbciQIWjWHT16FIqQlJeXgzuyrKwMMkKgfgVYpj09PcGrq6SkhCozODk5gX+/TZs2yK/68eNHAFpbWxsMFTdu3AA/CbqRJEkTExMulysiIoJOenl5AaebMWNGVVUV2COFhYVRya0GvpX/eDNnZ+exY8dOnDhRp66fcePGLV68GKTGhgP1FWoDBClRbAVCHimbvU9c3pNX3iqDJ4oraRma2u8/f4crpTpo4vzXPrGhaR8vPXjRrrOGyqAJj196+sTR6ZgMV6qhgMR6r5ic5y5hmmNmCXRSu/TQ5vRtS0GZnuojpj5zCQt9X2poai+rPlxOffgDG3ezNwFd+40W7abZvlu//efvBqUUe0XnUOUgIjMnzv+TK6VKbd0Qne0W8RlvpRgiFRXKKjAXRpV8pVKiBZtgu7eXL1+CtyE+Pn7dunXV22fOmzcPtGuw/A0ePLiB5j03N7f27duLiooGBQVBgZTx48eDUw5WPg0NjbS0NEgOXrlyZWJiIoT5QhZyVVUVRHCiqnMN/x4a3xJcBL/++mtOTg6UtkA54lDnbs6cOQ3sBRzHWlpaaWlpsMCgHHGIPZg2bVpFRQVUb7x69aqHh0fbtm3FxcXBAJmVlQUrAdiWGthpw5vRuQ06AUkfXKm0HLTcUtZ694iMxZsOEB0UFm7YZ+MZqTxovEhnjZM3zINTS+z94odPXSIk22vj/nNUDVZY++kvk7dg154dLvRWTZ5R2V4x2d50SnRAUtGlhzaKWuPaSPcYOX25SyhVRgnG4BOba+borzb0N0GZnjtP3vBPLKSkjfB0N56QAVXLqL5Ykgd7djD7NlAp0ZoNR6POlkVFRSDrw9tp06aNhIQE6JDv37+HnF0LC4s67611sry8fPbs2dUVRfX19aOiotq3by8kJOTk5ASxteC7vnfvXnBwsKCgYNu2bd+/fw8TZMqUKVD7GL7MXr161WOVq9VpU/2ZkpIiKSnJ4XBcXFxu3rwJZZRhGGAab9euXQO3NEFZ4BYWFlAUoXv37hAVHBoayuFwRERE/P39Ye4MGjQoPT0dJDBUSghNwwbGTDYVCCRJurm5gUCfnp6+ceNGgiBmzpwJcgikraupqaHq0vX3GxoaColPISEhUDtr1KhRwCRNTU0JgpCXly8rKwM7wurVq+Pi4kCHRBlfYAb9rkyyJrchileCnNo/IXffWSNh+d7UQukb96vuaqKj4trdp/wSCnzj8has29NGuse0pZupWU9VWmPUg1qMgpbvGUZBr2vpvnF5UFPVLz7fyMoJNjUaPnXJa5+4oOQPmw6cF+veX1i+d49hkyzfBQYmF3tGZQWnljx44dat32iRzr3P3bEKSCpCjIJmJlTXtYx9iFE0SW4DyPpr1qyJjY0FHfLRo0fw3iHIpYFbp5EkCUFuU6dOzcjIAB0SlSCH7RS2bt2KImbt7e1Bg1VVVU1PTydJ8u3bt4KCgiIiIo2pI/JD1QaA6enTpzNnzoRUSGRLFhYW1tHRQQrQx48fwRs7YcKEWpPqyZMnoHig3aAguQTFjUF7ULzYjjlPT0/wn16+fBnRrKqqAovIvHnz0EmSJEFp6dmzJ3gSDA0NJ0yYsGfPHnab4OBgYWFhLpfL3vfx+vXrAgICHA5n0aJFoJAcPHiQfRc+/ikINFxt2KF/mtolmvGZMhZKr+js565hVFymnPqC9Xt7DZ8s1r3/hfvP/RMLAxMLDa4+JiSUqSouLmFUeTimyiTF7CgmSEstyJ7hHpn5Nihp+JTFHEmVBev29BszS0S+t8HVJ34JBYHJH07fsmzXuY/K4InmbwKeu4apD58CG9zYekSCd9UtnOKbu0/f4kqpjpi6pFqFoAJDP3ew0n9SXTP6A5PbQKdEN3qXaA8PD1FRUTExsT/++KN9+/ZSUlKoxOHXWtkjIiLATL5u3TopKSlRUVEUwAB7wI0YMaKsrAwm+KBBg8CiNm/ePLAOfPjwAdjId7Ky1/+hQrCBuro6hFAPHjwYDBllZWXgA2m4Aen58+dcLrfah7Zy5UoOh6Oqqgrl4CorK1euXEkQBKRJzJ8/nyCIqVOngoSKGEtgYCCkhn+nbXE/D1ICzz71bbtFZPjG5W3Yf47oqDhqxvIZy7cQ4kq6q7d7RGb6xuXZekT1Gja5fbd+e88a0YWJeWtzXbMDZAXqd+h7+HphvrhHZvonFq7fe1ZYTl1Ra9xzV2Z+uUVkeEZnL964nxBTGD1zhVNwiids9sSiwIgCvOAHpD+g2eFKFVAuapJKShUVFVAGdMaMGaDdofKgwcHBUOKGvxDIlz4wEDImT54MHxIKYIiJiRETE+NwODY2NpmZmaKiogICAps2bRIREZGUlEQJ8WBl/9rNAb40mK86jwpNLlu2TFlZuU2bNmhxhAhGSUlJZO+rn3JRURFUS0O7m6HoX7CyS0hIpKam2tracjic6kAdkM779u2LlCV2oE79fTX51aioKAEBATExsbVr1woLC0tJSaFytBDBOGrUqFp20i+NIT4+XlZWVkhIaNWqVTIyMu3bt0cfEiQ99+jRgyRJsFEOHDgQ3DIonz4vLw9S0pFw+aWOGnMevA22HhGe0VSUIDj6vGNzz92xEu3WT2XwxKWbDwrJ9ho0Yd4r7xjv2NzqXeEmzv+TckVuPuhOL2EwW2HWMzMXRHne/K21jLqEvneLyAh9X3rihpmEyqCOigPuWDmFpn3cf/6uuJKWSGeN5VsP+ycWQriUe0RG9bI7ZtZKol2XPadvBSZ/oM7zWA3DfMC4gLpjeqf2bYAgpcakRINRTEtLC8zZyKJUVFQEdnB2Db36XwTUdO7ZsyfE7k6cOBH0z6qqKnjRx44dq6iogD0W16xZA9GSqNSQmZkZhOE0Jv7lJ6gNAEpkZKS5ufnhw4enTZuGtsgWFhYGRx6y0PDHg5aWliorK4MxBkihbA823JAnjYx2JEl6enpCEXRI5USNQUWrpYuDsbNnz561eFxxcXFISMjTp08NDAzgJbVt2xZVS4AM0dWrVyN1SFdXt4FGBTQefBAWFvb333/v/MLP33//ffz4cVSDsoFwNVxtgNwG4F8u4bQQE5buEZn5Lih55IzlQrK9JJQHCsn2Wrhhn1dMjmd0tmdU1rK/9ImOisN+W+gUTIVp0nIJozO4R1IMCxgT0ITdcCfM0xOSU5dUGdRGpufUpZvd6PqqvvH5lBDWofuAsbNf+8Ta+8UPm7SQEFcaP0/vTUASIxiFp/vE5Ow8YciVUv1VdxVVhiKcKs0EXVCFq2NzmTEgsyu9V91r72gBQaGdjVYbYmJi2Dr/hQsX4BWUlZWNHj26uuIEKvXzr68mJycHAm9gvqBtGSorK0FEhlrsYFCENrKysoh9e3h4gP/wp3jz7O3tBQUFIdlJREQEmTwyMjKgdAnauO1fcfD29oaIR9itArH4vLw8qPYN1WAgNwxwGDJkCPLBgi9USEiInYv1r502vAEEKQVQQUo1OgMIB4HJH/aeNRKU6SmpMkiks4bK4IlmdCF279jc20/fSigP7Kikdf7eM6hhAlZ/0Dc8IrMgmKGWoMAIB3SdYvqTppTkI9cet+vSp7PGL49feoLy7BuXZ/zKu7PGL6Ld+ulfekDJAYy98LNIJEqBD01zC0unqqzUBDiBZZGqBNWEu0RDzDG8HW1tbfR2YJlv3749JCE0BHYITAJS6urqSA6GWuzCwsIBAQFlZWVQKQiaoY8NxSQsWLDgx6cCl5SUoBBfgiBWrFiBikFBUVQNDY0GLoiVlZUgncADTps2DeUQgxDWpUuXsrKygIAA2HoS5g7SUtBmLw234zbk1TSwzfv37yFKBAbPrtkAWuXChQsRMvXTzM7OhuJUQAr5UkiSBA0BgiHZTFJGRgZpKWDlIQgC1Ymuv7tvu8qoDe50JSXeTPSJyzOydpZQHiiupCWmoCmuPPD8XWuqqnJ0tq1HpMYv0wgJ5S2HL1MZeiyR3SUsjapjzhPfmYU4jFmIa01z75gcE3tf5YHjBaR7nLtrHfq+9PJDGwmVQaLd+v1z/LoP7eSkvRlUTtSoGcsJMYUDF+4FJhXR7Is2ZFDbQWQxzCGU2q+a8YXyjH1Nsm8DBCbBG5SRkUEiu4uLCwTeN3wJg8heICUmJoZMRZGRkeBzBi/TRN4W9QRBzJ8/H+WC7t+/nyAITU1NxFW+4Y3/NLUBjfXTp0/JycmHDh2C6lFdunT58OGDj48P8AJwzqLGJElWVlYCImgDyK9SG6SkpGptRw1qQy3mApOQrTa4u7uvWrWqW7duKMgKdqaspTZA5CUIAUJCQt8pbIANSOs7hthcmBh1/hYXF0c1rBr4+F+pNjDeBlAAwGLhl1Dwx47jsB1b/191rZxDfOLyvKOzX/nE9v9VV1Cm56q/jzCFJnlnu19IAAAgAElEQVTyOuz0TMU40VuzAT9ypROstx/7n5iCZrvOGj21Jz955e0Xn+8Vnf02KHnk9GVcSZV5ervoSM2C5VsOcSWUNcfMorK+4vKAA3rH5EAZiiWbDlSbbRieS3HbLNfwdMt3QdReENFZNMNlMrM9o7Nh34bGqw0VFRUQRAEZwGhP6MjIyHrKoSK2Vet9oY0OfvnlF6SiJycnQ44vLLchISGQeiQoKMiuwg4uewUFBf4Y7vLy8oZLabWG1MA/s7KywCNaa09oKPMiJCSEqqmyCSK42Cc/fvwIYU4EQSC2RpKki4sLCEN2dnYQycrlciHV0sHBAVEAC5aOjg5/bNiHDx++NgsIkUUHfftoDP9Vx5/JbWAcaPAx+8bn33vu2n3AWJHOGhIqg/afu+uXUEDnDBRu2H+2LR0q8MKNqeYOUX/utGb7LigFNohlNF5aSqAqI8XlUXF3EG4Unu4RkemfULBk8wFB2V7KA8e/9IzypAsc+8blnbtjJSDdo+ewSbaeUZ7R2VD5hCdksF18lM7w0jPKxj3Si/IEMvo8XQmK9jZoj9bS6o8e9psPzMzMYGkQFxd/+/YtogOynY6OTp3W5TpPvn79GqZSu3bt0I6/JElC1I2WlhZ8ReDmIghi/PjxyIwSFRUFAmudqRQpKSmoJRph0x7ArIRysYhLf/z4Efas3b59e53icp0n0TYU3bp1Q9uiV1ZWwmSBBNPS0lKw3xEEwd6mycbGRkBAQEhIiD1T0JMmJCR81wol5eXl4BqtlZMdEREBNoU6qxfUqeZVVVVt2rQJ1sEhQ4agXUGysrKgaBVk4cfHx0OAtJCQEKo9RZIklJ9SVFREe4AgECoqKhISEupEHrVp4AHsEk17G5hdol3CqH2dX3nHDPltgUhnjfZd+y75S98zKpvaDjL5w5nblhLKgyRVBxua2TP1EuhMJNqmlucUnOoVnV1razbX8HTYgYHmGLSZLDw9MKnouslr2V7aYnRBkaDkD7aeUb1/mSYo22v5lkO8wEUqCcr8jb/KoAmi3fpdemhDBSnBGh1ODdLBL97KOYTSVSKZigs1yglVSalk3/HG7tsQEREBxnEhISH2Egayq7Kycp1cGunJ7LeQnJwMdnMul4vCYkmSvH79OuTAgE4CSXHVpV1VVVXRfuolJSVQo2/16tWNee8/Tm2IjY2dN2/eggUL0HYkbCxIkgQEBQQEnJycwsPDwY7IP+crKyvBd4l2P/kqtUFSUpJdrIkkSVAb2C+AJEmkNkCQkrm5OSiFEhISc+fO3b17940bN+7duyctLc2uzQxPpK+vD6s7bFWDhKFaz4v//BICiYmJd+/effDgwcO6fu7evWtpackvIX2JGpz/SrWhlC72Qsf50BkOrmFp3jE5D2095HuPAFdDcGqxX3x+QGLhX4cute2sId1j6P3nrpTRgjJXUMkGHlFZxq+8Z636e8qSTUZW7zypoE9mixkv2JVGaxy3k9r05VsCkor84qkIpf3n7rbvpimupHXl8UvfuDy/+HxDU3uZnsNEOmvsOnkjILEQApmuPLKV7z1CVEETyrACB3SPzHwTmKS384TaEJ2pSze/oLPTmOLTYWkelHpDBSk1frs3kiQhprZ6L1g2B4SwQAUFhezs7FrvwtHRUVdXd8WKFfyiPEQ8EwSxf/9+dBfE6UpJSYHYUVFRAZKxrKwsEkRiYmIgz4G/LntycvKiRYtUVFS2bNnCX0YZ9dL4A6jkBpHcQC0nJwfSLeqsy37v3r2pU6du376dP0cT0kKq7UDI0FBaWgoZVgMHDoT1Iz8/f/DgwZAAitQPOzs7cXHxWlvFwWCCg4PHjx+vrq5+/vz5OiWSBiLQr6/G8DE6NbtEw4yAhGPaSzZt6WaulKrSwPHPXcODU4qDUoqNX/uoDf2NEFda/c8xr+gcN3qvEmoXp8gMp+CUrQZXRs1cseOEIXgeaA2EqfplaGZv7RIKm6D7xOX5xuWdvmXRpc9Ibic13VV/u0dkuEVkQLblzhOGbWR6Dpu0EAU5gEoAZddBf3CjxYJLD15ojZuj+avuWaOndAwhPQ3pPRxpb8NorUbnNpAkmZ+fD6HGI0aMQEvyixcvYHcF8KKzAc/IyNi2bdv06dP5cx6QGtmrVy8k3bq6uoLkAemwJElCfE510h0IjkAc0o0UFBTQTIHzlZWVhoaGGhoao0aN+tISzB7eNx8HBgaC1YwtxJ8+fRryAPkjqsPDw5csWTJnzhz+S8nJySAZz5o1C43HyMhISEiIIAhUkBQkY/ZC/OHDB3B6oDQAdHtpaemuXbvU1NR0dXUTEhLQ+SY/ePr0KYgBFy9eBOKVlZUQWNK9e3d+S4eTk5Ouru7ixYv5fYZv3rwBcUhfXx+NE+pESUpKohhRqF4tLy8fFRUFzeLi4sAzjIr5otuzs7MXLFigpqa2adMm5BlDV7/2gKmk5BHhGQVFCyixntnX5fBlgU5q4soDLz+yDc8oC0j+4OifMGrmCqJD93Fz1zhBGSVwUNChRCcNTUfPXLl6+1E772iegx2sAOlP7Lyeu4b5xOX5xOb5xuf5JxYwJRkklAdPnG/nRYc/xeSsoes1qQ2bZPzKOyj5g39CoVdM9urtRwU6qWmNm4OsDK7hlJ/B+JXP2Nmre2pP/vvoNZq3MIyICmGiHA7pKLcBuQi+FhySJCsqKkDJ79y5M3q/qN4RJCuzyX78+PHcuXNTpkw5f/48v/IAjs127dohC/j79+/Bb79kyRKw0CUmJoLzYf78+YgyxN5zuVy2XQNdbfjBj1MboqKigIF+qX6wl5cXqNR3794tLS2FtZCtN8NT5eXlgXMW0fmuakNBQUFVVRWs1qNGjWJ/OtnZ2ZC9wA5SevXqFTC1WbNmwWvjF2sa/npwy6ZC4KvUhsCUUp41ggn+cQ1Pd4/I8IjKnKe3iyOl2k1zzJZDl2+YO67bc5qqByehPHv1P1SGKEQo0RUe/RLy5/25i+ioRHToPmH+n94xueAWgLxPr+icP/45zu2kKtd7+Lo9p29avNly6FLXfqMJCeUJ8/90Dn0PSQvuERlTl2ziSKjIqQ/fsP/cHWvnXSdvKA+aQIgp6K7e7kYrJ2Aa8U8sNDRz6KA4QFC2VxuZnuv2ngHHK3WV2e4tmttGCNWVbwywxcXFIByrqKjcvn3bwcEBlsPqjTDRNk+IfmVlJTQmCIK/90+fPkE1uq5du166dOndu3dbtmyB5Za9waq9vT1sNDtjxgw7O7tHjx5BJpmUlFStmEOSJKHaEjATMzMzNJImP4iJiQHL7rBhw6zpHwhGJwiCzROg3/j4eBS3gPLh0JDS09MhCFVTU9PY2Pjly5coQuPOnTuo2f/+9z8oJrF+/fp3795dvnwZxAJNTU3IeEMtSZIE7Qvao6AFdoMGHjNBSkl0QDBlpWMmBQQd+cbnX370spPaEJHOGlOWbLr2xO7Y/4yH6PxOSKp00xzz6KUnlQ/Ncyb4JRRce2InoTKI6KgopTr4oY07o2nTdZa8YrJ/mbZUUWvcog379p+7c/Di/flrd8tRFYeVVIfoPLbzgrphbuEZnlFZq/4+ItBJbeycP6jAZaj7zvPyMZOXjnZ4F5wyRncVIaEsIN1DY+R0W49IL6oCI2OtpHIbtEc3vgArIAkVsQQFBaur+Tk5OV24cAH28NbS0uIv4QCvEjaQBuMU+3VAJgCXy122bNm7d+8MDQ0hBlpVVRUJu8XFxbAhmoKCwvXr19+8eQMVnAiC2Lt3L5saSZLZ2dngsiMIYsaMGfyySK323/xnVVUV5GZ07Njx+PHj1dvfHjhwAIxuCxcu5Pc6ws4kqKhJrX6hJEC7du327Nnj7Ox87NgxeIqJEyciy1F8fDxs+jRo0CBjY2MbGxvkDuXfRcvf3x95sPlRqtV7Y/788OED1Nbs3r37zZs3HRwc1q5dCzGNtWyUJEmyg7vYYUgwgIqKCvBZycrKApPctm2boKAgu9gjSZKurq4QozFt2rSXL18+efIEGG+HDh34mSSEYQMUqBjMNz8vO0iJsQLQk9EnNtfibYD68CkCndSGTVp45rblxfvPJy3aICTbq0P3/sevm0D6ASj5PrG5Vs4hakN0CHEljpTqkauP/eKZws3uVNhSxjy9XUpa4/R2nrh4//m9565nbluOmbVSQLqHpMqg07csYE8G37i8Ry89Ffr/ypVS7T92drXR4YaZw6KN+9t16SOmoHn0f8Y1zg0qCiBvxTYDrpSqoExPmV7atyzf+iVQhRBhPDQbodQG2LcBBcd+G0pI95s5cyYsYZB+ICkpyf92vL290VeK8v1Qv97e3iBbjhs37vnz5+bm5vCliYiIsO3s27dvJwhCVFT0wIEDrq6uBgYGENEzbdq0RhYJ+HFqQ2lpKWx13q9fP35VG21jweFw4MnBpcC/Z83Zs2dh7qG6s3WqDeAiRMlkKLfha70NxcXFWVlZUHjb0NAQvTmSJCG5pHorCRTWjOq0Tp48uaSkBDJEhYSE+O1JbDr4+Acg8HVqQ3IJpDUz7IMn9HjF5FTbKiYt2tBWTr2NdA9h+d5tpHsIyfaa+PvaF+4RPFcDHcVBVYfMX7pFv410D66U6rSlm6mAJShwRAteXtHZ9r5xc9fsEO6sIQCkZHoKyvQcOW2p5bsgEI9caBeHlXPI6JkrQRkQ7qzRRrpHWzn1mSu3UT3G5sIIXehaTyavfdSG6FC7ZXXpM2GeHige8CD0LtGgNjS2ACu8rJCQkEGDBiHWBgcbN27kt+6Xl5ejOEv+9ZIkydjYWJjsbGqLFi1C7njo0dDQEEwJqJm8vLyJiQn/x2NnZwdrap2KCn/7xpx59eoVO9MD9niqc++etLQ0EG5QTcla/Xp4eEAmA3rA6qCXgwcPsuNYKioqdu7cWWv3mD59+vAvLSRJohiP6ogRlC9Rq9OG/FmT24Dkcl49JbApekZn7ztrJKc+nCul2la+d1s5da6UqqLW2NO3LSFsj/pK6Vhh3/j8WxZv5Xv/wpFU6azxi/ErbxQ45EbXJh4/T48QU4CPvK2cukAnNSE59WGTF920eOMbl8/Udoyg1IYlVAWn7mNmrWTUBljs6V4gqpBS9elsy0Ub9wvJ9uqoOEBcaeCjl54+sfSW1WFprhF0AdZhTROkRJJkWVkZFDVCbxC2hq3z7dy9exeaqaur85t7q6qqDAwMwAKFqKmpqaGNEeHFhYeHw+avqA1kFPC7s4qLiyGTHrYVb+DOKg35PPjbZGVlIcEdDWzSpEm1HCBwI6ySBEHMmTOHX6koLCwEIzqiA942tv2OJElHR0eoMYWaCQkJGRgYILcPGmRSUhLKCZk2bRry2qEGTXgQFhYGoiEaFUEQa9as4WeSpaWlM2fOhGZ1MsnExESo3cImtWDBgloR6kZGRiBQomaysrJ1zv137961adMGmqF9uL/52SFI6aVHhBekRPMYBYQdXn3ysufwyRwpVSE5dWAOUqqDtxy65BmVBX5IKsKQqryU88ItvN+YWVwpVWGqIJsZ2h6estlFZi7asI9hDvK9RTprCNF8ps+oGccNTWE7SOAzvnH5p25ZdKc1h7Zy6sLyvTlSqnJ0BXNUQQRa+sTm7j1jJNqtH2Vuk+mpf+lBcEoxwz0YftI0270BsIaGhiiPF5CXk5Orcwnz9/cH/xLaMbDWqzExMYE4XvSiJSQkagmo2dnZKFIONRs1ahRyd9Si2fA/f5zaQJIk7BNJEMTQoUOtrKyys7NL6J/qJMKrV68CoMOGDQOWZ2VlBY+qq6sbGRlZVFSUk5NjaGgIxezYE75OtQF4zfTp05OSkrKysqqqqsCb8bVqwwf6B1ylCxYsyMzMLC0trU7lNDc3B1eDgIAAMgdCHnanTp2gqEV2djaEXaqpqcXExDT8reCWTY4AqA1jx46tx8yWmppKEMT2g6cCU0pAHGespKE1odLesTlvA5OOXTf5fd2eyYs2zF+7++i1J44BiayN6xlDpntk5gv3iLW7T63Ydtjc0R9isoEs2DO8orOdQ1LP3LZctGHf5EUb5urtPHjx/mufWCqHge4RmnnH5tr7xR+69GCe3s4pSzf98c+xM7efOoWkesfmOlPbQTCmXzfaH/LQ1mPC/D+FZHvNXv0PFY9BFVmiGnhGZ9t5RXHaCO3a1dhdotGryczMvH79+pIlS2bNmrVp06YXL17wr/rQODQ0dNOmTfr6+l+Kq87Ly7tz586KFStmzpy5bt06CwuLOl9TdXDFgQMHZs+ePW/evKNHj4aGhqLBsA/Kysrevn0LsdSnT59mX/oex7GxsadOnfr9999nz569e/du/lgL1Kmjo+OaNWuuXr3K1gTQVZIkk5OTL168uHDhQl1d3e3bt9eSEVFLe3v7bdu2zZo1a9GiRZcvX67TCkOS5IcPH0xMTCBiBG2RiYg0/AByGwLoXaJhuUXWeuoTDaXqJ3rH5Ny1dv5z18mpSzdPX75l08ELJq99WAWUmEnhGk6FGB03NJ2zZsfpWxaUWB+eAV+7azhVmsnyXdCZ20/X7j6lu3r71CWblm7WP3HD7LVvHJRwpacPFTngFpFh/ibg6hO7R7YeNbHOtLDCxCVD9jbtcHjtE/v30WtSqoPle48wc/ADtQEexD+hsEm2e2OD+erVqy1btsyaNWvx4sVXrlz50p5rHz58uHjxop6eHkpqZBOBYycnpx07dsyaNWvBggXnzp1DfgZ2y+zs7Fu3bi1btmzmzJkbNmywsrL6kikxKSkJouRh83U2kSY/LikpMTEx0dPTmzFjxurVq+/du8evGkGnmZmZ+/fv37Jly5ekmfLycisrq/Xr18+cOXP58uW3bt3iD4MkSTIhIeHcuXMLFizQ1dXdsWMHf1YkesawsDDYymDZsmWNCd5DBOs5yMrKunHjBrydjRs3Wltbf+ntREZGVrsHDx48+KWo5oKCgrt3765cuXLGjBl//vmnqakpCmBjDyAgIEBfX3/OnDlz5841MDAICQlhX0XHlZWVrq6usA83CtxAV7/2AIKUbCElmlbdKc7Aq6DgG59v8TZwm8GVmSu2TllMLWE3zB2p7AXaOe+GrPu08/ymheNcvZ27Tt96G5TM897T6294+nPXsNO3LFZsM5i27K9pSzev3H5U/9KDZ65h/nQ+FY81UcFRPnH5xq98Nh28MH3ZX7NW/b318OW7z1x84vLcI5jyJDTToBiOc0jqyRtmqoMninTWOH3LIjCpiCncTAVh8oKUGr1vA8Kzem9m9hL2pbdTUVFhbm6+atUqCwuLelbV6kVw7ty51Z6ogwcP1hl5+PHjR3Nz87Vr186cOXPFihVGRkb8jk00toYfwO51DfxsiIbT/VJLZFogCEJZWXncuHG//vor0v579eqFnOnl5eXIctOhQwdtbW1w4lfXBFBXV2fnJ8CmquPHj2d3CgnjUPlOW1u7qKgIvJOioqK1dtWGYs+1KimBhqOkpASCDpRBhDFPmDAB6iJ36tQJFD45Oblnz55BPZPqrBRUW4YkSXt7e0humz59Or+NgT1gfPxdEQC1YdSoUbB6VfJ+2OYoUBv+PnAigC7AypPIKd6Bwh5caBHcJz7PLYLa2LI6iIhK4ozKqvFO8FwTVMsoqs6SR1QWZYPhVWmgxRoqgNKZapDlG5cHpZbcIzN9Yql8UKovFhHILfONy6dYHhVuRN3iEUllPNNSFCRgUL89o7ODU0vm6e3kSKnuPWtEuSzo1FLqUlSOnVckV0Bw9+5d3xXn5kMcNHYXF5fmM6QfP5L8/HwxMTFRUVHYrfbbBkCpDWN0ApI/1NQ+oiQDmBTUAVUMkfZ3QeYAJC9SGc/0Z8z+ninvRAS1D5R7ZCa1ozPTgJlfkEHkF0/VWqEKq1P7QGf50NUCQBkAyQDu8orJCUgsoosNwGBqiFALP28GuYalhaV/umHuKNqt37DJi+z94unZSidG8yopDRzQBCnR34btD74LHFAoLfAH9958uoOgSv4Q6OYzwh8zkhEjRhAEYWNj08ju2EFKsOgwyxNvgnvH5kKYrltYumdUNr2cUXXDkazP6BgR6V7ROe5RVGkjqrB46HtavqeZTFiaV0wOtfZRqy01wT2jsnzi8hAbcaG2KmImPmy1BJeo6oIxuT6xuVTJQdZSDiwlOLXE1iNSeeD4bv1GP3nlDbtNo4G5hqcHJBfvPXaxukJgI4OUGonwT7y9qqqKJy5VwjCgzuGPUxvKy8stLCwmTJgAkcrgT+BwOF27dt2+fXste0NVVZWRkdGAAQPAX8PlcmVlZf/4449avs7z589LSEiwMz8g8mH27NlQDH7QoEEFBQXh4eFSUlIqKiq1jJQLFy6UkJBgl0gjSfLJkycSEhLa2tqgNmRlZS1btgwCNAmCEBYWnjRpUkhIyIkTJ0RERAQEBLZu3dq/f/+OHTvOnj27lg1gz5494uLiHTp04I+z/Imfwn+ta9h7SFBQcODAgdra2kN5PxMmTED1zkFt2LrvGF1rkmZVLOEDeQCAkcFeV7SPlSq/QHM9mmfRtSN5Aj1lFqXb0MI97BXNc+CCKkLrHpnuEdT2C7QtlhJoGLZFtaS3cqO5IS8flN7KrUZnYCrDuIVnOIe+P3zlUYfu/fuOmvHMJZQK/4C+wtM9o3Ns3cM53DZ7936290ir/Aw+fPgAe+JMmTKlgdUeWyUOGRkZixcvJghix44dX7JxNuTB+/bpM3zMxIAkSm2AtZb+rphNBuFT53kMqLgg6kOtaUnfQtkdKTXABSqr0vo2JdmjZnSlVEQcXGfwwbvSiz09I2gKn80O2JmEVxyJNb9qJldkpqm932Cd39vK99a/+ICtzFAFWBMKtYaNHNToXaIbAuPPbVNZWfnmzZvOnTt36NChHkv8zx3kD+i9rKzs/v37QkJCPXv2rCVI/IDem08XpaWlhw8fJghCR0ensLCwkQODiI8XbqG0pF5jzwJGATo8e1IjbYFeTCGsl2EUYIxjVi7Gf8iyAsBSSAcfukOhBZqHMB2xF+IwSuVglmlejXI2s4JKr3ZeMXPW7OBIqS7fepgKmgrPgKUcmBWoDXuOXiAIAiWaNxKrlnV7YmLijBkzeOLSUG36ByRh2Mb+Xx+nCbwN0MenT5+io6NfvXplZGT06NEjFxcX/nw+NJri4uKEhAR7e3s/P786PSwQNcQfzVlRUZGbm5uTk5Ofn19VVQV/5uXl1XL6QPhTLfHi48ePOTk5kA+NRhIbG2tvb+/k5PT+/XtYhsvLy729vd3d3fPz8zMyMnJycvhjJSsrK3NycrKzs78UoYHo44Pvh4CpqamiomLXrl0lJSUleD/i4uLKysoo8hjUhs27D1Mb4tYINLQVE/QHeutlWrihZHeebkCrBFBYhpJpaNsnY2VhrCkUU0MaCN0SGUTpSzUUKPGI6ppnNWHUA3oMSGBiKABNxm7qn1Bw5OpjQkxBZdDEG2YOVOIXawye0TnPnYMJDlf/P7D5IGyopK2tXcsM8f2+rmZIuaysbPLkyVC0m583ftWA+/XRGDZ6Ap28WLNDCCPiw5pdx+xgRHlm+ed9sd8yO2gDIbPe1z07QOzgKdu8mUjZI6Nz7LxiVAfriCn019t10iMyi0qeprVx8Gb4xhf0H/LL4EFaXwVIS2wcGBhIEETbtm1v3rzZEsffVGOGXHMlJaUvRQA2VUfNnA4wyf79+zdJ+DSd20A8cwpitnvjrXcw/WH5g9/0AsfsBwcpDbwlj5m/lAECVr0afYCe4F9gNbzKyzVLpCui8DnrYFQUHrNyi0j3icsdN2cN0aH7pIXr7f0TGEMbm1nR3oYdh89U77n531xNYmJi+vbtKy4uzhOaqP+7dOmioKBQZ4ln/s++ydQGftL4DEbguyKQn58fERERHh4ewfoJCwuLiYlBYfRpaWmCbQT+3LrHL6GQsv2DeAHCOs2zaJMnsDCejALmfB6XBEMFJZeAw5QxltCN66MAMhYoAKB4fEahpl+kOdBdwHm6Oyqf7JbFm9X/HDMGTyuP84K85RWTa2HvzRFoc/zose+Kc3MgbmZmZmBg8KWI/+Ywwh8whvLy8suXL1+9erXxpsR+fTWG/DLWJ76AtR85LNLU71qrPi0c1Dc7oAHLylgfBfi24Rumjz+bHbzzNSpKrZniEZn52jd225Gr/zN+jQqdMS6O8DT3iEyv2Nx+g7SHDhn0A97Iz+0iKSlpx44djo6OP3cYP713Dw+Pc+fO/TdFQDb4pqamR44cqXO7AHazBh6fOnmSKh7t6OsZm8NyITITkzYWMKJ/zZrFWhxruAHlgaQMZ7DHC8vy9UVWw9MxapQN4EiIQg3xz5mVK534tPPkjZ0nDB384ukCaxQvYjqlHaSu4VTVhL8PHCcIos7Mogbi03Kbffr0qXrvhLCwMJbcRB2GhobWqlnypWfEasOXkMHnWwMCWZmZkhLiS/Q2e8flgYREMyBKggcBhWIolJOUx1mQ7ZMnzdc0oy8xYg3to2AuMbd8kQLicTzeR3ND8HLwrC/Al9GogMlC1LhvXH7NlnO8IBAqZDw2757VmzaCQhd5mzq3hheGn+GHIDBQa8BA7dGedLQxrKnMkkx9zF8zO9AHzD870CU4QI4y6k+exECv6LQyD5MCVBdmDDUTh6HAqC5UObLYPCppkgqVrpl3UGfJPTKrz4AhI38Z8UOAxJ1gBFonAhcvXCA4nMcvXOjifvTE5K0+LmHvaU3gs6lHrYbsZZR20YNGQe81xKPAs8rxKDR8IWZRqGEmtZmVS9h7j6gsv4QCZoMIPlbjFp7um1C44Z+DbdoINCY9rHW+9YY9FVYbGoYTbtUyESgoKOjZs8dk3QVu1IaRdMkFmvfRPI5iQ4w/NJze6B58nTyTCbgmUOg2jwPStwDboqUZngmEYX+oGRSyBI4J3aFLtKJCmW1A8WAOKE3mPXTKmFvoZFMqNBNa0vIWfQsV7+QTX3D+lghdPIYAACAASURBVLGISLv7D+61zJeDR/3TEBg9aqTmIG2X0PfUpOCtwcx0YH/bMCNgdtBbwsEXyxP0ed8wNAOBoNb8Yj7dmk+ddy9VHeXrZkd4zexgNApEgSmMlu4eleUUnNKzz4DfdCb+NHBxxxiBlo/A7Vu3BNoIXn/8wicuH6U5MasP2O8/ZxSUzYt/GUVLJC8Dqh4K1DLHT4FZjlEOFcVJgAtRa/fnY6DPU7Ucaio9wO28pZPejDLTOzZvqd5fUpKS6elpLf9F/YQnwGrDTwAdd/nDEKjOVJkyZXIPDc13wSlUuQYex0FiBzAg3vl0SnCn4iB58hDPGlrD7L5EAfgXdSMj3FC3oJhs5i7aXkIf01dphy/NWClZiqHA8EQYQw0F+iqMFvhmYErpX7sNOnbsUL370g/DE3fUOhDQnTVTrXe/194xntHZ8G2jTws+RfYH+W2zA75wRklomtkBM4sOjYBJhOYXb3Z4RefYekQoqvZctHBB63hT+CkwAj8FAWsrq/btRQ+fu4Fy6hCjQII7M7tZqxuPjfAWQZZXn8VGeNFHyELHW/t4bWgLWpMvxPRS6x5BVSv5bcZcjd698/Lyfwq2Lb1TrDa09DeIx/8vCBw7epQgOE9s3Xzi8lGxNlAbGCWBEdwZIR54Yi3OCByTuutzKZ+WjVgSPy9kgiFCJ3K5MooEXTT6cwqMqsD27fKqNgH/pfkyo2zUSGB0DLdPXP7wMToqyopfqp7+L7jgy/9hBLZu2yoj38X0ladvHLWFKqWj1voyQRSgv0z4CFE4EJogSGhgvtLPKTAz6PNvmxcQRZsMmdnBqAFMzQDW/PqX2cHoDDWzwyUszTe+4LGNq5S03H+nKvF/+CvGj/4dEQgPD5OR7rRo9cbg1I+smU4lKrAXQeoSdYYOLKTVAHpNZJwDtZZRYBT8FOpeiOtYCoFX0Kswm1GwmBWsm7WZFYvVeEZlvQtK7qakOnfO7FqldL4jmq2LNFYbWtf7xE/Dh4C/v7+YaPuFK9fD5lbAAelEZ5a4X2P2AEMISz1ATgNkOAHmCAYS6neN4MLwUIqLURRqRH+490sUEAeEYSB56PPzDEOkWaR/YtF9qzeCbUX+3raV74nxCYzAvyBgampKEMS5m08Ck4uZj5behIQ3O2pUaGT/q/VtQ0s4SQsKyEtGzyA0Oz7/hsF7Vs/sQFMGhR8waT9ohjLT7fMZCnJDWFpgSsmxK3cIgrCytvoXCPBljABG4MsIVFRUDNcepqbe711QMs8nyZvjPC8fY0HgrXRo8tLTvO6VkbrEZjWMxM+slZ9TYJZRNqupYTg8hlDDKGBd5p1nsxo2Bb+EAsMnLwiCuHzp0pefHl+pDwGsNtSHDr7WOhD4ff584XaiT166UWVYaZmerTYwrIrPVop4DR0oSXldkQRTI/eguvV0lBHbDFPDAcMgjJsRp3hkeXoFzXO/NAZEhFc1n8rBoDbMisvTmTFXVFQ0MjKydbwj/BQ/EoG0tDQpCYkpcxb5xFKlAqhvm2eQ++zb5onj/H423mdcx7fdUAo84QO+bfb8qqlWDLMDxsbMUFpLZ88a3vxyj8zwis2dMFVXVka6zl2HfyTCuC+MQEtH4NbNm9VbWh2/bBSUXEKvm+8ZGZ3JM6ZkffY/iidQZgJmhn5mOKMnKUTwslkN445gT2dEgaaGVkDIFWQo8IwRDWU1PF3CPSLTN77g10kzZGWk/5tllJrkm8RqQ5PAiIk0awRCQkLExNoPHvGrc2iqb0IBtVElw+AYfyvDvJCQBAeMi4DnNKBZFcXFeDyr5qDGzsFwUprJwoZx4L6gfoPs9RkFHjsDIYxmkRTPBV6JOHLNmfA098jMoNTSPfQml4f09Zs17nhwzRiBvzZvFmjT5uEzJ//EIvS91XzS8JHzvnn4Mj+bJvyzg177a1PgfeH/+m3zZkdtNwJMDd4UqHt2UG1C3/snFt2xsOdwubt2/Vf2TW/G3xceWotHoKCgoHdvdZWeGg7+8VRiNG/tA3bBTMw6GAXPKQGGNrAOIObAYyloXjMcg3ceiKMu6E5pgkCBPQbomncG6PB4VF0LcXh6UGrp2ZvGBEHs3LGjxb+en/cAWG34edjjnn8gArdv3yIIYuL02W+DkqjNcSOonSNpcwijFVB2CzCTMGyIEVB49hVG+keiPHXARHl+CwVGr+D1xeOVMAbaWkPJWzwhicdzvWNyA5NLDM7fIAjiN52JRY3eCvQHvgHcVfNCICIiQkKi4+DhY9wjMugai58ZDptqdtTUdf3C/GKbJOk5hWYTIyswtQEYXZo1SdmzI/S9d2yec0hqv4HD5GRkcAn/5vWp4dG0WASsra0Jgpik+7tnVLZPLORBMVoBsxRSWgETjwRnPltGkTKAhH56yeOtdzTPYS3ENAXWHKdur2shpqkxA2jYQuwanh6YUmL22lu+q6J6r55ZWVkt9p38/IFjteHnvwM8gh+DwOlTpwiC6K050Mj8tVdsXkBSkU9cvmd0tkdkpntEhhv8g0AImlsxsRN0NTfqmPePqu8WQe+tyzpDb3pPtalpSac3UK7VMNZJ+hZEATWGA7cIoEARp6vIZVTXfPCIyvSOyfFLLPJLLHztHbN83TYOV+DXX8e8f//+x+CGe2mtCPzv2jVqz+llep7R2b4JBch8iBZ1xhBIrfSssmA8JbYmRhlWd+o341WroUCfof7ko0CdDH0P+7+CAk9PMZoCy+EGNIEgTYTphSc0UJ5Dv4RC96ismb8vIwjizp07rfV94efCCPx4BA4d0icIYvq8JY7+CQHJxSjPoYY5sDQB9gxlLALh6TWMAmwHLEZRM7trTn7mz6dZR30UgDMwzXhhAtQwEOcJS/eJywtMLr5v9aaLgrKMdCcPd/cfD2Nr6hGrDa3pbeJn+RcEHj54ICcrQ5lPZv5+6Y7503f+jv7xbpS1Nc8vsTAg6UNAcklgSklQSklQamkg/S8otTQoBU5SB/RxaWBKaVBySVBKaVAq3ZJuADdSlxCFFIoI7y66PY8CRZbq6zMKFDWaVEBysX9ikU98gWd09rvgFFv3sPvWbzfu1JeV79ZGQEBvzZq8vLx/eVR8GSPQAAR27txJEMS0OYtsPSKCUks9o3NcwzPcQOOll15mVWYsgsxiTPvKeEpyjR+Aukq3T+cpA+DQY9sUayhQ6zpPVmDuoqMaoEd+Cuz2lA2SVq09Y3KCUktt3MImzZpPEMSBAwca8NC4CUYAI/AVCBw+fJjD4aj31Tp/y9glLC3k/Ue/hELv2DzPmByPqGyPqCyPyCz3SOo3ZYOj/3lEZsI/d7gUlUWfp1tS7amr9CX6dxT8mUnT+YwC3E4R56PAUI74jAK09IzO9orJ8YnLC0gqDkopsXUP37z7iIBgW1kZaXt7+694cty0LgSw2lAXKvhc60UgNjZ269YtneXlCIKQ66LQb+Cw4WMm/qozfcLU2Toz5k+a9fukWQum6C6YrLtw8uyF1G/qH3OGOa+7cAp9fip9aTLVeAF9hr6L3Z6mQN9VmwJDmemCoQBkJ81a8NvM+ROnzxk7adbI8ZMHaY9W6akh2FaYIIipU6c8f/as9b4c/GQ/GoHKykqDwwYCXK6Cstp2/VN2XlE+1K7k+b7x+b7xBb4JhX4Jhb7UPzimflP/4uF8AfsqtIEGfglF9CWGAq9ZkR9Nh0ehwDehgHcGKPPoU/0W0b3XolDoF1/gG1/gE5/vHZvnE5dv6xHx9/7jXRVVhATbnDx58kfDh/vDCPw3EDA1NVVX70UQhNbQkeu2Hzh3y+Thc2drp0A7rygHv7g3gYnvgpLfBVP/nIJTnOjf71gH74JT6D+p37x/ydSZkBRo/y44xZm5hCjQDXik6qLA0HSmO6J6D0p645/42jfW1iPcwsH3ttlrgwu3fl+xtpuSKkEQM2ZMDw0N/W+8ru/7lFht+L74YurNE4Hk5GQTY+MN69fpTJygNUBTVUW5e7euCtS/Lgpduyp07UIfdKEOmH/0yZo/0Xlee3SJnwJ1hq8Zas9/0K0LPZKuykqKfTR6jxr5y8IFC86eOePn51dWXt488cSjatEI2Nvbjxg+XFBQUKyj5K+/TV+7de++E1dOXbt/0cjs6oOn/3v4zPDxC8Mn8M/mxhObG8Y2hk9e3KD+MQfXqavUMf3b5gZ9wDSg74VboAGiQBP5jAJN0MbwCUOBafD4xfXHz//36NnV+08vGpmevHp/34nLelt2j54wRbSDuJCg4KiRv7x586ZFvwI8eIxAM0cgMzPz0qVLfftoiImJioqKtRMVE2kvJtxOTES0g2gHifYdJEQ7Soh1lBQTlxQVlxTrKCn6pX/i1CWqJauBWEcpaI8oMLfTjeljCUSQ6oK+93MKku07SLQTExdp30GkvZgINcIO7UVFJSXEp02dYmNjU45Xzyb6wrDa0ERAYjIYAYwARqDFIlBeXm5pabl0yZJ+/fp2kpIUEOASzfhHQECgUyepAf01VyxfZm1thbdtarHfHR54C0OgsrLS29v7zh2j48eP7dq1c8tfmzduWL9u7Z9/6unp6a3RW/OH3po1tf79yZyhL+mtof5kWv7xJ3VA/ftzzRrq+DMKn5FCLZk2zI1/8IhTFNb+qbdu3dpNmzb8vW3b/v37zp87Z25mhgutNvkXhtWGJocUE8QIYAQYBKKjo4uKijAcLQiBzMzMsLAwb28vFxfnN2/e2Nvb29nZvbT97KfWn59ds7WFqy/p/2xsbGpdhT+/lsJLW1s7Ozt7e/u3b9+6uLh4e3uHh4dn43IoLejDwkPFCGAEWgUCWG1oFa8RPwRGoJkhkJaWduDAAU1NzZiYmGY2NDwcjABGACOAEcAIYAS+BQGsNnwLavgejABG4EsIlJaW/u9//+vbty9BEBoaGjk5OV9qic9jBDACGAGMAEYAI9CCEMBqQwt6WXioGIFmjUBBQYG5ufmoUaNQVPysWbPKysqa9aDx4DACGAGMAEYAI4ARaBgCWG1oGE64FUYAI/BvCNy4QW1fzf7ZtGnTv92Er2MEMAIYAYwARgAj0DIQwGpDy3hPeJQYgeaPQGZm5vnz5+XkqD0x4OfUqVPNf9h4hBgBjABGACOAEcAINAQBrDY0BCXcBiOAEWgQAmVlZcOGDeNpDcSjR48adBtuhBHACGAEMAIYAYxAs0cAqw3N/hXhAWIEWg4CO3fu5HA4N2/eNDAwkJeXt7OzazljxyPFCGAEMAIYAYwARqA+BLDaUB86+BpGACPQcARevXpFEMTKlSvhFh8fn9TU1IbfjltiBDACGAGMAEYAI9CcEcBqQ3N+O3hsGIEWg0BWVpYa/VO9Y0OLGTQeKEYAI4ARwAhgBDACDUYAqw0Nhgo3xAhgBL6AQFVV1Z9//kkQhI2NzRea4NMYAYwARgAjgBHACLRsBLDa0LLfHx49RqA5IGBubk4QxLZt25rDYPAYMAIYAYwARgAjgBH4HghgteF7oIppYgT+QwgkJyd37dq1f//+ubm5/6HHxo+KEcAIYAQwAhiB/xgCWG34j71w/LgYgSZFoLKycv78+QICAs7Ozk1KGBPDCGAEMAIYAYwARqB5IYDVhub1PvBoMAItCwEjIyOCIA4fPtyyho1HixHACGAEMAIYAYzA1yKA1YavRQy3xwhgBBgEIiMjJSQkRo4cWVJSgkHBCGAEMAIYAYwARqB1I4DVhtb9fvHTYQS+FwIVFRU6OjrCwsJ+fn7fqw9MFyOAEcAIYAQwAhiBZoMAVhuazavAA8EItCgEzp49SxDEpUuXWtSo8WAxAhgBjABGACOAEfhGBLDa8I3A4dswAv9lBPz9/QUFBadNm1ZZWflfxgE/O0YAI4ARwAhgBP47CGC14b/zrvGTYgSaBoHCwsKhQ4eKi4tHR0c3DUVMBSOAEcAIYAQwAhiBZo8AVhua/SvCA8QINDME9u3bRxDEvXv3mtm48HAwAhgBjABGACOAEfiOCGC14TuCi0ljBFofAm/fviUIYvHixa3v0fATYQQwAhgBjABGACNQDwJYbagHHHwJI4AR+AyBnJwcdXV1RUXF9+/ff3YB/4ERwAhgBDACGAGMQGtHAKsNrf0N4+fDCDQdAhs2bCAIwsrKqulIYkoYAYwARgAjgBHACLQMBLDa0DLeEx4lRuCnI2BtbU0QxMaNG3/6SPAAMAIYAYwARgAjgBH48QhgteHHY457xAi0PATS0tIUFRX79u2bnZ3d8kaPR4wRwAhgBDACGAGMQKMRwGpDoyHEBDACrR2BioqKJUuWcLncN2/etPZnxc+HEcAIYAQwAhgBjEDdCGC1oW5c8FmMAEYAIXD//n2CIPbu3YvO4AOMAEYAI4ARwAhgBP5rCGC14b/2xvHzYgS+DoHY2FgZGZlhw4YVFRV93Z24NUYAI4ARwAhgBDACrQgBrDa0opeJHwUj0NQIVFRUTJ8+XVhY2MvLq6lpY3oYAYwARgAjgBHACLQkBLDa0JLeFh4rRuAHI3D58mWCIE6fPv2D+8XdYQQwAhgBjABGACPQ3BDAakNzeyN4PBiB5oJAUFCQqKjoxIkTy8rKmsuY8DgwAhgBjABGACOAEfhJCGC14ScBj7vFCDRvBEpLS0eNGiUmJhYaGtq8R4pHhxHACGAEMAIYAYzAj0AAqw0/AmXcB0agxSFgYGBAEMStW7da3MjxgDECGAGMAEYAI4AR+B4IYLXhe6CKaWIEWjYCbm5uBEHMnz+/ZT8GHj1GACOAEcAIYAQwAk2HAFYbmg5LTAkj0CoQyMvL69evn7y8fFJSUqt4IPwQGAGMAEYAI4ARwAg0AQJYbWgCEDEJjECrQeDTp0+bN28mCMLU1LTVPBR+EIwARgAjgBHACGAEGo8AVhsajyGmgBFoPQiEh4cLCQmtWrWq9TwSfhKMAEYAI4ARwAhgBJoCAaw2NAWKmAZGoLUgUFxc/OzZs4yMjNbyQPg5MAIYAYwARgAjgBFoGgSw2tA0OGIqGAGMAEYAI4ARwAhgBDACGIFWjABWG1rxy8WPhhHACGAEMAIYAYwARgAjgBFoGgSw2tA0OGIqGAGMAEYAI4ARwAhgBDACGIFWjABWG1rxy8WPhhHACGAEMAIYAYwARgAjgBFoGgSw2tA0OGIqGAGMAEYAI4ARwAhgBDACGIFWjABWG1rxy8WPhhHACGAEMAIYAYwARgAjgBFoGgSw2tA0OGIqGAGMAEYAI4ARwAhgBDACGIFWjABWG1rxy8WPhhHACGAEMAIYAYwARgAjgBFoGgSw2tA0OGIqGAGMAEYAI4ARwAhgBDACGIFWjABWG1rxy8WPhhHACGAEMAIYAYwARgAjgBFoGgSw2tA0OGIqDUGgrKzs06dP6HdVVVVD7voBbfLz81NSUpqko5ycnPfv3zcJqdZNpKKi4hP987WfQVVV1b9+Qunp6ZmZmQAg6qiiogLOsK9+CeTU1NScnJwvXW0+5/mfrvmMrTmMBH0t5eXlP3E8WVlZ6enp9Q8gPT09IyOj/jb46s9CgP0hfS3L+lljxv1iBL4HAlht+B6oYpp1IBATE6Otra2oqKimpqaioqKurj5x4sQ9e/YkJSXV0foHnoqOjh40aJCsrOz+/fvLysoa07OPj4+6urqcnNyFCxeQkNoYgq313tLS0uXLlysoKCgqKvr5+X3VY2ZkZEyYMEFBQWHIkCFhYWH897569apbt25dunS5f/8+SZKXLl3q3r27goLCsWPHSJJ88eJFZ/rH2NiY/1448+DBAzk5OUVFxZcvX36pTTM5v3fvXgUFBSUlpStXrjSTITWrYTg5OfXt21dBQWHOnDmfPn36KWPz8PBQVlaWk5Or5x3Z2dl17dpVXl7+4cOHP2WQuNP6EYiOju7Ro4eCgsKUKVOQSaL+W/BVjECrRACrDa3ytTbHh/L19RUTEyP4fjQ1NX18fH7iiK9cuQKDkpGRSUxMbMxI9u3bB6TU1dVbhK26MQ/bmHsLCgqGDRsGWLm4uHwVqZSUFAUFBYIg2rdv7+vry3/vwoULgfLIkSNJkty/fz/8+ddff5EkuXjxYvhTR0cHaYk5OTkeHh6g6VVUVOjo6ECbuXPn8tNvzJmgoKCYmJjGUMjJyXF1dUUUli9fDkPdt28fOtmyDlxdXb/fZHn+/Dng079//48fP/4UZP766y8Yg5aW1ocPH2AMxcXFbm5upaWl1Z9oVVXVypUroc3YsWN/1jh/CjjNuVMfHx/khQ4NDYUXpKamlpqa+g3DrqqqcnV1LSgo+IZ78S0YgeaDAFYbms+7aOUj8ff3l5aWJghCQEBg2LBhAwYM4HK5wIjnz5//E0MInj171q5dO4IgpkyZkpeX15jXYGRkJCQkRBDEsmXLQCBoDLVWfG9hYeHo0aPh7bu5uX3Vk6ampvbo0YMgiE6dOvn7+/Pfa2BgwOFwuFzuli1bSJLU19eHjv7++2+SJA8fPgxXd+/eXVlZCbcvW7Zs4sSJ8GdVVdXmzZsJghAUFDxx4gQ//W8+ExQU1Lt37xs3bnwzhcrKygULFvz666+Iwpo1a+DpDh06hE62oIMnT57IysrW6TVqkqewtbUVEREhCGLo0KE/Sxy/du2agIAAQRCrVq1CjG7btm3Dhw/Pzc2Fxzx+/DiXy+VwOP/88w/6LJsEAUzk2xCwt7dXVFR88eIF3B4WFsbhcAiC6Nu377eFoV64cEFdXb2RVoNvexZ8F0agCRHAakMTgolJ1YcAUhuEhYUdHBxKS0vHjh0LEo+mpub3MzfWNybetbdv3965c6fxY6isrLS1tX306FFRURGPNv6/DgTYasPX+pqQ2iAtLV2nuFlRUWFmZmZpaQnOhIMHD8JntnXrVpIkP378yL5KkuSJEycIgvjtt9/QQIuKih4/fowkBnS+MQeZmZlDhgwhCKIxUSjHjx8nCIKtNvzxxx/wdIcPH27M8H7KvV5eXrKysgRBfL9IxeagNlRVVVlbW5uYmCBXw507dwiCGDRoENJkPn36ZGFhYW5u/rMiqX7KB9BsO42Li1NVVSUI4s2bNzBIttqQlZX1tSN3cHDo0KGDnJzct6kcX9sdbo8R+H4IYLXh+2GLKX+GAFttcHZ2Jkly69atIPGMHTs2NDTU3NzcxMTEwcEBFs4PHz48e/bMxMTE2tq6TsduZmamra3tqVOnDh06ZG5uzpbU09PTHz16dOTIkZs3bwYEBKCVOC8vz9zc/MiRI1evXvX09CwpKSFJEui8fv3a09MTJSTk5uYGBARYW1ubmZmZm5ubmpra2NiUlJQ4OzsbGxtbWVllZ2f7+PicP3/+8uXLsbGx8KjJyckvX7589eoVWMFjYmJMTExMTU0jIiKSk5Pv3r177NgxtA7BLR8/foyIiLCzs4OOoC/kGUcI+vn5GRsbm7N+oD16and394sXL54/f97d3R3d5e/vb2xsbGpqmpWVlZOTc+XKlYcPH2ZnZ0ODoKAgIyMjfX39e/fuJScno7tqHaSmplpYWJiamnp4ePj5+Z04ceL06dOhoaHQrKKiAjCxtLT89OlTdHT0mTNnrK2tQUKqrKx0c3O7cuXKoUOHnj59ipw5bLXB0tLSzMzs8OHDNjY2KGoIiAcHB9+7d09fX//MmTNeXl5wEqkNnTp1srS0fPDggYGBwZs3b1CeYlRU1OvXr+3s7IKDg0mSRGrDtm3bSJKMjo62o38iIyNJkjQxMREUFAQjoqmpqaWlZVZWVlhYGLxHtmkwICDg+vXrp06dcnBwYNuDc3NzTU1Njxw5cv36dW9v7zq9TGVlZfPnz4evXU9Pz8rKytHRER62rKzMycnp4sWLBgYGL168qPNThwc3NjYGX5ampqaVlZWlpWVmZub69euB7PHjx5OSkq5fv37mzJlamlhubq61tfXx48fv3r2bkJAA1Ph/+/j4mJqaWlhYJCYmRkZGXr169ezZs7X8OXl5eXZ2dqdOnTp+/LiTkxOaWQUFBZaWliYmJs7Oznl5ec+fPz927Njjx4+RoMzfXVJS0oABAwiCEBISunDhgqWlJXrFOTk5MLVPnDjh4uKCvoqCggJzc3NjY2MXF5fg4OALFy4cOXIE3cXfBUmSbLUB6Dg4OJiamhobG0dHR9e6JT8/39ra2tjY2MnJKTg4+PLlywYGBvzesPDw8AcPHhw6dOjmzZtxcXFsIhkZGQ8ePDhy5MiNGzcCAwMBn4SEhFevXr18+RLAdHR07NChA0EQKioqRkZGFhYWycnJ8fHx8FmyNeHY2NjHjx8bGBhcu3YtPDwcdRQZGWlmZmZiYhIWFpaenn7nzp0TJ06wpwDEw5w5c+bkyZMvXrxAUx5RqHVQVVXl7u5uampqYmICKlxVVZWdnZ2xsXFaWhqEUdnb2xsbGz979gw8JFlZWU+fPj1+/PiDBw/q4R7Qkb+/P8wdR0dHNHciIiLQi6iOPLx9+/aJEyecnJzQ2KqqqpycnE6fPn3q1CkbGxvot6ioyNbW1tjY+NWrVzDXAA1TU1OY72FhYab0T2JiYnFx8fXr12/dugVPQZJkYGAgjMTe3h5xe9QjHOTk5IwZM4YgCC6Xu2vXLisrKz8/v5CQEHCPDxw4MDo6+uXLl/xfeElJiZOT06VLlw4ePGhkZIRgCQsLU1FRIQhCWlr64sWL5ubmQUFBtTrFf2IEWgoCWG1oKW+qxY8TqQ1t27Y9deqUqampmpoaSDxnzpwJCwuDSKEOHTpA6Ha13A/ynIqKCn8K2uPHjzU0NOB2+D1t2jSQUUJCQvr3748uCQkJ6evrkySZmpoKiwG6tHbtWpIk7e3t4cyECRNAkXj48GHfvn1RMziQlJRMTEycMGECQRBt27bV0dGBARME0aNHDxCj7969C40XLlxIkuT58+fhz2HDhqGHFRYWvnr1KrxOf3//yZMnQwADu7vHjx/Xet+rVq1iN4BjTU3N3NzcvLy8tWvXIiJt27bdt28fyCtr166FPZXvygAAIABJREFUlvfv3583bx4cX7x4sbKycvfu3aKioohmly5dHjx4UKtT+NPc3LxNmzYEQUhKSnbs2BFukZKSgvbVqtS4ceMIghAVFbW2th48eDA0eP36dW5u7sKFC9HACILQ1NQEsYCtNkhJScEtHA5nwYIFoFqkpaWtX79eWFgYjVBUVPT27dvwHiFIicPhoAZcLnfjxo0gRhw6dAjuWrduHVttgCAldPXgwYOurq6dOnVCXcCBo6MjUmiPHz9OkmR5efnBgwcRXBwOZ+nSpYWFhSRJVkt72traiAKHw9m2bRsKRAEAS0pKtmzZgtrAgaamZnFxcUpKiq6uLorWg1iaOhM2HB0dEVCIlKWl5T///EMQBIfDGT58eLdu3eCSlJTU8+fPoXcfHx+URgKiqr29fZ0vetmyZSAqjRo1Sl5eHkjJyck5ODhAe09Pz+HDh6PeuVzujBkzQMUNDg6G2aqkpDRy5EjUZsmSJcXFxfzdZWVlwWeDWhIEAZkk7u7uQ4cORee5XO7s2bPBRhscHAyBIlJSUpKSktBGRETk5MmTXxIBkdowZMgQkiSdnZ3hPYqKirJTRGCEAQEBINBLSUmJi4sD/WpV7eDBg0C/vLz85MmTEhISaHjS0tKXLl0CUTgwMLAW54GEk2vXrkH7VatWRUVFodeEiNy7d+/ChQvwJ/jESJI0NDTs3LkzaiMmJqavrw+aD/jHCIIYPHgw4lQiIiK3bt0iSbKysnLfvn1t27ZF9/bv3x9Eav4Xgc7s3r0b2u/cuZMkSV9fX5jse/bsIUkyKSkJPj8lJaX09HQ/Pz8tLS1Ev1evXl/KUCopKTl48GD79u2hMZfLXbNmDcydo0ePwskRI0bAjIaEJahkUFlZuWPHDviooFn//v2Tk5NTUlIUFRUJgpCVlQV7zbFjx6DBH3/8wc5lOn369KZNm+DS9u3bSZI0MDBgz+Jly5ahIDGEQ35+/u+//w53od+6uroBAQGgtCsqKrJnweLFi2HVcHNz+397Xx1VVRa2f+gYFFRExcbCVmxsRRELAxMbO0Ydg1JMRAW7FTsRHbEVBEGlQwUFBAFFpRtE4AL7d5fP+t51v3uxZpxvcH6bP1jnnrPz2fuc8z5vHbwdqFbr1q3fvn374cMHSaxwdenSpdQjP+AI/FoIcNrwa63XLzxaog2S0p4gCEOHDoWl3tTUFI9UPOLp2Y1IVsmZl5eXU1BsrVq1SDB1d3enmFc1NbUxY8ZAih00aFB5ebmtrS2komHDhvXq1UteXr5Vq1aMMS8vL/Q7cODA8vJyHx8fvKsUFBToHaOnp7d06dLc3FxJ4iEp7cGNnmjDxIkTGWO7du2iVwi6xk99ff2CgoKMjIxWrVrhDInjGhoao0ePltIWi00iCxcuVFFRUVNTk3yPnjx5kjFmb2+PRpo1awZYBEG4ceMGY2z+/Pm4RDG+YlHj9u3b586dw3l5eXkEnAiCoKamBiuQJNSMsStXrkBWwxRoANra2q9evRIj1r9/f0EQ1NXVCRxNTc2IiAiSlVVUVEgIa968+bt370QiEcU2IIoA4xEEYd26dYyxmzdv4oy2tjZJad26dSsvLxebkkjIkKoLsYmCGebPny9LG8j4YGNjc+rUKX19fXSko6NjbGw8YsSIuLi4xYsX4ySSL50/fx4/69WrR13v2bOHMYaSCgoKpqamPXr0kJOT69q1K6QigjElJWXatGk0i3bt2g0ePNjS0vLTp0+0yVVVVWkPGBgYkHKUGjly5AgxT21tbRMTE1NT06dPn1K4LUZIKzV06FCRSJSXlwcRXEFBwcDAAF7+bdq0qTAZ6NSpU9GIVFNmZmaMsfT09Hbt2uGSpqYmmhIEYfz48Yyxly9fSt4O4JngM8Q6aC6MsfDw8F69eoF4Kygo9O7d29jY+ODBgykpKS1btkQvWlpaRAunTJmCXiRHSFcVFRW9vb0l26djog29e/fOzc0dMmQIWli8eDGVoYOnT5+SgIs7grq7e/cuY+zixYt0hm4cBQUFkDQAqKGhYWpq2rlzZ0EQevXqxRiTpA23b99u3749GqlWrZqRkZGxsXFAQMDOnTtxEo87d3d3wlOS2YI5k6CMKvQAbN++fWFhYUhICJAxMDAwNTWFuH/t2jWaZoUHDx48QK2OHTsyxqiLtm3bMsboyYaoLXAVZWXlDh06oFaHDh1ycnJkWz579iwG2aBBA9rA+/btk3xwoQDNt23btrCWYBd16tRpxIgRYIlPnjxJTU0F79LW1gZtIPphYWHBGFuzZg2eVIaGhrSaFy5ccHNzQ0d169Zt0aIFjnft2iU15tjY2JEjR+LJLy8v36VLl0GDBu3evfvly5e0qwVBkDyGAXncuHF4HOno6NDdsXfv3oCAgO7du2ON1NXV+/bta2RkdObMGal++U+OwK+CAKcNv8pK/fLjJNqA5zX9b9q0qZeXF2Ps0qVLeBa3atXK09MT+k4VFRVZJ4SSkpKePXsuX74ciY+GDRuG1g4fPswYg9iho6Pj6elZWlrq4eFx6tSpsrKyUaNGQbo9f/58UVGRr68v8iGStWHIkCFiSYs0zfv27YuOjoaY2K9fP7gD9enTB3117Njx8ePHpM4fPnw4Y4zEcSlrg5qa2unTpy9duoTXSY0aNaKiou7du4emTE1Nk5OT4cRSrVo1WacIaPtCQkJevnxpZGSEWj169Pj06VNSUhJ8cKtXr56UlBQcHAwt4/Tp0xljS5YsQWGo8UxMTCZOnPjs2TPIf4qKitu2bcvKyiLhdebMmbJaW7I2NGrUyNfX9/HjxzC4C4KwdevWsrIy6NggsNaqVWvYsGHLli0LCAiAHKyurn7jxo3ExMROnTphMPv37y8rKyOOsXjx4oCAAEp/pK+vn5eXJ/baatOmjaura0lJSWhoKHBr3rx5dnZ2eno6FkVZWdnOzu7JkyeDBw8mTMrLy4lHfd3aYGVlJRKJTp48ibpDhw4tLi6GoWDevHk46eTkVFZWhkVXVFR89OhRRkYG3PE7derEGINmXUNDA6EUjx49Onr0KLSPdMeWlZUVFxcTcztx4kRJSUlZWZmPjw/0l1paWj4+PrGxsSTNgP9QC7B4wCFeEAQjIyPR5z/GGIVE16lT5+bNm6S0btGiRUFBAYlKEO5XrVqFef3555+SjeMY1gZBEBo2bHj37l2Sxtq2bSsSiU6cOIG6LVu2jIuL8/LyQmI0NTW1kJCQ+Ph44pOLFi168uQJ6d3JtibVY3x8PORIdXX1yMhI6NFJem7btm1CQsK9e/dALTQ0NMLDw+Pj47HNatas6ebmFhYWRtatGTNmSLWPn0QbjIyMSHxv3LixrB8gY4ysDZqampcvX46IiCC98vjx48vLy2G3kZOTW7lyZXZ2NtFLMzOz5ORkXK1Xr97du3dLS0vd3d2PHDnCGDt8+DCgMzc3x3n8NDQ0TE9Px8RJTEdINGRQRFFnZWXZ2NhAqu7atWtJSYmTkxNaqFq16vnz58+ePQvZXV1dPSUlhbjNvHnzkpOTMzMz9+7d++zZswrxoZNi5x8wTHV19UePHpmYmKALVVVVf39/SvTk4+NDTMDc3JwxRjeLbCzQp0+fgImqquqTJ0/S09NBnvv3719aWuro6IgugPbx48cxi99++y03N5cWa8GCBampqRkZGTt27Hj9+nViYuL3WBuwTxQUFIyNjYcOHfr8+XOaUUBAQHJycsOGDWHck7KGlZaWZmZmwj6gqqoKz8ny8vKoqCji5AsWLHjy5AnZEPAesbCwMDU1DQ0NLSsro+xtFhYWpaWl8fHx4CGNGzeOiYkpLi4mj0rCnx9wBH4VBDht+FVW6pcfJ9EGJSWl5cuX79ixg5RPrVq1ysnJyc/PhxJLSUmJ5Kdhw4aR/zRBIBKJEhISGGNxcXGbNm3CC0DsRbN3717GGAnWOjo6c+fOpcCD2bNn01tqwoQJ5LRN4ruJiUl+fj4yWiooKEDlP2LECPikokdIkHJycghsvX37NtocMGCApDJSijbA+6K8vBwvvCpVqohTuZ85cwZ14UNFpgkoFGmykgfh4eHQHcrJyeGzA4GBgZAnqlWrtmrVqkWLFkF669atW2lpqaQqevPmzWJVXGlpaXBwMAR6XV1dZBK8efMmGjEwMJC12hNtGDhwIAZDcrm5uXleXh5pcNXU1Nzc3BhjJSUlxKC6d++OWiQlWFhY5OXlkY8KFiI+Ph6jgpdaZmYmRnLnzp0JEyZAV9e0aVMIEKANNWvWjI6OZox5e3uDV9StWzctLY1cOL5JGxhjFy5cwCqA+GGoJAnt2bMnKSkJq6aoqLho0aJ169ZBkNXR0cnPzzc3N0f1atWqTZ069SuuIEOHDkVJcgYjEd/Y2Bj9kqPIkiVLcEbyP4mDgwcPpvNEG+DcEhMTA8NO/fr1k5KSSBjt0qXLhg0bYBcS60qxGagRHBBtWL9+PWMsLCwMM9XT00tLS1u5ciXGv2bNGpQnl4xjx469f/8eG48kcrJ07d69OzIy0szMbNSoUaM//40aNcrT0zMzMxOmHnV1dYoQIPGUEkMRvTx37tyHDx8gunXr1g3S3rFjx7B1e/To8fTpU3Nzc8leHjx44OnpCZVz/fr1YYtTVFSENC81fUna0K5dO2y/ixcvYu917do1Ojoaem4tLS34pvv7+wOi5s2bx8XFmZmZAaLatWvPmTMHTwxJawPkbB8fHxTr1asXxSbRStna2mZkZOBJKC8vD6e+hIQE3B116tSJi4vbu3cvWpg0aRKis8hEExcX9/DhQ1wVBKFnz56nT5+WnWmFZ7D9lJSUxowZQ8YxQRAmTZqEaP5mzZqVl5evWLEC7Xfv3n3Dhg29evXCz+3bt0s1m5SUBKcvMZ+ZP3++lZUVqGbjxo2Tk5PJh3P27NmYBfQR6urqcXFxlDlXTk6ud+/edNe8evXqe2gDhoRwptLS0ujoaNQSBGHRokW2traYYJUqVWQ/sVdYWAhjkaqqKnn0UUh0gwYNsLKkM0I2ApzMyso6dOgQgnYEQZg6darY6puSkgLa0KRJk38u+l8KfP6TI/APIcBpwz8ELG9WGgGiDeQM4+rqSq83vB3J7xzn5eTkvpStMisra968eXgnQW4QBAF+I56ennp6etRygwYN8NGusLAwUnjDUx8v1Pv376OwsbFxeXk5xgBikJGRgRdAixYt8HYBbRC7VcD1wtvbG3WR3IYEOynaAMeDsrIyeCVVqVLF398/NDQUdadOnZqbmwsxS1FREf5F0vB9Tu5OQurAgQPBpsiZR0FBQUVFRV1dXUtLS1NTs1u3bsXFxUQb6tSpQ9k/bt++Da1e8+bNoel88uQJRKt69erJpiQn2tCvXz+MigjPoEGDMjIySI2H7ySgDMnuw4YNk6o1YsSItLQ0YneI4f748SNopNidBgjcu3cPwgqS9opzEDVr1iwtLS0jIwO0gRKwvn//HhYAbW3tiIgI0sV+D20g1enw4cNJBUi0Yf/+/WFhYUTV1D7/AeFmzZrFxcWFhYW1adMG6ygIgo6Ojqurq+zaMcYIJfJPsLKyQsVp06ahijiYEmcmTJhAkaPUGjGxQYMG0UmiDVu2bEHAN1h0gwYNYmJiyNykrKyspqamoaFRrVo1TU1NOKxTIzgg2gDt6fPnz3V0dBAOERcXN23aNIxt//79KE/xNlu2bElOTgZt6NSpE5xVyGp34MABYuYE1M6dOyVpA6KTRSLRyJEjUYZufOp3z549KSkpoA2dO3dGmO/9+/fBGNu1a3f58mVqHweOjo4+Pj7kqYKT9evX/5LoRtaG1q1b40YICAiA+a59+/aurq61a9cWBKFOnTrwInv58iWMohoaGu/fv3/06BHJpoIgNGrUCK5NpDgHbSCvyF69elGSAKINa9euTUhIQLO//fYbrAQFBQXY4Zqamv7+/vSpGbhapaamktXl+fPnIpFowYIFAApTtrCwIH4iteiSP4ODg2H+whNVU1OzXr16uPuwuJaWloyxSZMmoVllZWVVVdUqVargjoD6Q6pBPGrk5eXhY4mS+vr6cXFxRJuxG8WpBRCupq6uHh4eXlJSQhsM3YmJR1FRUUJCAkCuXbs22CY9aqRiG2rUqEHx5UFBQdgGNBJNTU0tLa06deoQu6OR5+Xl4U2hqqoKx1fGGNGGDh064F1ARBoUt7S0dMuWLXXr1sVo8R+39vv370Eb9PT0ZLujfvkBR+CXQIDThl9imf4LgyTaQM9id3d3erddvnwZQg85wQuCoKenV2G6upSUlJ49ewqCoKmpeeHChTFjxuAZTe4Q7969mzdvHvRzgiD07t0bwbLZ2dlWVlYQhgRBaNmyZX5+Pon+gwYNKi0tjYmJga2jfv36RDOWLVsGmZJoA6gIKfa+ThvEWmpo+ok2PHr0qKSkZPTo0Qgm7tmzJ6STTp06fSkPrI+PDxnxPTw8sCc8PDww93r16rm5ufn7+/v6+gYGBkLtTWl2Ro4cSXvIy8sLb9DGjRsjb4+Xlxfcw1q3bk3sgsoTbSBrAxlGxo4dm5OTQ9YGyS+OkQRMtchVY8qUKdnZ2UQbEAGcnZ1NEpivr++dO3cgDhobG9+4cQNL2aJFi7y8vKysLKINEAsiIyOhO6xTp867d++2b98OTL6HNhAFInoj6Xexb9++Fy9eYMOoqKicO3cOCPv7+z9//hwh+Onp6cuXLycH9A4dOlSYuIZQogSsmzZtwjjpo3LIryoIwrx58wh/OiCGI2ltoASskF1iY2OhU2/QoEFcXBxJNuPGjQsKChI7dPn5+QUFBVX4WUOiDaDfz549g/u+np5eYmIiUSlHR0cMiRxp9u/f/+HDB0iWNH2KbNm3b5+fn5/40+nVqlVDKLOmpuapU6fS0tJwo6mrq5MsRYH7cH8XWwDgWygIwokTJ5KSkvDE6Nq1K8Ana0C3bt28vLwaNWqkpaVFvZw4ccLb25usQ1gjBQUFWb04ZkS0oW3btrgNb968CWtD586dHz9+jBjlmjVrYsDPnz8nIwBSVCUmJs6fPx/qDMQ2lJeXHz16FAstRRsMDQ0p7xbRhjVr1rx//x6KD2VlZdwdmZmZ4K46OjpRUVF0cyF6JzU1FdpxQRAoLMrFxYVY93em/S0qKpKM7x84cCCFCYk9ElVVVeFNSsqLyZMnS24qWTIWERGBR5aWltbJkycDAgJ8fX0DAgKeP39eVFREu3316tVij8rMzEw8HtXV1enL8WfPnqWHsPhJ7unpKc4cBdqgpaUFzMmbToo2DBw4kNwFQ0ND8YhQUFA4d+4cjSQsLIyWgG60vLw8OCCpqKhgypK0gb7bQFYXe3v7srIyukEcHBzIbDhr1izG2Lt374g2yOplqF9+wBH4JRDgtOGXWKb/wiCJNqioqFy8eDEmJobEDvGn1oKDgzFJ8lIQBAFin+zk9+/fj9cwYuBIH2ljY5Obm+vm5hYTE8MYu3fvHuSeqlWrpqenP3jwIDAwkDEWEhKCt7KqqmpERIS/vz9aGzRoUFFRUUlJCQVLyMvLN2jQYNWqVZQW82fRBkTR0YsTflAjR44k9ZjUrMvKyuAuJQjCwIEDsz//FRQUPHv2DFKRiooKHIQYY58+fYLGl8zov//+OzWYmJgIzaW6uvr169fF59etWwcETE1NZV3CiDa0a9fuw4cPb968AWcTBMHKyqqkpIRCCyQ98t3d3SFv1atXLzY2trS0lCTCjRs3lpSUkMPM0aNHs7OzDxw4AImwUaNGCQkJ6EJdXT0oKCgnJwcv3YYNGz59+jQpKQnipqqqqqura2ZmprW1NfSjLVu2LC8vJzHie2gDyeJNmzaNjo4OCgpKS0tbuHAhANm1a1dOTg66k5eX37lzJ2AsLy8Hv3Jzc4M+2NfXl3xgKsyuSE5KS5cujYmJCQ4OPnHiBIbdrFmz1NTUoqIiQpJEc1o1xhhFZrdq1SoiIiI4ODghIYHc66VoQ926dVNTU0m+NDAwIDKTkZEhKyqJs0J9iTY0atQoJyeH9uqQIUNKSkpIepOXl/fw8Hj79u2XaMOWLVuKiori4+NjY2Nff/6LjY3Nzc2ldVRQUDh16lRMTMzz588tLS2B/MiRI0Ui0bt376C+RWDJ27dvsUmaNGkSGhqalpZGpMLU1PTTp08JCQlSvdy7dw/8c8CAAdu2bUP1GjVqvHjxQhJbHBNt0NXV9ff3T0tLo00rjmL/9OkT+KqioqKzszNjjLT+ffr0SU1NvXv3LrL6enp6whunfv36Yjd6ip+Rog116tR5/PhxWFhYfHw8qcytrKwKCwvp7sCWu3DhAoh9ixYtPn78SBEgsrTh5cuXcXFxN27cEIlEubm5tKbW1taMsT///NPExGTbtm2ytzkQoFUWR4Rv27YtMjKSMlZ169YNj0Fao+7du1OC3czMTPoGBQEr9tjBo0ZRURFcFNoTOIDRfSpLG16+fBkZGXnnzh3Mgr7svmPHjrS0NEpjcP/+/ZSUFGJHcHaiuAKgjcEkJSWRHxeNpLy8PDMzk2yMNGyyNsjJyTk6OsbGxoaGhoaFheGBJksbdu/eLRmGzhg7ePAgtvGIESPS09OTk5PxBKtaterly5dfvHhB7zvqlB9wBH4VBDht+FVW6pcfJ9EGeXn5hg0bkilA/Emdvn37UhaOq1ev4oGroKAgmyERKJCatnXr1ubm5pCbkbbl4MGDRkZGWlpa06dPnzlzJul4RCKRubm5vLz8xIkTFyxYAL2jOPghKSnpyZMn6BFKXJjO1dTUfv/99+vXr0uFTv4s2uDn5xcVFQVV3PDhw8+dO1ehrEmrfvv2bcqoqKura2RkZGhoaG5unpqaOnbsWIy/Ro0a8+fPX7FiRfv27UGoyEfFzs6OmhIHWBM3a9as2YwZM2gtTp06JVkMx0Qb4K9CeW9JFUdRCpKBth8/fqQ0mt27d58wYQJE5KpVqyJqkDIpqaio9OzZkzxJZs2aJRKJIBkoKiqK/eApoae8vHybNm38/PwoF42Wlla3bt0IGbjd0/b4Htpw9+5dSAOCINSoUUNJSenSpUukR4RamtiXmpra1KlTLS0t+/bta2hoyBgbNGiQqqqqubn53Llzoc6sXbs26c4lwaQ8RWL6IZYeWrVqJZnFsm/fvmQ0g6uVZF0ck2UJQ1VQUDh69Ch5OknRBl1d3eTk5MjISNJ8GxgYWFpazp49W0dHp8K8OiRiSlkbGjZsmJmZKdnU2LFjaVE6d+6cn58fHR39Jdrwpe/QFRYWUmqm3377TUNDY9iwYZTLSE5Obty4cRSRbGho+PHjx+joaMj9giDUr1+ftoHYI6jCrcsYI7NVnz59MjMzycY1duxY2eh/og2CINStW5eiusXpPg8dOsQYI7Tr1as3c+ZMyMSIqiorK+vdu7empub06dPnzJmDPQkp//jx47hDIciGhITQI6tKlSpKSkrbt28nJgB3fPqpra09a9YsypAGNyGyp8nShoSEBDguGhoaLlu2jETqgwcPFhQUkL2FXPaltllAQACemcrKygg6otAFcmx78uQJHlyCIHTt2tXa2nr69Om6urqyIdGlpaUU4iK2KYmzMFlaWhoaGpqYmDDGKNhJlja8fv0aJFkc/rFixQoyOJw+fVokEtGQGjduTMnoBEGQog0AhyZIpldVVdWpU6euXr26b9++lOuCijHGiouLKW5HTU1NU1NzwIABfn5+WFNZ2rBv3z4vLy88RmrVqjV9+nQ4d2HRFy1aVFRUBFMqcnIoKioi5kGyU37MEfhVEOC04VdZqV9+nMHBwSSf4XkKr1lDQ8Pnz5/T9MgxvV+/fhXqRBljUv7KMN+jzUOHDpENHWcUFBQgBpEKmXpfuXJleXn5nTt3cKZHjx7QICopKSG3YL9+/fr37z99+nRyCiJJBf737u7uqIu8OpSmEE5B5HiAvEalpaX08nj8+HFkZCTe0E2aNOnTp0+/fv1GjRrl7OyMeAMChDGWlZVFL04aPD4fkZ+fHx4eToo0uopoCqIHyGpKbb59+5bEPlSRl5efN2+erL6QMUa0QTLnoCAIS5YsKS0t/fTpEzlISEVlPH78GFmeaFRqamrQo+fl5UnKZFSgQ4cOcHOXXCx5eXkojAVBaNq0qb+/P0lRVBHfToYFgGQ7wE7KUXymg67CApOVlSU1krt375Ksg+DgxMREMrBQj0ZGRowxSgBF59etWyf13QbAfuXKFSojCAKCbr28vKScoatWrXr06FFaKcmDjIwMkrPRlIuLCwlDUCdHR0djU6mqqkLz7eTkREIeasnLy1coNRL/xNcqQkJCcMNWrVoV3iD79++nhUBTDRs2xK3x7NkznGnUqBFWgYIuSNyUnAuOKbMT6o4ePRpfO5HqRU9PD/lVX7x4AdoAioJagiCMHj2a3FGkerlx4waK6evr49EB+iqmXvv27ZPSNBNtkNrqQ4YMQWxARkYGmSKp9/HjxxcWFopEIkohjUsKCgqwFZBTn6mpKWPs48eP5LGGkseOHSPVO4Td/Px82a01ePBguE5REmHkpU1OTqYbLSYmhkKuaYQGBgZpaWnJycmwgYjDM74UFF5cXIwnQ8+ePQHp5s2b0Q65PzHGNm3aRFwdV5WUlCrMgZuQkEDcj8YzZswYxhh5QMGHMyMjgx6Pr169opBoqtWjRw94+NA7ApdoUkh7TY55YBG0H968eUN8g9o0MTGp8C1DZjqUHDVqFBml69evj2HQU2LDhg1paWmS9yY0CKiLYZDqAScrzHlAQ+UHHIHKjACnDZV5df5TY0tMTFy2bJnF//zNmzfPzs5OrNmVjNUrKCigrHYUqFAhChcuXDAxMRk2bNiePXuio6NnzZo1fPjwHTt25Ofnv3r1as2aNWPGjBkyZMiUKVMuXbqEFhISErZs2TJu3DhjY+NJkyYdO3YMAvrLly8xqN27dzPGIiIiSIlIbxd1dXXET2/bts3CwmLOnDlwchB//hkWqnEIAAAgAElEQVR1nZycGGPBwcH4CR8GDw8P/EQaEHyGycLCYvHixXFxcSUlJaTToo7g106mf4xc/M2gOXPmoCnJ/zY2NkAvPj5+7dq14nebsbHxlClTDh06BI+UCxcuoPydO3ekYExJSXF0dBw9evSQIUOmTZuGTyxJlcFPog1dunTZu3evOMngiBEjduzYAfSKioqcnJzQi2weocjISGtr62HDhg0fPnzevHkUX/jp0ycguWLFikuXLs2dO9fMzMzW1pa+YZyamrp06dIBAwaYm5v7+Phcv359+PDhkyZN8vb2zsvLs7Ozs7CwwPetp02bNm7cOAcHB4rKuHHjBsaDr+bdunULPxE/Q1dJ4x4cHDxjxowhQ4ZMmDDh0KFDZWVlly5dQpX79+8DhLS0tO3bt48bN27w4MGTJk3avn07wgNiY2M3bdpkZmZmbGw8efLkkydPyuqw0UJ5efmRI0fGjBkzbNiwefPm+fj44HxYWNjKlSuHDh0qjhRfuHCh5FdyUUDyv+RQDx8+XFhYSEOFrjc1NXXVqlXiENgVK1ZQiph79+7NmzfPxMRk5MiRCxcuvH//foXE5vjx45g1SAXdsFZWVvAqYYx5eHjMmzfP2Nh4zJgxlpaW5FP3/v37uXPnimNY169fjz1JA0NYsOQs6Dg7O3v9+vXDhw83NTW1srKi1u7fvz979mxjY+OxY8daW1uD/+DeBG1o3749lkMsxK9fv54Ci6llOnj58uXChQstLCwcHBxAEnbt2mVhYTFz5sxdu3ZJ4UC0QV9f38HBYeLEieLPX9ja2kp+bjI7O3v//v1jx47FvXbkyBHcCOXl5S9evLC1tR0zZoyJiYnkk+fhw4cAlrz4oqOj58+fb2JiYmZmhqfWgwcPUObKlSsY/KdPn44ePTp+/PjBgwdPnjx5z5499Ki8e/cuCuO2zcvL27Rpk4WFxezZsz98+FBWVnb+/Pnp06cPGTJk9OjR1tbWCB2WzE0s+0FJQuz48eMDBgygB0JUVJSRkdHcuXOlsLp586aFhcWQIUNMTU2XLFny4MED2SB+tJmamurg4GBmZoZ7R/y4wOeTb9++jVkgi0BBQcHatWstLCwWLlyYnJxcXFx85syZqVOnDhkyZMyYMZIPh5KSkh07dowcOdLMzMzZ2fn69etoBxYnNzc3/JSdY3p6+rZt22TvYpo7HXz69MnJycnU1HT48OFLly598eJFWloadviGDRvgrOXi4oKObt68yRjz8/MbNWoUPski1n2sW7du6NChq1atAvi4MYcNGybmxuvWravQIEm98wOOQGVGgNOGyrw6/9+NjZIaIaDz6/MvLS2VUhZKlf+SACf1/pOslZaWJg4ElJOTq1GjhoWFhb29/ZQpU6Cs1dfX/5JDsGQL339sZWX122+/KSgojBgxYtOmTUuXLqXPxyK50Pc3RSW/MjUqI3XwJZSoGNEGJJml899/8PVl+ko7X1Ihf6XKX770ndDJ2oLQ43dWx0d8ZQf5JZFLtiS8wys8//WT31zor1eXvPr9k5Ws9aPHslDTV6K7dOmCqz+E2zcHQLShTZs2+GbfV9qXHR61/51Qf2exr3REPVZ4INs+kk01adKE0lJXWFHqvisqKvoSDj+0E/7a81N2FhWO+YdO/mVIv9mLZMuyoP3lJ+E3++UFOAL/Zwhw2vB/BjXv6NsIkHc1ElB8u8LPLkGffqMs/jk5OUjcoaurK/X137/TeWZmJhJl1qxZk3SZ5P5OWvm/08XPqku0gRKw/qyWeTscgR9CgGgDJWD9oerfLEy0oXXr1lJBTd+sW/kLpKWl6enpNWrU6OsWrco/ET5CjgBH4F9EgNOGfxF83vX/QiA+Ph6RZF/yvf5fpf+ZHy9evIDPrpaW1qxZs5YsWUIpTeAo/7O6LSoqIkfb4cOH//777+PGjUP0aosWLWDE/1l9/c12rly5AnfwPn36/M2meHWOwN9BIDw8HO58komh/k6DUnWfPn2KyJCWLVv+92iD+Nsa9vb2+EKi1MT5T44AR4Aj8J0IcNrwnUDxYv84ApQ8pEuXLhWGqf3jI/j8SbUjR47gY6UUb1CrVq0pU6ZU+AWJvzMkPz+/7t27S4arqqmp9erVC7lZ/07LP7cufUULIeM/t3HeGkfg+xGIiIjAXdm2bVsKZfn+6t8s+fTpU2gNmjZtWqmo+zdHzgtwBDgCHIH/GwQ4bfi/wZn38m0EfH199+3bd+jQIXxd4dsV/rESb968cXV1PXjw4IEDBy5evIhEhP9Eb3l5eXfv3j127NjevXtPnz7t5eX119x//4mxUZsJCQknTpzYv3//rVu36CQ/4Aj83yOQk5Nz4sSJAwcOuLm5/ROahaysrLNnzx44cODKlStSaQn+7yfLe+QIcAQ4ApUQAU4bKuGi8CFxBDgCHAGOAEeAI8AR4AhwBCoXApw2VK714KPhCHAEOAIcAY4AR4AjwBHgCFRCBDhtqISLwofEEeAIcAQ4AhwBjgBHgCPAEahcCHDaULnWg4+GI8AR4AhwBDgCHAGOAEeAI1AJEeC0oRIuCh8SR4AjwBHgCHAEOAIcAY4AR6ByIcBpQ+VaDz4ajgBHgCPAEeAIcAQ4AhwBjkAlRIDThkq4KHxIHAGOAEeAI8AR4AhwBDgCHIHKhQCnDZVrPfhoOAIcAY4AR4AjwBHgCHAEOAKVEAFOGyrhovAhcQQ4AhwBjgBHgCPAEeAIcAQqFwKcNlSu9eCj+e8hUFRUFBMTEx4eHhMTU1pa+t+b4JdmlJ6eHv75LyUl5Utlfsr5rKwsDw+P58+f/5TWGGPl5eVYsqioqI8fP/6sZv8D7eTk5IR//ktMTCwvL/+hGaWmpqJuRkbGVyrGxMT4+vo+e/asrKzsK8X+P7lUUFDw8uXL8PDw+Pj4HwX8Z0FUWlrq7+//8OHDwsLCL7UpEokePXrk7e1dCb9z/6Ux8/McAY7AX0CA04a/ABqvwhH4AQRCQ0N1dXUFQWjSpElaWtoP1PzFi27ZskX4/Ld69ep/bioikWjOnDmCIGhqaj548OCndCQSiZo0aSIIQvXq1Z88efJT2vxvNHLx4kWs6ZgxY35UQFy5ciXqOjo6VohGSkqKhYVF1apVgXxeXl6Fxf6/Ount7a2srCwIQu/evUtKSv6Vubu5uamqqgqCsHLlSpFIVOEYTpw4IS8vLwjCpk2bKizAT3IEOAL/DQQ4bfhvrCOfReVC4NSpU1FRURhTQECAlpaWIAgNGjSozLThzp077u7uX8cxPj7+1KlT32kz2bRpE8TEP/744+vN/p2rKSkpenp66MjW1vbvNEV1RSJRgwYNBEHQ0NB49OgRnecH58+fB9QjR478UdqwcOFC1HVwcJBFsry8nAoIglC3bt38/HzZYpXtTElJyenTp9++ffsPDczLywugde/e/d+iDUuXLsUYWrRoQVzu/fv3x48fpyGNHTsWZQwMDP4hKHizHAGOQGVAgNOGyrAKfAz/KQSOHz+uqKjo5eWFWQUGBmprawuC0Lhx40pLG8LCwqpXr75+/fqvrER+fn7//v3btWv3lTKSl+zt7SFJrFy5UvL8zz0uKSlZtmxZlSpVWrVq5efn91MaF4lEjRs3hgWDWxskIb1w4QLWdNSoUT9KG5YsWYK627Ztk2wTx0lJSbVq1RIEQUVFZeHChffu3fu3fHJkx/aVM+vWratWrVpwcPBXyvydSw8fPlRQUBAEoWfPniSj/50G/0LdGzduNGzYsEaNGg4ODvAc+/Tp0/Dhw/X09GiNTp8+Xfvz3759+/5CF7wKR4Aj8KsgwGnDr7JSfJy/BgLe3t6ampqCIJAIK0kboECld+3fn9JPaSoxMbFz586CIGzfvv0rQ1q0aJEgCD169KiwjKwn+v8NbWCMiUSi0NDQpKQkqYF9PzhSg5ekDY8fP5Zq9jt/fqdNRrI1qWFIXpI6/srUfrTfrzTFGJNq7Su04Svt4NKKFSu+QhsCAgI0NDQEQWjUqNGXPGGkQGCMfROxr4xKtjXJM+Xl5d9s3NXVVVlZWVNTMzw8XLIujss//8melzzzzeH9TdrwlSn80KXXr19LztHS0lIQhDZt2kjOJerzn+QZHH+lIyr8TRyoJD/gCHAE/l0EOG34d/Hnvf+nEIiOjtbX14dsNHnyZDs7OxcXl8DAQB0dHUEQWrRo4e/vv3Xr1okTJ1pZWUVHR9Pk8/PzT5w4MX/+/ClTpuzatSs1NZUuSR4kJCTY29vb2NgcO3YsPDx848aNEydOtLGxiYuLo2I5OTnHjh2bO3futGnT9uzZg/DTEydOWFtb29jYnD17ljH25s0bOzu7NWvW2NjYhIWFTZw4EWPu16/f+vXrt23blpmZSQ3iYOfOnShTq1YtW1vbtWvXhoaG4tL169etrKzMzMzmz5/v4uJCcZNStOHt27cbN260tbVdv359VlYWYyw3N1d2qIyxu3fvWltb29raPnr06Pbt24sWLZoyZYqzs3NRUZHUqBC+fPHiRQcHB3t7eziGFRcXu7i4zJ07d8KECdbW1nfu3PmSu0teXt7FixdXrFgxduzY6dOnHzp0CCWJNtSsWfPChQu7du2ytbV1dHTEAIKCgmxsbHbv3g2ROjw83NbW1tra+tq1a4yxuLi4vXv3zp07d/To0UuWLLl37x5j7P79+1ZWVra2tidPnsQUXrx4sWbNGltb2yNHjpSWloaEhFhZWY0bN27hwoUnT5589+6d7EwZYzk5OQcPHpw2bdrkyZM3bdrk6+tLGuigoKBt27ZNmzZt7Nix1tbWJOQ9ePDA9vOfp6fn7du358+fP3fu3D///JMx9urVq82bN0+aNGnt2rXv379Hj0ePHrWxsbG3t7958+bq1atHjRq1cePG+Ph4XK2QNnh6elpbW0+cONHW1jYwMFBy5Ldu3ZozZ465ufmhQ4fGjx//JdqQlJQ0adIkqNWrV6++b9++pKSk/fv3A+fc3NwLFy5MmzZt586d2M9xcXG7d++eOXPmuHHjtm7d+uLFC3T68ePHbdu22djYHDhw4NmzZ1u3bp08efLGjRuBp4uLy/z582fMmHH16tWvyKm+vr729vbm5uZmZmZr166VvE8lp+br6wvziKqq6vTp0+3s7IAqYywkJMTBwcH889/+/fvJhSkxMRH375EjRy5cuDBz5syJEycePXr0K2H3krShrKxMJBLt3bvX1tZ21apVsjkAkpKStm7damNjs3fv3qtXr1pYWIwfP/7QoUPkWcQYKykpcXV1Xbly5dixY5csWeLm5kZbiDH2+PHj1atXm5mZLV68+NSpUx8+fMB0Nm/e7ODgcOPGDcbYsWPHaKVsbGzWrl379OlTPz8/h89/d+7cIZRu3rxpbW1tZmY2b948FxcXmqZ439p8/nN3d/f09Fy+fPmkSZP27NnzpfuUGuQHHAGOwL+OAKcN//oS8AH8RxDIyMgwNDSEYET/+/fvHxAQAPFCU1Ozbt26dKlLly6QnlNSUkaPHk3nBUHo27cviXGS6Hh5eSHuUFVVtU6dOlSlb9++ubm5jLH3798PGzaMzguCYGxsnJWVdeTIEZxUV1cPCgqC3UAQBD09vVGjRkmWFwRBWVk5JiZGst9r166pqKhIFXN2dmaMSfqjo8CkSZMwL6INVlZWjLEFCxagQN++fQsKCpKSkoYOHSrZprGxMSwGVBIBBlRmx44dkqPCcVlZmZjtoMzVq1fFJ9etW0dVcHDmzBnZilFRUYMGDZIquXbtWuiw4aRUs2ZNNze3Vq1aoRhkYoi/ioqK+Ll8+XJc3bx5s4eHR9OmTSXbVFNTCwwMvHXrFk5qaWklJCQwxubPn48z06ZN8/b2BrGkijNmzJBS8zPGCgsLJ02aRGUEQVBSUnr27BljbOvWrYifoat6enqQVletWoWTiMvHsaKi4rJly5o1a0blTU1NwffatWtHJ+mgTZs2EM0laQPETScnJ3V1dSqpra1NguPhw4cltw1kTUEQZJ2UvL29qQVBEHR1dQMDA7EEzZo1c3JyUlNTEwRBUVExOjrax8dHcuQof/36dcZYenr6b7/9hj0seYP06dNn7ty51IWSktKtW7dkt4SYFq5bt05yOoIgGBgYyLK42NjY5s2bU4M4mDx5MmPs/PnzUqvZqlUreDE9evSIQJCsO3369E+fPsmOhzEmSRsYY5cuXULFatWqydKG4OBgqcGj8KRJk8AcsrOzZ8yYIdm1IAhz584tKCgAXZfaRQsWLGCMHTx4EFVmzJjh7u4Oo5BkI8ePH6ebffbs2Yyx4uLiJUuWyMnJSRabMGECWN/WrVtxvm7dupKA2NjYVAgCP8kR4AhUHgQ4bag8a8FH8msjkJKS8scffxAxmDp1qrW19ZUrV4KCgmrWrEmvz5YtWyopKeHn5cuXGWMUOmxkZERC/Jo1a2Th8PHxQZ4ZQRDk5eX19fXppXvz5k2xKtHGxgYtm5iYDB8+HMdOTk6MMaITrVq1qlKliiAIcnJyFy5cOH78ePv27VGyf//+NjY2Tk5O2dnZkr3fuXNn6NChYCz169e3trZeu3YtwqNRsUqVKgMHDhRHR+Dnxo0bGWOUSWnDhg3Pnz9HMhYNDY2goCDGGPwcBEEYOnTosGHDIGHAS4q8WSARkrzboUMHUljS8MrKykxMTNDvvXv33r9/j/KdO3d2cHAwMzPT0NCwt7en8nTg6uoqCIK2traRkVGPHj2AZLNmzSA9Q2bV0tJ69uyZlZUV2re3t8/Ly6PxoFnI2dra2i9evID7vtisZGxsTPxh8eLFjLGuXbuikZ07dxYVFWGfKCkp3blzZ/r06Yij2LBhw4IFCxo1ajRw4EBZOdLT0xMtiNdi48aNgwYNUlBQQAhNy5YtBUHo3LmziYkJyaznzp0TU6C1a9eiFsCsXbs2/VRRUWnatCmWVRAEMJDu3bujQNWqVbt27Upi6MyZMxljLi4uuDpq1CjxpgoODoYQ2bhxYwsLC2wAAwODwsLCDx8+kOCura2NzFSoK0sb3r9/b25ujiXQ0tI6dOjQ27dvIZfr6uo2atQIFVu2bJmUlASHOkEQOnToQMfIN5CXlweKjvLNmzenew3BRYgyEgTBzMyMdgIdZGRkILy+W7duxsbGtJ9BR6kYYywyMnLJkiUA57fffps1a9bq1avv378fGxuLWvLy8j179sS6CIJgZGRUUlISFBQED0b4YkkyNJgBJbvAMdGGAQMGpKSktG3bFlPbuXOnbOGwsDBa/Xr16nXo0AGFBUEAyd+xYwfOaGtrDxo0iAZz+PDh8vJyY2Nj5LDasGHDvHnz6tevP3z4cMaYs7MzallYWDx48GD06NGKioqCINSqVcvKymrNmjWvXr0i2rBkyRLG2MmTJ1FFQ0PDyMiIHoCIntq1axcNrGbNmqQd0NXVlbVzyk6Tn+EIcAT+RQQ4bfgXwedd/9cQEIlEffr0wRsRwjFjjGIb5OTkHB0d09LSSDsOKRkSVZUqVV68eJGfnw+xw9DQECpASYyINigpKR0+fDg1NZWE0QMHDpSVleEFXK1atfj4+PT0dNADIyOj8vLy4ODgatWq0dtaEIQJEyagccqMWaE6H2Vu3rwJCaxPnz44U1paShNB1sVjx46h/Q4dOuTl5Tk5OeHn77//Pm7cODpmjCUlJUEoVFdXT0pK+vDhA8Sdfv36STKK5s2bR0VF3blzB103bNgwNjZWEhBYBog2PHjwICwsDLNu3749opkDAwPJY0ey7q1bt2bMmPHy5UvGWEREBARKLS2tnJwcxhiFRIeGhgYFBYHVjB49+vjx4yRnGxsbu7u7QxFuYmJSXl6+efNmOzs7WH5INho7dixj7MCBA0Bg4MCBjo6OaKR79+75+fmQfcXGqGPHjonzyX748MHHx0fWv//EiRNoYejQoZGRkYyxBw8eJCUliUQiCwuLQ4cOYXazZs1CMeQ5tbOzw8/mzZtHR0dfuXIFP+Xl5Q8fPpyYmEjCJRT2PXr0EKfRVFBQgCi5Z88elK9Tp05WVpabmxt+gjYQodq8eTNjjLzdXr16RYJjrVq1/Pz83r59S7YdWdrAGPP29oYU3rZtWziwUYIsQRAGDRq0YcOGixcvkrq9SZMmqamp+fn5NP6jR4+WlpYSbVi/fn1SUpKRkREG3KlTp7dv3+7ZswdL2blzZ8nNgOOUlJTZs2eDbjHGxowZg7qQuaXKFxUVgRfVrl0byyF2mSO0BwwYIBKJIiMjUUZOTu7p06cRERGQ1HV1dSMiIvLy8khNMHbsWJFIlJ2dnfE/f+np6SKRyNvbG2xq0KBB1tbWGE+3bt0k/Y5oYEQbtLS0Xrx4UVBQMHnyZFQxMzNLT0/v0qULfh44cADEHmh069atsLCwU6dOgiBUq1bt5MmTZWVlCQkJCOwhW+X06dMZY48ePcJKSSZNIhPf0qVLGWP0GIT5jjZD27ZtCwsLyXyhq6sbGhrq5+cHK0fVqlXBXWlG/IAjwBGobAhw2lDZVoSP5xdGID8/v1evXngxUygt0Ya6devCe2fZsmUos3HjxqysLMidKioqhoaG/fv3h5RQr169169fS2FBtEFfXx95bEhG3LFjR0pKCrSAqqqqvXv3pjd3kyZN4KNsY2NDIm+jRo1evXqF9mk8W7duleqRfl69ehWye69evXDy7du3LVq0gNUiIiICLlJgJjo6Oi9evJCUODFHfX198paG5KGkpNS7d+++fftiYHXq1CkvLydhFDJHVlYWpApdXV1ZxwxJa8Pdu3fT09NJza+hoTF69Gg4BdFE6ADq/Pfv32/ZsqVFixYYQNWqVaVoQ2BgYGlpKQwyTZo0IcsM9LLGxsbAfP/+/YwxBD8EBgbOmjWLFNuQsN++fVuvXj14FgENcdYgpCKFtQFbon379oiRoHHSQWBgIPqCkWThwoUwjJR9/hOJRDdu3BgxYgT5kEA6J0F2+fLlCL1A761atYLHCIUcQFwGbVBWVsYGTkpKAoMSBCEyMpK8rczMzD59+jRhwgQMu0WLFkOGDCFV940bN6hfeK0wxoidVkgb3N3dsSVat27NPkdxEG1o3LhxYmIicNi8eTN6pGZXr16NMytWrCgvLwdtqFOnDrb3H3/8gau7du1ijPn6+mL6bdu2lQ3VhdtVcXHxlStXBg8eDH8nsZXm6NGjtAp0kJOTA9NNrVq1nj59ivNmZmbojgxcxD0uXbr07Nkz7OT27dtDKXDjxg2U79u3r7u7e8eOHfUk/k6ePPn06VM8EKpXr46bS11dndzAaDA4INpQv359zM7T05OIgZ+fHxaoZs2acDl7+vQplBTghNOmTcNg4Jp1+/ZtNHvo0CGcB2148OABVqpDhw4UIkK0YcWKFbm5uQjxgoceYywhIQE2Og0NjTdv3hw9ehQNwgmquLgYSgQNDQ16bEpNjf/kCHAEKgkCnDZUkoXgw/gvIJCXl/cV2qCnpwfaQFrDTZs2vXz5Ev7fysrKenp6+vr67dq1a9u2rZGRkaxmnWhD+/btIaFSaMGOHTuePXsGEUFFRUWyKRMTE0hd9+7dI5+N/v37kz6baEOF8hwW5sqVK6jbu3dvnHnx4gU8bRQUFCCap6SkNGzYEJ87CAwM3LdvH0khOBg8eDDqPnz4EGcw65YtW7b7/NenT5+ysjLyX4JUnZ2dDRH8m7TBzc0NLtoUmA5vEKk4XYyhrKxsx44dcJ+oUaMGpElNTU0p2uDr6ytOKLRmzRrJuXTo0EHS26dGjRpv3ryBFcXc3BwldXR0sByjR49GjxRSggKampqIIYmPjx8xYgS1r6iouHfvXlSR+n/kyBHSpsMrCV/gDgsL69+/vzhsQE1NjQrAlkXiOyJMXr9+DemzU6dOSAdMCmkp2oBv56Wnp0MJLQhCSEjI7du3Mc7x48enpaWRLl9XV1dfX79169Zi2tO+ffvr168vXrwYJdetW4dZfD0B6/37979EG5YtW0Y4kAMbfQzEwcEBHc2dO7e4uBja/YYNGwJboqAHDx5kjAUFBYFWtWvXTpY2MMb8/f1BnFRUVGrUqIGWjx07RgOgg+zsbOyB2rVrE20YMGAAqlAeUoolOHToUGhoKMBv06YNvHGePHmC8l27dj116hSO6b+9vX1ERARoA53U0dGRTIFA42GMEW2oW7cu3PkCAwOxCVu3bn3nzh1s8saNGwOc169fAy5tbe3Y2Ni4uLghQ4ZQR8rKyuBLUtYGDw8PrFTHjh1lacOqVavevHkDv7IqVarADvPu3TsKEIqKiiKvpxUrViBbF7y5OG2QXE1+zBGonAhw2lA514WP6pdEIDc3t2fPnnjvQtxkjAUEBEDqbdy4MfS7JMps3LgxOTkZTv/VqlXz8PDIyspKS0vLzc0tLCwksZ6wINoAW79knPGOHTsSExOhMq9Zs+ajR4/QVF5eXmFhYWlpqUgkGjlyJMkESkpKFChMn3P6irXB1dUVtKF79+4YT2JiIiJT5eTk4FqQmJgIB6G6devGxMTs3r0b3XXt2hW6RkVFxfPnzwMTkCVNTU1/f3+aNWQdySBjxlhWVtYP0QbGWHZ2tq2tLQnQixYtkpURKTfUsmXLgoODodvW0tJCScg9mpqaUH96eXlB5IIDz+nTp+EIjglOmjQJOWrgLqWuru7i4nLy5ElIbOQM5uPjQ6YAQRBQiwSvkydPGhgYwJ7QtGlTMExaeuSMYozFxsbOnj2bvNLPnDmTkJAAZW2jRo0iIiJIqQ/JlWIb8K3u2NhYKLw7duwIykFh1lK0AS5ecXFxEI4VFRVjYmIkrQ0FBQUUyr9mzZq8vLzU1NSsrKxPnz6VlJRQKDaCIr5pbfgKbaCNKhkIBM23eK1p91pbW5O1oUGDBsiARBQUaAQGBn6FNkRERGDPtG/fPigoiMLWsWkl1wJ7DIVr1KhBqZzoq2cbNmxAeQoxun79+vPnzwF+27ZtYdkgqjBgwAB/f38jI+gHdMwAAA3ZSURBVKPOnTt37969W7duHTt2vHTpUlhYGGhD8+bNKbBh4cKFUoPBT6IN9erVw5mrV69ii/bu3TsoKAj3kba2NsyDwcHB5DSFRxMSJbVr1w6dduzYsbS0lFyMgDnZhSQTsBI7XbFiRU5ODp4MqqqqyEMdFxcHrKpXr/7hwweyNoAQikQi8HxOGypcVn6SI1CpEOC0oVItBx/Mr41AYWFh79698Z6eO3eui4vLmTNnnjx5At8AWdqAAEEEJMjJyS1btgyuC1FRUX5+fiRQEihfoQ1OTk4ikQgSnpycnLW1NZxwIiIiEGVx6dIl8lDCCJs1awZ9M2lw+/fvf/369V27dpFPCHXt5uamrKwM95jz58+fOnXK09OTdOTLli3Lzs6mGOju3bt//Phx+/bt6MjOzo7Cvps1a5aZmZmeng4xXU5OztbWFkONioqCWYDGA4/576cNd+/eTU5O3rBhg5+fX3FxMYUTjBgxQjLLJGMsPz8fSmVxsil/f/+wsDBIVGpqam5ubjk5OfB0ItqQl5fXrVs3TKdJkyZZWVkUAyoIwqVLlxhjT548ARfS19f/+PGjo6Mjynfq1CkkJATfASCyoaCgAGeksrIyR0fHixcv5ubmhoSEwICjoqJCWTtpCQIDA+3s7CIjI4uLi8lwsWXLFhI9p06d+vHjx6lTp6LfKVOmxMTEEPI/RBvk5ORWr14dEhJCJgI9Pb38/Pxr166hcZhQaKU6deoE41hOTo67u3thYSFFYujo6Hh4eLx8+ZJMExUatb5EG+Tl5RHuDxxcXV2xjevWrfvs2bPY2FjKqnT+/HmRSATx9K/Rhm3btmF2ixcvLigooMCDhQsXyir4xZmOsVjy8vKrVq26cOHCtWvXaFd06dLl7du3Xl5e2FdKSkpRUVHh4eEQ07W1tV1cXHx9fSk2ydzcHHr30v/5E4lE5eXlFBJtYmJy6dIlUHd1dXUk9qW9gQOiDVWqVLl06VJAQAA9jqZOnZqVlUVKjY0bN2ZkZNDyIWBp+/btFy5cyM/P9/PzgxVOR0cnOzv77NmzgAW04eHDh3Df0tTUPHHixMmTJ/39/WniiG2gOJZFixZlZGTQvdClS5eioiK6MTltkFpB/pMjUPkR4LSh8q8RH+GvhICpqSlesfjfrFkzyu8uSxuQLmnDhg1UxcDAYMCAATVq1OjWrdsPWRu2bNkizntI7k/wYOnfv7+mpuaQIUMyMzMNDAzQy8SJEymFC5wEKAiBhkHfZCDoQ0JCyNUbxZycnMgzW1FRsXPnzjCbCIIAhxCSJNauXVtQUIBACEEQ0CmZXGio1atXlwqJ/lHa4OHhER0draSkpKamZmhoSD3Kfqa6sLCQ3MlatWpFTvmCINSuXTs0NLR169bIbkTO1jRgCE/BwcHQyDZp0gQsKygoCAioqqp27NhR0rdk+PDhSKhKa92hQwdKGoOlad++fZcuXUA8WrVqhbhqwp8xdvnyZUEQatas2adPH4RJiKG7devWxYsXsSLa2toYNq3jhg0bKDL7h2gDWqAEOIIgAEPqCwEbgYGBlNqrfv36RkZGGEBUVFRubi5lT6patSokbDT7Q7RBQ0Pj4cOHhENeXh7Jvo0aNaIuOnTokPv57+/QBrKP1apVSwpJ2TEXFhZShDHmZWJi8vr1a8oLpK+vT8sk/qiFSCQKDAwkMxF2FyoqKChQIAHNFAdeXl7YSPDfI07Yo0cP2j9UhWgDmqVMUHJycleuXGGMHT58GJfU1NQ6duyIzSb+cBuutmnTRhCEjh07durUCTqC7t27l5aWEgPEzo+JiYGrFZoS/1+/fj3Z7pA3jKwcSkpKBgYGcGoShwPB+472JKcNtHb8gCPwqyDAacOvslJ8nL8GAleuXCFvFkEQpk6d6uvrC8+T6tWrp6eni71ufv/9d7xx8dbMzs6eOXMmRbsiyHj58uWyfjUPHjxAxfr168Ofh6IYwUDS0tLE37eStCooKipu3ryZPEZq164tdi46f/48vfIfPXoUFxcHLxecbNasGTz1JREXiUSUJ0f8PWl1dXVkj924caOkDKGhobFy5Uqo9sk9BpLEmTNnqNN79+5lZ2ebm5vDjQfnFRQUkLidAjZsbW0ZY5mZmZiRuro6OZHT2MrKykiOvHXrVkpKCqUQRbOGhoYVfrGLBB1BEJp+/kP5nj17JiQkwOdbEARkOIXXOwpA+V1QUIAcPuSEU1xcLPklih49epC0hGjd0tLSwYMHoxFMDbOg+eJSnTp1ZDN+YgCSwjdyYRUWFiYkJFCiT0EQ6OMhSkpKFy9eJKKCzJjR0dHopXHjxvhKBnnRHD9+XPxlOhhhlJSUyLMf+UPx7QKybAwcOBCrfPjwYcpIi5bbtWuHr464ublBiMd5+OeIcwcjPy+tIA7I/alu3brsc0g0DcDb21uycFhYGFmK0LKBgQHYXXp6OvTxVatWxbf/yFqCvFK+vr6o0qBBA9n7KzIykkJWFBUVqRdVVVVXV1fJMeD46NGjkhsYfPjevXsUlI++hg4dClOMr68vaIOGhgZxbEEQEHYi2z6SZaERJJgiHzNBECwtLaUMkkQbVFVVic4JgvDHH39AB1FSUmJpaSnpKaelpYU0aIwxCwsL9IX/urq6SK61d+9enBk3bhyc5SRLqqioXL16lYxaFhYWmIi9vT2tIJ4Yf/zxB+yKpFCYM2cOvvJOsEutdYWY8JMcAY7Av4gApw3/Ivi86/8mAg8ePBALRuvWrTt37lzm579z5845Ozu7uroijjk4ONj58x8+AoUsonfv3t22bZulpeXu3bs9PT1RUgqg5OTkM2fOODs7//nnn9Be+/r6oilKMSQSiW7fvu3g4GBpabl3715vb++ysrKbN28eO3bM2dkZituPHz+inSNHjkAQj4iI2L59u62t7cGDBysUshljGRkZR44csba2dnR0lMwQ6u/vv337dktLyz179ki+9cPDwyWnWVRU5Orq6uzsfOTIEX9/f4gLt27doqE+fPgQwk1AQAAqYmxFRUUA8NKlS1IflIAQc+/ePZSHaBsXF3fq1Ck7O7t169adOnUqOTlZCkb8LC0tPXv27IoVK3bs2PHu3bvo6Gg7OzsnJye4o2CoZ86cQQAAQhc2b95sY2NDuS+vXbu2fPlyyrQr/ohbSkrKli1bVq1adfHixYKCgps3b65Zs+bcuXMwHfj6+iL2Q0NDA87lGElOTs7169cdHBysra337dsnS41o/M+ePTt06JCtra29vb2rqyt9xSIiIsLW1nbNmjUeHh4fP350dna2s7ODH0tYWBjACQkJQWJTLP21a9eQiOnhw4cogMxdIF3q6urHP/9ZW1sfPnwYdJcxFh8fj8IeHh70Qbpnz54dPHjQysrK3t7+8uXLkt84F7vmb9q0ydra+urVq/7+/qgrOXea2vv370+dOuXs7AzKVFJScuXKFWdnZ8kloMLifFnnzp2ztbXdsGHDuXPnaI2KiorOnz/v7Ozs4uKCZQoKCkKnyLSblpZ2+vRp3EFSMjcaDwkJEcdI2NnZPX78ODc3d//+/evXr/f09KywcFlZmTgKf926dRs3brxy5QqFo8TFxR09etTS0nLr1q1Xr16lZSLa0K5du9u3bzs6Oq5ZswaiOU1N6iAlJeXEiRPOzs70fTpvb29nZ+djx465ublJjYpoQ7169R49euTo6Ghrayv7SWwfHx/cdPv27UPsATrNzMy8du3ali1bsA/pkRIdHQ0MyfKWnZ19/PhxGxubbdu2eXp6MsaeP3+OMpLpBwIDAx0dHfFMkzQZRUREoHBAQACefrTWcJuUAoH/5AhwBCoPApw2VJ614CPhCHAE/ssIUKpQU1PTSjtP0AYlJSWSESvtUH+5gRFtaNu2LRIo/9wpEG2AxebnNs5b4whwBDgCjDFOG/g24AhwBDgC/zgCaWlplIPSxcXlH+/vr3YA2qCsrOzh4fFX2+D1KkaAaEObNm0oc1HFRf/SWUnaQCaOv9QSr8QR4AhwBCpGgNOGinHhZzkCHAGOwE9EwMXFBQ7i+vr65FTzE9v/WU3hk9Xy8vLu7u4/q03eDhB48uQJ8gro6+v/E7QhNDQUYdC1atXitIHvOo4AR+CfQIDThn8CVd4mR4AjwBH4XwhMnTpVXl5eWVlZMhj6f5WoHD/69esnCELVqlXhs145BvUfGUVgYGDt2rXFKWU7deokmwfp70/y6dOn9evXl5OT09PT47Th7+PJW+AIcARkEeC0QRYTfoYjwBHgCPxkBCIjI4OCgkJCQihw9id38JOai4mJCQgIePr0KUV+/6SGeTPs48eP4eHhgYGBkZGRsumV/z5A1H5ERIRsnqi/3z5vgSPAEeAIcNrA9wBHgCPAEeAIcAQ4AhwBjgBHgCPwDQQ4bfgGQPwyR4AjwBHgCHAEOAIcAY4AR4AjwGkD3wMcAY4AR4AjwBHgCHAEOAIcAY7ANxDgtOEbAPHLHAGOAEeAI8AR4AhwBDgCHAGOAKcNfA9wBDgCHAGOAEeAI8AR4AhwBDgC30CA04ZvAMQvcwQ4AhwBjgBHgCPAEeAIcAQ4Apw28D3AEeAIcAQ4AhwBjgBHgCPAEeAIfAMBThu+ARC/zBHgCHAEOAIcAY4AR4AjwBHgCHDawPcAR4AjwBHgCHAEOAIcAY4AR4Aj8A0EOG34BkD8MkeAI8AR4AhwBDgCHAGOAEeAI8BpA98DHAGOAEeAI8AR4AhwBDgCHAGOwDcQ+H/OnVG6fHSQRAAAAABJRU5ErkJggg==)"
      ],
      "metadata": {
        "id": "8HrY507-ctOU"
      }
    },
    {
      "cell_type": "code",
      "source": [
        "next_token_logits"
      ],
      "metadata": {
        "colab": {
          "base_uri": "https://localhost:8080/"
        },
        "id": "zLzrJUBjegYf",
        "outputId": "52dbc3d1-6d3e-4453-8cd3-fd3ef60d87d7"
      },
      "execution_count": 59,
      "outputs": [
        {
          "output_type": "execute_result",
          "data": {
            "text/plain": [
              "tensor([ 4.5100,  0.8900, -1.9000,  6.7500,  1.6300, -1.6200, -1.8900,  6.2800,\n",
              "         1.7900])"
            ]
          },
          "metadata": {},
          "execution_count": 59
        }
      ]
    },
    {
      "cell_type": "code",
      "source": [
        "top_k = 3\n",
        "top_logits, top_pos = torch.topk(next_token_logits, top_k)\n",
        "\n",
        "print(\"Top logits:\", top_logits)\n",
        "print(\"Top positions:\", top_pos)"
      ],
      "metadata": {
        "colab": {
          "base_uri": "https://localhost:8080/"
        },
        "id": "0X15WJiIaWKx",
        "outputId": "6d7fea61-fc3e-4d26-e6a7-8ec37d571bfa"
      },
      "execution_count": 60,
      "outputs": [
        {
          "output_type": "stream",
          "name": "stdout",
          "text": [
            "Top logits: tensor([6.7500, 6.2800, 4.5100])\n",
            "Top positions: tensor([3, 7, 0])\n"
          ]
        }
      ]
    },
    {
      "cell_type": "code",
      "source": [
        "new_logits = torch.where(\n",
        "    condition=next_token_logits < top_logits[-1],\n",
        "    input=torch.tensor(float('-inf')),\n",
        "    other=next_token_logits\n",
        ")\n",
        "\n",
        "print(new_logits)"
      ],
      "metadata": {
        "colab": {
          "base_uri": "https://localhost:8080/"
        },
        "id": "vqyFRYJ_ePOD",
        "outputId": "37fac6ad-f3dc-41c6-8a16-07cc61e14092"
      },
      "execution_count": 61,
      "outputs": [
        {
          "output_type": "stream",
          "name": "stdout",
          "text": [
            "tensor([4.5100,   -inf,   -inf, 6.7500,   -inf,   -inf,   -inf, 6.2800,   -inf])\n"
          ]
        }
      ]
    },
    {
      "cell_type": "code",
      "source": [
        "topk_probas = torch.softmax(new_logits, dim=0)\n",
        "print(topk_probas)"
      ],
      "metadata": {
        "colab": {
          "base_uri": "https://localhost:8080/"
        },
        "id": "C6Oms5N9eRco",
        "outputId": "53797da8-cad3-4b6a-8480-4d0a536e922c"
      },
      "execution_count": 62,
      "outputs": [
        {
          "output_type": "stream",
          "name": "stdout",
          "text": [
            "tensor([0.0615, 0.0000, 0.0000, 0.5775, 0.0000, 0.0000, 0.0000, 0.3610, 0.0000])\n"
          ]
        }
      ]
    },
    {
      "cell_type": "markdown",
      "source": [
        "# Promena na text generation funkcija\n"
      ],
      "metadata": {
        "id": "reV1utVt5iD8"
      }
    },
    {
      "cell_type": "code",
      "source": [
        "def generate(model, idx, max_new_tokens, context_size, temperature=0.0, top_k=None, eos_id=None):\n",
        "\n",
        "    # for ciklus za da se generiraat novi zborovi\n",
        "    for _ in range(max_new_tokens):\n",
        "        idx_cond = idx[:, -context_size:] #gi vadi poslednite context_size zborovi so pomos na koi ke se pravat predviduvanja\n",
        "        with torch.no_grad():\n",
        "            logits = model(idx_cond) #zema logits od poslednite context_size zborovi\n",
        "        logits = logits[:, -1, :] #go zema posledniot logit,,,???\n",
        "\n",
        "        # Pravi filtriranje so pomos na top_k\n",
        "        if top_k is not None:\n",
        "            # Keep only top_k values\n",
        "            top_logits, _ = torch.topk(logits, top_k) #gi zema najgolemite k vrednosti od logitsot\n",
        "            min_val = top_logits[:, -1] #od tie vrednosti ja selektira najmalata\n",
        "            logits = torch.where(logits < min_val, torch.tensor(float('-inf')).to(logits.device), logits) #za site vrednosti pomali od najmalata vo top k se stava -inf vrednost\n",
        "\n",
        "        # Pravi randomizacija so temperatura\n",
        "        if temperature > 0.0:\n",
        "            logits = logits / temperature\n",
        "\n",
        "            # Apply softmax to get probabilities\n",
        "            probs = torch.softmax(logits, dim=-1)  # (batch_size, context_len)\n",
        "\n",
        "            # Sample from the distribution\n",
        "            idx_next = torch.multinomial(probs, num_samples=1)  # (batch_size, 1)\n",
        "\n",
        "        # Otherwise same as before: get idx of the vocab entry with the highest logits value\n",
        "        else:\n",
        "            idx_next = torch.argmax(logits, dim=-1, keepdim=True)  # ako nema temp odbirame so arg max\n",
        "\n",
        "        if idx_next == eos_id:  # Stop generating early if end-of-sequence token is encountered and eos_id is specified\n",
        "            break\n",
        "\n",
        "        # Same as before: append sampled index to the running sequence\n",
        "        idx = torch.cat((idx, idx_next), dim=1)  # (batch_size, num_tokens+1)\n",
        "\n",
        "    return idx"
      ],
      "metadata": {
        "id": "g-gcAMHHeVgU"
      },
      "execution_count": 63,
      "outputs": []
    },
    {
      "cell_type": "code",
      "source": [
        "torch.manual_seed(123)\n",
        "\n",
        "token_ids = generate(\n",
        "    model=model,\n",
        "    idx=text_to_token_ids(\"Every effort moves you\", tokenizer),\n",
        "    max_new_tokens=15,\n",
        "    context_size=GPT_CONFIG_124M[\"context_length\"],\n",
        "    top_k=25,\n",
        "    temperature=1.4\n",
        ")\n",
        "\n",
        "print(\"Output text:\\n\", token_ids_to_text(token_ids, tokenizer))"
      ],
      "metadata": {
        "colab": {
          "base_uri": "https://localhost:8080/"
        },
        "id": "unjY44Wj714t",
        "outputId": "5b040ae5-90e9-417a-9dbc-2b812234c3e3"
      },
      "execution_count": 64,
      "outputs": [
        {
          "output_type": "stream",
          "name": "stdout",
          "text": [
            "Output text:\n",
            " Every effort moves youany more than if I had married her so charming wild--oh face the\n"
          ]
        }
      ]
    },
    {
      "cell_type": "markdown",
      "source": [
        "# Zacuvuvanje i loadiranje na prethodno definiran model"
      ],
      "metadata": {
        "id": "s4bv_ZeF9kO5"
      }
    },
    {
      "cell_type": "markdown",
      "source": [
        "Za posle sekoja upotreba da ne mora da se ceka dolgo za da se loadira modelot, a sepak da gi ima nauceno weightsot od prethodni obidi vo PyTorch postoi opcija da se zacuva seto ona sto e prethodno definirano"
      ],
      "metadata": {
        "id": "bRSy1zL_9tGx"
      }
    },
    {
      "cell_type": "code",
      "source": [
        "torch.save(model.state_dict(), \"model.pth\")"
      ],
      "metadata": {
        "id": "P7J0IdD58Jq4"
      },
      "execution_count": 65,
      "outputs": []
    },
    {
      "cell_type": "markdown",
      "source": [
        "kod za zacuvuvanje na model vo PyTorch"
      ],
      "metadata": {
        "id": "woBsePo0-gvQ"
      }
    },
    {
      "cell_type": "code",
      "source": [
        "model = GPTModel(GPT_CONFIG_124M)\n",
        "device = torch.device(\"cuda\" if torch.cuda.is_available() else \"cpu\")\n",
        "model.load_state_dict(torch.load(\"model.pth\", map_location=device, weights_only=True))\n",
        "model.eval();"
      ],
      "metadata": {
        "id": "xMkaPWt8-f-1"
      },
      "execution_count": 66,
      "outputs": []
    },
    {
      "cell_type": "markdown",
      "source": [
        "Otkako sme gi zacuvale weightsot na modelot mozeme povtorno da gi loadirame za pokratko vreme:"
      ],
      "metadata": {
        "id": "vd4oiNUO_Y4r"
      }
    },
    {
      "cell_type": "code",
      "source": [
        "model = GPTModel(GPT_CONFIG_124M)\n",
        "model.load_state_dict(torch.load(\"model.pth\"))\n",
        "model.eval()"
      ],
      "metadata": {
        "colab": {
          "base_uri": "https://localhost:8080/"
        },
        "id": "27OllLlt_TDi",
        "outputId": "8386ff58-5caa-4296-836e-64948ef87cf0"
      },
      "execution_count": 67,
      "outputs": [
        {
          "output_type": "execute_result",
          "data": {
            "text/plain": [
              "GPTModel(\n",
              "  (tok_emb): Embedding(50257, 768)\n",
              "  (pos_emb): Embedding(256, 768)\n",
              "  (drop_emb): Dropout(p=0.1, inplace=False)\n",
              "  (trf_blocks): Sequential(\n",
              "    (0): TransformerBlock(\n",
              "      (att): MultiHeadAttention(\n",
              "        (W_query): Linear(in_features=768, out_features=768, bias=False)\n",
              "        (W_key): Linear(in_features=768, out_features=768, bias=False)\n",
              "        (W_value): Linear(in_features=768, out_features=768, bias=False)\n",
              "        (out_proj): Linear(in_features=768, out_features=768, bias=True)\n",
              "        (dropout): Dropout(p=0.1, inplace=False)\n",
              "      )\n",
              "      (ff): FeedForward(\n",
              "        (layers): Sequential(\n",
              "          (0): Linear(in_features=768, out_features=3072, bias=True)\n",
              "          (1): GELU()\n",
              "          (2): Linear(in_features=3072, out_features=768, bias=True)\n",
              "        )\n",
              "      )\n",
              "      (norm1): LayerNormalization()\n",
              "      (norm2): LayerNormalization()\n",
              "      (drop_shortcut): Dropout(p=0.1, inplace=False)\n",
              "    )\n",
              "    (1): TransformerBlock(\n",
              "      (att): MultiHeadAttention(\n",
              "        (W_query): Linear(in_features=768, out_features=768, bias=False)\n",
              "        (W_key): Linear(in_features=768, out_features=768, bias=False)\n",
              "        (W_value): Linear(in_features=768, out_features=768, bias=False)\n",
              "        (out_proj): Linear(in_features=768, out_features=768, bias=True)\n",
              "        (dropout): Dropout(p=0.1, inplace=False)\n",
              "      )\n",
              "      (ff): FeedForward(\n",
              "        (layers): Sequential(\n",
              "          (0): Linear(in_features=768, out_features=3072, bias=True)\n",
              "          (1): GELU()\n",
              "          (2): Linear(in_features=3072, out_features=768, bias=True)\n",
              "        )\n",
              "      )\n",
              "      (norm1): LayerNormalization()\n",
              "      (norm2): LayerNormalization()\n",
              "      (drop_shortcut): Dropout(p=0.1, inplace=False)\n",
              "    )\n",
              "    (2): TransformerBlock(\n",
              "      (att): MultiHeadAttention(\n",
              "        (W_query): Linear(in_features=768, out_features=768, bias=False)\n",
              "        (W_key): Linear(in_features=768, out_features=768, bias=False)\n",
              "        (W_value): Linear(in_features=768, out_features=768, bias=False)\n",
              "        (out_proj): Linear(in_features=768, out_features=768, bias=True)\n",
              "        (dropout): Dropout(p=0.1, inplace=False)\n",
              "      )\n",
              "      (ff): FeedForward(\n",
              "        (layers): Sequential(\n",
              "          (0): Linear(in_features=768, out_features=3072, bias=True)\n",
              "          (1): GELU()\n",
              "          (2): Linear(in_features=3072, out_features=768, bias=True)\n",
              "        )\n",
              "      )\n",
              "      (norm1): LayerNormalization()\n",
              "      (norm2): LayerNormalization()\n",
              "      (drop_shortcut): Dropout(p=0.1, inplace=False)\n",
              "    )\n",
              "    (3): TransformerBlock(\n",
              "      (att): MultiHeadAttention(\n",
              "        (W_query): Linear(in_features=768, out_features=768, bias=False)\n",
              "        (W_key): Linear(in_features=768, out_features=768, bias=False)\n",
              "        (W_value): Linear(in_features=768, out_features=768, bias=False)\n",
              "        (out_proj): Linear(in_features=768, out_features=768, bias=True)\n",
              "        (dropout): Dropout(p=0.1, inplace=False)\n",
              "      )\n",
              "      (ff): FeedForward(\n",
              "        (layers): Sequential(\n",
              "          (0): Linear(in_features=768, out_features=3072, bias=True)\n",
              "          (1): GELU()\n",
              "          (2): Linear(in_features=3072, out_features=768, bias=True)\n",
              "        )\n",
              "      )\n",
              "      (norm1): LayerNormalization()\n",
              "      (norm2): LayerNormalization()\n",
              "      (drop_shortcut): Dropout(p=0.1, inplace=False)\n",
              "    )\n",
              "    (4): TransformerBlock(\n",
              "      (att): MultiHeadAttention(\n",
              "        (W_query): Linear(in_features=768, out_features=768, bias=False)\n",
              "        (W_key): Linear(in_features=768, out_features=768, bias=False)\n",
              "        (W_value): Linear(in_features=768, out_features=768, bias=False)\n",
              "        (out_proj): Linear(in_features=768, out_features=768, bias=True)\n",
              "        (dropout): Dropout(p=0.1, inplace=False)\n",
              "      )\n",
              "      (ff): FeedForward(\n",
              "        (layers): Sequential(\n",
              "          (0): Linear(in_features=768, out_features=3072, bias=True)\n",
              "          (1): GELU()\n",
              "          (2): Linear(in_features=3072, out_features=768, bias=True)\n",
              "        )\n",
              "      )\n",
              "      (norm1): LayerNormalization()\n",
              "      (norm2): LayerNormalization()\n",
              "      (drop_shortcut): Dropout(p=0.1, inplace=False)\n",
              "    )\n",
              "    (5): TransformerBlock(\n",
              "      (att): MultiHeadAttention(\n",
              "        (W_query): Linear(in_features=768, out_features=768, bias=False)\n",
              "        (W_key): Linear(in_features=768, out_features=768, bias=False)\n",
              "        (W_value): Linear(in_features=768, out_features=768, bias=False)\n",
              "        (out_proj): Linear(in_features=768, out_features=768, bias=True)\n",
              "        (dropout): Dropout(p=0.1, inplace=False)\n",
              "      )\n",
              "      (ff): FeedForward(\n",
              "        (layers): Sequential(\n",
              "          (0): Linear(in_features=768, out_features=3072, bias=True)\n",
              "          (1): GELU()\n",
              "          (2): Linear(in_features=3072, out_features=768, bias=True)\n",
              "        )\n",
              "      )\n",
              "      (norm1): LayerNormalization()\n",
              "      (norm2): LayerNormalization()\n",
              "      (drop_shortcut): Dropout(p=0.1, inplace=False)\n",
              "    )\n",
              "    (6): TransformerBlock(\n",
              "      (att): MultiHeadAttention(\n",
              "        (W_query): Linear(in_features=768, out_features=768, bias=False)\n",
              "        (W_key): Linear(in_features=768, out_features=768, bias=False)\n",
              "        (W_value): Linear(in_features=768, out_features=768, bias=False)\n",
              "        (out_proj): Linear(in_features=768, out_features=768, bias=True)\n",
              "        (dropout): Dropout(p=0.1, inplace=False)\n",
              "      )\n",
              "      (ff): FeedForward(\n",
              "        (layers): Sequential(\n",
              "          (0): Linear(in_features=768, out_features=3072, bias=True)\n",
              "          (1): GELU()\n",
              "          (2): Linear(in_features=3072, out_features=768, bias=True)\n",
              "        )\n",
              "      )\n",
              "      (norm1): LayerNormalization()\n",
              "      (norm2): LayerNormalization()\n",
              "      (drop_shortcut): Dropout(p=0.1, inplace=False)\n",
              "    )\n",
              "    (7): TransformerBlock(\n",
              "      (att): MultiHeadAttention(\n",
              "        (W_query): Linear(in_features=768, out_features=768, bias=False)\n",
              "        (W_key): Linear(in_features=768, out_features=768, bias=False)\n",
              "        (W_value): Linear(in_features=768, out_features=768, bias=False)\n",
              "        (out_proj): Linear(in_features=768, out_features=768, bias=True)\n",
              "        (dropout): Dropout(p=0.1, inplace=False)\n",
              "      )\n",
              "      (ff): FeedForward(\n",
              "        (layers): Sequential(\n",
              "          (0): Linear(in_features=768, out_features=3072, bias=True)\n",
              "          (1): GELU()\n",
              "          (2): Linear(in_features=3072, out_features=768, bias=True)\n",
              "        )\n",
              "      )\n",
              "      (norm1): LayerNormalization()\n",
              "      (norm2): LayerNormalization()\n",
              "      (drop_shortcut): Dropout(p=0.1, inplace=False)\n",
              "    )\n",
              "    (8): TransformerBlock(\n",
              "      (att): MultiHeadAttention(\n",
              "        (W_query): Linear(in_features=768, out_features=768, bias=False)\n",
              "        (W_key): Linear(in_features=768, out_features=768, bias=False)\n",
              "        (W_value): Linear(in_features=768, out_features=768, bias=False)\n",
              "        (out_proj): Linear(in_features=768, out_features=768, bias=True)\n",
              "        (dropout): Dropout(p=0.1, inplace=False)\n",
              "      )\n",
              "      (ff): FeedForward(\n",
              "        (layers): Sequential(\n",
              "          (0): Linear(in_features=768, out_features=3072, bias=True)\n",
              "          (1): GELU()\n",
              "          (2): Linear(in_features=3072, out_features=768, bias=True)\n",
              "        )\n",
              "      )\n",
              "      (norm1): LayerNormalization()\n",
              "      (norm2): LayerNormalization()\n",
              "      (drop_shortcut): Dropout(p=0.1, inplace=False)\n",
              "    )\n",
              "    (9): TransformerBlock(\n",
              "      (att): MultiHeadAttention(\n",
              "        (W_query): Linear(in_features=768, out_features=768, bias=False)\n",
              "        (W_key): Linear(in_features=768, out_features=768, bias=False)\n",
              "        (W_value): Linear(in_features=768, out_features=768, bias=False)\n",
              "        (out_proj): Linear(in_features=768, out_features=768, bias=True)\n",
              "        (dropout): Dropout(p=0.1, inplace=False)\n",
              "      )\n",
              "      (ff): FeedForward(\n",
              "        (layers): Sequential(\n",
              "          (0): Linear(in_features=768, out_features=3072, bias=True)\n",
              "          (1): GELU()\n",
              "          (2): Linear(in_features=3072, out_features=768, bias=True)\n",
              "        )\n",
              "      )\n",
              "      (norm1): LayerNormalization()\n",
              "      (norm2): LayerNormalization()\n",
              "      (drop_shortcut): Dropout(p=0.1, inplace=False)\n",
              "    )\n",
              "    (10): TransformerBlock(\n",
              "      (att): MultiHeadAttention(\n",
              "        (W_query): Linear(in_features=768, out_features=768, bias=False)\n",
              "        (W_key): Linear(in_features=768, out_features=768, bias=False)\n",
              "        (W_value): Linear(in_features=768, out_features=768, bias=False)\n",
              "        (out_proj): Linear(in_features=768, out_features=768, bias=True)\n",
              "        (dropout): Dropout(p=0.1, inplace=False)\n",
              "      )\n",
              "      (ff): FeedForward(\n",
              "        (layers): Sequential(\n",
              "          (0): Linear(in_features=768, out_features=3072, bias=True)\n",
              "          (1): GELU()\n",
              "          (2): Linear(in_features=3072, out_features=768, bias=True)\n",
              "        )\n",
              "      )\n",
              "      (norm1): LayerNormalization()\n",
              "      (norm2): LayerNormalization()\n",
              "      (drop_shortcut): Dropout(p=0.1, inplace=False)\n",
              "    )\n",
              "    (11): TransformerBlock(\n",
              "      (att): MultiHeadAttention(\n",
              "        (W_query): Linear(in_features=768, out_features=768, bias=False)\n",
              "        (W_key): Linear(in_features=768, out_features=768, bias=False)\n",
              "        (W_value): Linear(in_features=768, out_features=768, bias=False)\n",
              "        (out_proj): Linear(in_features=768, out_features=768, bias=True)\n",
              "        (dropout): Dropout(p=0.1, inplace=False)\n",
              "      )\n",
              "      (ff): FeedForward(\n",
              "        (layers): Sequential(\n",
              "          (0): Linear(in_features=768, out_features=3072, bias=True)\n",
              "          (1): GELU()\n",
              "          (2): Linear(in_features=3072, out_features=768, bias=True)\n",
              "        )\n",
              "      )\n",
              "      (norm1): LayerNormalization()\n",
              "      (norm2): LayerNormalization()\n",
              "      (drop_shortcut): Dropout(p=0.1, inplace=False)\n",
              "    )\n",
              "  )\n",
              "  (final_norm): LayerNormalization()\n",
              "  (out_head): Linear(in_features=768, out_features=50257, bias=False)\n",
              ")"
            ]
          },
          "metadata": {},
          "execution_count": 67
        }
      ]
    },
    {
      "cell_type": "markdown",
      "source": [
        "Dokolku sakame da prodolzime so pretraining na modelot, dobro e da bidat zacuvani i sostojbite na optimizerot"
      ],
      "metadata": {
        "id": "XBYteyCvA0is"
      }
    },
    {
      "cell_type": "code",
      "source": [
        "torch.save({\n",
        "    \"model_state_dict\": model.state_dict(),\n",
        "    \"optimizer_state_dict\": optimizer.state_dict(),\n",
        "    },\n",
        "    \"model_and_optimizer.pth\"\n",
        ")"
      ],
      "metadata": {
        "id": "RkJcmLzx_nEy"
      },
      "execution_count": 68,
      "outputs": []
    },
    {
      "cell_type": "markdown",
      "source": [
        "Loadiranje na modelot:"
      ],
      "metadata": {
        "id": "hAL-rxDbBwDL"
      }
    },
    {
      "cell_type": "code",
      "source": [
        "checkpoint = torch.load(\"model_and_optimizer.pth\")\n",
        "model = GPTModel(GPT_CONFIG_124M)\n",
        "model.load_state_dict(checkpoint[\"model_state_dict\"])\n",
        "optimizer = torch.optim.AdamW(model.parameters(), lr=5e-4, weight_decay=0.1)\n",
        "optimizer.load_state_dict(checkpoint[\"optimizer_state_dict\"])\n",
        "model.train();"
      ],
      "metadata": {
        "id": "kuWbcbrsBaDV"
      },
      "execution_count": 69,
      "outputs": []
    },
    {
      "cell_type": "markdown",
      "source": [
        "# Loadiranje na pretrained model od OpenAI"
      ],
      "metadata": {
        "id": "0WnhRb0bCJpx"
      }
    },
    {
      "cell_type": "markdown",
      "source": [
        "Koristime gotov model od OpenAI koj e izvezban na pogolem broj na podatoci otkolku nasiot model gore."
      ],
      "metadata": {
        "id": "16ViTfLHC_T7"
      }
    },
    {
      "cell_type": "code",
      "source": [
        "pip install tensorflow>=2.15.0  tqdm>=4.66"
      ],
      "metadata": {
        "id": "_6q-XZo0BlCb"
      },
      "execution_count": 70,
      "outputs": []
    },
    {
      "cell_type": "code",
      "source": [
        "import tensorflow as tf\n",
        "import tqdm\n",
        "\n",
        "print(\"TensorFlow version:\", tf.__version__)\n",
        "print(\"tqdm version:\", tqdm.__version__)\n"
      ],
      "metadata": {
        "colab": {
          "base_uri": "https://localhost:8080/"
        },
        "id": "_SDggT23DTUw",
        "outputId": "f23b2271-b2ee-4956-a43c-8816b67e4d4e"
      },
      "execution_count": 71,
      "outputs": [
        {
          "output_type": "stream",
          "name": "stdout",
          "text": [
            "TensorFlow version: 2.17.0\n",
            "tqdm version: 4.66.4\n"
          ]
        }
      ]
    },
    {
      "cell_type": "code",
      "source": [
        "import urllib.request\n",
        "url = (\n",
        "    \"https://raw.githubusercontent.com/rasbt/\"\n",
        "    \"LLMs-from-scratch/main/ch05/\"\n",
        "    \"01_main-chapter-code/gpt_download.py\"\n",
        ")\n",
        "filename = url.split('/')[-1]\n",
        "urllib.request.urlretrieve(url, filename)"
      ],
      "metadata": {
        "colab": {
          "base_uri": "https://localhost:8080/"
        },
        "id": "Z8-bOE9NDV-4",
        "outputId": "13a01a2b-1bed-490a-cdc0-afa3ac8c81e2"
      },
      "execution_count": 72,
      "outputs": [
        {
          "output_type": "execute_result",
          "data": {
            "text/plain": [
              "('gpt_download.py', <http.client.HTTPMessage at 0x7b0e68f4cd00>)"
            ]
          },
          "metadata": {},
          "execution_count": 72
        }
      ]
    },
    {
      "cell_type": "code",
      "source": [
        "from gpt_download import download_and_load_gpt2"
      ],
      "metadata": {
        "id": "DP0a_f0YDliE"
      },
      "execution_count": 73,
      "outputs": []
    },
    {
      "cell_type": "code",
      "source": [
        "settings, params = download_and_load_gpt2(model_size=\"124M\", models_dir=\"gpt2\")"
      ],
      "metadata": {
        "colab": {
          "base_uri": "https://localhost:8080/"
        },
        "id": "b6DSX8H5D0M_",
        "outputId": "b3e34d08-996c-489f-d54e-72a37755adfe"
      },
      "execution_count": 74,
      "outputs": [
        {
          "output_type": "stream",
          "name": "stdout",
          "text": [
            "File already exists and is up-to-date: gpt2/124M/checkpoint\n",
            "File already exists and is up-to-date: gpt2/124M/encoder.json\n",
            "File already exists and is up-to-date: gpt2/124M/hparams.json\n",
            "File already exists and is up-to-date: gpt2/124M/model.ckpt.data-00000-of-00001\n",
            "File already exists and is up-to-date: gpt2/124M/model.ckpt.index\n",
            "File already exists and is up-to-date: gpt2/124M/model.ckpt.meta\n",
            "File already exists and is up-to-date: gpt2/124M/vocab.bpe\n"
          ]
        }
      ]
    },
    {
      "cell_type": "code",
      "source": [
        "print(\"Settings:\", settings)\n",
        "print(\"Parameter dictionary keys:\", params.keys())"
      ],
      "metadata": {
        "colab": {
          "base_uri": "https://localhost:8080/"
        },
        "id": "M1nM5lfCD5P-",
        "outputId": "f5d2ba29-2af0-4606-824c-5a5635e622c7"
      },
      "execution_count": 75,
      "outputs": [
        {
          "output_type": "stream",
          "name": "stdout",
          "text": [
            "Settings: {'n_vocab': 50257, 'n_ctx': 1024, 'n_embd': 768, 'n_head': 12, 'n_layer': 12}\n",
            "Parameter dictionary keys: dict_keys(['blocks', 'b', 'g', 'wpe', 'wte'])\n"
          ]
        }
      ]
    },
    {
      "cell_type": "code",
      "source": [
        "print(params[\"wte\"])\n",
        "print(\"Token embedding weight tensor dimensions:\", params[\"wte\"].shape)"
      ],
      "metadata": {
        "colab": {
          "base_uri": "https://localhost:8080/"
        },
        "id": "n_Yo0Vg5EAj_",
        "outputId": "f5fd3a99-2d2a-47d7-e688-af3f654b99fb"
      },
      "execution_count": 76,
      "outputs": [
        {
          "output_type": "stream",
          "name": "stdout",
          "text": [
            "[[-0.11010301 -0.03926672  0.03310751 ... -0.1363697   0.01506208\n",
            "   0.04531523]\n",
            " [ 0.04034033 -0.04861503  0.04624869 ...  0.08605453  0.00253983\n",
            "   0.04318958]\n",
            " [-0.12746179  0.04793796  0.18410145 ...  0.08991534 -0.12972379\n",
            "  -0.08785918]\n",
            " ...\n",
            " [-0.04453601 -0.05483596  0.01225674 ...  0.10435229  0.09783269\n",
            "  -0.06952604]\n",
            " [ 0.1860082   0.01665728  0.04611587 ... -0.09625227  0.07847701\n",
            "  -0.02245961]\n",
            " [ 0.05135201 -0.02768905  0.0499369  ...  0.00704835  0.15519823\n",
            "   0.12067825]]\n",
            "Token embedding weight tensor dimensions: (50257, 768)\n"
          ]
        }
      ]
    },
    {
      "cell_type": "code",
      "source": [
        "# Define model configurations in a dictionary for compactness\n",
        "model_configs = {\n",
        "    \"gpt2-small (124M)\": {\"emb_dim\": 768, \"n_layers\": 12, \"n_heads\": 12},\n",
        "    \"gpt2-medium (355M)\": {\"emb_dim\": 1024, \"n_layers\": 24, \"n_heads\": 16},\n",
        "    \"gpt2-large (774M)\": {\"emb_dim\": 1280, \"n_layers\": 36, \"n_heads\": 20},\n",
        "    \"gpt2-xl (1558M)\": {\"emb_dim\": 1600, \"n_layers\": 48, \"n_heads\": 25},\n",
        "}\n",
        "\n",
        "# Copy the base configuration and update with specific model settings\n",
        "model_name = \"gpt2-small (124M)\"  # Example model name\n",
        "NEW_CONFIG = GPT_CONFIG_124M.copy()\n",
        "NEW_CONFIG.update(model_configs[model_name])\n",
        "NEW_CONFIG.update({\"context_length\": 1024, \"qkv_bias\": True})\n",
        "\n",
        "gpt = GPTModel(NEW_CONFIG)\n",
        "gpt.eval();"
      ],
      "metadata": {
        "id": "dt5Qfd68EFsF"
      },
      "execution_count": 77,
      "outputs": []
    },
    {
      "cell_type": "code",
      "source": [
        "def assign(left, right):\n",
        "    if left.shape != right.shape:\n",
        "        raise ValueError(f\"Shape mismatch. Left: {left.shape}, Right: {right.shape}\")\n",
        "    return torch.nn.Parameter(torch.tensor(right))"
      ],
      "metadata": {
        "id": "lRo1Tc2gER4J"
      },
      "execution_count": 78,
      "outputs": []
    },
    {
      "cell_type": "code",
      "source": [
        "import numpy as np\n",
        "\n",
        "def load_weights_into_gpt(gpt, params):\n",
        "    gpt.pos_emb.weight = assign(gpt.pos_emb.weight, params['wpe'])\n",
        "    gpt.tok_emb.weight = assign(gpt.tok_emb.weight, params['wte'])\n",
        "\n",
        "    for b in range(len(params[\"blocks\"])):\n",
        "        q_w, k_w, v_w = np.split(\n",
        "            (params[\"blocks\"][b][\"attn\"][\"c_attn\"])[\"w\"], 3, axis=-1)\n",
        "        gpt.trf_blocks[b].att.W_query.weight = assign(\n",
        "            gpt.trf_blocks[b].att.W_query.weight, q_w.T)\n",
        "        gpt.trf_blocks[b].att.W_key.weight = assign(\n",
        "            gpt.trf_blocks[b].att.W_key.weight, k_w.T)\n",
        "        gpt.trf_blocks[b].att.W_value.weight = assign(\n",
        "            gpt.trf_blocks[b].att.W_value.weight, v_w.T)\n",
        "\n",
        "        q_b, k_b, v_b = np.split(\n",
        "            (params[\"blocks\"][b][\"attn\"][\"c_attn\"])[\"b\"], 3, axis=-1)\n",
        "        gpt.trf_blocks[b].att.W_query.bias = assign(\n",
        "            gpt.trf_blocks[b].att.W_query.bias, q_b)\n",
        "        gpt.trf_blocks[b].att.W_key.bias = assign(\n",
        "            gpt.trf_blocks[b].att.W_key.bias, k_b)\n",
        "        gpt.trf_blocks[b].att.W_value.bias = assign(\n",
        "            gpt.trf_blocks[b].att.W_value.bias, v_b)\n",
        "\n",
        "        gpt.trf_blocks[b].att.out_proj.weight = assign(\n",
        "            gpt.trf_blocks[b].att.out_proj.weight,\n",
        "            params[\"blocks\"][b][\"attn\"][\"c_proj\"][\"w\"].T)\n",
        "        gpt.trf_blocks[b].att.out_proj.bias = assign(\n",
        "            gpt.trf_blocks[b].att.out_proj.bias,\n",
        "            params[\"blocks\"][b][\"attn\"][\"c_proj\"][\"b\"])\n",
        "\n",
        "        gpt.trf_blocks[b].ff.layers[0].weight = assign(\n",
        "            gpt.trf_blocks[b].ff.layers[0].weight,\n",
        "            params[\"blocks\"][b][\"mlp\"][\"c_fc\"][\"w\"].T)\n",
        "        gpt.trf_blocks[b].ff.layers[0].bias = assign(\n",
        "            gpt.trf_blocks[b].ff.layers[0].bias,\n",
        "            params[\"blocks\"][b][\"mlp\"][\"c_fc\"][\"b\"])\n",
        "        gpt.trf_blocks[b].ff.layers[2].weight = assign(\n",
        "            gpt.trf_blocks[b].ff.layers[2].weight,\n",
        "            params[\"blocks\"][b][\"mlp\"][\"c_proj\"][\"w\"].T)\n",
        "        gpt.trf_blocks[b].ff.layers[2].bias = assign(\n",
        "            gpt.trf_blocks[b].ff.layers[2].bias,\n",
        "            params[\"blocks\"][b][\"mlp\"][\"c_proj\"][\"b\"])\n",
        "\n",
        "        gpt.trf_blocks[b].norm1.scale = assign(\n",
        "            gpt.trf_blocks[b].norm1.scale,\n",
        "            params[\"blocks\"][b][\"ln_1\"][\"g\"])\n",
        "        gpt.trf_blocks[b].norm1.shift = assign(\n",
        "            gpt.trf_blocks[b].norm1.shift,\n",
        "            params[\"blocks\"][b][\"ln_1\"][\"b\"])\n",
        "        gpt.trf_blocks[b].norm2.scale = assign(\n",
        "            gpt.trf_blocks[b].norm2.scale,\n",
        "            params[\"blocks\"][b][\"ln_2\"][\"g\"])\n",
        "        gpt.trf_blocks[b].norm2.shift = assign(\n",
        "            gpt.trf_blocks[b].norm2.shift,\n",
        "            params[\"blocks\"][b][\"ln_2\"][\"b\"])\n",
        "\n",
        "    gpt.final_norm.scale = assign(gpt.final_norm.scale, params[\"g\"])\n",
        "    gpt.final_norm.shift = assign(gpt.final_norm.shift, params[\"b\"])\n",
        "    gpt.out_head.weight = assign(gpt.out_head.weight, params[\"wte\"])\n",
        "\n",
        "\n",
        "load_weights_into_gpt(gpt, params)\n",
        "gpt.to(device);"
      ],
      "metadata": {
        "id": "QpII6YFEEVgm"
      },
      "execution_count": 79,
      "outputs": []
    },
    {
      "cell_type": "code",
      "source": [
        "torch.manual_seed(123)\n",
        "\n",
        "token_ids = generate(\n",
        "    model=gpt,\n",
        "    idx=text_to_token_ids(\"Every effort moves you\", tokenizer).to(device),\n",
        "    max_new_tokens=25,\n",
        "    context_size=NEW_CONFIG[\"context_length\"],\n",
        "    top_k=50,\n",
        "    temperature=1.5\n",
        ")\n",
        "\n",
        "print(\"Output text:\\n\", token_ids_to_text(token_ids, tokenizer))"
      ],
      "metadata": {
        "colab": {
          "base_uri": "https://localhost:8080/"
        },
        "id": "1FSVa8A3Ec6X",
        "outputId": "9816e8dd-dbaf-49f4-db59-53f55dd02ee8"
      },
      "execution_count": 80,
      "outputs": [
        {
          "output_type": "stream",
          "name": "stdout",
          "text": [
            "Output text:\n",
            " Every effort moves you toward an equal share for each vote plus half. Inequality is often not an accurate representation of human worth; to know the\n"
          ]
        }
      ]
    },
    {
      "cell_type": "markdown",
      "source": [
        "Outputot od GPT2 modelot e podobar otkolku mojot output sto bese treniran na mal del podatoci. Toa e zatoa sto modelot e podobro izvezban"
      ],
      "metadata": {
        "id": "HDpiw2MBEk6n"
      }
    },
    {
      "cell_type": "markdown",
      "source": [
        "# Zadaci"
      ],
      "metadata": {
        "id": "OzikABKGGx6S"
      }
    },
    {
      "cell_type": "markdown",
      "source": [
        "1. Use the print_sampled_tokens function to print the sampling frequencies of the softmax probabilities scaled with the temperatures shown in Figure 5.13. How often is the word \"pizza\" sampled in each case? Can you think of a faster and more accurate way to determine how often the word \"pizza\" is sampled?"
      ],
      "metadata": {
        "id": "x9TsB7U6G8Jw"
      }
    },
    {
      "cell_type": "code",
      "source": [
        "vocab = {\n",
        "    \"closer\": 0,\n",
        "    \"every\": 1,\n",
        "    \"effort\": 2,\n",
        "    \"forward\": 3,\n",
        "    \"inches\": 4,\n",
        "    \"moves\": 5,\n",
        "    \"pizza\": 6,\n",
        "    \"toward\": 7,\n",
        "    \"you\": 8,\n",
        "}\n",
        "\n",
        "inverse_vocab = {v: k for k, v in vocab.items()}\n",
        "\n",
        "# Suppose input is \"every effort moves you\", and the LLM\n",
        "# returns the following logits for the next token:\n",
        "next_token_logits = torch.tensor(\n",
        "    [4.51, 0.89, -1.90, 6.75, 1.63, -1.62, -1.89, 6.28, 1.79]\n",
        ")\n",
        "\n",
        "probas = torch.softmax(next_token_logits, dim=0)\n",
        "next_token_id = torch.argmax(probas).item()\n"
      ],
      "metadata": {
        "id": "3f0tfPyXLpYE"
      },
      "execution_count": 81,
      "outputs": []
    },
    {
      "cell_type": "code",
      "source": [
        "def print_sampled_tokens(probas):\n",
        "    torch.manual_seed(123)\n",
        "    sample = [torch.multinomial(probas, num_samples=1).item() for i in range(1_000)]\n",
        "    sampled_ids = torch.bincount(torch.tensor(sample))\n",
        "    for i, freq in enumerate(sampled_ids):\n",
        "        print(f\"{freq} x {inverse_vocab[i]}\")\n",
        "def softmax_with_temperature(logits, temperature):\n",
        "    scaled_logits = logits / temperature\n",
        "    return torch.softmax(scaled_logits, dim=0)\n",
        "\n",
        "\n",
        "temperatures = [1, 0.1, 5]  # Original, higher, and lower temperature\n",
        "scaled_probas = [softmax_with_temperature(next_token_logits, T) for T in temperatures]"
      ],
      "metadata": {
        "id": "JXkEEqNAEgve"
      },
      "execution_count": 82,
      "outputs": []
    },
    {
      "cell_type": "code",
      "source": [
        "for i, probas in enumerate(scaled_probas):\n",
        "    print(\"\\n\\nTemperature:\", temperatures[i])\n",
        "    print_sampled_tokens(probas)"
      ],
      "metadata": {
        "colab": {
          "base_uri": "https://localhost:8080/"
        },
        "id": "mHNO-Yw-L4xd",
        "outputId": "bc473e52-420c-4251-ded1-67e9e8d97a88"
      },
      "execution_count": 83,
      "outputs": [
        {
          "output_type": "stream",
          "name": "stdout",
          "text": [
            "\n",
            "\n",
            "Temperature: 1\n",
            "71 x closer\n",
            "2 x every\n",
            "0 x effort\n",
            "544 x forward\n",
            "2 x inches\n",
            "1 x moves\n",
            "0 x pizza\n",
            "376 x toward\n",
            "4 x you\n",
            "\n",
            "\n",
            "Temperature: 0.1\n",
            "0 x closer\n",
            "0 x every\n",
            "0 x effort\n",
            "992 x forward\n",
            "0 x inches\n",
            "0 x moves\n",
            "0 x pizza\n",
            "8 x toward\n",
            "\n",
            "\n",
            "Temperature: 5\n",
            "153 x closer\n",
            "68 x every\n",
            "55 x effort\n",
            "223 x forward\n",
            "102 x inches\n",
            "50 x moves\n",
            "43 x pizza\n",
            "218 x toward\n",
            "88 x you\n"
          ]
        }
      ]
    },
    {
      "cell_type": "code",
      "source": [
        "for i, probas in enumerate(scaled_probas):\n",
        "    print(\"\\n\\nTemperature:\", temperatures[i])\n",
        "    torch.manual_seed(123)\n",
        "    sample = [torch.multinomial(probas, num_samples=1).item() for i in range(1_000)]\n",
        "    sampled_ids = torch.bincount(torch.tensor(sample))\n",
        "    for i, freq in enumerate(sampled_ids):\n",
        "      if i==6:\n",
        "        print(float(freq/1000))"
      ],
      "metadata": {
        "colab": {
          "base_uri": "https://localhost:8080/"
        },
        "id": "mLtvoIBlMJlM",
        "outputId": "91b01e69-5fef-4585-f68f-d1e0e0c52166"
      },
      "execution_count": 84,
      "outputs": [
        {
          "output_type": "stream",
          "name": "stdout",
          "text": [
            "\n",
            "\n",
            "Temperature: 1\n",
            "0.0\n",
            "\n",
            "\n",
            "Temperature: 0.1\n",
            "0.0\n",
            "\n",
            "\n",
            "Temperature: 5\n",
            "0.0430000014603138\n"
          ]
        }
      ]
    },
    {
      "cell_type": "markdown",
      "source": [
        "2. Play around with different temperatures and top-k settings. Based on your observations, can you think of applications where lower temperature and top-k settings are desired? Vice versa, can you think of applications where higher temperature and top-k settings are preferred? (It's recommended to also revisit this exercise at the end of the chapter after loading the pretrained weights from OpenAI.)"
      ],
      "metadata": {
        "id": "iOJ11-vPOSPo"
      }
    },
    {
      "cell_type": "markdown",
      "source": [
        "Poniska teperatura e posakuvana kade sto ni e potreben tocen zbor odnosno moze da se primeni kade sto ima missing words,testovi, kodovi (kaj sto se bara preciznost), a visoki temperaturi se primenuvaat vo slucai kade sto sakame povekje razlicnost kako sto se kreativni tekstovi."
      ],
      "metadata": {
        "id": "2l9vbk3GO9pL"
      }
    },
    {
      "cell_type": "code",
      "source": [
        "torch.manual_seed(123)\n",
        "\n",
        "\n",
        "token_ids = generate(\n",
        "    model=gpt,\n",
        "    idx=text_to_token_ids(\"Tennis, basketball and swimming are Olympic\", tokenizer).to(device),\n",
        "    max_new_tokens=25,\n",
        "    context_size=NEW_CONFIG[\"context_length\"],\n",
        "    top_k=5,\n",
        "    temperature=0.2\n",
        "\n",
        ")\n",
        "print(\"Output text:\\n\", token_ids_to_text(token_ids, tokenizer))"
      ],
      "metadata": {
        "colab": {
          "base_uri": "https://localhost:8080/"
        },
        "id": "tWtbERFPQJvk",
        "outputId": "953a67bf-692c-40c1-f083-cfab99d0ebc6"
      },
      "execution_count": 85,
      "outputs": [
        {
          "output_type": "stream",
          "name": "stdout",
          "text": [
            "Output text:\n",
            " Tennis, basketball and swimming are Olympic sports.\n",
            "\n",
            "The Olympic Games are not a sport for the faint of heart. The Olympics are a sport for the rich\n"
          ]
        }
      ]
    },
    {
      "cell_type": "code",
      "source": [
        "torch.manual_seed(123)\n",
        "\n",
        "\n",
        "token_ids = generate(\n",
        "    model=gpt,\n",
        "    idx=text_to_token_ids(\"Tennis, basketball and swimming are Olympic\", tokenizer).to(device),\n",
        "    max_new_tokens=25,\n",
        "    context_size=NEW_CONFIG[\"context_length\"],\n",
        "    top_k=50,\n",
        "    temperature=20\n",
        ")\n",
        "print(\"Output text:\\n\", token_ids_to_text(token_ids, tokenizer))"
      ],
      "metadata": {
        "colab": {
          "base_uri": "https://localhost:8080/"
        },
        "id": "rzdJEpqLMl4T",
        "outputId": "a500589c-0d82-4a1b-91da-13531e9b8153"
      },
      "execution_count": 86,
      "outputs": [
        {
          "metadata": {
            "tags": null
          },
          "name": "stdout",
          "output_type": "stream",
          "text": [
            "Output text:\n",
            " Tennis, basketball and swimming are Olympic challenges worthy a sport for a young coach not already capable\n",
            "\"A school football has lost that game a season to any form\n"
          ]
        }
      ]
    },
    {
      "cell_type": "markdown",
      "source": [
        "3. What are the different combinations of settings for the generate function to force deterministic behavior, that is, disabling the random sampling such that it always produces the same outputs similar to the generate_simple function?\n",
        "\n",
        "  So far, we covered how to pretrain LLMs and use them to generate text. The last two sections of this chapter will discuss how we save and load the trained LLM and how we load pretrained weights from OpenAI."
      ],
      "metadata": {
        "id": "m4mt39ImTJ75"
      }
    },
    {
      "cell_type": "markdown",
      "source": [
        "Postavuvanje na niska temperatura i mala vrednost za top_k odnosno top_k=1 za 1 odgovor i temperature=0"
      ],
      "metadata": {
        "id": "Ytk12UkqTwsK"
      }
    },
    {
      "cell_type": "code",
      "source": [
        "torch.manual_seed(123)\n",
        "\n",
        "\n",
        "token_ids = generate(\n",
        "    model=gpt,\n",
        "    idx=text_to_token_ids(\"Tennis, basketball and swimming are Olympic\", tokenizer).to(device),\n",
        "    max_new_tokens=25,\n",
        "    context_size=NEW_CONFIG[\"context_length\"],\n",
        "    top_k=1,\n",
        "    temperature=0\n",
        ")\n",
        "print(\"Output text:\\n\", token_ids_to_text(token_ids, tokenizer))"
      ],
      "metadata": {
        "colab": {
          "base_uri": "https://localhost:8080/"
        },
        "id": "h766SkauSNjR",
        "outputId": "684d1df0-0835-405a-eaf2-9f5b6abba820"
      },
      "execution_count": 87,
      "outputs": [
        {
          "metadata": {
            "tags": null
          },
          "name": "stdout",
          "output_type": "stream",
          "text": [
            "Output text:\n",
            " Tennis, basketball and swimming are Olympic sports.\n",
            "\n",
            "The Olympic Games are held every four years in Rio de Janeiro, Brazil.\n",
            "\n",
            "The Games are held\n"
          ]
        }
      ]
    },
    {
      "cell_type": "markdown",
      "source": [
        "4. After saving the weights, load the model and optimizer in a new Python session or Jupyter notebook file and continue pretraining it for 1 more epoch using the train_model_simple function."
      ],
      "metadata": {
        "id": "xS1pqEJfUcED"
      }
    },
    {
      "cell_type": "code",
      "source": [
        "GPT_CONFIG_124M = {\n",
        "    \"vocab_size\": 50257,   # Vocabulary size\n",
        "    \"context_length\": 256, # Shortened context length (orig: 1024)\n",
        "    \"emb_dim\": 768,        # Embedding dimension\n",
        "    \"n_heads\": 12,         # Number of attention heads\n",
        "    \"n_layers\": 12,        # Number of layers\n",
        "    \"drop_rate\": 0.1,      # Dropout rate\n",
        "    \"qkv_bias\": False      # Query-key-value bias\n",
        "}\n",
        "\n",
        "device = torch.device(\"cuda\" if torch.cuda.is_available() else \"cpu\")\n",
        "\n",
        "tokenizer = tiktoken.get_encoding(\"gpt2\")\n",
        "\n",
        "checkpoint = torch.load(\"model_and_optimizer.pth\", weights_only=True)\n",
        "model = GPTModel(GPT_CONFIG_124M)\n",
        "model.load_state_dict(checkpoint[\"model_state_dict\"])\n",
        "model.to(device)\n",
        "\n",
        "optimizer = torch.optim.AdamW(model.parameters(), lr=0.0004, weight_decay=0.1)\n",
        "optimizer.load_state_dict(checkpoint[\"optimizer_state_dict\"])\n",
        "model.train();"
      ],
      "metadata": {
        "id": "yWySJ1mZURCL"
      },
      "execution_count": 88,
      "outputs": []
    },
    {
      "cell_type": "code",
      "source": [
        "import os\n",
        "import urllib.request\n",
        "\n",
        "\n",
        "file_path = \"the-verdict.txt\"\n",
        "url = \"https://raw.githubusercontent.com/rasbt/LLMs-from-scratch/main/ch02/01_main-chapter-code/the-verdict.txt\"\n",
        "\n",
        "if not os.path.exists(file_path):\n",
        "    with urllib.request.urlopen(url) as response:\n",
        "        text_data = response.read().decode('utf-8')\n",
        "    with open(file_path, \"w\", encoding=\"utf-8\") as file:\n",
        "        file.write(text_data)\n",
        "else:\n",
        "    with open(file_path, \"r\", encoding=\"utf-8\") as file:\n",
        "        text_data = file.read()\n"
      ],
      "metadata": {
        "id": "fkSZgKmCeneU"
      },
      "execution_count": null,
      "outputs": []
    },
    {
      "cell_type": "code",
      "source": [
        "train_ratio = 0.90\n",
        "split_idx = int(train_ratio * len(text_data))\n",
        "train_data = text_data[:split_idx]\n",
        "val_data = text_data[split_idx:]\n",
        "\n"
      ],
      "metadata": {
        "id": "DxwwwwrIe0O4"
      },
      "execution_count": null,
      "outputs": []
    },
    {
      "cell_type": "code",
      "source": [
        "torch.manual_seed(123)\n",
        "\n",
        "train_loader = create_dataloader_v1(\n",
        "    train_data,\n",
        "    batch_size=2,\n",
        "    max_length=GPT_CONFIG_124M[\"context_length\"],\n",
        "    stride=GPT_CONFIG_124M[\"context_length\"],\n",
        "    drop_last=True,\n",
        "    shuffle=True,\n",
        "    num_workers=0\n",
        ")\n",
        "\n",
        "val_loader = create_dataloader_v1(\n",
        "    val_data,\n",
        "    batch_size=2,\n",
        "    max_length=GPT_CONFIG_124M[\"context_length\"],\n",
        "    stride=GPT_CONFIG_124M[\"context_length\"],\n",
        "    drop_last=False,\n",
        "    shuffle=False,\n",
        "    num_workers=0\n",
        ")"
      ],
      "metadata": {
        "id": "nhafpuu4e8PV"
      },
      "execution_count": 91,
      "outputs": []
    },
    {
      "cell_type": "code",
      "source": [
        "import requests\n",
        "\n",
        "url = \"https://raw.githubusercontent.com/rasbt/LLMs-from-scratch/main/ch05/01_main-chapter-code/gpt_train.py\"\n",
        "response = requests.get(url)\n",
        "\n",
        "with open(\"gpt_train.py\", \"wb\") as file:\n",
        "    file.write(response.content)\n"
      ],
      "metadata": {
        "id": "4yoHfuMXhBZQ"
      },
      "execution_count": 92,
      "outputs": []
    },
    {
      "cell_type": "code",
      "source": [
        "#from gpt_train import train_model_simple\n",
        "\"\"\"\n",
        "num_epochs = 1\n",
        "train_losses, val_losses, tokens_seen = train_model_simple(\n",
        "    model, train_loader, val_loader, optimizer, device,\n",
        "    num_epochs=num_epochs, eval_freq=5, eval_iter=5,\n",
        "    start_context=\"Every effort moves you\", tokenizer=tokenizer\n",
        ")\n",
        "\"\"\""
      ],
      "metadata": {
        "colab": {
          "base_uri": "https://localhost:8080/",
          "height": 53
        },
        "id": "0k3so68ce-jz",
        "outputId": "7bd6e9cb-6854-4f14-d11c-acb3bdce9092"
      },
      "execution_count": 93,
      "outputs": [
        {
          "output_type": "execute_result",
          "data": {
            "text/plain": [
              "'\\nnum_epochs = 1\\ntrain_losses, val_losses, tokens_seen = train_model_simple(\\n    model, train_loader, val_loader, optimizer, device,\\n    num_epochs=num_epochs, eval_freq=5, eval_iter=5,\\n    start_context=\"Every effort moves you\", tokenizer=tokenizer\\n)\\n'"
            ],
            "application/vnd.google.colaboratory.intrinsic+json": {
              "type": "string"
            }
          },
          "metadata": {},
          "execution_count": 93
        }
      ]
    },
    {
      "cell_type": "markdown",
      "source": [
        "5. Calculate the training and validation set losses of the GPTModel with the pretrained weights from OpenAI on the \"The Verdict\" dataset."
      ],
      "metadata": {
        "id": "b_KN2laWiJi1"
      }
    },
    {
      "cell_type": "code",
      "source": [
        "from gpt_download import download_and_load_gpt2\n",
        "\n",
        "settings, params = download_and_load_gpt2(model_size=\"124M\", models_dir=\"gpt2\")"
      ],
      "metadata": {
        "colab": {
          "base_uri": "https://localhost:8080/"
        },
        "id": "S8ZKbEfzfBKG",
        "outputId": "4415657c-105b-4060-ccd8-b1df7436f172"
      },
      "execution_count": 94,
      "outputs": [
        {
          "output_type": "stream",
          "name": "stdout",
          "text": [
            "File already exists and is up-to-date: gpt2/124M/checkpoint\n",
            "File already exists and is up-to-date: gpt2/124M/encoder.json\n",
            "File already exists and is up-to-date: gpt2/124M/hparams.json\n",
            "File already exists and is up-to-date: gpt2/124M/model.ckpt.data-00000-of-00001\n",
            "File already exists and is up-to-date: gpt2/124M/model.ckpt.index\n",
            "File already exists and is up-to-date: gpt2/124M/model.ckpt.meta\n",
            "File already exists and is up-to-date: gpt2/124M/vocab.bpe\n"
          ]
        }
      ]
    },
    {
      "cell_type": "code",
      "source": [
        "model_configs = {\n",
        "    \"gpt2-small (124M)\": {\"emb_dim\": 768, \"n_layers\": 12, \"n_heads\": 12},\n",
        "    \"gpt2-medium (355M)\": {\"emb_dim\": 1024, \"n_layers\": 24, \"n_heads\": 16},\n",
        "    \"gpt2-large (774M)\": {\"emb_dim\": 1280, \"n_layers\": 36, \"n_heads\": 20},\n",
        "    \"gpt2-xl (1558M)\": {\"emb_dim\": 1600, \"n_layers\": 48, \"n_heads\": 25},\n",
        "}\n",
        "\n",
        "\n",
        "model_name = \"gpt2-small (124M)\"\n",
        "NEW_CONFIG = GPT_CONFIG_124M.copy()\n",
        "NEW_CONFIG.update(model_configs[model_name])\n",
        "NEW_CONFIG.update({\"context_length\": 1024, \"qkv_bias\": True})\n",
        "\n",
        "gpt = GPTModel(NEW_CONFIG)\n",
        "gpt.eval();"
      ],
      "metadata": {
        "id": "CowsP8oMjZPK"
      },
      "execution_count": 95,
      "outputs": []
    },
    {
      "cell_type": "code",
      "source": [
        "device = torch.device(\"cuda\" if torch.cuda.is_available() else \"cpu\")\n",
        "load_weights_into_gpt(gpt, params)\n",
        "gpt.to(device);"
      ],
      "metadata": {
        "id": "bOQkkhx9jofJ"
      },
      "execution_count": 96,
      "outputs": []
    },
    {
      "cell_type": "code",
      "source": [
        "file_path = \"the-verdict.txt\"\n",
        "url = \"https://raw.githubusercontent.com/rasbt/LLMs-from-scratch/main/ch02/01_main-chapter-code/the-verdict.txt\"\n",
        "\n",
        "if not os.path.exists(file_path):\n",
        "    with urllib.request.urlopen(url) as response:\n",
        "        text_data = response.read().decode('utf-8')\n",
        "    with open(file_path, \"w\", encoding=\"utf-8\") as file:\n",
        "        file.write(text_data)\n",
        "else:\n",
        "    with open(file_path, \"r\", encoding=\"utf-8\") as file:\n",
        "        text_data = file.read()\n",
        "\n",
        "\n",
        "# Train/validation ratio\n",
        "train_ratio = 0.90\n",
        "split_idx = int(train_ratio * len(text_data))\n",
        "train_data = text_data[:split_idx]\n",
        "val_data = text_data[split_idx:]\n",
        "\n",
        "\n",
        "torch.manual_seed(123)\n",
        "\n",
        "train_loader = create_dataloader_v1(\n",
        "    train_data,\n",
        "    batch_size=2,\n",
        "    max_length=GPT_CONFIG_124M[\"context_length\"],\n",
        "    stride=GPT_CONFIG_124M[\"context_length\"],\n",
        "    drop_last=True,\n",
        "    shuffle=True,\n",
        "    num_workers=0\n",
        ")\n",
        "\n",
        "val_loader = create_dataloader_v1(\n",
        "    val_data,\n",
        "    batch_size=2,\n",
        "    max_length=GPT_CONFIG_124M[\"context_length\"],\n",
        "    stride=GPT_CONFIG_124M[\"context_length\"],\n",
        "    drop_last=False,\n",
        "    shuffle=False,\n",
        "    num_workers=0\n",
        ")"
      ],
      "metadata": {
        "id": "OCbeMxukjtl2"
      },
      "execution_count": 97,
      "outputs": []
    },
    {
      "cell_type": "code",
      "source": [
        "\n",
        "\n",
        "torch.manual_seed(123) # For reproducibility due to the shuffling in the data loader\n",
        "train_loss = calc_loss_loader(train_loader, gpt, device)\n",
        "val_loss = calc_loss_loader(val_loader, gpt, device)\n",
        "\n",
        "print(\"Training loss:\", train_loss)\n",
        "print(\"Validation loss:\", val_loss)"
      ],
      "metadata": {
        "colab": {
          "base_uri": "https://localhost:8080/"
        },
        "id": "B0gzc6ohj7EI",
        "outputId": "497dbac6-a3aa-41bf-d87d-beff43ff5d57"
      },
      "execution_count": 100,
      "outputs": [
        {
          "output_type": "stream",
          "name": "stdout",
          "text": [
            "Training loss: 3.754749059677124\n",
            "Validation loss: 3.5596208572387695\n"
          ]
        }
      ]
    },
    {
      "cell_type": "markdown",
      "source": [
        "6.Readers are encouraged to experiment with GPT-2 models of different sizes, for example, the largest 1558M parameter model and compare the generated text to the 124M model we loaded in this chapter."
      ],
      "metadata": {
        "id": "AqseF4oikIsy"
      }
    },
    {
      "cell_type": "code",
      "source": [
        "model_name = \"gpt2-xl (1558M)\"\n",
        "NEW_CONFIG = GPT_CONFIG_124M.copy()\n",
        "NEW_CONFIG.update(model_configs[model_name])\n",
        "NEW_CONFIG.update({\"context_length\": 1024, \"qkv_bias\": True})\n",
        "\n",
        "gpt = GPTModel(NEW_CONFIG)\n",
        "gpt.eval();"
      ],
      "metadata": {
        "id": "h3zyrweMj-KW"
      },
      "execution_count": null,
      "outputs": []
    },
    {
      "cell_type": "code",
      "source": [
        "torch.manual_seed(123)\n",
        "\n",
        "token_ids = generate(\n",
        "    model=gpt,\n",
        "    idx=text_to_token_ids(\"Every effort moves you\", tokenizer),\n",
        "    max_new_tokens=25,\n",
        "    context_size=NEW_CONFIG[\"context_length\"],\n",
        "    top_k=50,\n",
        "    temperature=1.5\n",
        ")\n",
        "\n",
        "print(\"Output text:\\n\", token_ids_to_text(token_ids, tokenizer))"
      ],
      "metadata": {
        "id": "E7Ow-J9hkoX6"
      },
      "execution_count": null,
      "outputs": []
    }
  ]
}