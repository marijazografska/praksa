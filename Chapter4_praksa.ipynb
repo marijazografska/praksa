{
  "nbformat": 4,
  "nbformat_minor": 0,
  "metadata": {
    "colab": {
      "provenance": [],
      "toc_visible": true
    },
    "kernelspec": {
      "name": "python3",
      "display_name": "Python 3"
    },
    "language_info": {
      "name": "python"
    }
  },
  "cells": [
    {
      "cell_type": "markdown",
      "source": [
        "# Layer normalization"
      ],
      "metadata": {
        "id": "EEX0gn-jKYDt"
      }
    },
    {
      "cell_type": "markdown",
      "source": [
        "Podatocite se normaliziraat so cel da imaat prosek priblizen na 0 i varijansa 1."
      ],
      "metadata": {
        "id": "X_FH_BDAD3zx"
      }
    },
    {
      "cell_type": "code",
      "source": [
        "import torch\n",
        "import torch.nn as nn"
      ],
      "metadata": {
        "id": "ARh1dptPKs--"
      },
      "execution_count": null,
      "outputs": []
    },
    {
      "cell_type": "markdown",
      "source": [
        "Izlez od sekvencijalen sloj so aktivacija reLU na nekoj random batch"
      ],
      "metadata": {
        "id": "zj1vz0iKL2pP"
      }
    },
    {
      "cell_type": "code",
      "source": [
        "torch.manual_seed(123)\n",
        "batch_example = torch.randn(2, 5)\n",
        "layer = nn.Sequential(nn.Linear(5, 6), nn.ReLU())\n",
        "out = layer(batch_example)\n",
        "print(out)"
      ],
      "metadata": {
        "colab": {
          "base_uri": "https://localhost:8080/"
        },
        "id": "bHzLEEpIKf2Y",
        "outputId": "8347c704-f9cc-4823-ca65-403cf32dc37e"
      },
      "execution_count": null,
      "outputs": [
        {
          "output_type": "stream",
          "name": "stdout",
          "text": [
            "tensor([[0.2260, 0.3470, 0.0000, 0.2216, 0.0000, 0.0000],\n",
            "        [0.2133, 0.2394, 0.0000, 0.5198, 0.3297, 0.0000]],\n",
            "       grad_fn=<ReluBackward0>)\n"
          ]
        }
      ]
    },
    {
      "cell_type": "markdown",
      "source": [
        "Znacenjeto na dim i keepdim: ako dim e -1 ili 1 presmetuva prosek na redici, a ako e 0 presmetuva na koloni. Ako keepdim e true go vrakja tensorot vo ista forma kako sto bil vnesen, dodeka so false moze da se smeni da bide vektor"
      ],
      "metadata": {
        "id": "urkeZm9_Lcf9"
      }
    },
    {
      "cell_type": "markdown",
      "source": [
        "Podatocite pred normalizacija:"
      ],
      "metadata": {
        "id": "fSCjxYUfECog"
      }
    },
    {
      "cell_type": "code",
      "source": [
        "mean = out.mean(dim=-1, keepdim=True)\n",
        "var = out.var(dim=-1, keepdim=True)\n",
        "print(\"Mean:\\n\", mean)\n",
        "print(\"Variance:\\n\", var)"
      ],
      "metadata": {
        "colab": {
          "base_uri": "https://localhost:8080/"
        },
        "id": "yDjjhlk6KrnS",
        "outputId": "732cb23f-0a38-44a2-cc04-bedecb642695"
      },
      "execution_count": null,
      "outputs": [
        {
          "output_type": "stream",
          "name": "stdout",
          "text": [
            "Mean:\n",
            " tensor([[0.1324],\n",
            "        [0.2170]], grad_fn=<MeanBackward1>)\n",
            "Variance:\n",
            " tensor([[0.0231],\n",
            "        [0.0398]], grad_fn=<VarBackward0>)\n"
          ]
        }
      ]
    },
    {
      "cell_type": "code",
      "source": [
        "mean_pr = out.mean(dim=0, keepdim=False)\n",
        "var_pr = out.var(dim=0, keepdim=False)\n",
        "print(\"Mean:\\n\", mean)\n",
        "print(\"Variance:\\n\", var)"
      ],
      "metadata": {
        "colab": {
          "base_uri": "https://localhost:8080/"
        },
        "id": "5j1dgNP8LFMM",
        "outputId": "0020d02b-347e-4698-e16f-9814c806bf8e"
      },
      "execution_count": null,
      "outputs": [
        {
          "output_type": "stream",
          "name": "stdout",
          "text": [
            "Mean:\n",
            " tensor([[0.1324],\n",
            "        [0.2170]], grad_fn=<MeanBackward1>)\n",
            "Variance:\n",
            " tensor([[0.0231],\n",
            "        [0.0398]], grad_fn=<VarBackward0>)\n"
          ]
        }
      ]
    },
    {
      "cell_type": "markdown",
      "source": [
        "Normalizacija na tensorite"
      ],
      "metadata": {
        "id": "kyb6UiD8NEST"
      }
    },
    {
      "cell_type": "code",
      "source": [
        "out_norm = (out - mean) / torch.sqrt(var)\n",
        "mean = out_norm.mean(dim=-1, keepdim=True)\n",
        "var = out_norm.var(dim=-1, keepdim=True)\n",
        "print(\"Normalized layer outputs:\\n\", out_norm)\n",
        "print(\"Mean:\\n\", mean)\n",
        "print(\"Variance:\\n\", var)"
      ],
      "metadata": {
        "colab": {
          "base_uri": "https://localhost:8080/"
        },
        "id": "RjnCMWCKLWyu",
        "outputId": "8e7242b9-5457-48f1-b7d9-69701b7d544f"
      },
      "execution_count": null,
      "outputs": [
        {
          "output_type": "stream",
          "name": "stdout",
          "text": [
            "Normalized layer outputs:\n",
            " tensor([[ 0.6159,  1.4126, -0.8719,  0.5872, -0.8719, -0.8719],\n",
            "        [-0.0189,  0.1121, -1.0876,  1.5173,  0.5647, -1.0876]],\n",
            "       grad_fn=<DivBackward0>)\n",
            "Mean:\n",
            " tensor([[9.9341e-09],\n",
            "        [1.9868e-08]], grad_fn=<MeanBackward1>)\n",
            "Variance:\n",
            " tensor([[1.0000],\n",
            "        [1.0000]], grad_fn=<VarBackward0>)\n"
          ]
        }
      ]
    },
    {
      "cell_type": "markdown",
      "source": [
        "Primenuvanje na slojot za normalizacija kako klasa"
      ],
      "metadata": {
        "id": "Hm1Dhyf7Nvjn"
      }
    },
    {
      "cell_type": "code",
      "source": [
        "class LayerNormalization(nn.Module):\n",
        "  def __init__(self, emb_dim):\n",
        "    super().__init__()\n",
        "    self.eps = 1e-5 #sprecuva delenje so 0\n",
        "     #parametri koi ucat dodeka se trenira, so nivna promena se podobruva modelot.\n",
        "    self.scale = nn.Parameter(torch.ones(emb_dim)) #inicijalno postaven na 1, so nego se mnozi i se menuva vrednosta vo zavisnost od modelot\n",
        "    self.shift = nn.Parameter(torch.zeros(emb_dim)) #inicijalno 0, so nego se dodava i se menuva vrednosta ....\n",
        "  def forward(self,x):\n",
        "     mean = x.mean(dim=-1, keepdim=True) #prosek na tensorot\n",
        "     var = x.var(dim=-1, keepdim=True, unbiased=False) #varijansa\n",
        "     norm_x = (x - mean) / torch.sqrt(var + self.eps) #normalizacija so pomos na formula\n",
        "     return self.scale * norm_x + self.shift #vklucuvanje na parametrite\n",
        "\n"
      ],
      "metadata": {
        "id": "o-BXLaUgM_iS"
      },
      "execution_count": null,
      "outputs": []
    },
    {
      "cell_type": "markdown",
      "source": [
        "so shift i scale parametrite se podobruva performansot na modelot. Na pocetokot tie nemaat nikakov efekt ama posle toa obezbeduvaat da nema golem loss."
      ],
      "metadata": {
        "id": "CKee_fOeF_V9"
      }
    },
    {
      "cell_type": "code",
      "source": [
        "ln = LayerNormalization(emb_dim=5)\n",
        "out_ln = ln(batch_example)\n",
        "mean = out_ln.mean(dim=-1, keepdim=True)\n",
        "var = out_ln.var(dim=-1, unbiased=False, keepdim=True)\n",
        "print(\"Mean:\\n\", mean)\n",
        "print(\"Variance:\\n\", var)\n"
      ],
      "metadata": {
        "colab": {
          "base_uri": "https://localhost:8080/"
        },
        "id": "7Sh12ewvTjW_",
        "outputId": "28f04b41-aa07-45b3-83f7-10462a0610e1"
      },
      "execution_count": null,
      "outputs": [
        {
          "output_type": "stream",
          "name": "stdout",
          "text": [
            "Mean:\n",
            " tensor([[-2.9802e-08],\n",
            "        [ 0.0000e+00]], grad_fn=<MeanBackward1>)\n",
            "Variance:\n",
            " tensor([[1.0000],\n",
            "        [1.0000]], grad_fn=<VarBackward0>)\n"
          ]
        }
      ]
    },
    {
      "cell_type": "markdown",
      "source": [
        "# Feed forward so GELU aktivacija"
      ],
      "metadata": {
        "id": "cG34a16EV-mu"
      }
    },
    {
      "cell_type": "markdown",
      "source": [
        "Formulata na GELU:"
      ],
      "metadata": {
        "id": "MnsXkGj2YN6n"
      }
    },
    {
      "cell_type": "code",
      "source": [
        "class GELU(nn.Module):\n",
        "    def __init__(self):\n",
        "        super().__init__()\n",
        "\n",
        "    def forward(self, x):\n",
        "        return 0.5 * x * (1 + torch.tanh(\n",
        "            torch.sqrt(torch.tensor(2.0 / torch.pi)) *\n",
        "            (x + 0.044715 * torch.pow(x, 3))\n",
        "        ))"
      ],
      "metadata": {
        "id": "cEM479ipUHJo"
      },
      "execution_count": null,
      "outputs": []
    },
    {
      "cell_type": "markdown",
      "source": [
        "GeLU vs ReLU"
      ],
      "metadata": {
        "id": "ElIRs5VvYZj2"
      }
    },
    {
      "cell_type": "code",
      "source": [
        "import matplotlib.pyplot as plt\n",
        "gelu, relu = GELU(), nn.ReLU()\n",
        "\n",
        "x = torch.linspace(-3, 3, 100)\n",
        "y_gelu, y_relu = gelu(x), relu(x)\n",
        "plt.figure(figsize=(8, 3))\n",
        "for i, (y, label) in enumerate(zip([y_gelu, y_relu], [\"GELU\", \"ReLU\"]), 1):\n",
        "    plt.subplot(1, 2, i)\n",
        "    plt.plot(x, y)\n",
        "    plt.title(f\"{label} activation function\")\n",
        "    plt.xlabel(\"x\")\n",
        "    plt.ylabel(f\"{label}(x)\")\n",
        "    plt.grid(True)\n",
        "plt.tight_layout()\n",
        "plt.show()"
      ],
      "metadata": {
        "colab": {
          "base_uri": "https://localhost:8080/",
          "height": 307
        },
        "id": "AZPfZi_aYXyu",
        "outputId": "026965db-d71c-4062-8cbb-e17524e162ea"
      },
      "execution_count": null,
      "outputs": [
        {
          "output_type": "display_data",
          "data": {
            "text/plain": [
              "<Figure size 800x300 with 2 Axes>"
            ],
            "image/png": "[encoded data removed]"
          },
          "metadata": {}
        }
      ]
    },
    {
      "cell_type": "markdown",
      "source": [
        "GeLU ne e tolku ostar kako ReLu sto znaci deka polesno prifakja razlicni podatoci. Isto taka gi zema vo predvid negativnite vrednosti. ReLU avtomatski gi postavuva negativnite vrednosti na 0."
      ],
      "metadata": {
        "id": "XbP1vr4OGpSG"
      }
    },
    {
      "cell_type": "code",
      "source": [
        "class FeedForward(nn.Module):\n",
        "    def __init__(self, cfg):\n",
        "        super().__init__()\n",
        "        self.layers = nn.Sequential(\n",
        "            nn.Linear(cfg[\"emb_dim\"], 4 * cfg[\"emb_dim\"]),\n",
        "            GELU(),\n",
        "            nn.Linear(4 * cfg[\"emb_dim\"], cfg[\"emb_dim\"]),\n",
        "        )\n",
        "\n",
        "    def forward(self, x):\n",
        "        return self.layers(x)"
      ],
      "metadata": {
        "id": "EVJpWZmgYdD4"
      },
      "execution_count": null,
      "outputs": []
    },
    {
      "cell_type": "code",
      "source": [
        "cfg = {\n",
        "    \"emb_dim\": 768\n",
        "}\n",
        "\n",
        "model = FeedForward(cfg)\n",
        "x = torch.rand(2, 3, 768)\n",
        "out = model(x)\n",
        "print(out.shape)"
      ],
      "metadata": {
        "colab": {
          "base_uri": "https://localhost:8080/"
        },
        "id": "LHY205Hebzmk",
        "outputId": "9d0a202e-0036-4443-ba6b-6260229c0b2b"
      },
      "execution_count": null,
      "outputs": [
        {
          "output_type": "stream",
          "name": "stdout",
          "text": [
            "torch.Size([2, 3, 768])\n"
          ]
        }
      ]
    },
    {
      "cell_type": "markdown",
      "source": [
        "# Shortcut connectors"
      ],
      "metadata": {
        "id": "wZuGBa11Ail-"
      }
    },
    {
      "cell_type": "markdown",
      "source": [
        "Se dodavaat za da se spreci problemot so namaluvanje na gradient."
      ],
      "metadata": {
        "id": "v-B7rWH_Ao8s"
      }
    },
    {
      "cell_type": "markdown",
      "source": [
        "*** gradient e vektor koj e izvod na loss funckijata. toj ni e pokazatel kolku treba da go podobrime modelot za da se namali loss funkcijata."
      ],
      "metadata": {
        "id": "EacLU_WGHOXO"
      }
    },
    {
      "cell_type": "code",
      "source": [
        "class ExampleDeepNeuralNetwork(nn.Module):\n",
        "    def __init__(self, layer_sizes, use_shortcut):\n",
        "        super().__init__()\n",
        "        self.use_shortcut = use_shortcut\n",
        "        self.layers = nn.ModuleList([\n",
        "            # Implement 5 layers\n",
        "            nn.Sequential(nn.Linear(layer_sizes[0], layer_sizes[1]), GELU()),\n",
        "            nn.Sequential(nn.Linear(layer_sizes[1], layer_sizes[2]), GELU()),\n",
        "            nn.Sequential(nn.Linear(layer_sizes[2], layer_sizes[3]), GELU()),\n",
        "            nn.Sequential(nn.Linear(layer_sizes[3], layer_sizes[4]), GELU()),\n",
        "            nn.Sequential(nn.Linear(layer_sizes[4], layer_sizes[5]), GELU())\n",
        "        ])\n",
        "\n",
        "    def forward(self, x):\n",
        "        for layer in self.layers:\n",
        "            # Compute the output of the current layer\n",
        "            layer_output = layer(x)\n",
        "            # Check if shortcut can be applied\n",
        "            if self.use_shortcut and x.shape == layer_output.shape:\n",
        "                x = x + layer_output\n",
        "            else:\n",
        "                x = layer_output\n",
        "        return x"
      ],
      "metadata": {
        "id": "Chx7q6NNb33e"
      },
      "execution_count": null,
      "outputs": []
    },
    {
      "cell_type": "code",
      "source": [
        "layer_sizes = [3, 3, 3, 3, 3, 1]\n",
        "sample_input = torch.tensor([[1., 0., -1.]])\n",
        "torch.manual_seed(123) # specify random seed for the initial weights for reproducibility\n",
        "model_without_shortcut = ExampleDeepNeuralNetwork( #primer bez shortcut za da vidime kako se odnesuva gradientot\n",
        "    layer_sizes, use_shortcut=False\n",
        ")"
      ],
      "metadata": {
        "id": "6lcGY7Q8PWph"
      },
      "execution_count": null,
      "outputs": []
    },
    {
      "cell_type": "code",
      "source": [
        "def print_gradients(model, x):\n",
        "    # Forward pass\n",
        "    output = model(x)\n",
        "    target = torch.tensor([[0.]])\n",
        "\n",
        "    # Calculate loss based on how close the target\n",
        "    # and output are\n",
        "    loss = nn.MSELoss()\n",
        "    loss = loss(output, target)\n",
        "\n",
        "    # Backward pass to calculate the gradients\n",
        "    loss.backward()\n",
        "\n",
        "    for name, param in model.named_parameters():\n",
        "        if 'weight' in name:\n",
        "            # Print the mean absolute gradient of the weights\n",
        "            print(f\"{name} has gradient mean of {param.grad.abs().mean().item()}\")"
      ],
      "metadata": {
        "id": "NbaJPaJhTNld"
      },
      "execution_count": null,
      "outputs": []
    },
    {
      "cell_type": "code",
      "source": [
        "print_gradients(model_without_shortcut, sample_input)"
      ],
      "metadata": {
        "colab": {
          "base_uri": "https://localhost:8080/"
        },
        "id": "ictCRcWwBMne",
        "outputId": "88556656-8f84-4a42-c76e-5218f95cc561"
      },
      "execution_count": null,
      "outputs": [
        {
          "output_type": "stream",
          "name": "stdout",
          "text": [
            "layers.0.0.weight has gradient mean of 0.00020173584925942123\n",
            "layers.1.0.weight has gradient mean of 0.00012011159560643137\n",
            "layers.2.0.weight has gradient mean of 0.0007152040489017963\n",
            "layers.3.0.weight has gradient mean of 0.0013988736318424344\n",
            "layers.4.0.weight has gradient mean of 0.005049645435065031\n"
          ]
        }
      ]
    },
    {
      "cell_type": "code",
      "source": [
        "layer_sizes = [3, 3, 3, 3, 3, 1]\n",
        "sample_input = torch.tensor([[1., 0., -1.]])\n",
        "torch.manual_seed(123) # specify random seed for the initial weights for reproducibility\n",
        "model_shortcut = ExampleDeepNeuralNetwork( #primer bez shortcut za da vidime kako se odnesuva gradientot\n",
        "    layer_sizes, use_shortcut=True\n",
        ")"
      ],
      "metadata": {
        "id": "Horq9RspBeHs"
      },
      "execution_count": null,
      "outputs": []
    },
    {
      "cell_type": "code",
      "source": [
        "print_gradients(model_shortcut, sample_input)"
      ],
      "metadata": {
        "colab": {
          "base_uri": "https://localhost:8080/"
        },
        "id": "cXTvAlwpBumb",
        "outputId": "6fc2080a-cdee-4a20-eb35-b85bcb0c8cb3"
      },
      "execution_count": null,
      "outputs": [
        {
          "output_type": "stream",
          "name": "stdout",
          "text": [
            "layers.0.0.weight has gradient mean of 0.22169791162014008\n",
            "layers.1.0.weight has gradient mean of 0.20694105327129364\n",
            "layers.2.0.weight has gradient mean of 0.32896995544433594\n",
            "layers.3.0.weight has gradient mean of 0.2665732204914093\n",
            "layers.4.0.weight has gradient mean of 1.3258540630340576\n"
          ]
        }
      ]
    },
    {
      "cell_type": "markdown",
      "source": [
        "# Transformer block"
      ],
      "metadata": {
        "id": "FWxOsH-IDc8b"
      }
    },
    {
      "cell_type": "markdown",
      "source": [
        "Gi sumira multi head attention, feed forward, dropout, layer normalization, GeLU, shortcut vo edna zaednicka klasa"
      ],
      "metadata": {
        "id": "GV-mjmnwHz0v"
      }
    },
    {
      "cell_type": "markdown",
      "source": [
        "Od prethodnata nedela MultiHeadAttention:"
      ],
      "metadata": {
        "id": "MhtveYuDIzvj"
      }
    },
    {
      "cell_type": "code",
      "source": [
        "class MultiHeadAttention(nn.Module):\n",
        "    def __init__(self, d_in, d_out, context_length, dropout, num_heads, qkv_bias=False):\n",
        "        super().__init__()\n",
        "        assert (d_out % num_heads == 0), \\\n",
        "            \"d_out must be divisible by num_heads\"\n",
        "\n",
        "        self.d_out = d_out\n",
        "        self.num_heads = num_heads\n",
        "        self.head_dim = d_out // num_heads # Reduce the projection dim to match desired output dim\n",
        "\n",
        "        self.W_query = nn.Linear(d_in, d_out, bias=qkv_bias)\n",
        "        self.W_key = nn.Linear(d_in, d_out, bias=qkv_bias)\n",
        "        self.W_value = nn.Linear(d_in, d_out, bias=qkv_bias)\n",
        "        self.out_proj = nn.Linear(d_out, d_out)  # Linear layer to combine head outputs\n",
        "        self.dropout = nn.Dropout(dropout)\n",
        "        self.register_buffer(\n",
        "            \"mask\",\n",
        "            torch.triu(torch.ones(context_length, context_length),\n",
        "                       diagonal=1)\n",
        "        )\n",
        "\n",
        "    def forward(self, x):\n",
        "        b, num_tokens, d_in = x.shape\n",
        "\n",
        "        keys = self.W_key(x) # Shape: (b, num_tokens, d_out)\n",
        "        queries = self.W_query(x)\n",
        "        values = self.W_value(x)\n",
        "\n",
        "        # We implicitly split the matrix by adding a `num_heads` dimension\n",
        "        # Unroll last dim: (b, num_tokens, d_out) -> (b, num_tokens, num_heads, head_dim)\n",
        "        keys = keys.view(b, num_tokens, self.num_heads, self.head_dim)\n",
        "        values = values.view(b, num_tokens, self.num_heads, self.head_dim)\n",
        "        queries = queries.view(b, num_tokens, self.num_heads, self.head_dim)\n",
        "\n",
        "        # Transpose: (b, num_tokens, num_heads, head_dim) -> (b, num_heads, num_tokens, head_dim)\n",
        "        keys = keys.transpose(1, 2)\n",
        "        queries = queries.transpose(1, 2)\n",
        "        values = values.transpose(1, 2)\n",
        "\n",
        "        # Compute scaled dot-product attention (aka self-attention) with a causal mask\n",
        "        attn_scores = queries @ keys.transpose(2, 3)  # Dot product for each head\n",
        "\n",
        "        # Original mask truncated to the number of tokens and converted to boolean\n",
        "        mask_bool = self.mask.bool()[:num_tokens, :num_tokens]\n",
        "\n",
        "        # Use the mask to fill attention scores\n",
        "        attn_scores.masked_fill_(mask_bool, -torch.inf)\n",
        "\n",
        "        attn_weights = torch.softmax(attn_scores / keys.shape[-1]**0.5, dim=-1)\n",
        "        attn_weights = self.dropout(attn_weights)\n",
        "\n",
        "        # Shape: (b, num_tokens, num_heads, head_dim)\n",
        "        context_vec = (attn_weights @ values).transpose(1, 2)\n",
        "\n",
        "        # Combine heads, where self.d_out = self.num_heads * self.head_dim\n",
        "        context_vec = context_vec.contiguous().view(b, num_tokens, self.d_out)\n",
        "        context_vec = self.out_proj(context_vec) # optional projection\n",
        "\n",
        "        return context_vec\n",
        "\n"
      ],
      "metadata": {
        "id": "V50oCqxuByg0"
      },
      "execution_count": null,
      "outputs": []
    },
    {
      "cell_type": "code",
      "source": [
        "GPT_CONFIG_124M = {\n",
        "    \"vocab_size\": 50257,  # Vocabulary size\n",
        "    \"context_length\": 1024,      # Context length\n",
        "    \"emb_dim\": 768,       # Embedding dimension\n",
        "    \"n_heads\": 12,        # Number of attention heads\n",
        "    \"n_layers\": 12,       # Number of layers\n",
        "    \"drop_rate\": 0.1,     # Dropout rate\n",
        "    \"qkv_bias\": False     # Query-Key-Value bias\n",
        "}"
      ],
      "metadata": {
        "id": "kjo9DxZbJkgu"
      },
      "execution_count": null,
      "outputs": []
    },
    {
      "cell_type": "code",
      "source": [
        "class TransformerBlock(nn.Module):\n",
        "    def __init__(self, cfg):\n",
        "        super().__init__()\n",
        "        self.att = MultiHeadAttention( #specificiranje na parametrite za multiheadattention\n",
        "            d_in=cfg[\"emb_dim\"],\n",
        "            d_out=cfg[\"emb_dim\"],\n",
        "            context_length=cfg[\"context_length\"],\n",
        "            num_heads=cfg[\"n_heads\"],\n",
        "            dropout=cfg[\"drop_rate\"],\n",
        "            qkv_bias=cfg[\"qkv_bias\"])\n",
        "        self.ff = FeedForward(cfg) #povik na feedforward\n",
        "        self.norm1 = LayerNormalization(cfg[\"emb_dim\"]) #normalizacija pred self attention\n",
        "        self.norm2 = LayerNormalization(cfg[\"emb_dim\"]) #normalizacija pred feed forward\n",
        "        self.drop_shortcut = nn.Dropout(cfg[\"drop_rate\"]) #dropout\n",
        "\n",
        "    def forward(self, x):\n",
        "\n",
        "        shortcut = x #zacuvuvanje na originalniot tensor x vo shortcut\n",
        "        x = self.norm1(x) #normaliziranje na tensorot pred attention layer\n",
        "        x = self.att(x) #attention layer\n",
        "        x = self.drop_shortcut(x) #dropout layer\n",
        "        x = x + shortcut  # dodavanje na originalniot tensor vo x za da se zacuva primarniot input\n",
        "\n",
        "        shortcut = x  #povtorno zacuvuvanje na tensor pominat preku attention layer i shortcut\n",
        "        x = self.norm2(x) #normalizacija pred feed forward\n",
        "        x = self.ff(x) #feed forward\n",
        "        x = self.drop_shortcut(x) #dropout layer\n",
        "        x = x + shortcut #dodavanje na tensorot pominat preku att za da se zacuva primarnata informacija\n",
        "        return x"
      ],
      "metadata": {
        "id": "y_MCd1jOIyY2"
      },
      "execution_count": null,
      "outputs": []
    },
    {
      "cell_type": "code",
      "source": [
        "torch.manual_seed(123)\n",
        "x = torch.rand(2, 4, 768)\n",
        "block = TransformerBlock(GPT_CONFIG_124M)\n",
        "output = block(x)\n",
        "\n",
        "print(\"Input shape:\", x.shape)\n",
        "print(\"Output shape:\", output.shape)"
      ],
      "metadata": {
        "colab": {
          "base_uri": "https://localhost:8080/"
        },
        "id": "39R5s_pPJAnR",
        "outputId": "4806926f-4be7-4e47-fabc-1155030b5130"
      },
      "execution_count": null,
      "outputs": [
        {
          "output_type": "stream",
          "name": "stdout",
          "text": [
            "Input shape: torch.Size([2, 4, 768])\n",
            "Output shape: torch.Size([2, 4, 768])\n"
          ]
        }
      ]
    },
    {
      "cell_type": "markdown",
      "source": [
        "# GPT model"
      ],
      "metadata": {
        "id": "2ZRI-wvsPBro"
      }
    },
    {
      "cell_type": "code",
      "source": [
        "class GPTModel(nn.Module):\n",
        "    def __init__(self, cfg):\n",
        "        super().__init__()\n",
        "        self.tok_emb = nn.Embedding(cfg[\"vocab_size\"], cfg[\"emb_dim\"]) #tokenizacija\n",
        "        self.pos_emb = nn.Embedding(cfg[\"context_length\"], cfg[\"emb_dim\"]) #positional embedding\n",
        "        self.drop_emb = nn.Dropout(cfg[\"drop_rate\"]) #dropout\n",
        "\n",
        "        self.trf_blocks = nn.Sequential( #sekvencijalno povikuvanje na transformeri spored brojor na layers\n",
        "            *[TransformerBlock(cfg) for _ in range(cfg[\"n_layers\"])])\n",
        "\n",
        "        self.final_norm = LayerNormalization(cfg[\"emb_dim\"]) #posledna normalizacija pred izlez\n",
        "        self.out_head = nn.Linear( #linearen izlez\n",
        "            cfg[\"emb_dim\"], cfg[\"vocab_size\"], bias=False\n",
        "        )\n",
        "\n",
        "    def forward(self, in_idx):\n",
        "        batch_size, seq_len = in_idx.shape #gi zem goleminata na batchot i sekvencta od dimenziite na tensorot\n",
        "        tok_embeds = self.tok_emb(in_idx) #embeding na tokenot\n",
        "\n",
        "        pos_embeds = self.pos_emb(torch.arange(seq_len, device=in_idx.device)) #poziciski embeding\n",
        "        x = tok_embeds + pos_embeds #tensor od positional embeding i tokenizacija sto go dava semantickoto znacenje\n",
        "        x = self.drop_emb(x) #dropout\n",
        "        x = self.trf_blocks(x) #povik na transformation blocks\n",
        "        x = self.final_norm(x) #posledna normalizacija pred output\n",
        "        logits = self.out_head(x) #output\n",
        "        return logits"
      ],
      "metadata": {
        "id": "uz8NnSm3Of6x"
      },
      "execution_count": null,
      "outputs": []
    },
    {
      "cell_type": "code",
      "source": [
        "!pip install tiktoken"
      ],
      "metadata": {
        "colab": {
          "base_uri": "https://localhost:8080/"
        },
        "id": "bnp4s0wEY17c",
        "outputId": "cc7f4df5-7310-4aa3-8c38-119690589af2"
      },
      "execution_count": null,
      "outputs": [
        {
          "output_type": "stream",
          "name": "stdout",
          "text": [
            "Requirement already satisfied: tiktoken in /usr/local/lib/python3.10/dist-packages (0.7.0)\n",
            "Requirement already satisfied: regex>=2022.1.18 in /usr/local/lib/python3.10/dist-packages (from tiktoken) (2024.5.15)\n",
            "Requirement already satisfied: requests>=2.26.0 in /usr/local/lib/python3.10/dist-packages (from tiktoken) (2.31.0)\n",
            "Requirement already satisfied: charset-normalizer<4,>=2 in /usr/local/lib/python3.10/dist-packages (from requests>=2.26.0->tiktoken) (3.3.2)\n",
            "Requirement already satisfied: idna<4,>=2.5 in /usr/local/lib/python3.10/dist-packages (from requests>=2.26.0->tiktoken) (3.7)\n",
            "Requirement already satisfied: urllib3<3,>=1.21.1 in /usr/local/lib/python3.10/dist-packages (from requests>=2.26.0->tiktoken) (2.0.7)\n",
            "Requirement already satisfied: certifi>=2017.4.17 in /usr/local/lib/python3.10/dist-packages (from requests>=2.26.0->tiktoken) (2024.7.4)\n"
          ]
        }
      ]
    },
    {
      "cell_type": "code",
      "source": [
        "import tiktoken\n",
        "\n",
        "tokenizer = tiktoken.get_encoding(\"gpt2\")\n",
        "batch = []\n",
        "txt1 = \"Every effort moves you\"\n",
        "txt2 = \"Every day holds a\"\n",
        "\n",
        "batch.append(torch.tensor(tokenizer.encode(txt1)))\n",
        "batch.append(torch.tensor(tokenizer.encode(txt2)))\n",
        "batch = torch.stack(batch, dim=0)\n",
        "print(batch)"
      ],
      "metadata": {
        "colab": {
          "base_uri": "https://localhost:8080/"
        },
        "id": "HnT9mbRNYzsD",
        "outputId": "8134ea5e-e00e-49f1-8d58-e22726cb1c65"
      },
      "execution_count": null,
      "outputs": [
        {
          "output_type": "stream",
          "name": "stdout",
          "text": [
            "tensor([[6109, 3626, 6100,  345],\n",
            "        [6109, 1110, 6622,  257]])\n"
          ]
        }
      ]
    },
    {
      "cell_type": "code",
      "source": [
        "torch.manual_seed(123)\n",
        "model = GPTModel(GPT_CONFIG_124M)\n",
        "\n",
        "out = model(batch)\n",
        "print(\"Input batch:\\n\", batch)\n",
        "print(\"\\nOutput shape:\", out.shape)\n",
        "print(out)"
      ],
      "metadata": {
        "colab": {
          "base_uri": "https://localhost:8080/"
        },
        "id": "My8pBiEgR1JU",
        "outputId": "a479c6e0-84a2-48d3-99b4-664e5087efb0"
      },
      "execution_count": null,
      "outputs": [
        {
          "output_type": "stream",
          "name": "stdout",
          "text": [
            "Input batch:\n",
            " tensor([[6109, 3626, 6100,  345],\n",
            "        [6109, 1110, 6622,  257]])\n",
            "\n",
            "Output shape: torch.Size([2, 4, 50257])\n",
            "tensor([[[ 0.1381,  0.0077, -0.1963,  ..., -0.0222, -0.1060,  0.1717],\n",
            "         [ 0.3865, -0.8408, -0.6564,  ..., -0.5163,  0.2369, -0.3357],\n",
            "         [ 0.6989, -0.1829, -0.1631,  ...,  0.1472, -0.6504, -0.0056],\n",
            "         [-0.4290,  0.1669, -0.1258,  ...,  1.1579,  0.5303, -0.5549]],\n",
            "\n",
            "        [[ 0.1094, -0.2894, -0.1467,  ..., -0.0557,  0.2911, -0.2824],\n",
            "         [ 0.0882, -0.3552, -0.3527,  ...,  1.2930,  0.0053,  0.1898],\n",
            "         [ 0.6091,  0.4702, -0.4094,  ...,  0.7688,  0.3787, -0.1974],\n",
            "         [-0.0612, -0.0737,  0.4751,  ...,  1.2463, -0.3834,  0.0609]]],\n",
            "       grad_fn=<UnsafeViewBackward0>)\n"
          ]
        }
      ]
    },
    {
      "cell_type": "code",
      "source": [
        "total_params = sum(p.numel() for p in model.parameters())\n",
        "print(f\"Total number of parameters: {total_params:,}\")"
      ],
      "metadata": {
        "colab": {
          "base_uri": "https://localhost:8080/"
        },
        "id": "vGi7RyqBYnT6",
        "outputId": "bc28e929-763f-46cf-f8c8-3e81b3cd9ef6"
      },
      "execution_count": null,
      "outputs": [
        {
          "output_type": "stream",
          "name": "stdout",
          "text": [
            "Total number of parameters: 163,009,536\n"
          ]
        }
      ]
    },
    {
      "cell_type": "markdown",
      "source": [
        "Ocekuvano e da ima 124 milioni parametri, no ima 163M. Ova e zatoa sto sto modelot na gpt2 ne koristi weight tying pravilno...???"
      ],
      "metadata": {
        "id": "aZRyNykJ2KNP"
      }
    },
    {
      "cell_type": "code",
      "source": [
        "total_params_gpt2 =  total_params - sum(p.numel() for p in model.out_head.parameters())\n",
        "print(f\"Number of trainable parameters considering weight tying: {total_params_gpt2:,}\")"
      ],
      "metadata": {
        "colab": {
          "base_uri": "https://localhost:8080/"
        },
        "id": "7r_QncSr5ots",
        "outputId": "59b4d3bb-7dc8-4ca4-d421-a403b7eee576"
      },
      "execution_count": null,
      "outputs": [
        {
          "output_type": "stream",
          "name": "stdout",
          "text": [
            "Number of trainable parameters considering weight tying: 124,412,160\n"
          ]
        }
      ]
    },
    {
      "cell_type": "markdown",
      "source": [
        "Sega otkako se upotrebi weight tying se podobri modelot"
      ],
      "metadata": {
        "id": "oC66YfuS5ruJ"
      }
    },
    {
      "cell_type": "code",
      "source": [
        "total_size_bytes = total_params * 4\n",
        "total_size_mb = total_size_bytes / (1024 * 1024)\n",
        "print(f\"Total size of the model: {total_size_mb:.2f} MB\")"
      ],
      "metadata": {
        "colab": {
          "base_uri": "https://localhost:8080/"
        },
        "id": "jKm3rl8sjCNW",
        "outputId": "86fb155b-3809-42b4-a55a-715510c787b1"
      },
      "execution_count": null,
      "outputs": [
        {
          "output_type": "stream",
          "name": "stdout",
          "text": [
            "Total size of the model: 621.83 MB\n"
          ]
        }
      ]
    },
    {
      "cell_type": "markdown",
      "source": [
        "# GPT model so tekst"
      ],
      "metadata": {
        "id": "3piafxhOkLaQ"
      }
    },
    {
      "cell_type": "markdown",
      "source": [
        "![image.png](data:image/png;base64,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)"
      ],
      "metadata": {
        "id": "hNqNaEf9mtph"
      }
    },
    {
      "cell_type": "code",
      "source": [
        "def generate_text_simple(model, idx, max_new_tokens, context_size):\n",
        "    for _ in range(max_new_tokens): #vrti za da generira onolku zborovi kolku sto se baraat\n",
        "        idx_cond = idx[:, -context_size:] #go zema posledniot token od idx za da napravi predviduvanje so pomos na nego\n",
        "        with torch.no_grad():\n",
        "            logits = model(idx_cond) #se dobivaat logits za sledniot token\n",
        "\n",
        "        logits = logits[:, -1, :] #od logits go zema posledniot za da go predivi sledniot zbor so negova pomos\n",
        "        probas = torch.softmax(logits, dim=-1) #so softmax presmetuva verojatnosti na logitsot\n",
        "        idx_next = torch.argmax(probas, dim=-1, keepdim=True) #koristi greedy bidejki go bira zborot so najgolema verojatnost\n",
        "        idx = torch.cat((idx, idx_next), dim=1) #go konkatanira zborot so najgolema verojantost vo sekvencata od zborovi\n",
        "\n",
        "    return idx"
      ],
      "metadata": {
        "id": "is4ooHBjj324"
      },
      "execution_count": null,
      "outputs": []
    },
    {
      "cell_type": "code",
      "source": [
        "start_context = \"Hello, I am\"\n",
        "encoded = tokenizer.encode(start_context)\n",
        "print(\"encoded:\", encoded)\n",
        "encoded_tensor = torch.tensor(encoded).unsqueeze(0)\n",
        "print(\"encoded_tensor.shape:\", encoded_tensor.shape)"
      ],
      "metadata": {
        "colab": {
          "base_uri": "https://localhost:8080/"
        },
        "id": "R2hwTUhenOH3",
        "outputId": "4f564af2-03cb-4c2f-afbc-12fbe1106313"
      },
      "execution_count": null,
      "outputs": [
        {
          "output_type": "stream",
          "name": "stdout",
          "text": [
            "encoded: [15496, 11, 314, 716]\n",
            "encoded_tensor.shape: torch.Size([1, 4])\n"
          ]
        }
      ]
    },
    {
      "cell_type": "code",
      "source": [
        "model.eval()\n",
        "out = generate_text_simple(\n",
        "    model=model,\n",
        "    idx=encoded_tensor,\n",
        "    max_new_tokens=6,\n",
        "    context_size=GPT_CONFIG_124M[\"context_length\"]\n",
        ")\n",
        "print(\"Output:\", out)\n",
        "print(\"Output length:\", len(out[0]))"
      ],
      "metadata": {
        "colab": {
          "base_uri": "https://localhost:8080/"
        },
        "id": "oG3ZGwaBoe7V",
        "outputId": "47ea97df-63be-43d5-e5d9-46836074cbe5"
      },
      "execution_count": null,
      "outputs": [
        {
          "output_type": "stream",
          "name": "stdout",
          "text": [
            "Output: tensor([[15496,    11,   314,   716, 27018, 24086, 47843, 30961, 42348,  7267]])\n",
            "Output length: 10\n"
          ]
        }
      ]
    },
    {
      "cell_type": "code",
      "source": [
        "decoded_text = tokenizer.decode(out.squeeze(0).tolist())\n",
        "print(decoded_text)"
      ],
      "metadata": {
        "colab": {
          "base_uri": "https://localhost:8080/"
        },
        "id": "T32oD2HXokrB",
        "outputId": "4a9d5311-cf36-4caf-d912-2ef573b9c51e"
      },
      "execution_count": null,
      "outputs": [
        {
          "output_type": "stream",
          "name": "stdout",
          "text": [
            "Hello, I am Featureiman Byeswickattribute argue\n"
          ]
        }
      ]
    },
    {
      "cell_type": "markdown",
      "source": [
        "Moj obid"
      ],
      "metadata": {
        "id": "h0MgRu5U9BLm"
      }
    },
    {
      "cell_type": "code",
      "source": [
        "model=GPTModel(GPT_CONFIG_124M)\n",
        "tokenizer=tiktoken.get_encoding(\"gpt2\")"
      ],
      "metadata": {
        "id": "xbqITdUCopHA"
      },
      "execution_count": null,
      "outputs": []
    },
    {
      "cell_type": "code",
      "source": [
        "recenica=\"I like playing\"\n",
        "embed_recenica=tokenizer.encode(recenica)\n",
        "embed_recenica\n"
      ],
      "metadata": {
        "colab": {
          "base_uri": "https://localhost:8080/"
        },
        "id": "7_rTNnUy-CES",
        "outputId": "e8c37809-14d2-42a9-821a-795bb7f91549"
      },
      "execution_count": null,
      "outputs": [
        {
          "output_type": "execute_result",
          "data": {
            "text/plain": [
              "[40, 588, 2712]"
            ]
          },
          "metadata": {},
          "execution_count": 113
        }
      ]
    },
    {
      "cell_type": "code",
      "source": [
        "embed_recenica=torch.tensor([embed_recenica]) #za da raboti vo torch mora da ja napravam vo tensor\n",
        "embed_recenica"
      ],
      "metadata": {
        "colab": {
          "base_uri": "https://localhost:8080/"
        },
        "id": "iW5y9Ney_Z3H",
        "outputId": "790cb0a5-8c4b-46a7-f02b-fb1caeecdd13"
      },
      "execution_count": null,
      "outputs": [
        {
          "output_type": "execute_result",
          "data": {
            "text/plain": [
              "tensor([[  40,  588, 2712]])"
            ]
          },
          "metadata": {},
          "execution_count": 114
        }
      ]
    },
    {
      "cell_type": "code",
      "source": [
        "max_new_tokens = 4 #predviduva naredni 4 zbora\n",
        "context_size = 3  # 3 zbora se dadeni kako input"
      ],
      "metadata": {
        "id": "jpMOm-Mi-OFz"
      },
      "execution_count": null,
      "outputs": []
    },
    {
      "cell_type": "code",
      "source": [
        "new_tokens = generate_text_simple(model, embed_recenica, max_new_tokens, context_size)"
      ],
      "metadata": {
        "id": "VOnEXPRD-4n_"
      },
      "execution_count": null,
      "outputs": []
    },
    {
      "cell_type": "code",
      "source": [
        "print(f\"New Tokens: {new_tokens}\")"
      ],
      "metadata": {
        "colab": {
          "base_uri": "https://localhost:8080/"
        },
        "id": "aYSjGukN_ALZ",
        "outputId": "10aada72-56f0-4d8b-96a1-74f69c6750ef"
      },
      "execution_count": null,
      "outputs": [
        {
          "output_type": "stream",
          "name": "stdout",
          "text": [
            "New Tokens: tensor([[   40,   588,  2712, 48087, 46771, 36276, 10679]])\n"
          ]
        }
      ]
    },
    {
      "cell_type": "code",
      "source": [
        "generated_text = tokenizer.decode(new_tokens[0].tolist())\n",
        "\n",
        "print(f\"Generated Text: {generated_text}\")"
      ],
      "metadata": {
        "colab": {
          "base_uri": "https://localhost:8080/"
        },
        "id": "RQbKF7jH_noH",
        "outputId": "c443fe09-59ba-429d-f456-d4c0b40a91e7"
      },
      "execution_count": null,
      "outputs": [
        {
          "output_type": "stream",
          "name": "stdout",
          "text": [
            "Generated Text: I like playing Macintosh paperbackFindingennis\n"
          ]
        }
      ]
    },
    {
      "cell_type": "markdown",
      "source": [
        "Nelogicen output?"
      ],
      "metadata": {
        "id": "7jJxegl6AFoc"
      }
    },
    {
      "cell_type": "markdown",
      "source": [
        "# Zadaci"
      ],
      "metadata": {
        "id": "hi4TJCOKHzWt"
      }
    },
    {
      "cell_type": "markdown",
      "source": [
        "Exercise 4.1 Number of parameters in feed forward and attention modules\n",
        "\n",
        "Calculate and compare the number of parameters that are contained in the feed forward module and those that are contained in the multi-head attention module."
      ],
      "metadata": {
        "id": "uLDgvlH-IKsu"
      }
    },
    {
      "cell_type": "code",
      "source": [
        "block = TransformerBlock(GPT_CONFIG_124M)\n",
        "total_params = sum(p.numel() for p in block.ff.parameters())\n",
        "print(f\"Total number of parameters in feed forward module: {total_params:,}\")"
      ],
      "metadata": {
        "colab": {
          "base_uri": "https://localhost:8080/"
        },
        "id": "6rvhJpSOJG33",
        "outputId": "d41c20d7-2e18-424b-a31b-87aa3b3c03cc"
      },
      "execution_count": null,
      "outputs": [
        {
          "output_type": "stream",
          "name": "stdout",
          "text": [
            "Total number of parameters in feed forward module: 4,722,432\n"
          ]
        }
      ]
    },
    {
      "cell_type": "code",
      "source": [
        "block = TransformerBlock(GPT_CONFIG_124M)\n",
        "total_params = sum(p.numel() for p in block.att.parameters())\n",
        "print(f\"Total number of parameters in feed forward module: {total_params:,}\")"
      ],
      "metadata": {
        "colab": {
          "base_uri": "https://localhost:8080/"
        },
        "id": "hdDHL_yUJYgp",
        "outputId": "e3c5c3fe-7987-4e4b-8985-f9ea11e9e39e"
      },
      "execution_count": null,
      "outputs": [
        {
          "output_type": "stream",
          "name": "stdout",
          "text": [
            "Total number of parameters in feed forward module: 2,360,064\n"
          ]
        }
      ]
    },
    {
      "cell_type": "markdown",
      "source": [
        "In this chapter, we initialized a 124 million parameter GPT model, which is known as \"GPT-2 small.\" Without making any code modifications besides updating the configuration file, use the GPTModel class to implement GPT-2 medium (using 1024-dimensional embeddings, 24 transformer blocks, 16 multi-head attention heads), GPT-2 large (1280-dimensional embeddings, 36 transformer blocks, 20 multi-head attention heads), and GPT-2 XL (1600-dimensional embeddings, 48 transformer blocks, 25 multi-head attention heads). As a bonus, calculate the total number of parameters in each GPT model."
      ],
      "metadata": {
        "id": "Ie9esTVuJqEo"
      }
    },
    {
      "cell_type": "code",
      "source": [
        "GPT_2_SMALL = {\n",
        "    \"vocab_size\": 50257,  # Vocabulary size\n",
        "    \"context_length\": 1024,      # Context length\n",
        "    \"emb_dim\": 1024,       # Embedding dimension\n",
        "    \"n_heads\": 16,        # Number of attention heads\n",
        "    \"n_layers\": 24,       # Number of layers\n",
        "    \"drop_rate\": 0.1,     # Dropout rate\n",
        "    \"qkv_bias\": False     # Query-Key-Value bias\n",
        "}"
      ],
      "metadata": {
        "id": "Z6suNW3HIrBW"
      },
      "execution_count": null,
      "outputs": []
    },
    {
      "cell_type": "code",
      "source": [
        "model = GPTModel(GPT_2_SMALL)\n",
        "total_params = sum(p.numel() for p in model.parameters())\n",
        "print(f\"Parameters: {total_params:,}\")"
      ],
      "metadata": {
        "colab": {
          "base_uri": "https://localhost:8080/"
        },
        "id": "83FSahhwKe_8",
        "outputId": "e03c42b8-8434-4e81-9051-3d79cfe79f33"
      },
      "execution_count": null,
      "outputs": [
        {
          "output_type": "stream",
          "name": "stdout",
          "text": [
            "Parameters: 406,212,608\n"
          ]
        }
      ]
    },
    {
      "cell_type": "code",
      "source": [
        "GPT_2_LARGE = {\n",
        "    \"vocab_size\": 50257,  # Vocabulary size\n",
        "    \"context_length\": 1024,      # Context length\n",
        "    \"emb_dim\": 1280,       # Embedding dimension\n",
        "    \"n_heads\": 20,        # Number of attention heads\n",
        "    \"n_layers\": 36,       # Number of layers\n",
        "    \"drop_rate\": 0.1,     # Dropout rate\n",
        "    \"qkv_bias\": False     # Query-Key-Value bias\n",
        "}"
      ],
      "metadata": {
        "id": "AiM2ewIUKRNr"
      },
      "execution_count": null,
      "outputs": []
    },
    {
      "cell_type": "code",
      "source": [
        "model = GPTModel(GPT_2_LARGE)\n",
        "total_params = sum(p.numel() for p in model.parameters())\n",
        "print(f\"Parameters: {total_params:,}\")"
      ],
      "metadata": {
        "colab": {
          "base_uri": "https://localhost:8080/"
        },
        "id": "f2WVtmcKLTwJ",
        "outputId": "cd6f10f6-c2ef-47f9-b76e-96fa23e31e6b"
      },
      "execution_count": null,
      "outputs": [
        {
          "output_type": "stream",
          "name": "stdout",
          "text": [
            "Parameters: 838,220,800\n"
          ]
        }
      ]
    },
    {
      "cell_type": "code",
      "source": [
        "GPT_2_XL = {\n",
        "    \"vocab_size\": 50257,  # Vocabulary size\n",
        "    \"context_length\": 1024,      # Context length\n",
        "    \"emb_dim\": 1600,       # Embedding dimension\n",
        "    \"n_heads\": 25,        # Number of attention heads\n",
        "    \"n_layers\": 48,       # Number of layers\n",
        "    \"drop_rate\": 0.1,     # Dropout rate\n",
        "    \"qkv_bias\": False     # Query-Key-Value bias\n",
        "}"
      ],
      "metadata": {
        "id": "2Zldo-P1LWmh"
      },
      "execution_count": null,
      "outputs": []
    },
    {
      "cell_type": "code",
      "source": [
        "model = GPTModel(GPT_2_XL)\n",
        "total_params = sum(p.numel() for p in model.parameters())\n",
        "print(f\"Parameters: {total_params:,}\")"
      ],
      "metadata": {
        "colab": {
          "base_uri": "https://localhost:8080/"
        },
        "id": "zbgSRz5ULquK",
        "outputId": "c8c26ee1-eae2-4713-d9c8-d76f285c837f"
      },
      "execution_count": null,
      "outputs": [
        {
          "output_type": "stream",
          "name": "stdout",
          "text": [
            "Parameters: 1,637,792,000\n"
          ]
        }
      ]
    },
    {
      "cell_type": "markdown",
      "source": [
        "Exercise 4.3 Using separate dropout parameters\n",
        "\n",
        "At the beginning of this chapter, we defined a global \"drop_rate\" setting in the GPT_CONFIG_124M dictionary to set the dropout rate in various places throughout the GPTModel architecture. Change the code to specify a separate dropout value for the various dropout layers throughout the model architecture. (Hint: there are three distinct places where we used dropout layers: the embedding layer, shortcut layer, and multi-head attention module.)"
      ],
      "metadata": {
        "id": "_n_3Yx51L2Nl"
      }
    },
    {
      "cell_type": "code",
      "source": [
        "GPT_CONFIG_124M = {\n",
        "    \"vocab_size\": 50257,\n",
        "    \"context_length\": 1024,\n",
        "    \"emb_dim\": 768,\n",
        "    \"n_heads\": 12,\n",
        "    \"n_layers\": 12,\n",
        "    \"drop_rate_emb\": 0.5,        # NEW: dropout for embedding layers\n",
        "    \"drop_rate_attn\": 0.1,       # NEW: dropout for multi-head attention\n",
        "    \"drop_rate_shortcut\": 0.6,   # NEW: dropout for shortcut connections\n",
        "    \"qkv_bias\": False\n",
        "}"
      ],
      "metadata": {
        "id": "oFACg0KzMRZl"
      },
      "execution_count": null,
      "outputs": []
    },
    {
      "cell_type": "code",
      "source": [
        "class TransformerBlock(nn.Module):\n",
        "    def __init__(self, cfg):\n",
        "        super().__init__()\n",
        "        self.att = MultiHeadAttention(\n",
        "            d_in=cfg[\"emb_dim\"],\n",
        "            d_out=cfg[\"emb_dim\"],\n",
        "            context_length=cfg[\"context_length\"],\n",
        "            num_heads=cfg[\"n_heads\"],\n",
        "            dropout=cfg[\"drop_rate_attn\"], # TUKA\n",
        "            qkv_bias=cfg[\"qkv_bias\"])\n",
        "        self.ff = FeedForward(cfg)\n",
        "        self.norm1 = LayerNormalization(cfg[\"emb_dim\"])\n",
        "        self.norm2 = LayerNormalization(cfg[\"emb_dim\"])\n",
        "        self.drop_shortcut = nn.Dropout(cfg[\"drop_rate_shortcut\"])\n",
        "\n",
        "    def forward(self, x):\n",
        "        # Shortcut connection for attention block\n",
        "        shortcut = x\n",
        "        x = self.norm1(x)\n",
        "        x = self.att(x)  # Shape [batch_size, num_tokens, emb_size]\n",
        "        x = self.drop_shortcut(x)\n",
        "        x = x + shortcut  # Add the original input back\n",
        "\n",
        "        # Shortcut connection for feed-forward block\n",
        "        shortcut = x\n",
        "        x = self.norm2(x)\n",
        "        x = self.ff(x)\n",
        "        x = self.drop_shortcut(x)\n",
        "        x = x + shortcut  # Add the original input back\n",
        "\n",
        "        return x"
      ],
      "metadata": {
        "id": "lbuhkVebO_US"
      },
      "execution_count": null,
      "outputs": []
    },
    {
      "cell_type": "code",
      "source": [
        "class GPTModel(nn.Module):\n",
        "    def __init__(self, cfg):\n",
        "        super().__init__()\n",
        "        self.tok_emb = nn.Embedding(cfg[\"vocab_size\"], cfg[\"emb_dim\"])\n",
        "        self.pos_emb = nn.Embedding(cfg[\"context_length\"], cfg[\"emb_dim\"])\n",
        "        self.drop_emb = nn.Dropout(cfg[\"drop_rate_emb\"]) # TUKA\n",
        "\n",
        "        self.trf_blocks = nn.Sequential(\n",
        "            *[TransformerBlock(cfg) for _ in range(cfg[\"n_layers\"])])\n",
        "\n",
        "        self.final_norm = LayerNormalization(cfg[\"emb_dim\"])\n",
        "        self.out_head = nn.Linear(cfg[\"emb_dim\"], cfg[\"vocab_size\"], bias=False)\n",
        "\n",
        "    def forward(self, in_idx):\n",
        "        batch_size, seq_len = in_idx.shape\n",
        "        tok_embeds = self.tok_emb(in_idx)\n",
        "        pos_embeds = self.pos_emb(torch.arange(seq_len, device=in_idx.device))\n",
        "        x = tok_embeds + pos_embeds  # Shape [batch_size, num_tokens, emb_size]\n",
        "        x = self.drop_emb(x)\n",
        "        x = self.trf_blocks(x)\n",
        "        x = self.final_norm(x)\n",
        "        logits = self.out_head(x)\n",
        "        return logits"
      ],
      "metadata": {
        "id": "LWtO9bF6PKLr"
      },
      "execution_count": null,
      "outputs": []
    },
    {
      "cell_type": "code",
      "source": [
        "torch.manual_seed(123)\n",
        "model = GPTModel(GPT_CONFIG_124M)"
      ],
      "metadata": {
        "id": "cDybaOqWPOPd"
      },
      "execution_count": null,
      "outputs": []
    },
    {
      "cell_type": "code",
      "source": [],
      "metadata": {
        "id": "XI-a3sV1PU9a"
      },
      "execution_count": null,
      "outputs": []
    }
  ]
}